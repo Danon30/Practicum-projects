{
 "cells": [
  {
   "cell_type": "markdown",
   "metadata": {},
   "source": [
    "# Проект по SQL\n",
    "\n",
    "**Актуальность исследования:**\n",
    "Коронавирус застал мир врасплох, изменив привычный порядок вещей. На какое-то время жители городов перестали выходить на улицу, посещать кафе и торговые центры. Зато стало больше времени для книг. Это заметили стартаперы — и бросились создавать приложения для тех, кто любит читать. Ваша компания решила быть на волне и купила крупный сервис для чтения книг по подписке.\n",
    "\n",
    "**Цель исследования:**\n",
    "Проанализировать базу данных. В ней — информация о книгах, издательствах, авторах, а также пользовательские обзоры книг. Эти данные помогут сформулировать ценностное предложение для нового продукта."
   ]
  },
  {
   "cell_type": "markdown",
   "metadata": {},
   "source": [
    "**Задания:**\n",
    "\n",
    "- Посчитать, сколько книг вышло после 1 января 2000 года;\n",
    "- Для каждой книги посчитать количество обзоров и среднюю оценку;\n",
    "- Определить издательство, которое выпустило наибольшее число книг толще 50 страниц — так вы исключите из анализа брошюры;\n",
    "- Определить автора с самой высокой средней оценкой книг — учитывайте только книги с 50 и более оценками;\n",
    "- Посчитать среднее количество обзоров от пользователей, которые поставили больше 48 оценок."
   ]
  },
  {
   "cell_type": "markdown",
   "metadata": {},
   "source": [
    "# Описание данных\n",
    "\n",
    "**Таблица books cодержит данные о книгах:**\n",
    "\n",
    "- book_id — идентификатор книги;\n",
    "- author_id — идентификатор автора;\n",
    "- title — название книги;\n",
    "- num_pages — количество страниц;\n",
    "- publication_date — дата публикации книги;\n",
    "- publisher_id — идентификатор издателя.\n",
    "\n",
    "**Таблица authors содержит данные об авторах:**\n",
    "\n",
    "- author_id — идентификатор автора;\n",
    "- author — имя автора.\n",
    "\n",
    "**Таблица publishers содержит данные об издательствах:**\n",
    "\n",
    "- publisher_id — идентификатор издательства;\n",
    "- publisher — название издательства;\n",
    "\n",
    "**Таблица ratings содержит данные о пользовательских оценках книг:**\n",
    "- rating_id — идентификатор оценки;\n",
    "- book_id — идентификатор книги;\n",
    "- username — имя пользователя, оставившего оценку;\n",
    "- rating — оценка книги.\n",
    "\n",
    "**Таблица reviews содержит данные о пользовательских обзорах:**\n",
    "\n",
    "- review_id — идентификатор обзора;\n",
    "- book_id — идентификатор книги;\n",
    "- username — имя автора обзора;\n",
    "- text — текст обзора."
   ]
  },
  {
   "cell_type": "code",
   "execution_count": 1,
   "metadata": {},
   "outputs": [
    {
     "data": {
      "text/html": [
       "<div>\n",
       "<style scoped>\n",
       "    .dataframe tbody tr th:only-of-type {\n",
       "        vertical-align: middle;\n",
       "    }\n",
       "\n",
       "    .dataframe tbody tr th {\n",
       "        vertical-align: top;\n",
       "    }\n",
       "\n",
       "    .dataframe thead th {\n",
       "        text-align: right;\n",
       "    }\n",
       "</style>\n",
       "<table border=\"1\" class=\"dataframe\">\n",
       "  <thead>\n",
       "    <tr style=\"text-align: right;\">\n",
       "      <th></th>\n",
       "      <th>book_id</th>\n",
       "      <th>author_id</th>\n",
       "      <th>title</th>\n",
       "      <th>num_pages</th>\n",
       "      <th>publication_date</th>\n",
       "      <th>publisher_id</th>\n",
       "    </tr>\n",
       "  </thead>\n",
       "  <tbody>\n",
       "    <tr>\n",
       "      <th>0</th>\n",
       "      <td>1</td>\n",
       "      <td>546</td>\n",
       "      <td>'Salem's Lot</td>\n",
       "      <td>594</td>\n",
       "      <td>2005-11-01</td>\n",
       "      <td>93</td>\n",
       "    </tr>\n",
       "    <tr>\n",
       "      <th>1</th>\n",
       "      <td>2</td>\n",
       "      <td>465</td>\n",
       "      <td>1 000 Places to See Before You Die</td>\n",
       "      <td>992</td>\n",
       "      <td>2003-05-22</td>\n",
       "      <td>336</td>\n",
       "    </tr>\n",
       "    <tr>\n",
       "      <th>2</th>\n",
       "      <td>3</td>\n",
       "      <td>407</td>\n",
       "      <td>13 Little Blue Envelopes (Little Blue Envelope...</td>\n",
       "      <td>322</td>\n",
       "      <td>2010-12-21</td>\n",
       "      <td>135</td>\n",
       "    </tr>\n",
       "    <tr>\n",
       "      <th>3</th>\n",
       "      <td>4</td>\n",
       "      <td>82</td>\n",
       "      <td>1491: New Revelations of the Americas Before C...</td>\n",
       "      <td>541</td>\n",
       "      <td>2006-10-10</td>\n",
       "      <td>309</td>\n",
       "    </tr>\n",
       "    <tr>\n",
       "      <th>4</th>\n",
       "      <td>5</td>\n",
       "      <td>125</td>\n",
       "      <td>1776</td>\n",
       "      <td>386</td>\n",
       "      <td>2006-07-04</td>\n",
       "      <td>268</td>\n",
       "    </tr>\n",
       "  </tbody>\n",
       "</table>\n",
       "</div>"
      ],
      "text/plain": [
       "   book_id  author_id                                              title  \\\n",
       "0        1        546                                       'Salem's Lot   \n",
       "1        2        465                 1 000 Places to See Before You Die   \n",
       "2        3        407  13 Little Blue Envelopes (Little Blue Envelope...   \n",
       "3        4         82  1491: New Revelations of the Americas Before C...   \n",
       "4        5        125                                               1776   \n",
       "\n",
       "   num_pages publication_date  publisher_id  \n",
       "0        594       2005-11-01            93  \n",
       "1        992       2003-05-22           336  \n",
       "2        322       2010-12-21           135  \n",
       "3        541       2006-10-10           309  \n",
       "4        386       2006-07-04           268  "
      ]
     },
     "execution_count": 1,
     "metadata": {},
     "output_type": "execute_result"
    }
   ],
   "source": [
    "# импортируем библиотеки\n",
    "import pandas as pd\n",
    "from sqlalchemy import text, create_engine\n",
    "# устанавливаем параметры\n",
    "db_config = {'user': 'praktikum_student', # имя пользователя\n",
    "'pwd': 'Sdf4$2;d-d30pp', # пароль\n",
    "'host': 'rc1b-wcoijxj3yxfsf3fs.mdb.yandexcloud.net',\n",
    "'port': 6432, # порт подключения\n",
    "'db': 'data-analyst-final-project-db'} # название базы данных\n",
    "connection_string = 'postgresql://{user}:{pwd}@{host}:{port}/{db}'.format(**db_config)\n",
    "# сохраняем коннектор\n",
    "engine = create_engine(connection_string, connect_args={'sslmode':'require'})\n",
    "# чтобы выполнить SQL-запрос, используем Pandas\n",
    "query = '''SELECT * FROM books LIMIT 5'''\n",
    "con=engine.connect()\n",
    "pd.io.sql.read_sql(sql=text(query), con = con)\n"
   ]
  },
  {
   "cell_type": "markdown",
   "metadata": {},
   "source": [
    "**Сколько книг вышло после 1 января 2000 года**"
   ]
  },
  {
   "cell_type": "code",
   "execution_count": 2,
   "metadata": {},
   "outputs": [
    {
     "data": {
      "text/html": [
       "<div>\n",
       "<style scoped>\n",
       "    .dataframe tbody tr th:only-of-type {\n",
       "        vertical-align: middle;\n",
       "    }\n",
       "\n",
       "    .dataframe tbody tr th {\n",
       "        vertical-align: top;\n",
       "    }\n",
       "\n",
       "    .dataframe thead th {\n",
       "        text-align: right;\n",
       "    }\n",
       "</style>\n",
       "<table border=\"1\" class=\"dataframe\">\n",
       "  <thead>\n",
       "    <tr style=\"text-align: right;\">\n",
       "      <th></th>\n",
       "      <th>books_after_2000</th>\n",
       "    </tr>\n",
       "  </thead>\n",
       "  <tbody>\n",
       "    <tr>\n",
       "      <th>0</th>\n",
       "      <td>819</td>\n",
       "    </tr>\n",
       "  </tbody>\n",
       "</table>\n",
       "</div>"
      ],
      "text/plain": [
       "   books_after_2000\n",
       "0               819"
      ]
     },
     "metadata": {},
     "output_type": "display_data"
    }
   ],
   "source": [
    "query_1 = '''SELECT COUNT(*) AS books_after_2000\n",
    "           FROM books\n",
    "           WHERE publication_date > '2000-01-01';'''\n",
    "with engine.connect() as con:\n",
    "    result_1 = pd.read_sql(sql=text(query_1), con=con)\n",
    "    display(result_1)"
   ]
  },
  {
   "cell_type": "markdown",
   "metadata": {},
   "source": [
    "- После 1 января 2000 года всего вышло 819 книг!"
   ]
  },
  {
   "cell_type": "markdown",
   "metadata": {},
   "source": [
    "**Для каждой книги посчитать количество обзоров и среднюю оценку**\n",
    "\n"
   ]
  },
  {
   "cell_type": "code",
   "execution_count": 3,
   "metadata": {},
   "outputs": [
    {
     "name": "stdout",
     "output_type": "stream",
     "text": [
      "Общее количество обзоров: 26167\n",
      "Средняя оценка всех книг: 3.90\n"
     ]
    }
   ],
   "source": [
    "query_2 = '''\n",
    "SELECT \n",
    "    b.title,  \n",
    "    COUNT(r.review_id) AS review_count,  -- Количество обзоров для каждой книги\n",
    "    AVG(rt.rating) AS average_rating  -- Средняя оценка для каждой книги\n",
    "FROM \n",
    "    books AS b  -- Основная таблица с книгами\n",
    "LEFT JOIN \n",
    "    reviews AS r ON b.book_id = r.book_id  -- Соединение с таблицей обзоров по идентификатору книги\n",
    "LEFT JOIN \n",
    "    ratings AS rt ON b.book_id = rt.book_id  -- Соединение с таблицей оценок по идентификатору книги\n",
    "GROUP BY \n",
    "    b.book_id, b.title;  -- Группировка по книге и ее названию\n",
    "'''\n",
    "\n",
    "# выполняем запрос и выводим результат\n",
    "with engine.connect() as con:  # открываем соединение с базой данных\n",
    "    result_2 = pd.read_sql(sql=text(query_2), con=con)  # выполняем SQL-запрос и сохраняем результат в DataFrame\n",
    "    \n",
    "    # Вычисляем количество обзоров и среднюю оценку для всех книг\n",
    "    total_reviews = result_2['review_count'].sum()  # Суммируем все обзоры для всех книг\n",
    "    average_rating = result_2['average_rating'].mean()  # Находим среднюю оценку по всем книгам\n",
    "    \n",
    "    # Выводим результаты\n",
    "    print(f\"Общее количество обзоров: {total_reviews}\")  # Выводим общее количество обзоров\n",
    "    print(f\"Средняя оценка всех книг: {average_rating:.2f}\")  # Выводим среднюю оценку всех книг с округлением до 2 знаков\n"
   ]
  },
  {
   "cell_type": "markdown",
   "metadata": {},
   "source": [
    "- Обзоров на книги 26167, а вот их средняя оценка(рейтинг) 3.9 не самый хороший показатель!"
   ]
  },
  {
   "cell_type": "markdown",
   "metadata": {},
   "source": [
    "**Определить издательство, которое выпустило наибольшее число книг толще 50 страниц**"
   ]
  },
  {
   "cell_type": "code",
   "execution_count": 4,
   "metadata": {},
   "outputs": [
    {
     "name": "stdout",
     "output_type": "stream",
     "text": [
      "Издательство с наибольшим количеством книг (толще 50 страниц): Penguin Books\n",
      "Количество книг: 42\n"
     ]
    }
   ],
   "source": [
    "query_3 = '''\n",
    "SELECT \n",
    "    p.publisher,  -- название издательства\n",
    "    COUNT(b.book_id) AS book_count  -- количество книг\n",
    "FROM \n",
    "    books AS b\n",
    "JOIN \n",
    "    publishers AS p ON b.publisher_id = p.publisher_id  -- соединяем книги с издательствами\n",
    "WHERE \n",
    "    b.num_pages > 50  -- фильтруем книги, толще 50 страниц\n",
    "GROUP BY \n",
    "    p.publisher  -- группируем по издательствам\n",
    "ORDER BY \n",
    "    book_count DESC  -- сортируем по количеству книг\n",
    "LIMIT 1;  -- выводим только издательство с наибольшим количеством книг\n",
    "'''\n",
    "\n",
    "# выполняем запрос и выводим результат\n",
    "with engine.connect() as con:  # открываем соединение\n",
    "    result_3 = pd.read_sql(sql=text(query_3), con=con)  # выполняем запрос\n",
    "    \n",
    "    # Выводим издательство с наибольшим количеством книг\n",
    "    print(f\"Издательство с наибольшим количеством книг (толще 50 страниц): {result_3['publisher'][0]}\")\n",
    "    print(f\"Количество книг: {result_3['book_count'][0]}\")\n"
   ]
  },
  {
   "cell_type": "markdown",
   "metadata": {},
   "source": [
    "- Издательство Penguin Books больше предпочитает выпускать книги с долгой историей, а переводить бумагу на \"брошюру\" не любит!"
   ]
  },
  {
   "cell_type": "code",
   "execution_count": 5,
   "metadata": {
    "scrolled": true
   },
   "outputs": [
    {
     "name": "stdout",
     "output_type": "stream",
     "text": [
      "Автор с самой высокой средней оценкой книг: Diana Gabaldon\n",
      "Средняя оценка: 4.30\n"
     ]
    }
   ],
   "source": [
    "query_4 = '''\n",
    "SELECT \n",
    "    a.author,  \n",
    "    AVG(rt.rating) AS average_rating  -- средняя оценка автора\n",
    "FROM \n",
    "    books AS b\n",
    "JOIN \n",
    "    authors AS a ON b.author_id = a.author_id  -- соединяем книги с авторами\n",
    "JOIN \n",
    "    ratings AS rt ON b.book_id = rt.book_id  -- соединяем книги с оценками\n",
    "GROUP BY \n",
    "    a.author  -- группируем по авторам\n",
    "HAVING \n",
    "    COUNT(rt.rating) >= 50  -- учитываем только книги с 50 и более оценками\n",
    "ORDER BY \n",
    "    average_rating DESC  -- сортируем по средней оценке в убывающем порядке\n",
    "LIMIT 1;  -- выводим только автора с самой высокой средней оценкой\n",
    "'''\n",
    "\n",
    "# выполняем запрос и выводим результат\n",
    "with engine.connect() as con:  # открываем соединение\n",
    "    result_4 = pd.read_sql(sql=text(query_4), con=con)  # выполняем запрос\n",
    "    \n",
    "    # Выводим автора с самой высокой средней оценкой\n",
    "    print(f\"Автор с самой высокой средней оценкой книг: {result_4['author'][0]}\")\n",
    "    print(f\"Средняя оценка: {result_4['average_rating'][0]:.2f}\")\n"
   ]
  },
  {
   "cell_type": "markdown",
   "metadata": {},
   "source": [
    "- Творчество автора Diana Gabaldon со средней оценкой в 4.3 оценивают выше всех других!"
   ]
  },
  {
   "cell_type": "code",
   "execution_count": 7,
   "metadata": {},
   "outputs": [
    {
     "name": "stdout",
     "output_type": "stream",
     "text": [
      "Среднее количество обзоров от пользователей с более чем 48 оценками: 163.54\n"
     ]
    }
   ],
   "source": [
    "query_5 = '''\n",
    "SELECT \n",
    "    AVG(review_count) AS average_reviews_per_user  -- Среднее количество обзоров для пользователей с более чем 48 оценками\n",
    "FROM (\n",
    "    SELECT \n",
    "        rt.username,  -- Имя пользователя из таблицы ratings\n",
    "        COUNT(rt.rating) AS rating_count,  -- Количество оценок, оставленных пользователем\n",
    "        COUNT(rv.review_id) AS review_count  -- Количество обзоров, оставленных пользователем\n",
    "    FROM \n",
    "        ratings AS rt  -- Таблица оценок\n",
    "    LEFT JOIN \n",
    "        reviews AS rv ON rt.book_id = rv.book_id  -- Соединение с таблицей обзоров\n",
    "    GROUP BY \n",
    "        rt.username  -- Группировка по пользователю (используем rt для ratings)\n",
    "    HAVING \n",
    "        COUNT(rt.rating) > 48  -- Учитываем только пользователей с более чем 48 оценками\n",
    ") AS user_reviews;  -- Вложенный запрос для получения данных по пользователям\n",
    "'''\n",
    "\n",
    "# выполняем запрос и выводим результат\n",
    "with engine.connect() as con:  # открываем соединение с базой данных\n",
    "    result_5 = pd.read_sql(sql=text(query_5), con=con)  # выполняем SQL-запрос и сохраняем результат в DataFrame\n",
    "    \n",
    "    # Выводим результат\n",
    "    print(f\"Среднее количество обзоров от пользователей с более чем 48 оценками: {result_5['average_reviews_per_user'][0]:.2f}\")\n"
   ]
  },
  {
   "cell_type": "markdown",
   "metadata": {},
   "source": [
    "Самые активные читатели с 48-ю отзывами и более в среднем делают 163-164 обзоров на книги!"
   ]
  }
 ],
 "metadata": {
  "ExecuteTimeLog": [
   {
    "duration": 75,
    "start_time": "2024-11-15T07:20:17.186Z"
   },
   {
    "duration": 9024,
    "start_time": "2024-11-15T07:25:33.947Z"
   },
   {
    "duration": 94,
    "start_time": "2024-11-15T07:39:58.379Z"
   },
   {
    "duration": 74,
    "start_time": "2024-11-15T07:40:21.756Z"
   },
   {
    "duration": 9130,
    "start_time": "2024-11-15T07:42:06.861Z"
   },
   {
    "duration": 58,
    "start_time": "2024-11-15T07:42:15.993Z"
   },
   {
    "duration": 8231,
    "start_time": "2024-11-15T07:45:18.073Z"
   },
   {
    "duration": 128,
    "start_time": "2024-11-15T07:45:26.306Z"
   },
   {
    "duration": 115,
    "start_time": "2024-11-15T07:45:50.701Z"
   },
   {
    "duration": 52,
    "start_time": "2024-11-15T07:45:57.135Z"
   },
   {
    "duration": 66,
    "start_time": "2024-11-15T07:49:53.522Z"
   },
   {
    "duration": 72,
    "start_time": "2024-11-15T07:50:49.221Z"
   },
   {
    "duration": 20,
    "start_time": "2024-11-15T07:55:28.455Z"
   },
   {
    "duration": 77,
    "start_time": "2024-11-15T07:55:50.312Z"
   },
   {
    "duration": 91,
    "start_time": "2024-11-15T07:56:56.173Z"
   },
   {
    "duration": 90,
    "start_time": "2024-11-15T07:57:08.833Z"
   },
   {
    "duration": 89,
    "start_time": "2024-11-15T07:57:32.438Z"
   },
   {
    "duration": 7717,
    "start_time": "2024-11-15T07:59:30.184Z"
   },
   {
    "duration": 83,
    "start_time": "2024-11-15T07:59:37.903Z"
   },
   {
    "duration": 0,
    "start_time": "2024-11-15T07:59:37.988Z"
   },
   {
    "duration": 63,
    "start_time": "2024-11-15T08:00:21.282Z"
   },
   {
    "duration": 155,
    "start_time": "2024-11-15T08:00:36.541Z"
   },
   {
    "duration": 91,
    "start_time": "2024-11-15T08:01:07.296Z"
   },
   {
    "duration": 87,
    "start_time": "2024-11-15T08:05:05.698Z"
   },
   {
    "duration": 64,
    "start_time": "2024-11-15T08:09:05.919Z"
   },
   {
    "duration": 105,
    "start_time": "2024-11-15T08:09:24.425Z"
   },
   {
    "duration": 80,
    "start_time": "2024-11-15T08:22:42.314Z"
   },
   {
    "duration": 83,
    "start_time": "2024-11-15T08:22:56.835Z"
   },
   {
    "duration": 49,
    "start_time": "2024-11-15T08:28:01.510Z"
   },
   {
    "duration": 56,
    "start_time": "2024-11-15T08:30:02.008Z"
   },
   {
    "duration": 80,
    "start_time": "2024-11-15T08:32:24.224Z"
   },
   {
    "duration": 8316,
    "start_time": "2024-11-15T08:32:27.949Z"
   },
   {
    "duration": 128,
    "start_time": "2024-11-15T08:32:36.267Z"
   },
   {
    "duration": 85,
    "start_time": "2024-11-15T08:32:36.397Z"
   },
   {
    "duration": 49,
    "start_time": "2024-11-15T08:32:36.484Z"
   },
   {
    "duration": 68,
    "start_time": "2024-11-15T08:32:36.535Z"
   },
   {
    "duration": 125,
    "start_time": "2024-11-15T08:33:31.911Z"
   },
   {
    "duration": 61,
    "start_time": "2024-11-15T08:34:55.423Z"
   }
  ],
  "kernelspec": {
   "display_name": "Python 3 (ipykernel)",
   "language": "python",
   "name": "python3"
  },
  "language_info": {
   "codemirror_mode": {
    "name": "ipython",
    "version": 3
   },
   "file_extension": ".py",
   "mimetype": "text/x-python",
   "name": "python",
   "nbconvert_exporter": "python",
   "pygments_lexer": "ipython3",
   "version": "3.12.4"
  },
  "toc": {
   "base_numbering": 1,
   "nav_menu": {},
   "number_sections": true,
   "sideBar": true,
   "skip_h1_title": true,
   "title_cell": "Table of Contents",
   "title_sidebar": "Contents",
   "toc_cell": false,
   "toc_position": {},
   "toc_section_display": true,
   "toc_window_display": false
  }
 },
 "nbformat": 4,
 "nbformat_minor": 4
}
