{
 "cells": [
  {
   "cell_type": "markdown",
   "id": "857aee5f",
   "metadata": {},
   "source": [
    "# Исследование надежности заемщиков"
   ]
  },
  {
   "cell_type": "markdown",
   "id": "3da50e56",
   "metadata": {},
   "source": [
    "###  План работы:\n",
    "* [Введение](#introduction)\n",
    "* [Обзор данных](#overview)\n",
    "* [Предобработка данных](#preprocessing)\n",
    "* [Проверка гипотез](#hypothesis)\n",
    "* [Вывод](#conclusion)"
   ]
  },
  {
   "cell_type": "markdown",
   "id": "5da7503c",
   "metadata": {},
   "source": [
    "<a id=\"introduction\"></a>\n",
    "## Введение\n",
    "###  Описание проекта\n",
    "* Заказчик — кредитный отдел банка. Нужно разобраться, влияет ли семейное положение и количество детей клиента на факт погашения кредита в срок. Входные данные от банка — статистика о платёжеспособности клиентов.\n",
    "* Результаты исследования будут учтены при построении модели кредитного скоринга — специальной системы, которая оценивает способность потенциального заёмщика вернуть кредит банку."
   ]
  },
  {
   "cell_type": "markdown",
   "id": "2dcaba30",
   "metadata": {
    "jp-MarkdownHeadingCollapsed": true
   },
   "source": [
    "####  Описание данных\n",
    "* children — количество детей в семье\n",
    "* days_employed — общий трудовой стаж в днях\n",
    "* dob_years — возраст клиента в годах\n",
    "* education — уровень образования клиента\n",
    "* education_id — идентификатор уровня образования\n",
    "* family_status — семейное положение\n",
    "* family_status_id — идентификатор семейного положения\n",
    "* gender — пол клиента\n",
    "* income_type — тип занятости\n",
    "* debt — имел ли задолженность по возврату кредитов\n",
    "* total_income — ежемесячный доход\n",
    "* purpose — цель получения кредита"
   ]
  },
  {
   "cell_type": "markdown",
   "id": "22a76869",
   "metadata": {},
   "source": [
    "<a id=\"overview\"></a>\n",
    "## Обзор данных"
   ]
  },
  {
   "cell_type": "code",
   "execution_count": 1,
   "id": "71d8eaa5",
   "metadata": {},
   "outputs": [],
   "source": [
    "import pandas as pd\n",
    "\n",
    "try:\n",
    "    df = pd.read_csv('C:/Users/Danila30/Downloads/GitHub/Исследование надежности заемщиков/data.csv', delimiter=',') \n",
    "except:\n",
    "    df = pd.read_csv('/datasets/data.csv', delimiter=',')"
   ]
  },
  {
   "cell_type": "code",
   "execution_count": 2,
   "id": "49745bff",
   "metadata": {},
   "outputs": [
    {
     "data": {
      "text/html": [
       "<div>\n",
       "<style scoped>\n",
       "    .dataframe tbody tr th:only-of-type {\n",
       "        vertical-align: middle;\n",
       "    }\n",
       "\n",
       "    .dataframe tbody tr th {\n",
       "        vertical-align: top;\n",
       "    }\n",
       "\n",
       "    .dataframe thead th {\n",
       "        text-align: right;\n",
       "    }\n",
       "</style>\n",
       "<table border=\"1\" class=\"dataframe\">\n",
       "  <thead>\n",
       "    <tr style=\"text-align: right;\">\n",
       "      <th></th>\n",
       "      <th>children</th>\n",
       "      <th>days_employed</th>\n",
       "      <th>dob_years</th>\n",
       "      <th>education</th>\n",
       "      <th>education_id</th>\n",
       "      <th>family_status</th>\n",
       "      <th>family_status_id</th>\n",
       "      <th>gender</th>\n",
       "      <th>income_type</th>\n",
       "      <th>debt</th>\n",
       "      <th>total_income</th>\n",
       "      <th>purpose</th>\n",
       "    </tr>\n",
       "  </thead>\n",
       "  <tbody>\n",
       "    <tr>\n",
       "      <th>0</th>\n",
       "      <td>1</td>\n",
       "      <td>-8437.673028</td>\n",
       "      <td>42</td>\n",
       "      <td>высшее</td>\n",
       "      <td>0</td>\n",
       "      <td>женат / замужем</td>\n",
       "      <td>0</td>\n",
       "      <td>F</td>\n",
       "      <td>сотрудник</td>\n",
       "      <td>0</td>\n",
       "      <td>253875.639453</td>\n",
       "      <td>покупка жилья</td>\n",
       "    </tr>\n",
       "    <tr>\n",
       "      <th>1</th>\n",
       "      <td>1</td>\n",
       "      <td>-4024.803754</td>\n",
       "      <td>36</td>\n",
       "      <td>среднее</td>\n",
       "      <td>1</td>\n",
       "      <td>женат / замужем</td>\n",
       "      <td>0</td>\n",
       "      <td>F</td>\n",
       "      <td>сотрудник</td>\n",
       "      <td>0</td>\n",
       "      <td>112080.014102</td>\n",
       "      <td>приобретение автомобиля</td>\n",
       "    </tr>\n",
       "    <tr>\n",
       "      <th>2</th>\n",
       "      <td>0</td>\n",
       "      <td>-5623.422610</td>\n",
       "      <td>33</td>\n",
       "      <td>Среднее</td>\n",
       "      <td>1</td>\n",
       "      <td>женат / замужем</td>\n",
       "      <td>0</td>\n",
       "      <td>M</td>\n",
       "      <td>сотрудник</td>\n",
       "      <td>0</td>\n",
       "      <td>145885.952297</td>\n",
       "      <td>покупка жилья</td>\n",
       "    </tr>\n",
       "    <tr>\n",
       "      <th>3</th>\n",
       "      <td>3</td>\n",
       "      <td>-4124.747207</td>\n",
       "      <td>32</td>\n",
       "      <td>среднее</td>\n",
       "      <td>1</td>\n",
       "      <td>женат / замужем</td>\n",
       "      <td>0</td>\n",
       "      <td>M</td>\n",
       "      <td>сотрудник</td>\n",
       "      <td>0</td>\n",
       "      <td>267628.550329</td>\n",
       "      <td>дополнительное образование</td>\n",
       "    </tr>\n",
       "    <tr>\n",
       "      <th>4</th>\n",
       "      <td>0</td>\n",
       "      <td>340266.072047</td>\n",
       "      <td>53</td>\n",
       "      <td>среднее</td>\n",
       "      <td>1</td>\n",
       "      <td>гражданский брак</td>\n",
       "      <td>1</td>\n",
       "      <td>F</td>\n",
       "      <td>пенсионер</td>\n",
       "      <td>0</td>\n",
       "      <td>158616.077870</td>\n",
       "      <td>сыграть свадьбу</td>\n",
       "    </tr>\n",
       "    <tr>\n",
       "      <th>5</th>\n",
       "      <td>0</td>\n",
       "      <td>-926.185831</td>\n",
       "      <td>27</td>\n",
       "      <td>высшее</td>\n",
       "      <td>0</td>\n",
       "      <td>гражданский брак</td>\n",
       "      <td>1</td>\n",
       "      <td>M</td>\n",
       "      <td>компаньон</td>\n",
       "      <td>0</td>\n",
       "      <td>255763.565419</td>\n",
       "      <td>покупка жилья</td>\n",
       "    </tr>\n",
       "    <tr>\n",
       "      <th>6</th>\n",
       "      <td>0</td>\n",
       "      <td>-2879.202052</td>\n",
       "      <td>43</td>\n",
       "      <td>высшее</td>\n",
       "      <td>0</td>\n",
       "      <td>женат / замужем</td>\n",
       "      <td>0</td>\n",
       "      <td>F</td>\n",
       "      <td>компаньон</td>\n",
       "      <td>0</td>\n",
       "      <td>240525.971920</td>\n",
       "      <td>операции с жильем</td>\n",
       "    </tr>\n",
       "    <tr>\n",
       "      <th>7</th>\n",
       "      <td>0</td>\n",
       "      <td>-152.779569</td>\n",
       "      <td>50</td>\n",
       "      <td>СРЕДНЕЕ</td>\n",
       "      <td>1</td>\n",
       "      <td>женат / замужем</td>\n",
       "      <td>0</td>\n",
       "      <td>M</td>\n",
       "      <td>сотрудник</td>\n",
       "      <td>0</td>\n",
       "      <td>135823.934197</td>\n",
       "      <td>образование</td>\n",
       "    </tr>\n",
       "    <tr>\n",
       "      <th>8</th>\n",
       "      <td>2</td>\n",
       "      <td>-6929.865299</td>\n",
       "      <td>35</td>\n",
       "      <td>ВЫСШЕЕ</td>\n",
       "      <td>0</td>\n",
       "      <td>гражданский брак</td>\n",
       "      <td>1</td>\n",
       "      <td>F</td>\n",
       "      <td>сотрудник</td>\n",
       "      <td>0</td>\n",
       "      <td>95856.832424</td>\n",
       "      <td>на проведение свадьбы</td>\n",
       "    </tr>\n",
       "    <tr>\n",
       "      <th>9</th>\n",
       "      <td>0</td>\n",
       "      <td>-2188.756445</td>\n",
       "      <td>41</td>\n",
       "      <td>среднее</td>\n",
       "      <td>1</td>\n",
       "      <td>женат / замужем</td>\n",
       "      <td>0</td>\n",
       "      <td>M</td>\n",
       "      <td>сотрудник</td>\n",
       "      <td>0</td>\n",
       "      <td>144425.938277</td>\n",
       "      <td>покупка жилья для семьи</td>\n",
       "    </tr>\n",
       "    <tr>\n",
       "      <th>10</th>\n",
       "      <td>2</td>\n",
       "      <td>-4171.483647</td>\n",
       "      <td>36</td>\n",
       "      <td>высшее</td>\n",
       "      <td>0</td>\n",
       "      <td>женат / замужем</td>\n",
       "      <td>0</td>\n",
       "      <td>M</td>\n",
       "      <td>компаньон</td>\n",
       "      <td>0</td>\n",
       "      <td>113943.491460</td>\n",
       "      <td>покупка недвижимости</td>\n",
       "    </tr>\n",
       "    <tr>\n",
       "      <th>11</th>\n",
       "      <td>0</td>\n",
       "      <td>-792.701887</td>\n",
       "      <td>40</td>\n",
       "      <td>среднее</td>\n",
       "      <td>1</td>\n",
       "      <td>женат / замужем</td>\n",
       "      <td>0</td>\n",
       "      <td>F</td>\n",
       "      <td>сотрудник</td>\n",
       "      <td>0</td>\n",
       "      <td>77069.234271</td>\n",
       "      <td>покупка коммерческой недвижимости</td>\n",
       "    </tr>\n",
       "    <tr>\n",
       "      <th>12</th>\n",
       "      <td>0</td>\n",
       "      <td>NaN</td>\n",
       "      <td>65</td>\n",
       "      <td>среднее</td>\n",
       "      <td>1</td>\n",
       "      <td>гражданский брак</td>\n",
       "      <td>1</td>\n",
       "      <td>M</td>\n",
       "      <td>пенсионер</td>\n",
       "      <td>0</td>\n",
       "      <td>NaN</td>\n",
       "      <td>сыграть свадьбу</td>\n",
       "    </tr>\n",
       "    <tr>\n",
       "      <th>13</th>\n",
       "      <td>0</td>\n",
       "      <td>-1846.641941</td>\n",
       "      <td>54</td>\n",
       "      <td>неоконченное высшее</td>\n",
       "      <td>2</td>\n",
       "      <td>женат / замужем</td>\n",
       "      <td>0</td>\n",
       "      <td>F</td>\n",
       "      <td>сотрудник</td>\n",
       "      <td>0</td>\n",
       "      <td>130458.228857</td>\n",
       "      <td>приобретение автомобиля</td>\n",
       "    </tr>\n",
       "    <tr>\n",
       "      <th>14</th>\n",
       "      <td>0</td>\n",
       "      <td>-1844.956182</td>\n",
       "      <td>56</td>\n",
       "      <td>высшее</td>\n",
       "      <td>0</td>\n",
       "      <td>гражданский брак</td>\n",
       "      <td>1</td>\n",
       "      <td>F</td>\n",
       "      <td>компаньон</td>\n",
       "      <td>1</td>\n",
       "      <td>165127.911772</td>\n",
       "      <td>покупка жилой недвижимости</td>\n",
       "    </tr>\n",
       "  </tbody>\n",
       "</table>\n",
       "</div>"
      ],
      "text/plain": [
       "    children  days_employed  dob_years            education  education_id  \\\n",
       "0          1   -8437.673028         42               высшее             0   \n",
       "1          1   -4024.803754         36              среднее             1   \n",
       "2          0   -5623.422610         33              Среднее             1   \n",
       "3          3   -4124.747207         32              среднее             1   \n",
       "4          0  340266.072047         53              среднее             1   \n",
       "5          0    -926.185831         27               высшее             0   \n",
       "6          0   -2879.202052         43               высшее             0   \n",
       "7          0    -152.779569         50              СРЕДНЕЕ             1   \n",
       "8          2   -6929.865299         35               ВЫСШЕЕ             0   \n",
       "9          0   -2188.756445         41              среднее             1   \n",
       "10         2   -4171.483647         36               высшее             0   \n",
       "11         0    -792.701887         40              среднее             1   \n",
       "12         0            NaN         65              среднее             1   \n",
       "13         0   -1846.641941         54  неоконченное высшее             2   \n",
       "14         0   -1844.956182         56               высшее             0   \n",
       "\n",
       "       family_status  family_status_id gender income_type  debt  \\\n",
       "0    женат / замужем                 0      F   сотрудник     0   \n",
       "1    женат / замужем                 0      F   сотрудник     0   \n",
       "2    женат / замужем                 0      M   сотрудник     0   \n",
       "3    женат / замужем                 0      M   сотрудник     0   \n",
       "4   гражданский брак                 1      F   пенсионер     0   \n",
       "5   гражданский брак                 1      M   компаньон     0   \n",
       "6    женат / замужем                 0      F   компаньон     0   \n",
       "7    женат / замужем                 0      M   сотрудник     0   \n",
       "8   гражданский брак                 1      F   сотрудник     0   \n",
       "9    женат / замужем                 0      M   сотрудник     0   \n",
       "10   женат / замужем                 0      M   компаньон     0   \n",
       "11   женат / замужем                 0      F   сотрудник     0   \n",
       "12  гражданский брак                 1      M   пенсионер     0   \n",
       "13   женат / замужем                 0      F   сотрудник     0   \n",
       "14  гражданский брак                 1      F   компаньон     1   \n",
       "\n",
       "     total_income                            purpose  \n",
       "0   253875.639453                      покупка жилья  \n",
       "1   112080.014102            приобретение автомобиля  \n",
       "2   145885.952297                      покупка жилья  \n",
       "3   267628.550329         дополнительное образование  \n",
       "4   158616.077870                    сыграть свадьбу  \n",
       "5   255763.565419                      покупка жилья  \n",
       "6   240525.971920                  операции с жильем  \n",
       "7   135823.934197                        образование  \n",
       "8    95856.832424              на проведение свадьбы  \n",
       "9   144425.938277            покупка жилья для семьи  \n",
       "10  113943.491460               покупка недвижимости  \n",
       "11   77069.234271  покупка коммерческой недвижимости  \n",
       "12            NaN                    сыграть свадьбу  \n",
       "13  130458.228857            приобретение автомобиля  \n",
       "14  165127.911772         покупка жилой недвижимости  "
      ]
     },
     "metadata": {},
     "output_type": "display_data"
    }
   ],
   "source": [
    "display(df.head(15))"
   ]
  },
  {
   "cell_type": "markdown",
   "id": "895ac7d1",
   "metadata": {},
   "source": [
    "<a id=\"preprocessing\"></a>\n",
    "## Предобработка данных"
   ]
  },
  {
   "cell_type": "markdown",
   "id": "86258ce4",
   "metadata": {},
   "source": [
    "### Шаг 2.1 Заполнение пропусков"
   ]
  },
  {
   "cell_type": "markdown",
   "id": "e10ab8a4",
   "metadata": {},
   "source": [
    "Посмотрим общую информацию всего датасета"
   ]
  },
  {
   "cell_type": "code",
   "execution_count": 3,
   "id": "8872f275",
   "metadata": {},
   "outputs": [
    {
     "name": "stdout",
     "output_type": "stream",
     "text": [
      "<class 'pandas.core.frame.DataFrame'>\n",
      "RangeIndex: 21525 entries, 0 to 21524\n",
      "Data columns (total 12 columns):\n",
      " #   Column            Non-Null Count  Dtype  \n",
      "---  ------            --------------  -----  \n",
      " 0   children          21525 non-null  int64  \n",
      " 1   days_employed     19351 non-null  float64\n",
      " 2   dob_years         21525 non-null  int64  \n",
      " 3   education         21525 non-null  object \n",
      " 4   education_id      21525 non-null  int64  \n",
      " 5   family_status     21525 non-null  object \n",
      " 6   family_status_id  21525 non-null  int64  \n",
      " 7   gender            21525 non-null  object \n",
      " 8   income_type       21525 non-null  object \n",
      " 9   debt              21525 non-null  int64  \n",
      " 10  total_income      19351 non-null  float64\n",
      " 11  purpose           21525 non-null  object \n",
      "dtypes: float64(2), int64(5), object(5)\n",
      "memory usage: 2.0+ MB\n"
     ]
    }
   ],
   "source": [
    "df.info()"
   ]
  },
  {
   "cell_type": "markdown",
   "id": "a4ac65ab",
   "metadata": {},
   "source": [
    "Узнаем количство пропусков в процентах столбацах total_income и days_employed  "
   ]
  },
  {
   "cell_type": "code",
   "execution_count": 4,
   "id": "4d09a7d3",
   "metadata": {},
   "outputs": [
    {
     "name": "stdout",
     "output_type": "stream",
     "text": [
      "89.90011614401858\n"
     ]
    }
   ],
   "source": [
    "share = 19351/21525*100\n",
    "print(share)"
   ]
  },
  {
   "cell_type": "markdown",
   "id": "527572b6",
   "metadata": {},
   "source": [
    "Пропущенные значение 'NaN' наблюдаются в столбцах days_employed и total_income, они содержат в себе количественные значения. \n",
    "Скорее всего эти пропуски возникли из-за человеческого фактора, данные просто не были внесены. \n",
    "Пропуски в таких переменных заполняют характерными значениями. Это значения, характеризующие состояние выборки, — набора данных, выбранных для проведения исследования. Чтобы примерно оценить типичные значения выборки, в данной ситуации лучше использовать медиану!"
   ]
  },
  {
   "cell_type": "code",
   "execution_count": 5,
   "id": "eeaebec0",
   "metadata": {},
   "outputs": [
    {
     "data": {
      "text/html": [
       "<div>\n",
       "<style scoped>\n",
       "    .dataframe tbody tr th:only-of-type {\n",
       "        vertical-align: middle;\n",
       "    }\n",
       "\n",
       "    .dataframe tbody tr th {\n",
       "        vertical-align: top;\n",
       "    }\n",
       "\n",
       "    .dataframe thead th {\n",
       "        text-align: right;\n",
       "    }\n",
       "</style>\n",
       "<table border=\"1\" class=\"dataframe\">\n",
       "  <thead>\n",
       "    <tr style=\"text-align: right;\">\n",
       "      <th></th>\n",
       "      <th>children</th>\n",
       "      <th>days_employed</th>\n",
       "      <th>dob_years</th>\n",
       "      <th>education</th>\n",
       "      <th>education_id</th>\n",
       "      <th>family_status</th>\n",
       "      <th>family_status_id</th>\n",
       "      <th>gender</th>\n",
       "      <th>income_type</th>\n",
       "      <th>debt</th>\n",
       "      <th>total_income</th>\n",
       "      <th>purpose</th>\n",
       "    </tr>\n",
       "  </thead>\n",
       "  <tbody>\n",
       "    <tr>\n",
       "      <th>12</th>\n",
       "      <td>0</td>\n",
       "      <td>NaN</td>\n",
       "      <td>65</td>\n",
       "      <td>среднее</td>\n",
       "      <td>1</td>\n",
       "      <td>гражданский брак</td>\n",
       "      <td>1</td>\n",
       "      <td>M</td>\n",
       "      <td>пенсионер</td>\n",
       "      <td>0</td>\n",
       "      <td>NaN</td>\n",
       "      <td>сыграть свадьбу</td>\n",
       "    </tr>\n",
       "    <tr>\n",
       "      <th>26</th>\n",
       "      <td>0</td>\n",
       "      <td>NaN</td>\n",
       "      <td>41</td>\n",
       "      <td>среднее</td>\n",
       "      <td>1</td>\n",
       "      <td>женат / замужем</td>\n",
       "      <td>0</td>\n",
       "      <td>M</td>\n",
       "      <td>госслужащий</td>\n",
       "      <td>0</td>\n",
       "      <td>NaN</td>\n",
       "      <td>образование</td>\n",
       "    </tr>\n",
       "    <tr>\n",
       "      <th>29</th>\n",
       "      <td>0</td>\n",
       "      <td>NaN</td>\n",
       "      <td>63</td>\n",
       "      <td>среднее</td>\n",
       "      <td>1</td>\n",
       "      <td>Не женат / не замужем</td>\n",
       "      <td>4</td>\n",
       "      <td>F</td>\n",
       "      <td>пенсионер</td>\n",
       "      <td>0</td>\n",
       "      <td>NaN</td>\n",
       "      <td>строительство жилой недвижимости</td>\n",
       "    </tr>\n",
       "    <tr>\n",
       "      <th>41</th>\n",
       "      <td>0</td>\n",
       "      <td>NaN</td>\n",
       "      <td>50</td>\n",
       "      <td>среднее</td>\n",
       "      <td>1</td>\n",
       "      <td>женат / замужем</td>\n",
       "      <td>0</td>\n",
       "      <td>F</td>\n",
       "      <td>госслужащий</td>\n",
       "      <td>0</td>\n",
       "      <td>NaN</td>\n",
       "      <td>сделка с подержанным автомобилем</td>\n",
       "    </tr>\n",
       "    <tr>\n",
       "      <th>55</th>\n",
       "      <td>0</td>\n",
       "      <td>NaN</td>\n",
       "      <td>54</td>\n",
       "      <td>среднее</td>\n",
       "      <td>1</td>\n",
       "      <td>гражданский брак</td>\n",
       "      <td>1</td>\n",
       "      <td>F</td>\n",
       "      <td>пенсионер</td>\n",
       "      <td>1</td>\n",
       "      <td>NaN</td>\n",
       "      <td>сыграть свадьбу</td>\n",
       "    </tr>\n",
       "  </tbody>\n",
       "</table>\n",
       "</div>"
      ],
      "text/plain": [
       "    children  days_employed  dob_years education  education_id  \\\n",
       "12         0            NaN         65   среднее             1   \n",
       "26         0            NaN         41   среднее             1   \n",
       "29         0            NaN         63   среднее             1   \n",
       "41         0            NaN         50   среднее             1   \n",
       "55         0            NaN         54   среднее             1   \n",
       "\n",
       "            family_status  family_status_id gender  income_type  debt  \\\n",
       "12       гражданский брак                 1      M    пенсионер     0   \n",
       "26        женат / замужем                 0      M  госслужащий     0   \n",
       "29  Не женат / не замужем                 4      F    пенсионер     0   \n",
       "41        женат / замужем                 0      F  госслужащий     0   \n",
       "55       гражданский брак                 1      F    пенсионер     1   \n",
       "\n",
       "    total_income                           purpose  \n",
       "12           NaN                   сыграть свадьбу  \n",
       "26           NaN                       образование  \n",
       "29           NaN  строительство жилой недвижимости  \n",
       "41           NaN  сделка с подержанным автомобилем  \n",
       "55           NaN                   сыграть свадьбу  "
      ]
     },
     "execution_count": 5,
     "metadata": {},
     "output_type": "execute_result"
    }
   ],
   "source": [
    "df[df['days_employed'].isna()].head()"
   ]
  },
  {
   "cell_type": "markdown",
   "id": "54d9b237",
   "metadata": {},
   "source": [
    "Вычислим медианные значения в столбцах с пропускам, затем заменим пропуски медианным значением."
   ]
  },
  {
   "cell_type": "code",
   "execution_count": 6,
   "id": "7d8052d5",
   "metadata": {},
   "outputs": [],
   "source": [
    "days_employed_median = df['days_employed'].median()\n",
    "df['days_employed'] = df['days_employed'].fillna(value = days_employed_median) "
   ]
  },
  {
   "cell_type": "code",
   "execution_count": 7,
   "id": "90d541d5",
   "metadata": {},
   "outputs": [],
   "source": [
    "total_income_median = df['total_income'].median()\n",
    "df['total_income'] = df['total_income'].fillna(value = total_income_median)"
   ]
  },
  {
   "cell_type": "markdown",
   "id": "03df14d2",
   "metadata": {},
   "source": [
    "Выполним проверку  пропущенных значений по всей таблице"
   ]
  },
  {
   "cell_type": "code",
   "execution_count": 8,
   "id": "d010f4fe",
   "metadata": {},
   "outputs": [
    {
     "name": "stdout",
     "output_type": "stream",
     "text": [
      "<class 'pandas.core.frame.DataFrame'>\n",
      "RangeIndex: 21525 entries, 0 to 21524\n",
      "Data columns (total 12 columns):\n",
      " #   Column            Non-Null Count  Dtype  \n",
      "---  ------            --------------  -----  \n",
      " 0   children          21525 non-null  int64  \n",
      " 1   days_employed     21525 non-null  float64\n",
      " 2   dob_years         21525 non-null  int64  \n",
      " 3   education         21525 non-null  object \n",
      " 4   education_id      21525 non-null  int64  \n",
      " 5   family_status     21525 non-null  object \n",
      " 6   family_status_id  21525 non-null  int64  \n",
      " 7   gender            21525 non-null  object \n",
      " 8   income_type       21525 non-null  object \n",
      " 9   debt              21525 non-null  int64  \n",
      " 10  total_income      21525 non-null  float64\n",
      " 11  purpose           21525 non-null  object \n",
      "dtypes: float64(2), int64(5), object(5)\n",
      "memory usage: 2.0+ MB\n"
     ]
    }
   ],
   "source": [
    "df.info()"
   ]
  },
  {
   "cell_type": "markdown",
   "id": "0f6d4a8a",
   "metadata": {},
   "source": [
    "С помощью median() удалось найти медиану по заданому столбцу, а метод fillna() понадобился для того, что бы заменить все значения NaN в данных столбцах на медиану."
   ]
  },
  {
   "cell_type": "markdown",
   "id": "4c41780c",
   "metadata": {},
   "source": [
    "### Шаг 2.2 Проверка данных на аномалии"
   ]
  },
  {
   "cell_type": "markdown",
   "id": "d1b80cd2",
   "metadata": {},
   "source": [
    "В столбце days_employed убираем дробную часть и избавляемся от отрицательных зачений с помощью метода abs("
   ]
  },
  {
   "cell_type": "code",
   "execution_count": 9,
   "id": "0a196f5e",
   "metadata": {},
   "outputs": [
    {
     "data": {
      "text/html": [
       "<div>\n",
       "<style scoped>\n",
       "    .dataframe tbody tr th:only-of-type {\n",
       "        vertical-align: middle;\n",
       "    }\n",
       "\n",
       "    .dataframe tbody tr th {\n",
       "        vertical-align: top;\n",
       "    }\n",
       "\n",
       "    .dataframe thead th {\n",
       "        text-align: right;\n",
       "    }\n",
       "</style>\n",
       "<table border=\"1\" class=\"dataframe\">\n",
       "  <thead>\n",
       "    <tr style=\"text-align: right;\">\n",
       "      <th></th>\n",
       "      <th>children</th>\n",
       "      <th>days_employed</th>\n",
       "      <th>dob_years</th>\n",
       "      <th>education</th>\n",
       "      <th>education_id</th>\n",
       "      <th>family_status</th>\n",
       "      <th>family_status_id</th>\n",
       "      <th>gender</th>\n",
       "      <th>income_type</th>\n",
       "      <th>debt</th>\n",
       "      <th>total_income</th>\n",
       "      <th>purpose</th>\n",
       "    </tr>\n",
       "  </thead>\n",
       "  <tbody>\n",
       "    <tr>\n",
       "      <th>0</th>\n",
       "      <td>1</td>\n",
       "      <td>8437</td>\n",
       "      <td>42</td>\n",
       "      <td>высшее</td>\n",
       "      <td>0</td>\n",
       "      <td>женат / замужем</td>\n",
       "      <td>0</td>\n",
       "      <td>F</td>\n",
       "      <td>сотрудник</td>\n",
       "      <td>0</td>\n",
       "      <td>253875.639453</td>\n",
       "      <td>покупка жилья</td>\n",
       "    </tr>\n",
       "    <tr>\n",
       "      <th>1</th>\n",
       "      <td>1</td>\n",
       "      <td>4024</td>\n",
       "      <td>36</td>\n",
       "      <td>среднее</td>\n",
       "      <td>1</td>\n",
       "      <td>женат / замужем</td>\n",
       "      <td>0</td>\n",
       "      <td>F</td>\n",
       "      <td>сотрудник</td>\n",
       "      <td>0</td>\n",
       "      <td>112080.014102</td>\n",
       "      <td>приобретение автомобиля</td>\n",
       "    </tr>\n",
       "    <tr>\n",
       "      <th>2</th>\n",
       "      <td>0</td>\n",
       "      <td>5623</td>\n",
       "      <td>33</td>\n",
       "      <td>Среднее</td>\n",
       "      <td>1</td>\n",
       "      <td>женат / замужем</td>\n",
       "      <td>0</td>\n",
       "      <td>M</td>\n",
       "      <td>сотрудник</td>\n",
       "      <td>0</td>\n",
       "      <td>145885.952297</td>\n",
       "      <td>покупка жилья</td>\n",
       "    </tr>\n",
       "    <tr>\n",
       "      <th>3</th>\n",
       "      <td>3</td>\n",
       "      <td>4124</td>\n",
       "      <td>32</td>\n",
       "      <td>среднее</td>\n",
       "      <td>1</td>\n",
       "      <td>женат / замужем</td>\n",
       "      <td>0</td>\n",
       "      <td>M</td>\n",
       "      <td>сотрудник</td>\n",
       "      <td>0</td>\n",
       "      <td>267628.550329</td>\n",
       "      <td>дополнительное образование</td>\n",
       "    </tr>\n",
       "    <tr>\n",
       "      <th>4</th>\n",
       "      <td>0</td>\n",
       "      <td>340266</td>\n",
       "      <td>53</td>\n",
       "      <td>среднее</td>\n",
       "      <td>1</td>\n",
       "      <td>гражданский брак</td>\n",
       "      <td>1</td>\n",
       "      <td>F</td>\n",
       "      <td>пенсионер</td>\n",
       "      <td>0</td>\n",
       "      <td>158616.077870</td>\n",
       "      <td>сыграть свадьбу</td>\n",
       "    </tr>\n",
       "  </tbody>\n",
       "</table>\n",
       "</div>"
      ],
      "text/plain": [
       "   children  days_employed  dob_years education  education_id  \\\n",
       "0         1           8437         42    высшее             0   \n",
       "1         1           4024         36   среднее             1   \n",
       "2         0           5623         33   Среднее             1   \n",
       "3         3           4124         32   среднее             1   \n",
       "4         0         340266         53   среднее             1   \n",
       "\n",
       "      family_status  family_status_id gender income_type  debt   total_income  \\\n",
       "0   женат / замужем                 0      F   сотрудник     0  253875.639453   \n",
       "1   женат / замужем                 0      F   сотрудник     0  112080.014102   \n",
       "2   женат / замужем                 0      M   сотрудник     0  145885.952297   \n",
       "3   женат / замужем                 0      M   сотрудник     0  267628.550329   \n",
       "4  гражданский брак                 1      F   пенсионер     0  158616.077870   \n",
       "\n",
       "                      purpose  \n",
       "0               покупка жилья  \n",
       "1     приобретение автомобиля  \n",
       "2               покупка жилья  \n",
       "3  дополнительное образование  \n",
       "4             сыграть свадьбу  "
      ]
     },
     "metadata": {},
     "output_type": "display_data"
    }
   ],
   "source": [
    "df['days_employed'] = df['days_employed'].astype('int') \n",
    "df['days_employed'] = df['days_employed'].abs()\n",
    "display(df.head())"
   ]
  },
  {
   "cell_type": "markdown",
   "id": "d9ae1ade",
   "metadata": {},
   "source": [
    "### Шаг 2.3. Изменение типов данных."
   ]
  },
  {
   "cell_type": "markdown",
   "id": "9258ee17",
   "metadata": {},
   "source": [
    "Приведём вещественные значения из столбца total_income в целочисленные. Для этого необходимо применить метод astype(), указав в качестве аргумента int!"
   ]
  },
  {
   "cell_type": "code",
   "execution_count": 10,
   "id": "f342a228",
   "metadata": {},
   "outputs": [
    {
     "data": {
      "text/html": [
       "<div>\n",
       "<style scoped>\n",
       "    .dataframe tbody tr th:only-of-type {\n",
       "        vertical-align: middle;\n",
       "    }\n",
       "\n",
       "    .dataframe tbody tr th {\n",
       "        vertical-align: top;\n",
       "    }\n",
       "\n",
       "    .dataframe thead th {\n",
       "        text-align: right;\n",
       "    }\n",
       "</style>\n",
       "<table border=\"1\" class=\"dataframe\">\n",
       "  <thead>\n",
       "    <tr style=\"text-align: right;\">\n",
       "      <th></th>\n",
       "      <th>children</th>\n",
       "      <th>days_employed</th>\n",
       "      <th>dob_years</th>\n",
       "      <th>education</th>\n",
       "      <th>education_id</th>\n",
       "      <th>family_status</th>\n",
       "      <th>family_status_id</th>\n",
       "      <th>gender</th>\n",
       "      <th>income_type</th>\n",
       "      <th>debt</th>\n",
       "      <th>total_income</th>\n",
       "      <th>purpose</th>\n",
       "    </tr>\n",
       "  </thead>\n",
       "  <tbody>\n",
       "    <tr>\n",
       "      <th>0</th>\n",
       "      <td>1</td>\n",
       "      <td>8437</td>\n",
       "      <td>42</td>\n",
       "      <td>высшее</td>\n",
       "      <td>0</td>\n",
       "      <td>женат / замужем</td>\n",
       "      <td>0</td>\n",
       "      <td>F</td>\n",
       "      <td>сотрудник</td>\n",
       "      <td>0</td>\n",
       "      <td>253875</td>\n",
       "      <td>покупка жилья</td>\n",
       "    </tr>\n",
       "    <tr>\n",
       "      <th>1</th>\n",
       "      <td>1</td>\n",
       "      <td>4024</td>\n",
       "      <td>36</td>\n",
       "      <td>среднее</td>\n",
       "      <td>1</td>\n",
       "      <td>женат / замужем</td>\n",
       "      <td>0</td>\n",
       "      <td>F</td>\n",
       "      <td>сотрудник</td>\n",
       "      <td>0</td>\n",
       "      <td>112080</td>\n",
       "      <td>приобретение автомобиля</td>\n",
       "    </tr>\n",
       "    <tr>\n",
       "      <th>2</th>\n",
       "      <td>0</td>\n",
       "      <td>5623</td>\n",
       "      <td>33</td>\n",
       "      <td>Среднее</td>\n",
       "      <td>1</td>\n",
       "      <td>женат / замужем</td>\n",
       "      <td>0</td>\n",
       "      <td>M</td>\n",
       "      <td>сотрудник</td>\n",
       "      <td>0</td>\n",
       "      <td>145885</td>\n",
       "      <td>покупка жилья</td>\n",
       "    </tr>\n",
       "    <tr>\n",
       "      <th>3</th>\n",
       "      <td>3</td>\n",
       "      <td>4124</td>\n",
       "      <td>32</td>\n",
       "      <td>среднее</td>\n",
       "      <td>1</td>\n",
       "      <td>женат / замужем</td>\n",
       "      <td>0</td>\n",
       "      <td>M</td>\n",
       "      <td>сотрудник</td>\n",
       "      <td>0</td>\n",
       "      <td>267628</td>\n",
       "      <td>дополнительное образование</td>\n",
       "    </tr>\n",
       "    <tr>\n",
       "      <th>4</th>\n",
       "      <td>0</td>\n",
       "      <td>340266</td>\n",
       "      <td>53</td>\n",
       "      <td>среднее</td>\n",
       "      <td>1</td>\n",
       "      <td>гражданский брак</td>\n",
       "      <td>1</td>\n",
       "      <td>F</td>\n",
       "      <td>пенсионер</td>\n",
       "      <td>0</td>\n",
       "      <td>158616</td>\n",
       "      <td>сыграть свадьбу</td>\n",
       "    </tr>\n",
       "  </tbody>\n",
       "</table>\n",
       "</div>"
      ],
      "text/plain": [
       "   children  days_employed  dob_years education  education_id  \\\n",
       "0         1           8437         42    высшее             0   \n",
       "1         1           4024         36   среднее             1   \n",
       "2         0           5623         33   Среднее             1   \n",
       "3         3           4124         32   среднее             1   \n",
       "4         0         340266         53   среднее             1   \n",
       "\n",
       "      family_status  family_status_id gender income_type  debt  total_income  \\\n",
       "0   женат / замужем                 0      F   сотрудник     0        253875   \n",
       "1   женат / замужем                 0      F   сотрудник     0        112080   \n",
       "2   женат / замужем                 0      M   сотрудник     0        145885   \n",
       "3   женат / замужем                 0      M   сотрудник     0        267628   \n",
       "4  гражданский брак                 1      F   пенсионер     0        158616   \n",
       "\n",
       "                      purpose  \n",
       "0               покупка жилья  \n",
       "1     приобретение автомобиля  \n",
       "2               покупка жилья  \n",
       "3  дополнительное образование  \n",
       "4             сыграть свадьбу  "
      ]
     },
     "metadata": {},
     "output_type": "display_data"
    }
   ],
   "source": [
    "df['total_income'] = df['total_income'].astype('int') \n",
    "display(df.head())"
   ]
  },
  {
   "cell_type": "markdown",
   "id": "4b68320f",
   "metadata": {},
   "source": [
    "#### Оптимизация хранения числовых данных с использованием подтипов"
   ]
  },
  {
   "cell_type": "markdown",
   "id": "8de30a53",
   "metadata": {},
   "source": [
    "Мы будем часто выяснять то, сколько памяти используется, поэтому создадим функцию, которая поможет нам сэкономить немного времени."
   ]
  },
  {
   "cell_type": "code",
   "execution_count": 11,
   "id": "c8a887c3",
   "metadata": {},
   "outputs": [],
   "source": [
    "def mem_usage(pandas_obj):\n",
    "    if isinstance(pandas_obj,pd.DataFrame):\n",
    "        usage_b = pandas_obj.memory_usage(deep=True).sum()\n",
    "    else: # исходим из предположения о том, что если это не DataFrame, то это Series\n",
    "        usage_b = pandas_obj.memory_usage(deep=True)\n",
    "    usage_mb = usage_b / 1024 ** 2 # преобразуем байты в мегабайты\n",
    "    return \"{:03.2f} MB\".format(usage_mb)"
   ]
  },
  {
   "cell_type": "markdown",
   "id": "26081dce",
   "metadata": {},
   "source": [
    "Функцию pd.to_numeric() можно использовать для нисходящего преобразования числовых типов. Для выбора целочисленных столбцов воспользуемся методом DataFrame.select_dtypes(), затем оптимизируем их и сравним использование памяти до и после оптимизации."
   ]
  },
  {
   "cell_type": "code",
   "execution_count": 12,
   "id": "df9e6e76",
   "metadata": {},
   "outputs": [],
   "source": [
    "df_int = df.select_dtypes(include=['int'])\n",
    "converted_int = df_int.apply(pd.to_numeric,downcast='unsigned')"
   ]
  },
  {
   "cell_type": "markdown",
   "id": "71895e75",
   "metadata": {},
   "source": [
    "Вот что получается в результате исследования потребления памяти:"
   ]
  },
  {
   "cell_type": "code",
   "execution_count": 13,
   "id": "11f00932",
   "metadata": {},
   "outputs": [
    {
     "name": "stdout",
     "output_type": "stream",
     "text": [
      "0.99 MB\n",
      "0.41 MB\n"
     ]
    }
   ],
   "source": [
    "print(mem_usage(df_int))\n",
    "print(mem_usage(converted_int))"
   ]
  },
  {
   "cell_type": "markdown",
   "id": "e84a2ea0",
   "metadata": {},
   "source": [
    "В результате можно видеть падение использования памяти с 1,15 до 0,41 мегабайт, то есть — мы снизили потребление памяти больше, чем на 65%."
   ]
  },
  {
   "cell_type": "markdown",
   "id": "b55e2c19",
   "metadata": {},
   "source": [
    "#### Оптимизация хранения данных объектных типов с использованием категориальных переменных"
   ]
  },
  {
   "cell_type": "markdown",
   "id": "e478835b",
   "metadata": {},
   "source": [
    "Для того чтобы понять, где именно мы сможем воспользоваться категориальными данными для снижения потребления памяти, выясним количество уникальных значений в столбцах, хранящих значения объектных типов:"
   ]
  },
  {
   "cell_type": "code",
   "execution_count": 14,
   "id": "706dc1d2",
   "metadata": {},
   "outputs": [
    {
     "data": {
      "text/html": [
       "<div>\n",
       "<style scoped>\n",
       "    .dataframe tbody tr th:only-of-type {\n",
       "        vertical-align: middle;\n",
       "    }\n",
       "\n",
       "    .dataframe tbody tr th {\n",
       "        vertical-align: top;\n",
       "    }\n",
       "\n",
       "    .dataframe thead th {\n",
       "        text-align: right;\n",
       "    }\n",
       "</style>\n",
       "<table border=\"1\" class=\"dataframe\">\n",
       "  <thead>\n",
       "    <tr style=\"text-align: right;\">\n",
       "      <th></th>\n",
       "      <th>education</th>\n",
       "      <th>family_status</th>\n",
       "      <th>gender</th>\n",
       "      <th>income_type</th>\n",
       "      <th>purpose</th>\n",
       "    </tr>\n",
       "  </thead>\n",
       "  <tbody>\n",
       "    <tr>\n",
       "      <th>count</th>\n",
       "      <td>21525</td>\n",
       "      <td>21525</td>\n",
       "      <td>21525</td>\n",
       "      <td>21525</td>\n",
       "      <td>21525</td>\n",
       "    </tr>\n",
       "    <tr>\n",
       "      <th>unique</th>\n",
       "      <td>15</td>\n",
       "      <td>5</td>\n",
       "      <td>3</td>\n",
       "      <td>8</td>\n",
       "      <td>38</td>\n",
       "    </tr>\n",
       "    <tr>\n",
       "      <th>top</th>\n",
       "      <td>среднее</td>\n",
       "      <td>женат / замужем</td>\n",
       "      <td>F</td>\n",
       "      <td>сотрудник</td>\n",
       "      <td>свадьба</td>\n",
       "    </tr>\n",
       "    <tr>\n",
       "      <th>freq</th>\n",
       "      <td>13750</td>\n",
       "      <td>12380</td>\n",
       "      <td>14236</td>\n",
       "      <td>11119</td>\n",
       "      <td>797</td>\n",
       "    </tr>\n",
       "  </tbody>\n",
       "</table>\n",
       "</div>"
      ],
      "text/plain": [
       "       education    family_status gender income_type  purpose\n",
       "count      21525            21525  21525       21525    21525\n",
       "unique        15                5      3           8       38\n",
       "top      среднее  женат / замужем      F   сотрудник  свадьба\n",
       "freq       13750            12380  14236       11119      797"
      ]
     },
     "execution_count": 14,
     "metadata": {},
     "output_type": "execute_result"
    }
   ],
   "source": [
    "df_obj = df.select_dtypes(include=['object']).copy()\n",
    "df_obj.describe()"
   ]
  },
  {
   "cell_type": "markdown",
   "id": "bc07cb6d",
   "metadata": {},
   "source": [
    "Прежде чем заняться полномасштабной оптимизацией необходимо выбрать какой-нибудь один столбец, хранящий объектные данные, например income_type, необходимо посмотреть, что происходит внутри программы при преобразовании его в категориальный тип."
   ]
  },
  {
   "cell_type": "markdown",
   "id": "17c2b38a",
   "metadata": {},
   "source": [
    "В этом столбце содержится всего 8 уникальных значений. Для преобразования его в категориальный тип воспользуемся методом .astype()."
   ]
  },
  {
   "cell_type": "code",
   "execution_count": 15,
   "id": "f9d48352",
   "metadata": {},
   "outputs": [
    {
     "name": "stdout",
     "output_type": "stream",
     "text": [
      "0    сотрудник\n",
      "1    сотрудник\n",
      "2    сотрудник\n",
      "3    сотрудник\n",
      "4    пенсионер\n",
      "Name: income_type, dtype: object\n",
      "0    сотрудник\n",
      "1    сотрудник\n",
      "2    сотрудник\n",
      "3    сотрудник\n",
      "4    пенсионер\n",
      "Name: income_type, dtype: category\n",
      "Categories (8, object): ['безработный', 'в декрете', 'госслужащий', 'компаньон', 'пенсионер', 'предприниматель', 'сотрудник', 'студент']\n"
     ]
    }
   ],
   "source": [
    "dow = df_obj.income_type\n",
    "print(dow.head())\n",
    "\n",
    "dow_cat = dow.astype('category')\n",
    "print(dow_cat.head())"
   ]
  },
  {
   "cell_type": "markdown",
   "id": "137063af",
   "metadata": {},
   "source": [
    "Хоть тип столбца изменился, данные, хранящиеся в нём, выглядят так же, как и раньше. Посмотрим теперь на то, что происходит внутри программы.\n",
    "\n",
    "В следующем коде мы используем атрибут Series.cat.codes для того, чтобы выяснить то, какие целочисленные значения тип category использует для представления каждого из типов дохода:"
   ]
  },
  {
   "cell_type": "code",
   "execution_count": 16,
   "id": "4cf3217f",
   "metadata": {},
   "outputs": [
    {
     "data": {
      "text/plain": [
       "0    6\n",
       "1    6\n",
       "2    6\n",
       "3    6\n",
       "4    4\n",
       "5    3\n",
       "6    3\n",
       "7    6\n",
       "8    6\n",
       "dtype: int8"
      ]
     },
     "execution_count": 16,
     "metadata": {},
     "output_type": "execute_result"
    }
   ],
   "source": [
    "dow_cat.head(9).cat.codes"
   ]
  },
  {
   "cell_type": "markdown",
   "id": "60a9a3c2",
   "metadata": {},
   "source": [
    "Тут можно заметить то, что каждому уникальному значению назначено целочисленное значение, и то, что столбец теперь имеет тип int8. Здесь нет отсутствующих значений, но если бы это было так, для указания таких значений использовалось бы число -1.\n",
    "\n",
    "Теперь давайте сравним потребление памяти до и после преобразования столбца income_type к типу category."
   ]
  },
  {
   "cell_type": "code",
   "execution_count": 17,
   "id": "d4889f51",
   "metadata": {},
   "outputs": [
    {
     "name": "stdout",
     "output_type": "stream",
     "text": [
      "2.13 MB\n",
      "0.02 MB\n"
     ]
    }
   ],
   "source": [
    "print(mem_usage(dow))\n",
    "print(mem_usage(dow_cat))"
   ]
  },
  {
   "cell_type": "markdown",
   "id": "e41d7286",
   "metadata": {},
   "source": [
    "Как видно, сначала потреблялось 2.45 мегабайт памяти, а после оптимизации — лишь 0.02 мегабайт, что означает 99% улучшение этого показателя. Обратите внимание на то, что работа с этим столбцом, вероятно, демонстрирует один из наиболее выгодных сценариев оптимизации, когда в столбце, содержащем примерно 21525 элементов, используется лишь 8 уникальных значений."
   ]
  },
  {
   "cell_type": "markdown",
   "id": "fb395dab",
   "metadata": {},
   "source": [
    "Нам стоит ограничить использование типа category, в основном, столбцами, хранящими данные типа object, в которых уникальными являются менее 50% значений. Если все значения в столбце уникальны, то использование типа category приведёт к повышению уровня использования памяти.\n",
    "\n",
    "Создадим цикл, который перебирает все столбцы, хранящие данные типа object, выясняет, не превышает ли число уникальных значений в столбцах 50%, и если это так, преобразует их в тип category."
   ]
  },
  {
   "cell_type": "code",
   "execution_count": 18,
   "id": "4fa425a3",
   "metadata": {},
   "outputs": [],
   "source": [
    "converted_obj = pd.DataFrame()\n",
    "\n",
    "for col in df_obj.columns:\n",
    "    num_unique_values = len(df_obj[col].unique())\n",
    "    num_total_values = len(df_obj[col])\n",
    "    if num_unique_values / num_total_values < 0.5:\n",
    "        converted_obj.loc[:,col] = df_obj[col].astype('category')\n",
    "    else:\n",
    "        converted_obj.loc[:,col] = df_obj[col]"
   ]
  },
  {
   "cell_type": "code",
   "execution_count": 19,
   "id": "36574913",
   "metadata": {},
   "outputs": [
    {
     "name": "stdout",
     "output_type": "stream",
     "text": [
      "10.86 MB\n",
      "0.11 MB\n"
     ]
    }
   ],
   "source": [
    "print(mem_usage(df_obj))\n",
    "print(mem_usage(converted_obj))"
   ]
  },
  {
   "cell_type": "markdown",
   "id": "6e35796d",
   "metadata": {},
   "source": [
    "Как видно, объём памяти, необходимый для работы со столбцами, хранящими данные типа object, снизился с 12.34 мегабайт до 0.11 мегабайт, то есть на 99%"
   ]
  },
  {
   "cell_type": "markdown",
   "id": "60c616c0",
   "metadata": {},
   "source": [
    "### Шаг 2.4. Удаление дубликатов."
   ]
  },
  {
   "cell_type": "code",
   "execution_count": 20,
   "id": "2a63a10b",
   "metadata": {},
   "outputs": [
    {
     "data": {
      "text/plain": [
       "54"
      ]
     },
     "execution_count": 20,
     "metadata": {},
     "output_type": "execute_result"
    }
   ],
   "source": [
    "df.duplicated().sum()"
   ]
  },
  {
   "cell_type": "markdown",
   "id": "1670b68c",
   "metadata": {},
   "source": [
    "Выявим общее количество явных дубликатов. После этого удалим явные дубликаты методом drop_duplicates().reset_index(), с параметром (drop = True), чтобы перезаписать индексы датасета и удалить старые. Затем снова проверим на количество явных дубликатов."
   ]
  },
  {
   "cell_type": "code",
   "execution_count": 21,
   "id": "aecc3a2f",
   "metadata": {},
   "outputs": [
    {
     "data": {
      "text/plain": [
       "0"
      ]
     },
     "execution_count": 21,
     "metadata": {},
     "output_type": "execute_result"
    }
   ],
   "source": [
    "df = df.drop_duplicates().reset_index(drop = True)\n",
    "df.duplicated().sum()"
   ]
  },
  {
   "cell_type": "markdown",
   "id": "0f16142c",
   "metadata": {},
   "source": [
    "В столбце education есть одни и те же значения, но записанные по-разному: с использованием заглавных и строчных букв. Приведём их к одному регистру с помощью функции str.lower(), после чего выполним проверку на неявные дубликаты в данном столбце."
   ]
  },
  {
   "cell_type": "code",
   "execution_count": 22,
   "id": "c288488e",
   "metadata": {},
   "outputs": [
    {
     "data": {
      "text/plain": [
       "array(['высшее', 'среднее', 'Среднее', 'СРЕДНЕЕ', 'ВЫСШЕЕ',\n",
       "       'неоконченное высшее', 'начальное', 'Высшее',\n",
       "       'НЕОКОНЧЕННОЕ ВЫСШЕЕ', 'Неоконченное высшее', 'НАЧАЛЬНОЕ',\n",
       "       'Начальное', 'Ученая степень', 'УЧЕНАЯ СТЕПЕНЬ', 'ученая степень'],\n",
       "      dtype=object)"
      ]
     },
     "execution_count": 22,
     "metadata": {},
     "output_type": "execute_result"
    }
   ],
   "source": [
    "df['education'].unique()"
   ]
  },
  {
   "cell_type": "code",
   "execution_count": 23,
   "id": "d0799c4b",
   "metadata": {},
   "outputs": [
    {
     "data": {
      "text/plain": [
       "array(['высшее', 'среднее', 'неоконченное высшее', 'начальное',\n",
       "       'ученая степень'], dtype=object)"
      ]
     },
     "execution_count": 23,
     "metadata": {},
     "output_type": "execute_result"
    }
   ],
   "source": [
    "df['education'] = df['education'].str.lower() \n",
    "df['education'].unique()"
   ]
  },
  {
   "cell_type": "code",
   "execution_count": 24,
   "id": "515c61cc",
   "metadata": {},
   "outputs": [
    {
     "data": {
      "text/plain": [
       "17"
      ]
     },
     "execution_count": 24,
     "metadata": {},
     "output_type": "execute_result"
    }
   ],
   "source": [
    "df.duplicated().sum()"
   ]
  },
  {
   "cell_type": "code",
   "execution_count": 25,
   "id": "f295b20f",
   "metadata": {},
   "outputs": [
    {
     "data": {
      "text/plain": [
       "0"
      ]
     },
     "execution_count": 25,
     "metadata": {},
     "output_type": "execute_result"
    }
   ],
   "source": [
    "df = df.drop_duplicates().reset_index(drop = True)\n",
    "df.duplicated().sum()"
   ]
  },
  {
   "cell_type": "markdown",
   "id": "ef49cbb1",
   "metadata": {},
   "source": [
    "Данные дубликаты вполне могли появиться из-за человеского фактора(заполнения данных вручную)"
   ]
  },
  {
   "cell_type": "markdown",
   "id": "8cdc6e4d",
   "metadata": {},
   "source": [
    "### Шаг 2.5. Формирование дополнительных датафреймов словарей, декомпозиция исходного датафрейма."
   ]
  },
  {
   "cell_type": "code",
   "execution_count": 26,
   "id": "c468708a",
   "metadata": {},
   "outputs": [
    {
     "name": "stdout",
     "output_type": "stream",
     "text": [
      "Количество дубликатов: 0\n"
     ]
    },
    {
     "data": {
      "text/html": [
       "<div>\n",
       "<style scoped>\n",
       "    .dataframe tbody tr th:only-of-type {\n",
       "        vertical-align: middle;\n",
       "    }\n",
       "\n",
       "    .dataframe tbody tr th {\n",
       "        vertical-align: top;\n",
       "    }\n",
       "\n",
       "    .dataframe thead th {\n",
       "        text-align: right;\n",
       "    }\n",
       "</style>\n",
       "<table border=\"1\" class=\"dataframe\">\n",
       "  <thead>\n",
       "    <tr style=\"text-align: right;\">\n",
       "      <th></th>\n",
       "      <th>family_status_id</th>\n",
       "      <th>family_status</th>\n",
       "    </tr>\n",
       "  </thead>\n",
       "  <tbody>\n",
       "    <tr>\n",
       "      <th>0</th>\n",
       "      <td>0</td>\n",
       "      <td>женат / замужем</td>\n",
       "    </tr>\n",
       "    <tr>\n",
       "      <th>1</th>\n",
       "      <td>1</td>\n",
       "      <td>гражданский брак</td>\n",
       "    </tr>\n",
       "    <tr>\n",
       "      <th>2</th>\n",
       "      <td>2</td>\n",
       "      <td>вдовец / вдова</td>\n",
       "    </tr>\n",
       "    <tr>\n",
       "      <th>3</th>\n",
       "      <td>3</td>\n",
       "      <td>в разводе</td>\n",
       "    </tr>\n",
       "    <tr>\n",
       "      <th>4</th>\n",
       "      <td>4</td>\n",
       "      <td>Не женат / не замужем</td>\n",
       "    </tr>\n",
       "  </tbody>\n",
       "</table>\n",
       "</div>"
      ],
      "text/plain": [
       "   family_status_id          family_status\n",
       "0                 0        женат / замужем\n",
       "1                 1       гражданский брак\n",
       "2                 2         вдовец / вдова\n",
       "3                 3              в разводе\n",
       "4                 4  Не женат / не замужем"
      ]
     },
     "metadata": {},
     "output_type": "display_data"
    },
    {
     "name": "stdout",
     "output_type": "stream",
     "text": [
      "Количество дубликатов: 0\n"
     ]
    },
    {
     "data": {
      "text/html": [
       "<div>\n",
       "<style scoped>\n",
       "    .dataframe tbody tr th:only-of-type {\n",
       "        vertical-align: middle;\n",
       "    }\n",
       "\n",
       "    .dataframe tbody tr th {\n",
       "        vertical-align: top;\n",
       "    }\n",
       "\n",
       "    .dataframe thead th {\n",
       "        text-align: right;\n",
       "    }\n",
       "</style>\n",
       "<table border=\"1\" class=\"dataframe\">\n",
       "  <thead>\n",
       "    <tr style=\"text-align: right;\">\n",
       "      <th></th>\n",
       "      <th>education_id</th>\n",
       "      <th>education</th>\n",
       "    </tr>\n",
       "  </thead>\n",
       "  <tbody>\n",
       "    <tr>\n",
       "      <th>0</th>\n",
       "      <td>0</td>\n",
       "      <td>высшее</td>\n",
       "    </tr>\n",
       "    <tr>\n",
       "      <th>1</th>\n",
       "      <td>1</td>\n",
       "      <td>среднее</td>\n",
       "    </tr>\n",
       "    <tr>\n",
       "      <th>2</th>\n",
       "      <td>2</td>\n",
       "      <td>неоконченное высшее</td>\n",
       "    </tr>\n",
       "    <tr>\n",
       "      <th>3</th>\n",
       "      <td>3</td>\n",
       "      <td>начальное</td>\n",
       "    </tr>\n",
       "    <tr>\n",
       "      <th>4</th>\n",
       "      <td>4</td>\n",
       "      <td>ученая степень</td>\n",
       "    </tr>\n",
       "  </tbody>\n",
       "</table>\n",
       "</div>"
      ],
      "text/plain": [
       "   education_id            education\n",
       "0             0               высшее\n",
       "1             1              среднее\n",
       "2             2  неоконченное высшее\n",
       "3             3            начальное\n",
       "4             4       ученая степень"
      ]
     },
     "metadata": {},
     "output_type": "display_data"
    },
    {
     "data": {
      "text/html": [
       "<div>\n",
       "<style scoped>\n",
       "    .dataframe tbody tr th:only-of-type {\n",
       "        vertical-align: middle;\n",
       "    }\n",
       "\n",
       "    .dataframe tbody tr th {\n",
       "        vertical-align: top;\n",
       "    }\n",
       "\n",
       "    .dataframe thead th {\n",
       "        text-align: right;\n",
       "    }\n",
       "</style>\n",
       "<table border=\"1\" class=\"dataframe\">\n",
       "  <thead>\n",
       "    <tr style=\"text-align: right;\">\n",
       "      <th></th>\n",
       "      <th>children</th>\n",
       "      <th>days_employed</th>\n",
       "      <th>dob_years</th>\n",
       "      <th>education_id</th>\n",
       "      <th>family_status_id</th>\n",
       "      <th>gender</th>\n",
       "      <th>income_type</th>\n",
       "      <th>debt</th>\n",
       "      <th>total_income</th>\n",
       "      <th>purpose</th>\n",
       "    </tr>\n",
       "  </thead>\n",
       "  <tbody>\n",
       "    <tr>\n",
       "      <th>0</th>\n",
       "      <td>1</td>\n",
       "      <td>8437</td>\n",
       "      <td>42</td>\n",
       "      <td>0</td>\n",
       "      <td>0</td>\n",
       "      <td>F</td>\n",
       "      <td>сотрудник</td>\n",
       "      <td>0</td>\n",
       "      <td>253875</td>\n",
       "      <td>покупка жилья</td>\n",
       "    </tr>\n",
       "    <tr>\n",
       "      <th>1</th>\n",
       "      <td>1</td>\n",
       "      <td>4024</td>\n",
       "      <td>36</td>\n",
       "      <td>1</td>\n",
       "      <td>0</td>\n",
       "      <td>F</td>\n",
       "      <td>сотрудник</td>\n",
       "      <td>0</td>\n",
       "      <td>112080</td>\n",
       "      <td>приобретение автомобиля</td>\n",
       "    </tr>\n",
       "    <tr>\n",
       "      <th>2</th>\n",
       "      <td>0</td>\n",
       "      <td>5623</td>\n",
       "      <td>33</td>\n",
       "      <td>1</td>\n",
       "      <td>0</td>\n",
       "      <td>M</td>\n",
       "      <td>сотрудник</td>\n",
       "      <td>0</td>\n",
       "      <td>145885</td>\n",
       "      <td>покупка жилья</td>\n",
       "    </tr>\n",
       "    <tr>\n",
       "      <th>3</th>\n",
       "      <td>3</td>\n",
       "      <td>4124</td>\n",
       "      <td>32</td>\n",
       "      <td>1</td>\n",
       "      <td>0</td>\n",
       "      <td>M</td>\n",
       "      <td>сотрудник</td>\n",
       "      <td>0</td>\n",
       "      <td>267628</td>\n",
       "      <td>дополнительное образование</td>\n",
       "    </tr>\n",
       "    <tr>\n",
       "      <th>4</th>\n",
       "      <td>0</td>\n",
       "      <td>340266</td>\n",
       "      <td>53</td>\n",
       "      <td>1</td>\n",
       "      <td>1</td>\n",
       "      <td>F</td>\n",
       "      <td>пенсионер</td>\n",
       "      <td>0</td>\n",
       "      <td>158616</td>\n",
       "      <td>сыграть свадьбу</td>\n",
       "    </tr>\n",
       "  </tbody>\n",
       "</table>\n",
       "</div>"
      ],
      "text/plain": [
       "   children  days_employed  dob_years  education_id  family_status_id gender  \\\n",
       "0         1           8437         42             0                 0      F   \n",
       "1         1           4024         36             1                 0      F   \n",
       "2         0           5623         33             1                 0      M   \n",
       "3         3           4124         32             1                 0      M   \n",
       "4         0         340266         53             1                 1      F   \n",
       "\n",
       "  income_type  debt  total_income                     purpose  \n",
       "0   сотрудник     0        253875               покупка жилья  \n",
       "1   сотрудник     0        112080     приобретение автомобиля  \n",
       "2   сотрудник     0        145885               покупка жилья  \n",
       "3   сотрудник     0        267628  дополнительное образование  \n",
       "4   пенсионер     0        158616             сыграть свадьбу  "
      ]
     },
     "metadata": {},
     "output_type": "display_data"
    }
   ],
   "source": [
    "df_family = pd.DataFrame(data = df, columns=['family_status_id', 'family_status']) # создаем новый датафрейм с колонками  \n",
    "# family_status_id и family_status \n",
    "df_family = df_family.drop_duplicates().reset_index(drop=True) # удаляем дубликаты в таблице df_family и сбрасываем индексы \n",
    "print('Количество дубликатов:', df_family.duplicated().sum()) # проверяем результат отсутствия дубликатов \n",
    "display(df_family)\n",
    "df_education = pd.DataFrame(data = df, columns=['education_id', 'education']) # создаем новый датафрейм с колонками  \n",
    "# education_id и education\n",
    "df_education = df_education.drop_duplicates().reset_index(drop=True) # удаляем дубликаты в таблице df_education и сбрасываем индексы \n",
    "print('Количество дубликатов:', df_education.duplicated().sum()) # проверяем результат отсутствия дубликатов \n",
    "display(df_education)\n",
    "\n",
    "df = df.drop(['education', 'family_status'], axis =1) # удаляем из исходного датафрейма колонки education и family_status \n",
    "display(df.head()) # проверяем результат выводом 5-ти строк таблицы "
   ]
  },
  {
   "cell_type": "markdown",
   "id": "3b93e724",
   "metadata": {},
   "source": [
    "### Шаг 2.6. Категоризация дохода."
   ]
  },
  {
   "cell_type": "code",
   "execution_count": 27,
   "id": "35583efc",
   "metadata": {},
   "outputs": [],
   "source": [
    "def income_category(category): # создаём функцию-фильтр, который определяет категорию дохода согласно установленым значениям \n",
    "    if category <= 30000:\n",
    "        return 'E'\n",
    "    elif category >= 30001 and category <= 50000:\n",
    "        return 'D'\n",
    "    elif category >= 50001 and category <= 200000:\n",
    "        return 'C'\n",
    "    elif category >= 200001 and category <= 1000000:\n",
    "        return 'B'\n",
    "    elif category >= 1000001:\n",
    "        return 'A'"
   ]
  },
  {
   "cell_type": "code",
   "execution_count": 28,
   "id": "745b3cbc",
   "metadata": {},
   "outputs": [
    {
     "data": {
      "text/html": [
       "<div>\n",
       "<style scoped>\n",
       "    .dataframe tbody tr th:only-of-type {\n",
       "        vertical-align: middle;\n",
       "    }\n",
       "\n",
       "    .dataframe tbody tr th {\n",
       "        vertical-align: top;\n",
       "    }\n",
       "\n",
       "    .dataframe thead th {\n",
       "        text-align: right;\n",
       "    }\n",
       "</style>\n",
       "<table border=\"1\" class=\"dataframe\">\n",
       "  <thead>\n",
       "    <tr style=\"text-align: right;\">\n",
       "      <th></th>\n",
       "      <th>children</th>\n",
       "      <th>days_employed</th>\n",
       "      <th>dob_years</th>\n",
       "      <th>education_id</th>\n",
       "      <th>family_status_id</th>\n",
       "      <th>gender</th>\n",
       "      <th>income_type</th>\n",
       "      <th>debt</th>\n",
       "      <th>total_income</th>\n",
       "      <th>purpose</th>\n",
       "      <th>total_income_category</th>\n",
       "    </tr>\n",
       "  </thead>\n",
       "  <tbody>\n",
       "    <tr>\n",
       "      <th>0</th>\n",
       "      <td>1</td>\n",
       "      <td>8437</td>\n",
       "      <td>42</td>\n",
       "      <td>0</td>\n",
       "      <td>0</td>\n",
       "      <td>F</td>\n",
       "      <td>сотрудник</td>\n",
       "      <td>0</td>\n",
       "      <td>253875</td>\n",
       "      <td>покупка жилья</td>\n",
       "      <td>B</td>\n",
       "    </tr>\n",
       "    <tr>\n",
       "      <th>1</th>\n",
       "      <td>1</td>\n",
       "      <td>4024</td>\n",
       "      <td>36</td>\n",
       "      <td>1</td>\n",
       "      <td>0</td>\n",
       "      <td>F</td>\n",
       "      <td>сотрудник</td>\n",
       "      <td>0</td>\n",
       "      <td>112080</td>\n",
       "      <td>приобретение автомобиля</td>\n",
       "      <td>C</td>\n",
       "    </tr>\n",
       "    <tr>\n",
       "      <th>2</th>\n",
       "      <td>0</td>\n",
       "      <td>5623</td>\n",
       "      <td>33</td>\n",
       "      <td>1</td>\n",
       "      <td>0</td>\n",
       "      <td>M</td>\n",
       "      <td>сотрудник</td>\n",
       "      <td>0</td>\n",
       "      <td>145885</td>\n",
       "      <td>покупка жилья</td>\n",
       "      <td>C</td>\n",
       "    </tr>\n",
       "    <tr>\n",
       "      <th>3</th>\n",
       "      <td>3</td>\n",
       "      <td>4124</td>\n",
       "      <td>32</td>\n",
       "      <td>1</td>\n",
       "      <td>0</td>\n",
       "      <td>M</td>\n",
       "      <td>сотрудник</td>\n",
       "      <td>0</td>\n",
       "      <td>267628</td>\n",
       "      <td>дополнительное образование</td>\n",
       "      <td>B</td>\n",
       "    </tr>\n",
       "    <tr>\n",
       "      <th>4</th>\n",
       "      <td>0</td>\n",
       "      <td>340266</td>\n",
       "      <td>53</td>\n",
       "      <td>1</td>\n",
       "      <td>1</td>\n",
       "      <td>F</td>\n",
       "      <td>пенсионер</td>\n",
       "      <td>0</td>\n",
       "      <td>158616</td>\n",
       "      <td>сыграть свадьбу</td>\n",
       "      <td>C</td>\n",
       "    </tr>\n",
       "  </tbody>\n",
       "</table>\n",
       "</div>"
      ],
      "text/plain": [
       "   children  days_employed  dob_years  education_id  family_status_id gender  \\\n",
       "0         1           8437         42             0                 0      F   \n",
       "1         1           4024         36             1                 0      F   \n",
       "2         0           5623         33             1                 0      M   \n",
       "3         3           4124         32             1                 0      M   \n",
       "4         0         340266         53             1                 1      F   \n",
       "\n",
       "  income_type  debt  total_income                     purpose  \\\n",
       "0   сотрудник     0        253875               покупка жилья   \n",
       "1   сотрудник     0        112080     приобретение автомобиля   \n",
       "2   сотрудник     0        145885               покупка жилья   \n",
       "3   сотрудник     0        267628  дополнительное образование   \n",
       "4   пенсионер     0        158616             сыграть свадьбу   \n",
       "\n",
       "  total_income_category  \n",
       "0                     B  \n",
       "1                     C  \n",
       "2                     C  \n",
       "3                     B  \n",
       "4                     C  "
      ]
     },
     "metadata": {},
     "output_type": "display_data"
    }
   ],
   "source": [
    "df['total_income_category'] = df['total_income'].apply(income_category) \n",
    "display(df.head())\n",
    "# создаём новый столбец total_income_category в котором содержаться отфильтрованные категории доходов "
   ]
  },
  {
   "cell_type": "markdown",
   "id": "bfb0a435",
   "metadata": {},
   "source": [
    "### Шаг 2.7. Категоризация целей кредита."
   ]
  },
  {
   "cell_type": "code",
   "execution_count": 29,
   "id": "2d345476",
   "metadata": {},
   "outputs": [
    {
     "data": {
      "text/plain": [
       "array(['покупка жилья', 'приобретение автомобиля',\n",
       "       'дополнительное образование', 'сыграть свадьбу',\n",
       "       'операции с жильем', 'образование', 'на проведение свадьбы',\n",
       "       'покупка жилья для семьи', 'покупка недвижимости',\n",
       "       'покупка коммерческой недвижимости', 'покупка жилой недвижимости',\n",
       "       'строительство собственной недвижимости', 'недвижимость',\n",
       "       'строительство недвижимости', 'на покупку подержанного автомобиля',\n",
       "       'на покупку своего автомобиля',\n",
       "       'операции с коммерческой недвижимостью',\n",
       "       'строительство жилой недвижимости', 'жилье',\n",
       "       'операции со своей недвижимостью', 'автомобили',\n",
       "       'заняться образованием', 'сделка с подержанным автомобилем',\n",
       "       'получение образования', 'автомобиль', 'свадьба',\n",
       "       'получение дополнительного образования', 'покупка своего жилья',\n",
       "       'операции с недвижимостью', 'получение высшего образования',\n",
       "       'свой автомобиль', 'сделка с автомобилем',\n",
       "       'профильное образование', 'высшее образование',\n",
       "       'покупка жилья для сдачи', 'на покупку автомобиля', 'ремонт жилью',\n",
       "       'заняться высшим образованием'], dtype=object)"
      ]
     },
     "execution_count": 29,
     "metadata": {},
     "output_type": "execute_result"
    }
   ],
   "source": [
    "df['purpose'].unique() # выявляем уникальные значения столбца purpose, для определения значений функции-фильтра"
   ]
  },
  {
   "cell_type": "code",
   "execution_count": 30,
   "id": "6fcdf6bb",
   "metadata": {},
   "outputs": [],
   "source": [
    "def purpose_category(purpose): # создаём функцию фильтр, для категоризации целей кредита\n",
    "    if 'авто' in purpose:\n",
    "        return 'операции с автомобилем'\n",
    "    elif 'жил' in purpose or 'недвиж' in purpose:\n",
    "        return 'операции с недвижимостью'\n",
    "    elif 'свад' in purpose:\n",
    "        return 'проведение свадьбы'\n",
    "    elif 'обра' in purpose:\n",
    "        return 'получение образования'"
   ]
  },
  {
   "cell_type": "code",
   "execution_count": 31,
   "id": "3ae39cf4",
   "metadata": {},
   "outputs": [
    {
     "data": {
      "text/html": [
       "<div>\n",
       "<style scoped>\n",
       "    .dataframe tbody tr th:only-of-type {\n",
       "        vertical-align: middle;\n",
       "    }\n",
       "\n",
       "    .dataframe tbody tr th {\n",
       "        vertical-align: top;\n",
       "    }\n",
       "\n",
       "    .dataframe thead th {\n",
       "        text-align: right;\n",
       "    }\n",
       "</style>\n",
       "<table border=\"1\" class=\"dataframe\">\n",
       "  <thead>\n",
       "    <tr style=\"text-align: right;\">\n",
       "      <th></th>\n",
       "      <th>children</th>\n",
       "      <th>days_employed</th>\n",
       "      <th>dob_years</th>\n",
       "      <th>education_id</th>\n",
       "      <th>family_status_id</th>\n",
       "      <th>gender</th>\n",
       "      <th>income_type</th>\n",
       "      <th>debt</th>\n",
       "      <th>total_income</th>\n",
       "      <th>purpose</th>\n",
       "      <th>total_income_category</th>\n",
       "      <th>purpose_category</th>\n",
       "    </tr>\n",
       "  </thead>\n",
       "  <tbody>\n",
       "    <tr>\n",
       "      <th>0</th>\n",
       "      <td>1</td>\n",
       "      <td>8437</td>\n",
       "      <td>42</td>\n",
       "      <td>0</td>\n",
       "      <td>0</td>\n",
       "      <td>F</td>\n",
       "      <td>сотрудник</td>\n",
       "      <td>0</td>\n",
       "      <td>253875</td>\n",
       "      <td>покупка жилья</td>\n",
       "      <td>B</td>\n",
       "      <td>операции с недвижимостью</td>\n",
       "    </tr>\n",
       "    <tr>\n",
       "      <th>1</th>\n",
       "      <td>1</td>\n",
       "      <td>4024</td>\n",
       "      <td>36</td>\n",
       "      <td>1</td>\n",
       "      <td>0</td>\n",
       "      <td>F</td>\n",
       "      <td>сотрудник</td>\n",
       "      <td>0</td>\n",
       "      <td>112080</td>\n",
       "      <td>приобретение автомобиля</td>\n",
       "      <td>C</td>\n",
       "      <td>операции с автомобилем</td>\n",
       "    </tr>\n",
       "    <tr>\n",
       "      <th>2</th>\n",
       "      <td>0</td>\n",
       "      <td>5623</td>\n",
       "      <td>33</td>\n",
       "      <td>1</td>\n",
       "      <td>0</td>\n",
       "      <td>M</td>\n",
       "      <td>сотрудник</td>\n",
       "      <td>0</td>\n",
       "      <td>145885</td>\n",
       "      <td>покупка жилья</td>\n",
       "      <td>C</td>\n",
       "      <td>операции с недвижимостью</td>\n",
       "    </tr>\n",
       "    <tr>\n",
       "      <th>3</th>\n",
       "      <td>3</td>\n",
       "      <td>4124</td>\n",
       "      <td>32</td>\n",
       "      <td>1</td>\n",
       "      <td>0</td>\n",
       "      <td>M</td>\n",
       "      <td>сотрудник</td>\n",
       "      <td>0</td>\n",
       "      <td>267628</td>\n",
       "      <td>дополнительное образование</td>\n",
       "      <td>B</td>\n",
       "      <td>получение образования</td>\n",
       "    </tr>\n",
       "    <tr>\n",
       "      <th>4</th>\n",
       "      <td>0</td>\n",
       "      <td>340266</td>\n",
       "      <td>53</td>\n",
       "      <td>1</td>\n",
       "      <td>1</td>\n",
       "      <td>F</td>\n",
       "      <td>пенсионер</td>\n",
       "      <td>0</td>\n",
       "      <td>158616</td>\n",
       "      <td>сыграть свадьбу</td>\n",
       "      <td>C</td>\n",
       "      <td>проведение свадьбы</td>\n",
       "    </tr>\n",
       "  </tbody>\n",
       "</table>\n",
       "</div>"
      ],
      "text/plain": [
       "   children  days_employed  dob_years  education_id  family_status_id gender  \\\n",
       "0         1           8437         42             0                 0      F   \n",
       "1         1           4024         36             1                 0      F   \n",
       "2         0           5623         33             1                 0      M   \n",
       "3         3           4124         32             1                 0      M   \n",
       "4         0         340266         53             1                 1      F   \n",
       "\n",
       "  income_type  debt  total_income                     purpose  \\\n",
       "0   сотрудник     0        253875               покупка жилья   \n",
       "1   сотрудник     0        112080     приобретение автомобиля   \n",
       "2   сотрудник     0        145885               покупка жилья   \n",
       "3   сотрудник     0        267628  дополнительное образование   \n",
       "4   пенсионер     0        158616             сыграть свадьбу   \n",
       "\n",
       "  total_income_category          purpose_category  \n",
       "0                     B  операции с недвижимостью  \n",
       "1                     C    операции с автомобилем  \n",
       "2                     C  операции с недвижимостью  \n",
       "3                     B     получение образования  \n",
       "4                     C        проведение свадьбы  "
      ]
     },
     "metadata": {},
     "output_type": "display_data"
    }
   ],
   "source": [
    "df['purpose_category'] = df['purpose'].apply(purpose_category)\n",
    "display(df.head())"
   ]
  },
  {
   "cell_type": "markdown",
   "id": "1da8fcbd",
   "metadata": {},
   "source": [
    "<a id=\"hypothesis\"></a>\n",
    "## Проверка гипотез"
   ]
  },
  {
   "cell_type": "markdown",
   "id": "d3c21612",
   "metadata": {},
   "source": [
    "### Ответы на вопросы."
   ]
  },
  {
   "cell_type": "markdown",
   "id": "562e592b",
   "metadata": {},
   "source": [
    "##### Вопрос 1: Есть ли зависимость между количеством детей и возвратом кредита в срок?"
   ]
  },
  {
   "cell_type": "markdown",
   "id": "4ba3ab6a",
   "metadata": {},
   "source": [
    "Применим категоризацию для заёмщиков по количетсву детей и перезапишем стобец. Т.к. заёмщиков с количеством детей >2 совсем мало!"
   ]
  },
  {
   "cell_type": "code",
   "execution_count": 32,
   "id": "402a9eaa",
   "metadata": {},
   "outputs": [],
   "source": [
    "def count_children(count): \n",
    "    if count == 0:\n",
    "        return '0'\n",
    "    elif count == 1:\n",
    "        return '1'\n",
    "    elif count == 2:\n",
    "        return '2'\n",
    "    elif count == 3 and count <= 5:\n",
    "        return 'более 2-х'"
   ]
  },
  {
   "cell_type": "code",
   "execution_count": 33,
   "id": "14e6932f",
   "metadata": {},
   "outputs": [
    {
     "data": {
      "text/html": [
       "<div>\n",
       "<style scoped>\n",
       "    .dataframe tbody tr th:only-of-type {\n",
       "        vertical-align: middle;\n",
       "    }\n",
       "\n",
       "    .dataframe tbody tr th {\n",
       "        vertical-align: top;\n",
       "    }\n",
       "\n",
       "    .dataframe thead th {\n",
       "        text-align: right;\n",
       "    }\n",
       "</style>\n",
       "<table border=\"1\" class=\"dataframe\">\n",
       "  <thead>\n",
       "    <tr style=\"text-align: right;\">\n",
       "      <th></th>\n",
       "      <th>children</th>\n",
       "      <th>days_employed</th>\n",
       "      <th>dob_years</th>\n",
       "      <th>education_id</th>\n",
       "      <th>family_status_id</th>\n",
       "      <th>gender</th>\n",
       "      <th>income_type</th>\n",
       "      <th>debt</th>\n",
       "      <th>total_income</th>\n",
       "      <th>purpose</th>\n",
       "      <th>total_income_category</th>\n",
       "      <th>purpose_category</th>\n",
       "    </tr>\n",
       "  </thead>\n",
       "  <tbody>\n",
       "    <tr>\n",
       "      <th>0</th>\n",
       "      <td>1</td>\n",
       "      <td>8437</td>\n",
       "      <td>42</td>\n",
       "      <td>0</td>\n",
       "      <td>0</td>\n",
       "      <td>F</td>\n",
       "      <td>сотрудник</td>\n",
       "      <td>0</td>\n",
       "      <td>253875</td>\n",
       "      <td>покупка жилья</td>\n",
       "      <td>B</td>\n",
       "      <td>операции с недвижимостью</td>\n",
       "    </tr>\n",
       "    <tr>\n",
       "      <th>1</th>\n",
       "      <td>1</td>\n",
       "      <td>4024</td>\n",
       "      <td>36</td>\n",
       "      <td>1</td>\n",
       "      <td>0</td>\n",
       "      <td>F</td>\n",
       "      <td>сотрудник</td>\n",
       "      <td>0</td>\n",
       "      <td>112080</td>\n",
       "      <td>приобретение автомобиля</td>\n",
       "      <td>C</td>\n",
       "      <td>операции с автомобилем</td>\n",
       "    </tr>\n",
       "    <tr>\n",
       "      <th>2</th>\n",
       "      <td>0</td>\n",
       "      <td>5623</td>\n",
       "      <td>33</td>\n",
       "      <td>1</td>\n",
       "      <td>0</td>\n",
       "      <td>M</td>\n",
       "      <td>сотрудник</td>\n",
       "      <td>0</td>\n",
       "      <td>145885</td>\n",
       "      <td>покупка жилья</td>\n",
       "      <td>C</td>\n",
       "      <td>операции с недвижимостью</td>\n",
       "    </tr>\n",
       "    <tr>\n",
       "      <th>3</th>\n",
       "      <td>более 2-х</td>\n",
       "      <td>4124</td>\n",
       "      <td>32</td>\n",
       "      <td>1</td>\n",
       "      <td>0</td>\n",
       "      <td>M</td>\n",
       "      <td>сотрудник</td>\n",
       "      <td>0</td>\n",
       "      <td>267628</td>\n",
       "      <td>дополнительное образование</td>\n",
       "      <td>B</td>\n",
       "      <td>получение образования</td>\n",
       "    </tr>\n",
       "    <tr>\n",
       "      <th>4</th>\n",
       "      <td>0</td>\n",
       "      <td>340266</td>\n",
       "      <td>53</td>\n",
       "      <td>1</td>\n",
       "      <td>1</td>\n",
       "      <td>F</td>\n",
       "      <td>пенсионер</td>\n",
       "      <td>0</td>\n",
       "      <td>158616</td>\n",
       "      <td>сыграть свадьбу</td>\n",
       "      <td>C</td>\n",
       "      <td>проведение свадьбы</td>\n",
       "    </tr>\n",
       "  </tbody>\n",
       "</table>\n",
       "</div>"
      ],
      "text/plain": [
       "    children  days_employed  dob_years  education_id  family_status_id gender  \\\n",
       "0          1           8437         42             0                 0      F   \n",
       "1          1           4024         36             1                 0      F   \n",
       "2          0           5623         33             1                 0      M   \n",
       "3  более 2-х           4124         32             1                 0      M   \n",
       "4          0         340266         53             1                 1      F   \n",
       "\n",
       "  income_type  debt  total_income                     purpose  \\\n",
       "0   сотрудник     0        253875               покупка жилья   \n",
       "1   сотрудник     0        112080     приобретение автомобиля   \n",
       "2   сотрудник     0        145885               покупка жилья   \n",
       "3   сотрудник     0        267628  дополнительное образование   \n",
       "4   пенсионер     0        158616             сыграть свадьбу   \n",
       "\n",
       "  total_income_category          purpose_category  \n",
       "0                     B  операции с недвижимостью  \n",
       "1                     C    операции с автомобилем  \n",
       "2                     C  операции с недвижимостью  \n",
       "3                     B     получение образования  \n",
       "4                     C        проведение свадьбы  "
      ]
     },
     "metadata": {},
     "output_type": "display_data"
    }
   ],
   "source": [
    "df['children'] = df['children'].apply(count_children) \n",
    "display(df.head())"
   ]
  },
  {
   "cell_type": "code",
   "execution_count": 34,
   "id": "3b0d76ce",
   "metadata": {},
   "outputs": [
    {
     "data": {
      "text/html": [
       "<div>\n",
       "<style scoped>\n",
       "    .dataframe tbody tr th:only-of-type {\n",
       "        vertical-align: middle;\n",
       "    }\n",
       "\n",
       "    .dataframe tbody tr th {\n",
       "        vertical-align: top;\n",
       "    }\n",
       "\n",
       "    .dataframe thead tr th {\n",
       "        text-align: left;\n",
       "    }\n",
       "\n",
       "    .dataframe thead tr:last-of-type th {\n",
       "        text-align: right;\n",
       "    }\n",
       "</style>\n",
       "<table border=\"1\" class=\"dataframe\">\n",
       "  <thead>\n",
       "    <tr>\n",
       "      <th></th>\n",
       "      <th>sum</th>\n",
       "      <th>count</th>\n",
       "      <th>debt %</th>\n",
       "    </tr>\n",
       "    <tr>\n",
       "      <th></th>\n",
       "      <th>debt</th>\n",
       "      <th>debt</th>\n",
       "      <th></th>\n",
       "    </tr>\n",
       "    <tr>\n",
       "      <th>children</th>\n",
       "      <th></th>\n",
       "      <th></th>\n",
       "      <th></th>\n",
       "    </tr>\n",
       "  </thead>\n",
       "  <tbody>\n",
       "    <tr>\n",
       "      <th>0</th>\n",
       "      <td>1063</td>\n",
       "      <td>14091</td>\n",
       "      <td>7.543822</td>\n",
       "    </tr>\n",
       "    <tr>\n",
       "      <th>1</th>\n",
       "      <td>444</td>\n",
       "      <td>4808</td>\n",
       "      <td>9.234609</td>\n",
       "    </tr>\n",
       "    <tr>\n",
       "      <th>2</th>\n",
       "      <td>194</td>\n",
       "      <td>2052</td>\n",
       "      <td>9.454191</td>\n",
       "    </tr>\n",
       "    <tr>\n",
       "      <th>более 2-х</th>\n",
       "      <td>27</td>\n",
       "      <td>330</td>\n",
       "      <td>8.181818</td>\n",
       "    </tr>\n",
       "  </tbody>\n",
       "</table>\n",
       "</div>"
      ],
      "text/plain": [
       "            sum  count    debt %\n",
       "           debt   debt          \n",
       "children                        \n",
       "0          1063  14091  7.543822\n",
       "1           444   4808  9.234609\n",
       "2           194   2052  9.454191\n",
       "более 2-х    27    330  8.181818"
      ]
     },
     "metadata": {},
     "output_type": "display_data"
    }
   ],
   "source": [
    "pivot_children = df.pivot_table(index = 'children', values = 'debt', aggfunc = ['sum', 'count']) \n",
    "pivot_children.reset_index()\n",
    "pivot_children ['debt %'] = pivot_children ['sum'] / pivot_children ['count'] * 100\n",
    "#создаём сводную таблицу, в которой сумируем количество невозвращённых кредитов по количеству детей и считаем общее количество кредитов, \n",
    "#удаляем мультииндексы, проверяем зависимость между количеством детей и возвратом кредита в срок\n",
    "display(pivot_children)"
   ]
  },
  {
   "cell_type": "markdown",
   "id": "05a05b8d",
   "metadata": {},
   "source": [
    "##### Вывод 1: "
   ]
  },
  {
   "cell_type": "markdown",
   "id": "76a1bc69",
   "metadata": {},
   "source": [
    "Больше всего кредитов у клиентов с 0 детьми, но при этом процент просроченных кредитов по данной категории самый низкий(7,53%). Больше всего просроченных кредитов наблюдается в категориис 1 ребёнком (444 кредита), а процент невозврата 9,23% (3 место).Заёмщики с более 2-мя детьми имеют составляют очень маленькую долю! Основная целевая аудитория кредитования, клиенты у которых в семье 0,1 и 2 ребёнка."
   ]
  },
  {
   "cell_type": "markdown",
   "id": "5b46c915",
   "metadata": {},
   "source": [
    "#####  Вопрос 2: Есть ли зависимость между семейным положением и возвратом кредита в срок?"
   ]
  },
  {
   "cell_type": "code",
   "execution_count": 35,
   "id": "aaf85672",
   "metadata": {},
   "outputs": [
    {
     "data": {
      "text/html": [
       "<div>\n",
       "<style scoped>\n",
       "    .dataframe tbody tr th:only-of-type {\n",
       "        vertical-align: middle;\n",
       "    }\n",
       "\n",
       "    .dataframe tbody tr th {\n",
       "        vertical-align: top;\n",
       "    }\n",
       "\n",
       "    .dataframe thead th {\n",
       "        text-align: right;\n",
       "    }\n",
       "</style>\n",
       "<table border=\"1\" class=\"dataframe\">\n",
       "  <thead>\n",
       "    <tr style=\"text-align: right;\">\n",
       "      <th></th>\n",
       "      <th>family_status_id</th>\n",
       "      <th>sum_debt</th>\n",
       "      <th>count_debt</th>\n",
       "      <th>debt %</th>\n",
       "      <th>family_status</th>\n",
       "    </tr>\n",
       "  </thead>\n",
       "  <tbody>\n",
       "    <tr>\n",
       "      <th>0</th>\n",
       "      <td>0</td>\n",
       "      <td>931</td>\n",
       "      <td>12339</td>\n",
       "      <td>7.545182</td>\n",
       "      <td>женат / замужем</td>\n",
       "    </tr>\n",
       "    <tr>\n",
       "      <th>1</th>\n",
       "      <td>1</td>\n",
       "      <td>388</td>\n",
       "      <td>4151</td>\n",
       "      <td>9.347145</td>\n",
       "      <td>гражданский брак</td>\n",
       "    </tr>\n",
       "    <tr>\n",
       "      <th>2</th>\n",
       "      <td>2</td>\n",
       "      <td>63</td>\n",
       "      <td>959</td>\n",
       "      <td>6.569343</td>\n",
       "      <td>вдовец / вдова</td>\n",
       "    </tr>\n",
       "    <tr>\n",
       "      <th>3</th>\n",
       "      <td>3</td>\n",
       "      <td>85</td>\n",
       "      <td>1195</td>\n",
       "      <td>7.112971</td>\n",
       "      <td>в разводе</td>\n",
       "    </tr>\n",
       "    <tr>\n",
       "      <th>4</th>\n",
       "      <td>4</td>\n",
       "      <td>274</td>\n",
       "      <td>2810</td>\n",
       "      <td>9.750890</td>\n",
       "      <td>Не женат / не замужем</td>\n",
       "    </tr>\n",
       "  </tbody>\n",
       "</table>\n",
       "</div>"
      ],
      "text/plain": [
       "   family_status_id  sum_debt  count_debt    debt %          family_status\n",
       "0                 0       931       12339  7.545182        женат / замужем\n",
       "1                 1       388        4151  9.347145       гражданский брак\n",
       "2                 2        63         959  6.569343         вдовец / вдова\n",
       "3                 3        85        1195  7.112971              в разводе\n",
       "4                 4       274        2810  9.750890  Не женат / не замужем"
      ]
     },
     "metadata": {},
     "output_type": "display_data"
    }
   ],
   "source": [
    "df_pivot_family = df.pivot_table(index = 'family_status_id', values = 'debt', aggfunc = ['sum', 'count'])#строим сводную таблицу:  \n",
    "# в качестве индекса строк выбираем колонку family_status_id (семейный статус),  \n",
    "df_pivot_family = df_pivot_family.reset_index() # убираем мультииндексы\n",
    "df_pivot_family.columns = ['family_status_id','sum_debt','count_debt'] # изменяем название колонок\n",
    "# в колонке sum debt считаем сумму задолжности, к колонке count debt считаем количество должников \n",
    "df_pivot_family['debt %'] = df_pivot_family['sum_debt'] / df_pivot_family['count_debt'] * 100 # добавляем в таблицу колонку  debt %  \n",
    "# с расчетом процентного соотношения суммы долга к количеству должников \n",
    "\n",
    "df_pivot_family_merged = df_pivot_family.merge(df_family, on='family_status_id', how = 'left') # объединяем таблицу со \"словарем\"  \n",
    "# df_family по общей колонке family_status_id  \n",
    " \n",
    "display(df_pivot_family_merged) # выводим объединенную таблицу на экран \n",
    " "
   ]
  },
  {
   "cell_type": "markdown",
   "id": "fd58039b",
   "metadata": {},
   "source": [
    "##### Вывод 2: "
   ]
  },
  {
   "cell_type": "markdown",
   "id": "3682649e",
   "metadata": {},
   "source": [
    "Больше всего количетсво взятых и просроченных кредитов в категории 0, но по проценту просроченности данная категория занимает 3 место (7,54%). 4 категория по общему количеству кредитов занимает 3 место, но при этом, чаще всего просрочивает возврат кредита в банк (9,75%). Вдовы и вдовцы реже всего задерживают выплату кредита в срок. Клиенты состоящие в гражданском браке занимают 2 место по общему количеству кредитов и по задержке в его выплате!"
   ]
  },
  {
   "cell_type": "markdown",
   "id": "a282ed45",
   "metadata": {},
   "source": [
    "#####  Вопрос 3: Есть ли зависимость между уровнем дохода и возвратом кредита в срок?"
   ]
  },
  {
   "cell_type": "code",
   "execution_count": 36,
   "id": "2447a0fd",
   "metadata": {},
   "outputs": [
    {
     "data": {
      "text/html": [
       "<div>\n",
       "<style scoped>\n",
       "    .dataframe tbody tr th:only-of-type {\n",
       "        vertical-align: middle;\n",
       "    }\n",
       "\n",
       "    .dataframe tbody tr th {\n",
       "        vertical-align: top;\n",
       "    }\n",
       "\n",
       "    .dataframe thead th {\n",
       "        text-align: right;\n",
       "    }\n",
       "</style>\n",
       "<table border=\"1\" class=\"dataframe\">\n",
       "  <thead>\n",
       "    <tr style=\"text-align: right;\">\n",
       "      <th>debt</th>\n",
       "      <th>0</th>\n",
       "      <th>1</th>\n",
       "      <th>ratio %</th>\n",
       "    </tr>\n",
       "    <tr>\n",
       "      <th>total_income_category</th>\n",
       "      <th></th>\n",
       "      <th></th>\n",
       "      <th></th>\n",
       "    </tr>\n",
       "  </thead>\n",
       "  <tbody>\n",
       "    <tr>\n",
       "      <th>A</th>\n",
       "      <td>23</td>\n",
       "      <td>2</td>\n",
       "      <td>8.000000</td>\n",
       "    </tr>\n",
       "    <tr>\n",
       "      <th>B</th>\n",
       "      <td>4649</td>\n",
       "      <td>353</td>\n",
       "      <td>7.057177</td>\n",
       "    </tr>\n",
       "    <tr>\n",
       "      <th>C</th>\n",
       "      <td>14534</td>\n",
       "      <td>1350</td>\n",
       "      <td>8.499119</td>\n",
       "    </tr>\n",
       "    <tr>\n",
       "      <th>D</th>\n",
       "      <td>327</td>\n",
       "      <td>21</td>\n",
       "      <td>6.034483</td>\n",
       "    </tr>\n",
       "    <tr>\n",
       "      <th>E</th>\n",
       "      <td>20</td>\n",
       "      <td>2</td>\n",
       "      <td>9.090909</td>\n",
       "    </tr>\n",
       "  </tbody>\n",
       "</table>\n",
       "</div>"
      ],
      "text/plain": [
       "debt                       0     1   ratio %\n",
       "total_income_category                       \n",
       "A                         23     2  8.000000\n",
       "B                       4649   353  7.057177\n",
       "C                      14534  1350  8.499119\n",
       "D                        327    21  6.034483\n",
       "E                         20     2  9.090909"
      ]
     },
     "metadata": {},
     "output_type": "display_data"
    }
   ],
   "source": [
    "df_pivot_income = df.pivot_table(index=['total_income_category'], columns='debt', values='children', aggfunc='count') \n",
    "df_pivot_income['ratio %'] = df_pivot_income[1] / (df_pivot_income[0] + df_pivot_income[1])*100 \n",
    "#print(f'Группа A: {df_pivot_income.loc[1, \"ratio%\"]:.1%}')\n",
    "display(df_pivot_income)\n"
   ]
  },
  {
   "cell_type": "markdown",
   "id": "2aac31ac",
   "metadata": {},
   "source": [
    "##### Вывод 3: "
   ]
  },
  {
   "cell_type": "markdown",
   "id": "f169fe7c",
   "metadata": {},
   "source": [
    "Люди с самым низким с самым высоким доходом берут кредиты намного реже остальных. Основной сегмент получающий кредиты начинается с категории дохода B по D. Чаще всего кредиты берут клиенты со средним доходом (категория C) по выплате кредита не в срок они занимают 2 место (8,48%). Категория B чуть более порядочная занимает 4 место (7,06%). Категория D возвращает кредиты быстрее всех (6,00%)."
   ]
  },
  {
   "cell_type": "markdown",
   "id": "4d2cbc47",
   "metadata": {},
   "source": [
    "#####  Вопрос 4: Как разные цели кредита влияют на его возврат в срок?"
   ]
  },
  {
   "cell_type": "code",
   "execution_count": 37,
   "id": "15bc43ea",
   "metadata": {},
   "outputs": [
    {
     "data": {
      "text/html": [
       "<div>\n",
       "<style scoped>\n",
       "    .dataframe tbody tr th:only-of-type {\n",
       "        vertical-align: middle;\n",
       "    }\n",
       "\n",
       "    .dataframe tbody tr th {\n",
       "        vertical-align: top;\n",
       "    }\n",
       "\n",
       "    .dataframe thead th {\n",
       "        text-align: right;\n",
       "    }\n",
       "</style>\n",
       "<table border=\"1\" class=\"dataframe\">\n",
       "  <thead>\n",
       "    <tr style=\"text-align: right;\">\n",
       "      <th>debt</th>\n",
       "      <th>0</th>\n",
       "      <th>1</th>\n",
       "      <th>ratio %</th>\n",
       "    </tr>\n",
       "    <tr>\n",
       "      <th>purpose_category</th>\n",
       "      <th></th>\n",
       "      <th></th>\n",
       "      <th></th>\n",
       "    </tr>\n",
       "  </thead>\n",
       "  <tbody>\n",
       "    <tr>\n",
       "      <th>операции с автомобилем</th>\n",
       "      <td>3868</td>\n",
       "      <td>399</td>\n",
       "      <td>9.350832</td>\n",
       "    </tr>\n",
       "    <tr>\n",
       "      <th>операции с недвижимостью</th>\n",
       "      <td>9948</td>\n",
       "      <td>777</td>\n",
       "      <td>7.244755</td>\n",
       "    </tr>\n",
       "    <tr>\n",
       "      <th>получение образования</th>\n",
       "      <td>3611</td>\n",
       "      <td>369</td>\n",
       "      <td>9.271357</td>\n",
       "    </tr>\n",
       "    <tr>\n",
       "      <th>проведение свадьбы</th>\n",
       "      <td>2126</td>\n",
       "      <td>183</td>\n",
       "      <td>7.925509</td>\n",
       "    </tr>\n",
       "  </tbody>\n",
       "</table>\n",
       "</div>"
      ],
      "text/plain": [
       "debt                         0    1   ratio %\n",
       "purpose_category                             \n",
       "операции с автомобилем    3868  399  9.350832\n",
       "операции с недвижимостью  9948  777  7.244755\n",
       "получение образования     3611  369  9.271357\n",
       "проведение свадьбы        2126  183  7.925509"
      ]
     },
     "metadata": {},
     "output_type": "display_data"
    }
   ],
   "source": [
    "df_pivot_purpose = df.pivot_table(index=['purpose_category'], columns='debt', values='children', aggfunc='count') \n",
    "df_pivot_purpose['ratio %'] = df_pivot_purpose[1] / (df_pivot_purpose[0] + df_pivot_purpose[1])*100\n",
    "display(df_pivot_purpose)\n"
   ]
  },
  {
   "cell_type": "markdown",
   "id": "47e23a46",
   "metadata": {},
   "source": [
    "##### Вывод 4: "
   ]
  },
  {
   "cell_type": "markdown",
   "id": "b9c03932",
   "metadata": {},
   "source": [
    "Люди берущие кредиты на операции с недвижимостью(7,23%) и проведение свадьбы(7,96%), гораздо реже опаздывают с погашением кредита в срок. Люди берущие кредит на образование(9,21%) и операции с автомобилем (9,35%)."
   ]
  },
  {
   "cell_type": "markdown",
   "id": "a605428b",
   "metadata": {},
   "source": [
    "<a id=\"conclusion\"></a>\n",
    "## Вывод:"
   ]
  },
  {
   "cell_type": "markdown",
   "id": "7fcfba9d",
   "metadata": {},
   "source": [
    "### Основная целевая аудитория кредитования\n",
    "* Клиенты у которых в семье 0 детей - 14091 кредитов из них 1063 не погасили в срок (7.54%).\n",
    "* Супружеские пары, состоящие в браке - 12339 кредитов из них 931 не погашены (7.54%).\n",
    "* Люди со средним доходом 50001 - 200000 т.р.(категория C) - 14534 кредитов из них 1350 вовремя не погасили\t(8.49%). \n",
    "* Клиенты, которые берут кредит на операции с недвижимостью - 9948 кредитов из них 777 не погасили в срок (7.24%).\n",
    "\n",
    "Т.е. в основном это молодые люди которые женятся или только поженились или люди средних лет у которых средний доход и нету детей."
   ]
  },
  {
   "cell_type": "markdown",
   "id": "293f22c8",
   "metadata": {},
   "source": [
    "### Клиенты с худшим соотношением выплаты кредитов в срок\n",
    "* Клиенты у которых в семье 2 ребёнка - 194 задолжности из 2052 (9.45%).\n",
    "* Люди которые не состоят в браке - 274\tпросроченых кредита из 2810\t(9.75%).\n",
    "* Люди со средним доходом 50001 - 200000 т.р.(категория C), т.к. категория Е содержит очень мало клиентов - тут 14534 клиента 1350 из них не успели вовремя выплатить кредит (8.49%).\n",
    "* Клиенты, которые берут кредит на операции с автомобилем - всего их 3868 из которых 399 вовремя не выплатили кредит (9.35%).\n",
    "\n",
    "В итоге стало понятно, хуже всег овыплачивают кредит люди со средним доходом, т.к. на них приходится больше всего выданных и непогашенных кредитов!"
   ]
  },
  {
   "cell_type": "markdown",
   "id": "1ff954a2",
   "metadata": {},
   "source": [
    "Другие самые объёмные категории не имеют самых низкиз показателей по погашению кредита в срок!"
   ]
  }
 ],
 "metadata": {
  "ExecuteTimeLog": [
   {
    "duration": 709,
    "start_time": "2022-02-17T07:14:30.275Z"
   },
   {
    "duration": 56,
    "start_time": "2022-02-17T07:14:37.523Z"
   },
   {
    "duration": 46,
    "start_time": "2022-02-17T07:15:20.493Z"
   },
   {
    "duration": 66,
    "start_time": "2022-02-17T07:15:45.783Z"
   },
   {
    "duration": 61,
    "start_time": "2022-02-17T07:16:04.573Z"
   },
   {
    "duration": 685,
    "start_time": "2022-02-17T07:30:03.840Z"
   },
   {
    "duration": 12,
    "start_time": "2022-02-17T07:30:37.171Z"
   },
   {
    "duration": 402,
    "start_time": "2022-02-17T07:40:04.382Z"
   },
   {
    "duration": 285,
    "start_time": "2022-02-17T07:40:23.462Z"
   },
   {
    "duration": 257,
    "start_time": "2022-02-17T07:41:03.681Z"
   },
   {
    "duration": 3,
    "start_time": "2022-02-17T07:41:17.642Z"
   },
   {
    "duration": 3,
    "start_time": "2022-02-17T07:41:20.069Z"
   },
   {
    "duration": 4,
    "start_time": "2022-02-17T07:41:31.132Z"
   },
   {
    "duration": 3,
    "start_time": "2022-02-17T07:42:17.931Z"
   },
   {
    "duration": 3,
    "start_time": "2022-02-17T07:42:20.751Z"
   },
   {
    "duration": 4,
    "start_time": "2022-02-17T07:42:34.511Z"
   },
   {
    "duration": 4,
    "start_time": "2022-02-17T07:44:02.704Z"
   },
   {
    "duration": 5,
    "start_time": "2022-02-17T07:44:37.031Z"
   },
   {
    "duration": 4,
    "start_time": "2022-02-17T07:51:30.522Z"
   },
   {
    "duration": 65,
    "start_time": "2022-02-17T07:51:58.840Z"
   },
   {
    "duration": 8,
    "start_time": "2022-02-17T08:09:20.053Z"
   },
   {
    "duration": 18,
    "start_time": "2022-02-17T08:10:51.265Z"
   },
   {
    "duration": 81,
    "start_time": "2022-02-17T08:11:52.321Z"
   },
   {
    "duration": 3,
    "start_time": "2022-02-17T08:11:59.976Z"
   },
   {
    "duration": 17,
    "start_time": "2022-02-17T08:12:12.738Z"
   },
   {
    "duration": 247,
    "start_time": "2022-02-17T08:20:54.608Z"
   },
   {
    "duration": 10,
    "start_time": "2022-02-17T08:21:03.654Z"
   },
   {
    "duration": 11,
    "start_time": "2022-02-17T08:21:25.693Z"
   },
   {
    "duration": 5,
    "start_time": "2022-02-17T08:22:54.812Z"
   },
   {
    "duration": 6,
    "start_time": "2022-02-17T08:23:40.311Z"
   },
   {
    "duration": 14,
    "start_time": "2022-02-17T08:23:54.242Z"
   },
   {
    "duration": 15,
    "start_time": "2022-02-17T08:24:56.767Z"
   },
   {
    "duration": 5,
    "start_time": "2022-02-17T08:28:24.892Z"
   },
   {
    "duration": 5,
    "start_time": "2022-02-17T08:28:26.601Z"
   },
   {
    "duration": 17,
    "start_time": "2022-02-17T08:28:28.023Z"
   },
   {
    "duration": 80,
    "start_time": "2022-02-17T08:30:54.444Z"
   },
   {
    "duration": 14,
    "start_time": "2022-02-17T08:31:03.851Z"
   },
   {
    "duration": 881,
    "start_time": "2022-02-20T14:10:44.912Z"
   },
   {
    "duration": 75,
    "start_time": "2022-02-20T14:10:49.782Z"
   },
   {
    "duration": 15,
    "start_time": "2022-02-20T14:10:53.155Z"
   },
   {
    "duration": 5,
    "start_time": "2022-02-20T14:10:55.701Z"
   },
   {
    "duration": 21,
    "start_time": "2022-02-20T14:10:58.907Z"
   },
   {
    "duration": 6,
    "start_time": "2022-02-20T14:11:01.690Z"
   },
   {
    "duration": 6,
    "start_time": "2022-02-20T14:11:03.381Z"
   },
   {
    "duration": 15,
    "start_time": "2022-02-20T14:11:05.751Z"
   },
   {
    "duration": 20,
    "start_time": "2022-02-20T14:11:09.775Z"
   },
   {
    "duration": 81,
    "start_time": "2022-02-20T14:12:33.768Z"
   },
   {
    "duration": 19,
    "start_time": "2022-02-20T14:12:48.909Z"
   },
   {
    "duration": 18,
    "start_time": "2022-02-20T14:13:06.210Z"
   },
   {
    "duration": 17,
    "start_time": "2022-02-20T14:13:09.010Z"
   },
   {
    "duration": 84,
    "start_time": "2022-02-20T14:17:13.285Z"
   },
   {
    "duration": 22,
    "start_time": "2022-02-20T14:17:24.576Z"
   },
   {
    "duration": 24,
    "start_time": "2022-02-20T14:17:48.830Z"
   },
   {
    "duration": 21,
    "start_time": "2022-02-20T14:19:25.327Z"
   },
   {
    "duration": 375,
    "start_time": "2022-02-20T14:20:24.870Z"
   },
   {
    "duration": 239,
    "start_time": "2022-02-20T14:22:26.137Z"
   },
   {
    "duration": 325,
    "start_time": "2022-02-20T14:22:30.805Z"
   },
   {
    "duration": 327,
    "start_time": "2022-02-20T14:23:02.155Z"
   },
   {
    "duration": 267,
    "start_time": "2022-02-20T14:23:08.663Z"
   },
   {
    "duration": 842,
    "start_time": "2022-02-20T14:23:19.189Z"
   },
   {
    "duration": 18,
    "start_time": "2022-02-20T14:23:20.034Z"
   },
   {
    "duration": 5,
    "start_time": "2022-02-20T14:23:20.057Z"
   },
   {
    "duration": 23,
    "start_time": "2022-02-20T14:23:20.096Z"
   },
   {
    "duration": 5,
    "start_time": "2022-02-20T14:23:20.122Z"
   },
   {
    "duration": 6,
    "start_time": "2022-02-20T14:23:20.130Z"
   },
   {
    "duration": 65,
    "start_time": "2022-02-20T14:23:20.139Z"
   },
   {
    "duration": 21,
    "start_time": "2022-02-20T14:23:20.208Z"
   },
   {
    "duration": 351,
    "start_time": "2022-02-20T14:23:20.232Z"
   },
   {
    "duration": 245,
    "start_time": "2022-02-20T14:23:24.359Z"
   },
   {
    "duration": 71,
    "start_time": "2022-02-20T14:23:32.932Z"
   },
   {
    "duration": 17,
    "start_time": "2022-02-20T14:23:37.305Z"
   },
   {
    "duration": 5,
    "start_time": "2022-02-20T14:23:39.819Z"
   },
   {
    "duration": 22,
    "start_time": "2022-02-20T14:23:43.614Z"
   },
   {
    "duration": 6,
    "start_time": "2022-02-20T14:23:45.959Z"
   },
   {
    "duration": 6,
    "start_time": "2022-02-20T14:23:47.590Z"
   },
   {
    "duration": 17,
    "start_time": "2022-02-20T14:23:50.464Z"
   },
   {
    "duration": 22,
    "start_time": "2022-02-20T14:23:54.030Z"
   },
   {
    "duration": 234,
    "start_time": "2022-02-20T14:23:56.402Z"
   },
   {
    "duration": 31,
    "start_time": "2022-02-20T14:24:14.111Z"
   },
   {
    "duration": 88,
    "start_time": "2022-02-20T14:25:53.315Z"
   },
   {
    "duration": 28,
    "start_time": "2022-02-20T14:25:59.734Z"
   },
   {
    "duration": 47,
    "start_time": "2022-02-20T14:26:16.720Z"
   },
   {
    "duration": 76,
    "start_time": "2022-02-20T14:27:58.788Z"
   },
   {
    "duration": 6,
    "start_time": "2022-02-20T14:28:05.292Z"
   },
   {
    "duration": 19,
    "start_time": "2022-02-20T14:30:47.635Z"
   },
   {
    "duration": 16,
    "start_time": "2022-02-20T14:31:24.808Z"
   },
   {
    "duration": 23,
    "start_time": "2022-02-20T14:31:53.928Z"
   },
   {
    "duration": 238,
    "start_time": "2022-02-20T14:32:46.747Z"
   },
   {
    "duration": 358,
    "start_time": "2022-02-20T14:33:04.256Z"
   },
   {
    "duration": 17,
    "start_time": "2022-02-20T14:38:10.486Z"
   },
   {
    "duration": 82,
    "start_time": "2022-02-20T14:38:19.247Z"
   },
   {
    "duration": 14,
    "start_time": "2022-02-20T14:38:22.136Z"
   },
   {
    "duration": 5,
    "start_time": "2022-02-20T14:38:25.347Z"
   },
   {
    "duration": 21,
    "start_time": "2022-02-20T14:38:27.895Z"
   },
   {
    "duration": 6,
    "start_time": "2022-02-20T14:38:32.502Z"
   },
   {
    "duration": 6,
    "start_time": "2022-02-20T14:38:34.028Z"
   },
   {
    "duration": 14,
    "start_time": "2022-02-20T14:38:37.717Z"
   },
   {
    "duration": 20,
    "start_time": "2022-02-20T14:38:41.713Z"
   },
   {
    "duration": 33,
    "start_time": "2022-02-20T14:38:48.054Z"
   },
   {
    "duration": 54,
    "start_time": "2022-02-20T14:38:48.982Z"
   },
   {
    "duration": 7,
    "start_time": "2022-02-20T14:38:49.657Z"
   },
   {
    "duration": 22,
    "start_time": "2022-02-20T14:38:50.409Z"
   },
   {
    "duration": 78,
    "start_time": "2022-02-20T14:56:21.439Z"
   },
   {
    "duration": 559,
    "start_time": "2022-02-21T07:59:19.177Z"
   },
   {
    "duration": 367,
    "start_time": "2022-02-21T07:59:23.094Z"
   },
   {
    "duration": 1123,
    "start_time": "2022-02-21T07:59:29.293Z"
   },
   {
    "duration": 15,
    "start_time": "2022-02-21T07:59:30.419Z"
   },
   {
    "duration": 18,
    "start_time": "2022-02-21T07:59:30.437Z"
   },
   {
    "duration": 34,
    "start_time": "2022-02-21T07:59:30.458Z"
   },
   {
    "duration": 7,
    "start_time": "2022-02-21T07:59:30.719Z"
   },
   {
    "duration": 7,
    "start_time": "2022-02-21T07:59:30.922Z"
   },
   {
    "duration": 16,
    "start_time": "2022-02-21T07:59:31.250Z"
   },
   {
    "duration": 19,
    "start_time": "2022-02-21T07:59:32.404Z"
   },
   {
    "duration": 24,
    "start_time": "2022-02-21T07:59:32.757Z"
   },
   {
    "duration": 47,
    "start_time": "2022-02-21T07:59:33.136Z"
   },
   {
    "duration": 7,
    "start_time": "2022-02-21T07:59:33.482Z"
   },
   {
    "duration": 25,
    "start_time": "2022-02-21T07:59:33.655Z"
   },
   {
    "duration": 3,
    "start_time": "2022-02-21T11:31:40.502Z"
   },
   {
    "duration": 7,
    "start_time": "2022-02-21T11:32:52.017Z"
   },
   {
    "duration": 6,
    "start_time": "2022-02-21T11:37:25.721Z"
   },
   {
    "duration": 24,
    "start_time": "2022-02-21T11:44:11.784Z"
   },
   {
    "duration": 88,
    "start_time": "2022-02-21T11:49:46.394Z"
   },
   {
    "duration": 4,
    "start_time": "2022-02-21T11:50:11.194Z"
   },
   {
    "duration": 5,
    "start_time": "2022-02-21T11:50:12.905Z"
   },
   {
    "duration": -148,
    "start_time": "2022-02-21T11:52:53.753Z"
   },
   {
    "duration": 304,
    "start_time": "2022-02-21T11:53:47.424Z"
   },
   {
    "duration": 322,
    "start_time": "2022-02-21T11:54:02.093Z"
   },
   {
    "duration": 600,
    "start_time": "2022-02-21T11:54:07.105Z"
   },
   {
    "duration": 39,
    "start_time": "2022-02-21T11:54:24.653Z"
   },
   {
    "duration": 18,
    "start_time": "2022-02-21T11:55:29.121Z"
   },
   {
    "duration": 5,
    "start_time": "2022-02-21T11:55:36.154Z"
   },
   {
    "duration": -228,
    "start_time": "2022-02-21T11:55:45.326Z"
   },
   {
    "duration": -228,
    "start_time": "2022-02-21T11:55:45.328Z"
   },
   {
    "duration": -230,
    "start_time": "2022-02-21T11:55:45.331Z"
   },
   {
    "duration": 849,
    "start_time": "2022-02-23T12:58:30.142Z"
   },
   {
    "duration": 15,
    "start_time": "2022-02-23T12:58:30.994Z"
   },
   {
    "duration": 10,
    "start_time": "2022-02-23T12:58:31.027Z"
   },
   {
    "duration": 28,
    "start_time": "2022-02-23T12:58:31.039Z"
   },
   {
    "duration": 6,
    "start_time": "2022-02-23T12:58:31.362Z"
   },
   {
    "duration": 6,
    "start_time": "2022-02-23T12:58:31.552Z"
   },
   {
    "duration": 16,
    "start_time": "2022-02-23T12:58:31.959Z"
   },
   {
    "duration": 21,
    "start_time": "2022-02-23T12:58:33.032Z"
   },
   {
    "duration": 30,
    "start_time": "2022-02-23T12:58:33.441Z"
   },
   {
    "duration": 50,
    "start_time": "2022-02-23T12:58:33.799Z"
   },
   {
    "duration": 8,
    "start_time": "2022-02-23T12:58:34.159Z"
   },
   {
    "duration": 24,
    "start_time": "2022-02-23T12:58:34.342Z"
   },
   {
    "duration": 4,
    "start_time": "2022-02-23T12:58:36.907Z"
   },
   {
    "duration": 40,
    "start_time": "2022-02-23T12:58:37.841Z"
   },
   {
    "duration": 121,
    "start_time": "2022-02-23T12:58:38.355Z"
   },
   {
    "duration": 5911,
    "start_time": "2022-02-23T12:58:39.469Z"
   },
   {
    "duration": -28,
    "start_time": "2022-02-23T12:58:45.411Z"
   },
   {
    "duration": 83,
    "start_time": "2022-02-23T13:00:54.169Z"
   },
   {
    "duration": 15,
    "start_time": "2022-02-23T13:00:54.567Z"
   },
   {
    "duration": 5,
    "start_time": "2022-02-23T13:00:54.770Z"
   },
   {
    "duration": 23,
    "start_time": "2022-02-23T13:00:55.158Z"
   },
   {
    "duration": 6,
    "start_time": "2022-02-23T13:00:55.533Z"
   },
   {
    "duration": 6,
    "start_time": "2022-02-23T13:00:55.712Z"
   },
   {
    "duration": 14,
    "start_time": "2022-02-23T13:00:56.099Z"
   },
   {
    "duration": 21,
    "start_time": "2022-02-23T13:00:57.320Z"
   },
   {
    "duration": 25,
    "start_time": "2022-02-23T13:00:57.737Z"
   },
   {
    "duration": 49,
    "start_time": "2022-02-23T13:00:58.137Z"
   },
   {
    "duration": 7,
    "start_time": "2022-02-23T13:00:58.966Z"
   },
   {
    "duration": 23,
    "start_time": "2022-02-23T13:00:59.647Z"
   },
   {
    "duration": 4,
    "start_time": "2022-02-23T13:01:04.824Z"
   },
   {
    "duration": 89,
    "start_time": "2022-02-23T13:01:12.574Z"
   },
   {
    "duration": 6030,
    "start_time": "2022-02-23T13:01:17.252Z"
   },
   {
    "duration": 269,
    "start_time": "2022-02-23T13:05:27.831Z"
   },
   {
    "duration": 237,
    "start_time": "2022-02-23T13:07:27.132Z"
   },
   {
    "duration": 22,
    "start_time": "2022-02-23T13:13:07.648Z"
   },
   {
    "duration": 20,
    "start_time": "2022-02-23T13:13:15.534Z"
   },
   {
    "duration": 7,
    "start_time": "2022-02-23T13:14:35.271Z"
   },
   {
    "duration": 17,
    "start_time": "2022-02-23T13:14:57.663Z"
   },
   {
    "duration": 22,
    "start_time": "2022-02-23T13:14:59.623Z"
   },
   {
    "duration": 34,
    "start_time": "2022-02-23T13:15:09.388Z"
   },
   {
    "duration": 15,
    "start_time": "2022-02-23T13:15:21.431Z"
   },
   {
    "duration": 37,
    "start_time": "2022-02-23T13:15:29.941Z"
   },
   {
    "duration": 20,
    "start_time": "2022-02-23T13:15:56.195Z"
   },
   {
    "duration": 20,
    "start_time": "2022-02-23T13:33:17.806Z"
   },
   {
    "duration": 5,
    "start_time": "2022-02-23T13:41:22.780Z"
   },
   {
    "duration": 41,
    "start_time": "2022-02-23T13:41:23.326Z"
   },
   {
    "duration": 87,
    "start_time": "2022-02-23T13:45:41.458Z"
   },
   {
    "duration": 89,
    "start_time": "2022-02-23T13:46:52.314Z"
   },
   {
    "duration": 4,
    "start_time": "2022-02-23T13:47:20.345Z"
   },
   {
    "duration": 238,
    "start_time": "2022-02-23T13:47:23.566Z"
   },
   {
    "duration": 5,
    "start_time": "2022-02-23T13:47:57.972Z"
   },
   {
    "duration": 246,
    "start_time": "2022-02-23T13:47:58.425Z"
   },
   {
    "duration": 278,
    "start_time": "2022-02-23T13:48:37.168Z"
   },
   {
    "duration": 5,
    "start_time": "2022-02-23T13:48:40.176Z"
   },
   {
    "duration": 31,
    "start_time": "2022-02-23T13:49:09.175Z"
   },
   {
    "duration": 34,
    "start_time": "2022-02-23T13:49:40.645Z"
   },
   {
    "duration": 32,
    "start_time": "2022-02-23T13:49:58.310Z"
   },
   {
    "duration": 9,
    "start_time": "2022-02-23T13:50:54.348Z"
   },
   {
    "duration": 4,
    "start_time": "2022-02-23T13:58:15.504Z"
   },
   {
    "duration": 8,
    "start_time": "2022-02-23T13:58:45.804Z"
   },
   {
    "duration": 5,
    "start_time": "2022-02-23T13:58:46.577Z"
   },
   {
    "duration": 1184,
    "start_time": "2022-02-23T13:58:47.910Z"
   },
   {
    "duration": 5,
    "start_time": "2022-02-23T14:01:25.040Z"
   },
   {
    "duration": 31,
    "start_time": "2022-02-23T14:01:26.768Z"
   },
   {
    "duration": 29,
    "start_time": "2022-02-23T14:04:35.377Z"
   },
   {
    "duration": 75,
    "start_time": "2022-02-23T14:05:49.243Z"
   },
   {
    "duration": 17,
    "start_time": "2022-02-23T14:05:49.594Z"
   },
   {
    "duration": 4,
    "start_time": "2022-02-23T14:05:49.778Z"
   },
   {
    "duration": 22,
    "start_time": "2022-02-23T14:05:50.137Z"
   },
   {
    "duration": 6,
    "start_time": "2022-02-23T14:05:50.491Z"
   },
   {
    "duration": 6,
    "start_time": "2022-02-23T14:05:50.681Z"
   },
   {
    "duration": 18,
    "start_time": "2022-02-23T14:05:51.150Z"
   },
   {
    "duration": 20,
    "start_time": "2022-02-23T14:05:51.579Z"
   },
   {
    "duration": 19,
    "start_time": "2022-02-23T14:05:52.112Z"
   },
   {
    "duration": 25,
    "start_time": "2022-02-23T14:05:52.471Z"
   },
   {
    "duration": 46,
    "start_time": "2022-02-23T14:05:52.837Z"
   },
   {
    "duration": 7,
    "start_time": "2022-02-23T14:05:53.205Z"
   },
   {
    "duration": 22,
    "start_time": "2022-02-23T14:05:53.390Z"
   },
   {
    "duration": 5,
    "start_time": "2022-02-23T14:05:54.304Z"
   },
   {
    "duration": 30,
    "start_time": "2022-02-23T14:05:54.506Z"
   },
   {
    "duration": 8,
    "start_time": "2022-02-23T14:05:54.915Z"
   },
   {
    "duration": 5,
    "start_time": "2022-02-23T14:05:55.096Z"
   },
   {
    "duration": 30,
    "start_time": "2022-02-23T14:05:55.285Z"
   },
   {
    "duration": 47,
    "start_time": "2022-02-23T14:44:43.181Z"
   },
   {
    "duration": 46,
    "start_time": "2022-02-23T14:46:31.946Z"
   },
   {
    "duration": 42,
    "start_time": "2022-02-23T14:47:52.398Z"
   },
   {
    "duration": 78,
    "start_time": "2022-02-23T16:05:57.035Z"
   },
   {
    "duration": 16,
    "start_time": "2022-02-23T16:05:57.386Z"
   },
   {
    "duration": 5,
    "start_time": "2022-02-23T16:05:57.580Z"
   },
   {
    "duration": 20,
    "start_time": "2022-02-23T16:05:57.967Z"
   },
   {
    "duration": 7,
    "start_time": "2022-02-23T16:05:58.353Z"
   },
   {
    "duration": 7,
    "start_time": "2022-02-23T16:05:58.536Z"
   },
   {
    "duration": 17,
    "start_time": "2022-02-23T16:05:58.904Z"
   },
   {
    "duration": 19,
    "start_time": "2022-02-23T16:05:59.448Z"
   },
   {
    "duration": 21,
    "start_time": "2022-02-23T16:05:59.993Z"
   },
   {
    "duration": 26,
    "start_time": "2022-02-23T16:06:00.361Z"
   },
   {
    "duration": 50,
    "start_time": "2022-02-23T16:06:00.726Z"
   },
   {
    "duration": 6,
    "start_time": "2022-02-23T16:06:01.094Z"
   },
   {
    "duration": 23,
    "start_time": "2022-02-23T16:06:01.276Z"
   },
   {
    "duration": 4,
    "start_time": "2022-02-23T16:06:02.182Z"
   },
   {
    "duration": 31,
    "start_time": "2022-02-23T16:06:02.375Z"
   },
   {
    "duration": 10,
    "start_time": "2022-02-23T16:06:02.751Z"
   },
   {
    "duration": 6,
    "start_time": "2022-02-23T16:06:02.958Z"
   },
   {
    "duration": 30,
    "start_time": "2022-02-23T16:06:03.134Z"
   },
   {
    "duration": 43,
    "start_time": "2022-02-23T16:06:03.728Z"
   },
   {
    "duration": 286,
    "start_time": "2022-02-23T16:27:54.758Z"
   },
   {
    "duration": 39,
    "start_time": "2022-02-23T16:28:26.509Z"
   },
   {
    "duration": 306,
    "start_time": "2022-02-23T16:31:49.858Z"
   },
   {
    "duration": 285,
    "start_time": "2022-02-23T16:34:25.099Z"
   },
   {
    "duration": 339,
    "start_time": "2022-02-23T16:35:51.913Z"
   },
   {
    "duration": 317,
    "start_time": "2022-02-23T16:37:00.287Z"
   },
   {
    "duration": 53,
    "start_time": "2022-02-23T16:37:56.863Z"
   },
   {
    "duration": 84,
    "start_time": "2022-02-23T16:40:48.059Z"
   },
   {
    "duration": 17,
    "start_time": "2022-02-23T16:40:49.626Z"
   },
   {
    "duration": 4,
    "start_time": "2022-02-23T16:40:50.171Z"
   },
   {
    "duration": 22,
    "start_time": "2022-02-23T16:40:50.794Z"
   },
   {
    "duration": 7,
    "start_time": "2022-02-23T16:40:51.157Z"
   },
   {
    "duration": 7,
    "start_time": "2022-02-23T16:40:51.350Z"
   },
   {
    "duration": 16,
    "start_time": "2022-02-23T16:40:51.723Z"
   },
   {
    "duration": 19,
    "start_time": "2022-02-23T16:40:52.259Z"
   },
   {
    "duration": 20,
    "start_time": "2022-02-23T16:40:52.819Z"
   },
   {
    "duration": 23,
    "start_time": "2022-02-23T16:40:53.185Z"
   },
   {
    "duration": 50,
    "start_time": "2022-02-23T16:40:53.563Z"
   },
   {
    "duration": 7,
    "start_time": "2022-02-23T16:40:53.946Z"
   },
   {
    "duration": 22,
    "start_time": "2022-02-23T16:40:54.136Z"
   },
   {
    "duration": 54,
    "start_time": "2022-02-23T16:40:55.137Z"
   },
   {
    "duration": 5,
    "start_time": "2022-02-23T16:40:55.541Z"
   },
   {
    "duration": 26,
    "start_time": "2022-02-23T16:40:55.736Z"
   },
   {
    "duration": 9,
    "start_time": "2022-02-23T16:40:56.095Z"
   },
   {
    "duration": 4,
    "start_time": "2022-02-23T16:40:56.270Z"
   },
   {
    "duration": 27,
    "start_time": "2022-02-23T16:40:56.428Z"
   },
   {
    "duration": 41,
    "start_time": "2022-02-23T16:40:56.978Z"
   },
   {
    "duration": 48,
    "start_time": "2022-02-23T16:40:57.718Z"
   },
   {
    "duration": 54,
    "start_time": "2022-02-23T16:44:42.766Z"
   },
   {
    "duration": 1029,
    "start_time": "2022-02-23T16:49:00.232Z"
   },
   {
    "duration": 1106,
    "start_time": "2022-02-23T16:49:58.317Z"
   },
   {
    "duration": 85,
    "start_time": "2022-02-23T16:50:39.155Z"
   },
   {
    "duration": 22,
    "start_time": "2022-02-23T16:50:39.483Z"
   },
   {
    "duration": 4,
    "start_time": "2022-02-23T16:50:39.663Z"
   },
   {
    "duration": 20,
    "start_time": "2022-02-23T16:50:40.027Z"
   },
   {
    "duration": 7,
    "start_time": "2022-02-23T16:50:40.393Z"
   },
   {
    "duration": 6,
    "start_time": "2022-02-23T16:50:40.575Z"
   },
   {
    "duration": 14,
    "start_time": "2022-02-23T16:50:40.963Z"
   },
   {
    "duration": 18,
    "start_time": "2022-02-23T16:50:41.475Z"
   },
   {
    "duration": 17,
    "start_time": "2022-02-23T16:50:41.998Z"
   },
   {
    "duration": 23,
    "start_time": "2022-02-23T16:50:42.480Z"
   },
   {
    "duration": 47,
    "start_time": "2022-02-23T16:50:42.841Z"
   },
   {
    "duration": 8,
    "start_time": "2022-02-23T16:50:43.365Z"
   },
   {
    "duration": 21,
    "start_time": "2022-02-23T16:50:43.525Z"
   },
   {
    "duration": 48,
    "start_time": "2022-02-23T16:50:44.099Z"
   },
   {
    "duration": 5,
    "start_time": "2022-02-23T16:50:44.450Z"
   },
   {
    "duration": 28,
    "start_time": "2022-02-23T16:50:44.625Z"
   },
   {
    "duration": 8,
    "start_time": "2022-02-23T16:50:44.993Z"
   },
   {
    "duration": 4,
    "start_time": "2022-02-23T16:50:45.198Z"
   },
   {
    "duration": 29,
    "start_time": "2022-02-23T16:50:45.360Z"
   },
   {
    "duration": 39,
    "start_time": "2022-02-23T16:50:45.928Z"
   },
   {
    "duration": 1022,
    "start_time": "2022-02-23T16:50:46.699Z"
   },
   {
    "duration": 526,
    "start_time": "2022-02-23T16:52:00.387Z"
   },
   {
    "duration": 77,
    "start_time": "2022-02-23T16:53:34.712Z"
   },
   {
    "duration": 16,
    "start_time": "2022-02-23T16:53:35.016Z"
   },
   {
    "duration": 5,
    "start_time": "2022-02-23T16:53:35.189Z"
   },
   {
    "duration": 21,
    "start_time": "2022-02-23T16:53:35.519Z"
   },
   {
    "duration": 6,
    "start_time": "2022-02-23T16:53:35.846Z"
   },
   {
    "duration": 6,
    "start_time": "2022-02-23T16:53:36.004Z"
   },
   {
    "duration": 16,
    "start_time": "2022-02-23T16:53:36.318Z"
   },
   {
    "duration": 19,
    "start_time": "2022-02-23T16:53:36.850Z"
   },
   {
    "duration": 20,
    "start_time": "2022-02-23T16:53:37.356Z"
   },
   {
    "duration": 24,
    "start_time": "2022-02-23T16:53:37.672Z"
   },
   {
    "duration": 45,
    "start_time": "2022-02-23T16:53:38.015Z"
   },
   {
    "duration": 7,
    "start_time": "2022-02-23T16:53:38.366Z"
   },
   {
    "duration": 23,
    "start_time": "2022-02-23T16:53:38.551Z"
   },
   {
    "duration": 55,
    "start_time": "2022-02-23T16:53:39.094Z"
   },
   {
    "duration": 5,
    "start_time": "2022-02-23T16:53:39.474Z"
   },
   {
    "duration": 28,
    "start_time": "2022-02-23T16:53:39.671Z"
   },
   {
    "duration": 8,
    "start_time": "2022-02-23T16:53:40.042Z"
   },
   {
    "duration": 5,
    "start_time": "2022-02-23T16:53:40.223Z"
   },
   {
    "duration": 27,
    "start_time": "2022-02-23T16:53:41.236Z"
   },
   {
    "duration": 42,
    "start_time": "2022-02-23T16:53:42.224Z"
   },
   {
    "duration": 6457,
    "start_time": "2022-02-23T16:53:43.777Z"
   },
   {
    "duration": 46,
    "start_time": "2022-02-23T16:55:41.587Z"
   },
   {
    "duration": 37,
    "start_time": "2022-02-23T16:57:16.326Z"
   },
   {
    "duration": 1265,
    "start_time": "2022-02-23T17:00:18.159Z"
   },
   {
    "duration": 258,
    "start_time": "2022-02-23T17:04:25.589Z"
   },
   {
    "duration": 266,
    "start_time": "2022-02-23T17:04:42.620Z"
   },
   {
    "duration": 268,
    "start_time": "2022-02-23T17:09:19.712Z"
   },
   {
    "duration": 312,
    "start_time": "2022-02-23T17:12:55.510Z"
   },
   {
    "duration": 314,
    "start_time": "2022-02-23T17:13:24.823Z"
   },
   {
    "duration": 104,
    "start_time": "2022-02-23T17:13:45.776Z"
   },
   {
    "duration": 15,
    "start_time": "2022-02-23T17:13:46.079Z"
   },
   {
    "duration": 5,
    "start_time": "2022-02-23T17:13:46.244Z"
   },
   {
    "duration": 19,
    "start_time": "2022-02-23T17:13:46.554Z"
   },
   {
    "duration": 5,
    "start_time": "2022-02-23T17:13:46.850Z"
   },
   {
    "duration": 6,
    "start_time": "2022-02-23T17:13:46.999Z"
   },
   {
    "duration": 18,
    "start_time": "2022-02-23T17:13:47.336Z"
   },
   {
    "duration": 19,
    "start_time": "2022-02-23T17:13:47.910Z"
   },
   {
    "duration": 20,
    "start_time": "2022-02-23T17:13:48.530Z"
   },
   {
    "duration": 25,
    "start_time": "2022-02-23T17:13:48.966Z"
   },
   {
    "duration": 46,
    "start_time": "2022-02-23T17:13:49.336Z"
   },
   {
    "duration": 7,
    "start_time": "2022-02-23T17:13:49.795Z"
   },
   {
    "duration": 26,
    "start_time": "2022-02-23T17:13:50.359Z"
   },
   {
    "duration": 53,
    "start_time": "2022-02-23T17:13:51.195Z"
   },
   {
    "duration": 6,
    "start_time": "2022-02-23T17:13:51.636Z"
   },
   {
    "duration": 28,
    "start_time": "2022-02-23T17:13:51.947Z"
   },
   {
    "duration": 8,
    "start_time": "2022-02-23T17:13:52.419Z"
   },
   {
    "duration": 5,
    "start_time": "2022-02-23T17:13:52.629Z"
   },
   {
    "duration": 27,
    "start_time": "2022-02-23T17:13:52.847Z"
   },
   {
    "duration": 39,
    "start_time": "2022-02-23T17:13:53.638Z"
   },
   {
    "duration": 42,
    "start_time": "2022-02-23T17:13:55.534Z"
   },
   {
    "duration": 421,
    "start_time": "2022-02-23T17:13:57.831Z"
   },
   {
    "duration": 306,
    "start_time": "2022-02-23T17:15:14.028Z"
   },
   {
    "duration": 25,
    "start_time": "2022-02-23T17:19:26.363Z"
   },
   {
    "duration": 96,
    "start_time": "2022-02-23T17:21:06.832Z"
   },
   {
    "duration": 32,
    "start_time": "2022-02-23T17:21:51.123Z"
   },
   {
    "duration": 17,
    "start_time": "2022-02-23T17:22:38.801Z"
   },
   {
    "duration": 24,
    "start_time": "2022-02-23T17:22:57.297Z"
   },
   {
    "duration": 23,
    "start_time": "2022-02-23T17:23:34.524Z"
   },
   {
    "duration": 27,
    "start_time": "2022-02-23T17:24:00.286Z"
   },
   {
    "duration": 29,
    "start_time": "2022-02-23T17:26:22.022Z"
   },
   {
    "duration": 296,
    "start_time": "2022-02-23T17:26:48.140Z"
   },
   {
    "duration": 29,
    "start_time": "2022-02-23T17:26:53.415Z"
   },
   {
    "duration": 334,
    "start_time": "2022-02-23T17:27:40.127Z"
   },
   {
    "duration": 30,
    "start_time": "2022-02-23T17:29:20.908Z"
   },
   {
    "duration": 354,
    "start_time": "2022-02-24T06:54:57.521Z"
   },
   {
    "duration": 831,
    "start_time": "2022-02-24T06:55:05.753Z"
   },
   {
    "duration": 16,
    "start_time": "2022-02-24T06:55:06.587Z"
   },
   {
    "duration": 4,
    "start_time": "2022-02-24T06:55:06.606Z"
   },
   {
    "duration": 58,
    "start_time": "2022-02-24T06:55:06.612Z"
   },
   {
    "duration": 7,
    "start_time": "2022-02-24T06:55:06.946Z"
   },
   {
    "duration": 7,
    "start_time": "2022-02-24T06:55:07.121Z"
   },
   {
    "duration": 18,
    "start_time": "2022-02-24T06:55:07.498Z"
   },
   {
    "duration": 20,
    "start_time": "2022-02-24T06:55:08.054Z"
   },
   {
    "duration": 22,
    "start_time": "2022-02-24T06:55:08.578Z"
   },
   {
    "duration": 25,
    "start_time": "2022-02-24T06:55:08.943Z"
   },
   {
    "duration": 43,
    "start_time": "2022-02-24T06:55:09.277Z"
   },
   {
    "duration": 7,
    "start_time": "2022-02-24T06:55:09.631Z"
   },
   {
    "duration": 21,
    "start_time": "2022-02-24T06:55:09.807Z"
   },
   {
    "duration": 45,
    "start_time": "2022-02-24T06:55:10.363Z"
   },
   {
    "duration": 5,
    "start_time": "2022-02-24T06:55:10.719Z"
   },
   {
    "duration": 27,
    "start_time": "2022-02-24T06:55:10.899Z"
   },
   {
    "duration": 11,
    "start_time": "2022-02-24T06:55:11.262Z"
   },
   {
    "duration": 5,
    "start_time": "2022-02-24T06:55:11.427Z"
   },
   {
    "duration": 27,
    "start_time": "2022-02-24T06:55:11.602Z"
   },
   {
    "duration": 50,
    "start_time": "2022-02-24T06:55:12.139Z"
   },
   {
    "duration": 58,
    "start_time": "2022-02-24T06:55:12.815Z"
   },
   {
    "duration": 356,
    "start_time": "2022-02-24T06:55:13.779Z"
   },
   {
    "duration": 30,
    "start_time": "2022-02-24T06:55:51.741Z"
   },
   {
    "duration": 29,
    "start_time": "2022-02-24T06:56:15.224Z"
   },
   {
    "duration": 30,
    "start_time": "2022-02-24T07:02:09.740Z"
   },
   {
    "duration": 30,
    "start_time": "2022-02-24T07:11:15.680Z"
   },
   {
    "duration": 1340,
    "start_time": "2022-02-24T07:12:08.409Z"
   },
   {
    "duration": 25,
    "start_time": "2022-02-24T07:12:23.310Z"
   },
   {
    "duration": 27,
    "start_time": "2022-02-24T07:13:29.929Z"
   },
   {
    "duration": 29,
    "start_time": "2022-02-24T07:13:33.129Z"
   },
   {
    "duration": 84,
    "start_time": "2022-02-24T07:14:25.669Z"
   },
   {
    "duration": 16,
    "start_time": "2022-02-24T07:14:26.029Z"
   },
   {
    "duration": 5,
    "start_time": "2022-02-24T07:14:26.224Z"
   },
   {
    "duration": 21,
    "start_time": "2022-02-24T07:14:26.599Z"
   },
   {
    "duration": 7,
    "start_time": "2022-02-24T07:14:26.959Z"
   },
   {
    "duration": 6,
    "start_time": "2022-02-24T07:14:27.165Z"
   },
   {
    "duration": 15,
    "start_time": "2022-02-24T07:14:27.544Z"
   },
   {
    "duration": 20,
    "start_time": "2022-02-24T07:14:28.129Z"
   },
   {
    "duration": 19,
    "start_time": "2022-02-24T07:14:28.839Z"
   },
   {
    "duration": 23,
    "start_time": "2022-02-24T07:14:29.229Z"
   },
   {
    "duration": 45,
    "start_time": "2022-02-24T07:14:29.601Z"
   },
   {
    "duration": 7,
    "start_time": "2022-02-24T07:14:29.969Z"
   },
   {
    "duration": 24,
    "start_time": "2022-02-24T07:14:30.139Z"
   },
   {
    "duration": 54,
    "start_time": "2022-02-24T07:14:30.723Z"
   },
   {
    "duration": 5,
    "start_time": "2022-02-24T07:14:31.123Z"
   },
   {
    "duration": 29,
    "start_time": "2022-02-24T07:14:31.289Z"
   },
   {
    "duration": 8,
    "start_time": "2022-02-24T07:14:31.659Z"
   },
   {
    "duration": 4,
    "start_time": "2022-02-24T07:14:31.859Z"
   },
   {
    "duration": 25,
    "start_time": "2022-02-24T07:14:32.059Z"
   },
   {
    "duration": 41,
    "start_time": "2022-02-24T07:14:32.619Z"
   },
   {
    "duration": 38,
    "start_time": "2022-02-24T07:14:33.354Z"
   },
   {
    "duration": 29,
    "start_time": "2022-02-24T07:14:34.079Z"
   },
   {
    "duration": 31,
    "start_time": "2022-02-24T07:14:34.809Z"
   },
   {
    "duration": 13,
    "start_time": "2022-02-24T07:20:23.879Z"
   },
   {
    "duration": 13,
    "start_time": "2022-02-24T07:21:08.611Z"
   },
   {
    "duration": 3,
    "start_time": "2022-02-24T07:29:16.021Z"
   },
   {
    "duration": 106,
    "start_time": "2022-02-24T08:01:10.360Z"
   },
   {
    "duration": 111,
    "start_time": "2022-02-24T08:41:51.410Z"
   },
   {
    "duration": 23,
    "start_time": "2022-02-24T08:41:51.716Z"
   },
   {
    "duration": 8,
    "start_time": "2022-02-24T08:41:51.889Z"
   },
   {
    "duration": 20,
    "start_time": "2022-02-24T08:41:52.219Z"
   },
   {
    "duration": 15,
    "start_time": "2022-02-24T08:41:52.559Z"
   },
   {
    "duration": 6,
    "start_time": "2022-02-24T08:41:52.737Z"
   },
   {
    "duration": 16,
    "start_time": "2022-02-24T08:41:53.069Z"
   },
   {
    "duration": 18,
    "start_time": "2022-02-24T08:41:53.617Z"
   },
   {
    "duration": 21,
    "start_time": "2022-02-24T08:41:54.093Z"
   },
   {
    "duration": 23,
    "start_time": "2022-02-24T08:41:54.441Z"
   },
   {
    "duration": 47,
    "start_time": "2022-02-24T08:41:54.771Z"
   },
   {
    "duration": 8,
    "start_time": "2022-02-24T08:41:55.224Z"
   },
   {
    "duration": 23,
    "start_time": "2022-02-24T08:41:55.305Z"
   },
   {
    "duration": 55,
    "start_time": "2022-02-24T08:41:56.000Z"
   },
   {
    "duration": 8,
    "start_time": "2022-02-24T08:41:56.224Z"
   },
   {
    "duration": 41,
    "start_time": "2022-02-24T08:41:56.388Z"
   },
   {
    "duration": 8,
    "start_time": "2022-02-24T08:41:56.737Z"
   },
   {
    "duration": 7,
    "start_time": "2022-02-24T08:41:57.074Z"
   },
   {
    "duration": 40,
    "start_time": "2022-02-24T08:41:57.321Z"
   },
   {
    "duration": 59,
    "start_time": "2022-02-24T08:41:57.657Z"
   },
   {
    "duration": 56,
    "start_time": "2022-02-24T08:41:58.390Z"
   },
   {
    "duration": 43,
    "start_time": "2022-02-24T08:41:59.085Z"
   },
   {
    "duration": 32,
    "start_time": "2022-02-24T08:41:59.797Z"
   },
   {
    "duration": 651,
    "start_time": "2022-03-06T13:28:28.310Z"
   },
   {
    "duration": 12,
    "start_time": "2022-03-06T13:28:28.963Z"
   },
   {
    "duration": 7,
    "start_time": "2022-03-06T13:28:28.976Z"
   },
   {
    "duration": 25,
    "start_time": "2022-03-06T13:28:28.985Z"
   },
   {
    "duration": 5,
    "start_time": "2022-03-06T13:28:29.012Z"
   },
   {
    "duration": 11,
    "start_time": "2022-03-06T13:28:29.019Z"
   },
   {
    "duration": 22,
    "start_time": "2022-03-06T13:28:29.032Z"
   },
   {
    "duration": 19,
    "start_time": "2022-03-06T13:28:29.057Z"
   },
   {
    "duration": 29,
    "start_time": "2022-03-06T13:28:29.078Z"
   },
   {
    "duration": 17,
    "start_time": "2022-03-06T13:28:29.109Z"
   },
   {
    "duration": 34,
    "start_time": "2022-03-06T13:28:29.128Z"
   },
   {
    "duration": 5,
    "start_time": "2022-03-06T13:28:29.165Z"
   },
   {
    "duration": 45,
    "start_time": "2022-03-06T13:28:29.172Z"
   },
   {
    "duration": 35,
    "start_time": "2022-03-06T13:28:29.219Z"
   },
   {
    "duration": 3,
    "start_time": "2022-03-06T13:28:29.256Z"
   },
   {
    "duration": 56,
    "start_time": "2022-03-06T13:28:29.261Z"
   },
   {
    "duration": 9,
    "start_time": "2022-03-06T13:28:29.318Z"
   },
   {
    "duration": 5,
    "start_time": "2022-03-06T13:28:29.329Z"
   },
   {
    "duration": 19,
    "start_time": "2022-03-06T13:28:29.336Z"
   },
   {
    "duration": 50,
    "start_time": "2022-03-06T13:28:29.357Z"
   },
   {
    "duration": 28,
    "start_time": "2022-03-06T13:28:29.409Z"
   },
   {
    "duration": 18,
    "start_time": "2022-03-06T13:28:29.439Z"
   },
   {
    "duration": 44,
    "start_time": "2022-03-06T13:28:29.460Z"
   },
   {
    "duration": 806,
    "start_time": "2022-03-08T08:35:49.261Z"
   },
   {
    "duration": 30,
    "start_time": "2022-03-08T08:35:57.286Z"
   },
   {
    "duration": 21,
    "start_time": "2022-03-08T08:36:04.890Z"
   },
   {
    "duration": 334,
    "start_time": "2022-03-08T08:58:18.992Z"
   },
   {
    "duration": 339,
    "start_time": "2022-03-08T11:06:50.057Z"
   },
   {
    "duration": 587,
    "start_time": "2022-03-08T11:06:58.242Z"
   },
   {
    "duration": 18,
    "start_time": "2022-03-08T11:06:58.831Z"
   },
   {
    "duration": 11,
    "start_time": "2022-03-08T11:06:58.994Z"
   },
   {
    "duration": 2,
    "start_time": "2022-03-08T11:06:59.181Z"
   },
   {
    "duration": 13,
    "start_time": "2022-03-08T11:06:59.549Z"
   },
   {
    "duration": 5,
    "start_time": "2022-03-08T11:06:59.883Z"
   },
   {
    "duration": 4,
    "start_time": "2022-03-08T11:07:00.263Z"
   },
   {
    "duration": 11,
    "start_time": "2022-03-08T11:07:02.249Z"
   },
   {
    "duration": 11,
    "start_time": "2022-03-08T11:07:02.782Z"
   },
   {
    "duration": 12,
    "start_time": "2022-03-08T11:07:03.333Z"
   },
   {
    "duration": 15,
    "start_time": "2022-03-08T11:07:03.916Z"
   },
   {
    "duration": 35,
    "start_time": "2022-03-08T11:07:04.436Z"
   },
   {
    "duration": 5,
    "start_time": "2022-03-08T11:07:04.768Z"
   },
   {
    "duration": 14,
    "start_time": "2022-03-08T11:07:04.956Z"
   },
   {
    "duration": 15,
    "start_time": "2022-03-08T11:07:05.305Z"
   },
   {
    "duration": 27,
    "start_time": "2022-03-08T11:07:05.861Z"
   },
   {
    "duration": 3,
    "start_time": "2022-03-08T11:07:06.386Z"
   },
   {
    "duration": 15,
    "start_time": "2022-03-08T11:07:06.586Z"
   },
   {
    "duration": 5,
    "start_time": "2022-03-08T11:07:06.964Z"
   },
   {
    "duration": 3,
    "start_time": "2022-03-08T11:07:07.120Z"
   },
   {
    "duration": 14,
    "start_time": "2022-03-08T11:07:07.300Z"
   },
   {
    "duration": 26,
    "start_time": "2022-03-08T11:07:08.188Z"
   },
   {
    "duration": 2,
    "start_time": "2022-03-08T11:07:08.365Z"
   },
   {
    "duration": 22,
    "start_time": "2022-03-08T11:07:09.338Z"
   },
   {
    "duration": 17,
    "start_time": "2022-03-08T11:07:10.104Z"
   },
   {
    "duration": 17,
    "start_time": "2022-03-08T11:07:10.863Z"
   },
   {
    "duration": 26,
    "start_time": "2022-03-08T11:09:43.800Z"
   },
   {
    "duration": 45,
    "start_time": "2022-03-08T11:10:45.141Z"
   },
   {
    "duration": 12,
    "start_time": "2022-03-08T11:10:45.322Z"
   },
   {
    "duration": 10,
    "start_time": "2022-03-08T11:10:45.865Z"
   },
   {
    "duration": 3,
    "start_time": "2022-03-08T11:10:46.048Z"
   },
   {
    "duration": 12,
    "start_time": "2022-03-08T11:10:46.384Z"
   },
   {
    "duration": 4,
    "start_time": "2022-03-08T11:10:46.729Z"
   },
   {
    "duration": 4,
    "start_time": "2022-03-08T11:10:47.084Z"
   },
   {
    "duration": 10,
    "start_time": "2022-03-08T11:10:47.616Z"
   },
   {
    "duration": 11,
    "start_time": "2022-03-08T11:10:48.145Z"
   },
   {
    "duration": 10,
    "start_time": "2022-03-08T11:10:48.670Z"
   },
   {
    "duration": 13,
    "start_time": "2022-03-08T11:10:49.205Z"
   },
   {
    "duration": 25,
    "start_time": "2022-03-08T11:10:49.579Z"
   },
   {
    "duration": 4,
    "start_time": "2022-03-08T11:10:49.924Z"
   },
   {
    "duration": 14,
    "start_time": "2022-03-08T11:10:50.112Z"
   },
   {
    "duration": 15,
    "start_time": "2022-03-08T11:10:50.475Z"
   },
   {
    "duration": 26,
    "start_time": "2022-03-08T11:10:50.806Z"
   },
   {
    "duration": 28,
    "start_time": "2022-03-08T11:10:51.491Z"
   },
   {
    "duration": 3,
    "start_time": "2022-03-08T11:10:52.039Z"
   },
   {
    "duration": 18,
    "start_time": "2022-03-08T11:10:52.217Z"
   },
   {
    "duration": 5,
    "start_time": "2022-03-08T11:10:52.595Z"
   },
   {
    "duration": 3,
    "start_time": "2022-03-08T11:10:52.772Z"
   },
   {
    "duration": 15,
    "start_time": "2022-03-08T11:10:52.962Z"
   },
   {
    "duration": 25,
    "start_time": "2022-03-08T11:10:53.700Z"
   },
   {
    "duration": 2,
    "start_time": "2022-03-08T11:10:53.879Z"
   },
   {
    "duration": 23,
    "start_time": "2022-03-08T11:10:54.825Z"
   },
   {
    "duration": 17,
    "start_time": "2022-03-08T11:10:55.541Z"
   },
   {
    "duration": 18,
    "start_time": "2022-03-08T11:10:56.326Z"
   },
   {
    "duration": 99,
    "start_time": "2022-03-08T11:13:23.530Z"
   },
   {
    "duration": 7,
    "start_time": "2022-03-08T11:13:38.586Z"
   },
   {
    "duration": 46,
    "start_time": "2022-03-08T11:14:28.386Z"
   },
   {
    "duration": 12,
    "start_time": "2022-03-08T11:14:28.547Z"
   },
   {
    "duration": 9,
    "start_time": "2022-03-08T11:14:29.126Z"
   },
   {
    "duration": 2,
    "start_time": "2022-03-08T11:14:29.323Z"
   },
   {
    "duration": 12,
    "start_time": "2022-03-08T11:14:30.833Z"
   },
   {
    "duration": 3,
    "start_time": "2022-03-08T11:14:30.847Z"
   },
   {
    "duration": 12,
    "start_time": "2022-03-08T11:14:30.852Z"
   },
   {
    "duration": 10,
    "start_time": "2022-03-08T11:14:30.919Z"
   },
   {
    "duration": 11,
    "start_time": "2022-03-08T11:14:31.505Z"
   },
   {
    "duration": 10,
    "start_time": "2022-03-08T11:14:32.095Z"
   },
   {
    "duration": 13,
    "start_time": "2022-03-08T11:14:32.715Z"
   },
   {
    "duration": 25,
    "start_time": "2022-03-08T11:14:33.132Z"
   },
   {
    "duration": 4,
    "start_time": "2022-03-08T11:14:33.538Z"
   },
   {
    "duration": 13,
    "start_time": "2022-03-08T11:14:33.742Z"
   },
   {
    "duration": 14,
    "start_time": "2022-03-08T11:14:34.116Z"
   },
   {
    "duration": 25,
    "start_time": "2022-03-08T11:14:34.321Z"
   },
   {
    "duration": 28,
    "start_time": "2022-03-08T11:14:34.946Z"
   },
   {
    "duration": 3,
    "start_time": "2022-03-08T11:14:35.589Z"
   },
   {
    "duration": 15,
    "start_time": "2022-03-08T11:14:35.813Z"
   },
   {
    "duration": 5,
    "start_time": "2022-03-08T11:14:36.261Z"
   },
   {
    "duration": 2,
    "start_time": "2022-03-08T11:14:36.544Z"
   },
   {
    "duration": 15,
    "start_time": "2022-03-08T11:14:36.736Z"
   },
   {
    "duration": 23,
    "start_time": "2022-03-08T11:14:37.591Z"
   },
   {
    "duration": 2,
    "start_time": "2022-03-08T11:14:37.811Z"
   },
   {
    "duration": 22,
    "start_time": "2022-03-08T11:14:39.398Z"
   },
   {
    "duration": 16,
    "start_time": "2022-03-08T11:14:40.206Z"
   },
   {
    "duration": 18,
    "start_time": "2022-03-08T11:14:41.075Z"
   },
   {
    "duration": 4,
    "start_time": "2022-03-08T11:18:57.548Z"
   },
   {
    "duration": 4,
    "start_time": "2022-03-08T11:18:57.943Z"
   },
   {
    "duration": 7,
    "start_time": "2022-03-08T11:24:47.690Z"
   },
   {
    "duration": 56,
    "start_time": "2022-03-08T11:24:56.535Z"
   },
   {
    "duration": 12,
    "start_time": "2022-03-08T11:24:56.720Z"
   },
   {
    "duration": 10,
    "start_time": "2022-03-08T11:24:57.459Z"
   },
   {
    "duration": 3,
    "start_time": "2022-03-08T11:24:57.825Z"
   },
   {
    "duration": 12,
    "start_time": "2022-03-08T11:24:58.188Z"
   },
   {
    "duration": 4,
    "start_time": "2022-03-08T11:24:58.705Z"
   },
   {
    "duration": 4,
    "start_time": "2022-03-08T11:24:58.885Z"
   },
   {
    "duration": 9,
    "start_time": "2022-03-08T11:24:59.416Z"
   },
   {
    "duration": 11,
    "start_time": "2022-03-08T11:24:59.937Z"
   },
   {
    "duration": 10,
    "start_time": "2022-03-08T11:25:00.442Z"
   },
   {
    "duration": 14,
    "start_time": "2022-03-08T11:25:00.960Z"
   },
   {
    "duration": 27,
    "start_time": "2022-03-08T11:25:01.304Z"
   },
   {
    "duration": 5,
    "start_time": "2022-03-08T11:25:01.678Z"
   },
   {
    "duration": 14,
    "start_time": "2022-03-08T11:25:01.868Z"
   },
   {
    "duration": 14,
    "start_time": "2022-03-08T11:25:02.249Z"
   },
   {
    "duration": 26,
    "start_time": "2022-03-08T11:25:02.430Z"
   },
   {
    "duration": 27,
    "start_time": "2022-03-08T11:25:02.997Z"
   },
   {
    "duration": 3,
    "start_time": "2022-03-08T11:25:03.541Z"
   },
   {
    "duration": 18,
    "start_time": "2022-03-08T11:25:03.744Z"
   },
   {
    "duration": 5,
    "start_time": "2022-03-08T11:25:04.111Z"
   },
   {
    "duration": 2,
    "start_time": "2022-03-08T11:25:04.300Z"
   },
   {
    "duration": 15,
    "start_time": "2022-03-08T11:25:04.478Z"
   },
   {
    "duration": 22,
    "start_time": "2022-03-08T11:25:05.230Z"
   },
   {
    "duration": 2,
    "start_time": "2022-03-08T11:25:05.423Z"
   },
   {
    "duration": 23,
    "start_time": "2022-03-08T11:25:06.363Z"
   },
   {
    "duration": 17,
    "start_time": "2022-03-08T11:25:07.135Z"
   },
   {
    "duration": 18,
    "start_time": "2022-03-08T11:25:07.894Z"
   },
   {
    "duration": 11,
    "start_time": "2022-03-08T11:37:26.113Z"
   },
   {
    "duration": 11,
    "start_time": "2022-03-08T11:38:36.276Z"
   },
   {
    "duration": 10,
    "start_time": "2022-03-08T11:39:01.039Z"
   },
   {
    "duration": 7,
    "start_time": "2022-03-08T11:44:32.456Z"
   },
   {
    "duration": -3920,
    "start_time": "2022-03-08T11:44:57.430Z"
   },
   {
    "duration": 7402,
    "start_time": "2022-03-08T11:44:56.373Z"
   },
   {
    "duration": -3917,
    "start_time": "2022-03-08T11:45:24.722Z"
   },
   {
    "duration": 47,
    "start_time": "2022-03-08T11:45:26.853Z"
   },
   {
    "duration": 14,
    "start_time": "2022-03-08T11:45:27.037Z"
   },
   {
    "duration": 10,
    "start_time": "2022-03-08T11:45:27.770Z"
   },
   {
    "duration": 3,
    "start_time": "2022-03-08T11:45:28.130Z"
   },
   {
    "duration": 12,
    "start_time": "2022-03-08T11:45:28.484Z"
   },
   {
    "duration": 4,
    "start_time": "2022-03-08T11:45:29.036Z"
   },
   {
    "duration": 5,
    "start_time": "2022-03-08T11:45:29.239Z"
   },
   {
    "duration": 10,
    "start_time": "2022-03-08T11:45:29.767Z"
   },
   {
    "duration": 12,
    "start_time": "2022-03-08T11:45:30.503Z"
   },
   {
    "duration": 11,
    "start_time": "2022-03-08T11:45:31.194Z"
   },
   {
    "duration": 14,
    "start_time": "2022-03-08T11:45:31.745Z"
   },
   {
    "duration": 26,
    "start_time": "2022-03-08T11:45:32.123Z"
   },
   {
    "duration": 4,
    "start_time": "2022-03-08T11:45:32.486Z"
   },
   {
    "duration": 13,
    "start_time": "2022-03-08T11:45:32.668Z"
   },
   {
    "duration": 14,
    "start_time": "2022-03-08T11:45:33.061Z"
   },
   {
    "duration": 25,
    "start_time": "2022-03-08T11:45:33.239Z"
   },
   {
    "duration": 29,
    "start_time": "2022-03-08T11:45:33.779Z"
   },
   {
    "duration": 3,
    "start_time": "2022-03-08T11:45:34.356Z"
   },
   {
    "duration": 15,
    "start_time": "2022-03-08T11:45:34.746Z"
   },
   {
    "duration": 6,
    "start_time": "2022-03-08T11:45:35.100Z"
   },
   {
    "duration": 3,
    "start_time": "2022-03-08T11:45:35.290Z"
   },
   {
    "duration": 15,
    "start_time": "2022-03-08T11:45:35.483Z"
   },
   {
    "duration": 23,
    "start_time": "2022-03-08T11:45:36.210Z"
   },
   {
    "duration": 7449,
    "start_time": "2022-03-08T11:45:36.380Z"
   },
   {
    "duration": -3934,
    "start_time": "2022-03-08T11:45:47.765Z"
   },
   {
    "duration": -3936,
    "start_time": "2022-03-08T11:45:47.768Z"
   },
   {
    "duration": -3937,
    "start_time": "2022-03-08T11:45:47.770Z"
   },
   {
    "duration": 7,
    "start_time": "2022-03-08T11:46:47.071Z"
   },
   {
    "duration": 90,
    "start_time": "2022-03-08T11:48:15.093Z"
   },
   {
    "duration": 295,
    "start_time": "2022-03-08T11:48:34.953Z"
   },
   {
    "duration": 3,
    "start_time": "2022-03-08T11:55:25.203Z"
   },
   {
    "duration": 7922,
    "start_time": "2022-03-08T11:56:53.531Z"
   },
   {
    "duration": 7332,
    "start_time": "2022-03-08T11:58:20.679Z"
   },
   {
    "duration": 3,
    "start_time": "2022-03-08T12:01:03.040Z"
   },
   {
    "duration": 18,
    "start_time": "2022-03-08T12:01:03.539Z"
   },
   {
    "duration": 51,
    "start_time": "2022-03-08T12:01:55.887Z"
   },
   {
    "duration": 13,
    "start_time": "2022-03-08T12:01:56.066Z"
   },
   {
    "duration": 12,
    "start_time": "2022-03-08T12:01:56.764Z"
   },
   {
    "duration": 3,
    "start_time": "2022-03-08T12:01:57.116Z"
   },
   {
    "duration": 12,
    "start_time": "2022-03-08T12:01:57.469Z"
   },
   {
    "duration": 4,
    "start_time": "2022-03-08T12:01:57.990Z"
   },
   {
    "duration": 5,
    "start_time": "2022-03-08T12:01:58.168Z"
   },
   {
    "duration": 10,
    "start_time": "2022-03-08T12:01:58.705Z"
   },
   {
    "duration": 12,
    "start_time": "2022-03-08T12:01:59.412Z"
   },
   {
    "duration": 12,
    "start_time": "2022-03-08T12:01:59.946Z"
   },
   {
    "duration": 13,
    "start_time": "2022-03-08T12:02:00.460Z"
   },
   {
    "duration": 27,
    "start_time": "2022-03-08T12:02:00.833Z"
   },
   {
    "duration": 6,
    "start_time": "2022-03-08T12:02:01.180Z"
   },
   {
    "duration": 13,
    "start_time": "2022-03-08T12:02:01.341Z"
   },
   {
    "duration": 15,
    "start_time": "2022-03-08T12:02:01.713Z"
   },
   {
    "duration": 25,
    "start_time": "2022-03-08T12:02:01.895Z"
   },
   {
    "duration": 27,
    "start_time": "2022-03-08T12:02:02.460Z"
   },
   {
    "duration": 4,
    "start_time": "2022-03-08T12:02:03.017Z"
   },
   {
    "duration": 16,
    "start_time": "2022-03-08T12:02:03.191Z"
   },
   {
    "duration": 6,
    "start_time": "2022-03-08T12:02:03.533Z"
   },
   {
    "duration": 3,
    "start_time": "2022-03-08T12:02:03.706Z"
   },
   {
    "duration": 28,
    "start_time": "2022-03-08T12:02:03.910Z"
   },
   {
    "duration": 3,
    "start_time": "2022-03-08T12:02:04.597Z"
   },
   {
    "duration": 15,
    "start_time": "2022-03-08T12:02:04.934Z"
   },
   {
    "duration": 28,
    "start_time": "2022-03-08T12:02:05.114Z"
   },
   {
    "duration": 26,
    "start_time": "2022-03-08T12:02:05.831Z"
   },
   {
    "duration": 21,
    "start_time": "2022-03-08T12:02:06.537Z"
   },
   {
    "duration": 19,
    "start_time": "2022-03-08T12:02:07.567Z"
   },
   {
    "duration": 3,
    "start_time": "2022-03-08T12:03:16.683Z"
   },
   {
    "duration": 1468,
    "start_time": "2022-03-08T12:03:17.119Z"
   },
   {
    "duration": -3899,
    "start_time": "2022-03-08T12:03:22.488Z"
   },
   {
    "duration": 5,
    "start_time": "2022-03-08T12:04:08.237Z"
   },
   {
    "duration": 1438,
    "start_time": "2022-03-08T12:04:08.753Z"
   },
   {
    "duration": 22,
    "start_time": "2022-03-08T12:04:10.430Z"
   },
   {
    "duration": 1477,
    "start_time": "2022-03-08T12:05:44.887Z"
   },
   {
    "duration": -3892,
    "start_time": "2022-03-08T12:05:50.258Z"
   },
   {
    "duration": 3,
    "start_time": "2022-03-08T12:12:05.947Z"
   },
   {
    "duration": 22,
    "start_time": "2022-03-08T12:12:06.699Z"
   },
   {
    "duration": 19,
    "start_time": "2022-03-08T12:12:40.628Z"
   },
   {
    "duration": 16,
    "start_time": "2022-03-08T12:12:49.589Z"
   },
   {
    "duration": 335,
    "start_time": "2022-03-08T12:12:53.850Z"
   },
   {
    "duration": 334,
    "start_time": "2022-03-08T12:19:30.760Z"
   },
   {
    "duration": 11,
    "start_time": "2022-03-08T12:19:57.751Z"
   },
   {
    "duration": 45,
    "start_time": "2022-03-08T12:20:05.325Z"
   },
   {
    "duration": 18,
    "start_time": "2022-03-08T12:20:05.502Z"
   },
   {
    "duration": 10,
    "start_time": "2022-03-08T12:20:06.260Z"
   },
   {
    "duration": 5,
    "start_time": "2022-03-08T12:20:06.617Z"
   },
   {
    "duration": 14,
    "start_time": "2022-03-08T12:20:06.980Z"
   },
   {
    "duration": 5,
    "start_time": "2022-03-08T12:20:07.526Z"
   },
   {
    "duration": 5,
    "start_time": "2022-03-08T12:20:07.717Z"
   },
   {
    "duration": 10,
    "start_time": "2022-03-08T12:20:08.237Z"
   },
   {
    "duration": 12,
    "start_time": "2022-03-08T12:20:08.923Z"
   },
   {
    "duration": 11,
    "start_time": "2022-03-08T12:20:09.441Z"
   },
   {
    "duration": 13,
    "start_time": "2022-03-08T12:20:09.979Z"
   },
   {
    "duration": 27,
    "start_time": "2022-03-08T12:20:10.338Z"
   },
   {
    "duration": 4,
    "start_time": "2022-03-08T12:20:10.693Z"
   },
   {
    "duration": 13,
    "start_time": "2022-03-08T12:20:10.858Z"
   },
   {
    "duration": 23,
    "start_time": "2022-03-08T12:20:11.213Z"
   },
   {
    "duration": 35,
    "start_time": "2022-03-08T12:20:11.392Z"
   },
   {
    "duration": 31,
    "start_time": "2022-03-08T12:20:11.924Z"
   },
   {
    "duration": 4,
    "start_time": "2022-03-08T12:20:12.472Z"
   },
   {
    "duration": 16,
    "start_time": "2022-03-08T12:20:12.660Z"
   },
   {
    "duration": 13,
    "start_time": "2022-03-08T12:20:13.006Z"
   },
   {
    "duration": 3,
    "start_time": "2022-03-08T12:20:13.176Z"
   },
   {
    "duration": 15,
    "start_time": "2022-03-08T12:20:13.345Z"
   },
   {
    "duration": 3,
    "start_time": "2022-03-08T12:20:14.086Z"
   },
   {
    "duration": 13,
    "start_time": "2022-03-08T12:20:14.263Z"
   },
   {
    "duration": 25,
    "start_time": "2022-03-08T12:20:14.471Z"
   },
   {
    "duration": 24,
    "start_time": "2022-03-08T12:20:15.417Z"
   },
   {
    "duration": 18,
    "start_time": "2022-03-08T12:20:16.092Z"
   },
   {
    "duration": 25,
    "start_time": "2022-03-08T12:20:17.068Z"
   },
   {
    "duration": 3,
    "start_time": "2022-03-08T12:20:49.578Z"
   },
   {
    "duration": 15,
    "start_time": "2022-03-08T12:20:50.958Z"
   },
   {
    "duration": 623,
    "start_time": "2022-03-08T12:21:00.730Z"
   },
   {
    "duration": 21,
    "start_time": "2022-03-08T12:21:01.355Z"
   },
   {
    "duration": 35,
    "start_time": "2022-03-08T12:21:01.378Z"
   },
   {
    "duration": 8,
    "start_time": "2022-03-08T12:21:01.416Z"
   },
   {
    "duration": 20,
    "start_time": "2022-03-08T12:21:01.425Z"
   },
   {
    "duration": 6,
    "start_time": "2022-03-08T12:21:01.447Z"
   },
   {
    "duration": 12,
    "start_time": "2022-03-08T12:21:01.454Z"
   },
   {
    "duration": 23,
    "start_time": "2022-03-08T12:21:01.468Z"
   },
   {
    "duration": 11,
    "start_time": "2022-03-08T12:21:01.493Z"
   },
   {
    "duration": 28,
    "start_time": "2022-03-08T12:21:01.506Z"
   },
   {
    "duration": 29,
    "start_time": "2022-03-08T12:21:01.536Z"
   },
   {
    "duration": 25,
    "start_time": "2022-03-08T12:21:01.566Z"
   },
   {
    "duration": 4,
    "start_time": "2022-03-08T12:21:01.592Z"
   },
   {
    "duration": 27,
    "start_time": "2022-03-08T12:21:01.598Z"
   },
   {
    "duration": 35,
    "start_time": "2022-03-08T12:21:01.627Z"
   },
   {
    "duration": 27,
    "start_time": "2022-03-08T12:21:01.664Z"
   },
   {
    "duration": 32,
    "start_time": "2022-03-08T12:21:01.693Z"
   },
   {
    "duration": 15,
    "start_time": "2022-03-08T12:21:01.727Z"
   },
   {
    "duration": 23,
    "start_time": "2022-03-08T12:21:01.743Z"
   },
   {
    "duration": 23,
    "start_time": "2022-03-08T12:21:01.767Z"
   },
   {
    "duration": 17,
    "start_time": "2022-03-08T12:21:01.791Z"
   },
   {
    "duration": 40,
    "start_time": "2022-03-08T12:21:01.809Z"
   },
   {
    "duration": 17,
    "start_time": "2022-03-08T12:21:01.852Z"
   },
   {
    "duration": 29,
    "start_time": "2022-03-08T12:21:01.871Z"
   },
   {
    "duration": 37,
    "start_time": "2022-03-08T12:21:01.901Z"
   },
   {
    "duration": 23,
    "start_time": "2022-03-08T12:21:01.939Z"
   },
   {
    "duration": 20,
    "start_time": "2022-03-08T12:21:01.963Z"
   },
   {
    "duration": 29,
    "start_time": "2022-03-08T12:21:01.984Z"
   },
   {
    "duration": 2,
    "start_time": "2022-03-08T12:22:23.234Z"
   },
   {
    "duration": 25,
    "start_time": "2022-03-08T12:22:24.125Z"
   },
   {
    "duration": 16,
    "start_time": "2022-03-08T12:22:37.368Z"
   },
   {
    "duration": 659,
    "start_time": "2022-03-08T12:22:42.676Z"
   },
   {
    "duration": 18,
    "start_time": "2022-03-08T12:22:43.337Z"
   },
   {
    "duration": 10,
    "start_time": "2022-03-08T12:22:43.357Z"
   },
   {
    "duration": 3,
    "start_time": "2022-03-08T12:22:43.369Z"
   },
   {
    "duration": 36,
    "start_time": "2022-03-08T12:22:43.374Z"
   },
   {
    "duration": 4,
    "start_time": "2022-03-08T12:22:43.411Z"
   },
   {
    "duration": 25,
    "start_time": "2022-03-08T12:22:43.417Z"
   },
   {
    "duration": 10,
    "start_time": "2022-03-08T12:22:43.444Z"
   },
   {
    "duration": 10,
    "start_time": "2022-03-08T12:22:43.456Z"
   },
   {
    "duration": 9,
    "start_time": "2022-03-08T12:22:43.467Z"
   },
   {
    "duration": 18,
    "start_time": "2022-03-08T12:22:43.478Z"
   },
   {
    "duration": 37,
    "start_time": "2022-03-08T12:22:43.497Z"
   },
   {
    "duration": 4,
    "start_time": "2022-03-08T12:22:43.535Z"
   },
   {
    "duration": 16,
    "start_time": "2022-03-08T12:22:43.541Z"
   },
   {
    "duration": 13,
    "start_time": "2022-03-08T12:22:43.559Z"
   },
   {
    "duration": 59,
    "start_time": "2022-03-08T12:22:43.573Z"
   },
   {
    "duration": 28,
    "start_time": "2022-03-08T12:22:43.634Z"
   },
   {
    "duration": 3,
    "start_time": "2022-03-08T12:22:43.664Z"
   },
   {
    "duration": 42,
    "start_time": "2022-03-08T12:22:43.668Z"
   },
   {
    "duration": 7,
    "start_time": "2022-03-08T12:22:43.712Z"
   },
   {
    "duration": 7,
    "start_time": "2022-03-08T12:22:43.722Z"
   },
   {
    "duration": 16,
    "start_time": "2022-03-08T12:22:43.730Z"
   },
   {
    "duration": 3,
    "start_time": "2022-03-08T12:22:43.749Z"
   },
   {
    "duration": 14,
    "start_time": "2022-03-08T12:22:43.754Z"
   },
   {
    "duration": 57,
    "start_time": "2022-03-08T12:22:43.769Z"
   },
   {
    "duration": 22,
    "start_time": "2022-03-08T12:22:43.828Z"
   },
   {
    "duration": 18,
    "start_time": "2022-03-08T12:22:43.851Z"
   },
   {
    "duration": 39,
    "start_time": "2022-03-08T12:22:43.870Z"
   },
   {
    "duration": 363,
    "start_time": "2022-03-08T12:57:22.897Z"
   },
   {
    "duration": 35,
    "start_time": "2022-03-08T12:57:51.426Z"
   },
   {
    "duration": 7,
    "start_time": "2022-03-08T13:01:31.197Z"
   },
   {
    "duration": 4,
    "start_time": "2022-03-08T13:06:14.318Z"
   },
   {
    "duration": 5,
    "start_time": "2022-03-08T13:06:30.962Z"
   },
   {
    "duration": 4,
    "start_time": "2022-03-08T13:07:11.929Z"
   },
   {
    "duration": 290,
    "start_time": "2022-03-08T13:10:37.559Z"
   },
   {
    "duration": 669,
    "start_time": "2022-03-08T13:12:54.383Z"
   },
   {
    "duration": 17,
    "start_time": "2022-03-08T13:12:55.054Z"
   },
   {
    "duration": 9,
    "start_time": "2022-03-08T13:12:55.073Z"
   },
   {
    "duration": 3,
    "start_time": "2022-03-08T13:12:55.083Z"
   },
   {
    "duration": 14,
    "start_time": "2022-03-08T13:12:55.087Z"
   },
   {
    "duration": 9,
    "start_time": "2022-03-08T13:12:55.102Z"
   },
   {
    "duration": 8,
    "start_time": "2022-03-08T13:12:55.115Z"
   },
   {
    "duration": 8,
    "start_time": "2022-03-08T13:12:55.125Z"
   },
   {
    "duration": 11,
    "start_time": "2022-03-08T13:12:55.135Z"
   },
   {
    "duration": 10,
    "start_time": "2022-03-08T13:12:55.148Z"
   },
   {
    "duration": 51,
    "start_time": "2022-03-08T13:12:55.160Z"
   },
   {
    "duration": 8,
    "start_time": "2022-03-08T13:12:55.213Z"
   },
   {
    "duration": 10,
    "start_time": "2022-03-08T13:12:55.223Z"
   },
   {
    "duration": 335,
    "start_time": "2022-03-08T13:12:55.234Z"
   },
   {
    "duration": -3806,
    "start_time": "2022-03-08T13:12:59.377Z"
   },
   {
    "duration": -3808,
    "start_time": "2022-03-08T13:12:59.380Z"
   },
   {
    "duration": -3811,
    "start_time": "2022-03-08T13:12:59.384Z"
   },
   {
    "duration": -3815,
    "start_time": "2022-03-08T13:12:59.389Z"
   },
   {
    "duration": -3818,
    "start_time": "2022-03-08T13:12:59.393Z"
   },
   {
    "duration": -3820,
    "start_time": "2022-03-08T13:12:59.396Z"
   },
   {
    "duration": -3822,
    "start_time": "2022-03-08T13:12:59.399Z"
   },
   {
    "duration": -3825,
    "start_time": "2022-03-08T13:12:59.403Z"
   },
   {
    "duration": -3828,
    "start_time": "2022-03-08T13:12:59.407Z"
   },
   {
    "duration": -3832,
    "start_time": "2022-03-08T13:12:59.411Z"
   },
   {
    "duration": -3834,
    "start_time": "2022-03-08T13:12:59.414Z"
   },
   {
    "duration": -3836,
    "start_time": "2022-03-08T13:12:59.417Z"
   },
   {
    "duration": -3838,
    "start_time": "2022-03-08T13:12:59.420Z"
   },
   {
    "duration": -3841,
    "start_time": "2022-03-08T13:12:59.424Z"
   },
   {
    "duration": -3850,
    "start_time": "2022-03-08T13:12:59.434Z"
   },
   {
    "duration": -3852,
    "start_time": "2022-03-08T13:12:59.437Z"
   },
   {
    "duration": -3855,
    "start_time": "2022-03-08T13:12:59.441Z"
   },
   {
    "duration": -3859,
    "start_time": "2022-03-08T13:12:59.445Z"
   },
   {
    "duration": 313,
    "start_time": "2022-03-08T13:14:54.103Z"
   },
   {
    "duration": 4,
    "start_time": "2022-03-08T13:49:55.815Z"
   },
   {
    "duration": 31,
    "start_time": "2022-03-08T13:49:57.881Z"
   },
   {
    "duration": 7,
    "start_time": "2022-03-08T13:50:00.129Z"
   },
   {
    "duration": 4,
    "start_time": "2022-03-08T13:50:01.273Z"
   },
   {
    "duration": 288,
    "start_time": "2022-03-08T13:50:02.780Z"
   },
   {
    "duration": 11,
    "start_time": "2022-03-08T13:50:21.057Z"
   },
   {
    "duration": 12,
    "start_time": "2022-03-08T14:00:01.527Z"
   },
   {
    "duration": 357,
    "start_time": "2022-03-08T14:00:13.969Z"
   },
   {
    "duration": 6,
    "start_time": "2022-03-08T14:00:20.316Z"
   },
   {
    "duration": 10,
    "start_time": "2022-03-08T14:01:15.640Z"
   },
   {
    "duration": 3,
    "start_time": "2022-03-08T14:03:08.641Z"
   },
   {
    "duration": 621,
    "start_time": "2022-03-08T14:03:12.876Z"
   },
   {
    "duration": 18,
    "start_time": "2022-03-08T14:03:13.499Z"
   },
   {
    "duration": 10,
    "start_time": "2022-03-08T14:03:13.519Z"
   },
   {
    "duration": 3,
    "start_time": "2022-03-08T14:03:13.531Z"
   },
   {
    "duration": 14,
    "start_time": "2022-03-08T14:03:13.536Z"
   },
   {
    "duration": 4,
    "start_time": "2022-03-08T14:03:13.552Z"
   },
   {
    "duration": 11,
    "start_time": "2022-03-08T14:03:13.557Z"
   },
   {
    "duration": 9,
    "start_time": "2022-03-08T14:03:13.570Z"
   },
   {
    "duration": 32,
    "start_time": "2022-03-08T14:03:13.581Z"
   },
   {
    "duration": 9,
    "start_time": "2022-03-08T14:03:13.615Z"
   },
   {
    "duration": 4,
    "start_time": "2022-03-08T14:03:13.626Z"
   },
   {
    "duration": 15,
    "start_time": "2022-03-08T14:03:13.631Z"
   },
   {
    "duration": 4,
    "start_time": "2022-03-08T14:03:13.647Z"
   },
   {
    "duration": 32,
    "start_time": "2022-03-08T14:03:13.652Z"
   },
   {
    "duration": 22,
    "start_time": "2022-03-08T14:03:13.685Z"
   },
   {
    "duration": 5,
    "start_time": "2022-03-08T14:03:13.709Z"
   },
   {
    "duration": 12,
    "start_time": "2022-03-08T14:03:13.716Z"
   },
   {
    "duration": 16,
    "start_time": "2022-03-08T14:03:13.730Z"
   },
   {
    "duration": 24,
    "start_time": "2022-03-08T14:03:13.748Z"
   },
   {
    "duration": 32,
    "start_time": "2022-03-08T14:03:13.774Z"
   },
   {
    "duration": 13,
    "start_time": "2022-03-08T14:03:13.807Z"
   },
   {
    "duration": 16,
    "start_time": "2022-03-08T14:03:13.821Z"
   },
   {
    "duration": 23,
    "start_time": "2022-03-08T14:03:13.840Z"
   },
   {
    "duration": 49,
    "start_time": "2022-03-08T14:03:13.864Z"
   },
   {
    "duration": 3,
    "start_time": "2022-03-08T14:03:13.914Z"
   },
   {
    "duration": 15,
    "start_time": "2022-03-08T14:03:13.919Z"
   },
   {
    "duration": 7,
    "start_time": "2022-03-08T14:03:13.936Z"
   },
   {
    "duration": 3,
    "start_time": "2022-03-08T14:03:13.944Z"
   },
   {
    "duration": 21,
    "start_time": "2022-03-08T14:03:13.948Z"
   },
   {
    "duration": 2,
    "start_time": "2022-03-08T14:03:13.971Z"
   },
   {
    "duration": 39,
    "start_time": "2022-03-08T14:03:13.974Z"
   },
   {
    "duration": 26,
    "start_time": "2022-03-08T14:03:14.014Z"
   },
   {
    "duration": 20,
    "start_time": "2022-03-08T14:03:14.041Z"
   },
   {
    "duration": 16,
    "start_time": "2022-03-08T14:03:14.063Z"
   },
   {
    "duration": 40,
    "start_time": "2022-03-08T14:03:14.080Z"
   },
   {
    "duration": 6,
    "start_time": "2022-03-08T14:06:01.240Z"
   },
   {
    "duration": 5,
    "start_time": "2022-03-08T14:06:01.653Z"
   },
   {
    "duration": 556,
    "start_time": "2022-03-08T14:06:47.163Z"
   },
   {
    "duration": 17,
    "start_time": "2022-03-08T14:06:47.721Z"
   },
   {
    "duration": 9,
    "start_time": "2022-03-08T14:06:47.741Z"
   },
   {
    "duration": 4,
    "start_time": "2022-03-08T14:06:47.751Z"
   },
   {
    "duration": 12,
    "start_time": "2022-03-08T14:06:47.756Z"
   },
   {
    "duration": 3,
    "start_time": "2022-03-08T14:06:47.770Z"
   },
   {
    "duration": 32,
    "start_time": "2022-03-08T14:06:47.775Z"
   },
   {
    "duration": 10,
    "start_time": "2022-03-08T14:06:47.809Z"
   },
   {
    "duration": 13,
    "start_time": "2022-03-08T14:06:47.820Z"
   },
   {
    "duration": 9,
    "start_time": "2022-03-08T14:06:47.835Z"
   },
   {
    "duration": 3,
    "start_time": "2022-03-08T14:06:47.845Z"
   },
   {
    "duration": 14,
    "start_time": "2022-03-08T14:06:47.849Z"
   },
   {
    "duration": 5,
    "start_time": "2022-03-08T14:06:47.864Z"
   },
   {
    "duration": 8,
    "start_time": "2022-03-08T14:06:47.870Z"
   },
   {
    "duration": 27,
    "start_time": "2022-03-08T14:06:47.879Z"
   },
   {
    "duration": 30,
    "start_time": "2022-03-08T14:06:47.908Z"
   },
   {
    "duration": 6,
    "start_time": "2022-03-08T14:06:47.939Z"
   },
   {
    "duration": 3,
    "start_time": "2022-03-08T14:06:47.946Z"
   },
   {
    "duration": 11,
    "start_time": "2022-03-08T14:06:47.951Z"
   },
   {
    "duration": 14,
    "start_time": "2022-03-08T14:06:47.964Z"
   },
   {
    "duration": 24,
    "start_time": "2022-03-08T14:06:48.005Z"
   },
   {
    "duration": 4,
    "start_time": "2022-03-08T14:06:48.031Z"
   },
   {
    "duration": 13,
    "start_time": "2022-03-08T14:06:48.037Z"
   },
   {
    "duration": 13,
    "start_time": "2022-03-08T14:06:48.051Z"
   },
   {
    "duration": 49,
    "start_time": "2022-03-08T14:06:48.065Z"
   },
   {
    "duration": 26,
    "start_time": "2022-03-08T14:06:48.115Z"
   },
   {
    "duration": 3,
    "start_time": "2022-03-08T14:06:48.142Z"
   },
   {
    "duration": 16,
    "start_time": "2022-03-08T14:06:48.146Z"
   },
   {
    "duration": 10,
    "start_time": "2022-03-08T14:06:48.164Z"
   },
   {
    "duration": 3,
    "start_time": "2022-03-08T14:06:48.175Z"
   },
   {
    "duration": 41,
    "start_time": "2022-03-08T14:06:48.179Z"
   },
   {
    "duration": 3,
    "start_time": "2022-03-08T14:06:48.221Z"
   },
   {
    "duration": 16,
    "start_time": "2022-03-08T14:06:48.225Z"
   },
   {
    "duration": 24,
    "start_time": "2022-03-08T14:06:48.242Z"
   },
   {
    "duration": 42,
    "start_time": "2022-03-08T14:06:48.267Z"
   },
   {
    "duration": 16,
    "start_time": "2022-03-08T14:06:48.310Z"
   },
   {
    "duration": 16,
    "start_time": "2022-03-08T14:06:48.327Z"
   },
   {
    "duration": 25,
    "start_time": "2022-03-08T14:15:30.892Z"
   },
   {
    "duration": 49,
    "start_time": "2022-03-08T14:15:45.638Z"
   },
   {
    "duration": 875,
    "start_time": "2022-03-08T14:20:05.169Z"
   },
   {
    "duration": 19,
    "start_time": "2022-03-08T14:20:06.046Z"
   },
   {
    "duration": 11,
    "start_time": "2022-03-08T14:20:06.067Z"
   },
   {
    "duration": 2,
    "start_time": "2022-03-08T14:20:06.080Z"
   },
   {
    "duration": 26,
    "start_time": "2022-03-08T14:20:06.084Z"
   },
   {
    "duration": 4,
    "start_time": "2022-03-08T14:20:06.111Z"
   },
   {
    "duration": 4,
    "start_time": "2022-03-08T14:20:06.117Z"
   },
   {
    "duration": 9,
    "start_time": "2022-03-08T14:20:06.124Z"
   },
   {
    "duration": 11,
    "start_time": "2022-03-08T14:20:06.135Z"
   },
   {
    "duration": 10,
    "start_time": "2022-03-08T14:20:06.148Z"
   },
   {
    "duration": 5,
    "start_time": "2022-03-08T14:20:06.160Z"
   },
   {
    "duration": 48,
    "start_time": "2022-03-08T14:20:06.166Z"
   },
   {
    "duration": 5,
    "start_time": "2022-03-08T14:20:06.216Z"
   },
   {
    "duration": 39,
    "start_time": "2022-03-08T14:20:06.222Z"
   },
   {
    "duration": 6,
    "start_time": "2022-03-08T14:20:06.263Z"
   },
   {
    "duration": 6,
    "start_time": "2022-03-08T14:20:06.271Z"
   },
   {
    "duration": 33,
    "start_time": "2022-03-08T14:20:06.279Z"
   },
   {
    "duration": 33,
    "start_time": "2022-03-08T14:20:06.314Z"
   },
   {
    "duration": 64,
    "start_time": "2022-03-08T14:20:06.349Z"
   },
   {
    "duration": 16,
    "start_time": "2022-03-08T14:20:06.414Z"
   },
   {
    "duration": 26,
    "start_time": "2022-03-08T14:20:06.432Z"
   },
   {
    "duration": 4,
    "start_time": "2022-03-08T14:20:06.460Z"
   },
   {
    "duration": 39,
    "start_time": "2022-03-08T14:20:06.467Z"
   },
   {
    "duration": 16,
    "start_time": "2022-03-08T14:20:06.508Z"
   },
   {
    "duration": 28,
    "start_time": "2022-03-08T14:20:06.526Z"
   },
   {
    "duration": 61,
    "start_time": "2022-03-08T14:20:06.556Z"
   },
   {
    "duration": 4,
    "start_time": "2022-03-08T14:20:06.619Z"
   },
   {
    "duration": 20,
    "start_time": "2022-03-08T14:20:06.625Z"
   },
   {
    "duration": 8,
    "start_time": "2022-03-08T14:20:06.647Z"
   },
   {
    "duration": 3,
    "start_time": "2022-03-08T14:20:06.657Z"
   },
   {
    "duration": 45,
    "start_time": "2022-03-08T14:20:06.661Z"
   },
   {
    "duration": 3,
    "start_time": "2022-03-08T14:20:06.708Z"
   },
   {
    "duration": 19,
    "start_time": "2022-03-08T14:20:06.713Z"
   },
   {
    "duration": 31,
    "start_time": "2022-03-08T14:20:06.733Z"
   },
   {
    "duration": 48,
    "start_time": "2022-03-08T14:20:06.766Z"
   },
   {
    "duration": 20,
    "start_time": "2022-03-08T14:20:06.815Z"
   },
   {
    "duration": 19,
    "start_time": "2022-03-08T14:20:06.836Z"
   },
   {
    "duration": 93,
    "start_time": "2022-03-08T14:22:30.740Z"
   },
   {
    "duration": 678,
    "start_time": "2022-03-08T14:25:18.619Z"
   },
   {
    "duration": 17,
    "start_time": "2022-03-08T14:25:19.299Z"
   },
   {
    "duration": 10,
    "start_time": "2022-03-08T14:25:19.318Z"
   },
   {
    "duration": 3,
    "start_time": "2022-03-08T14:25:19.329Z"
   },
   {
    "duration": 11,
    "start_time": "2022-03-08T14:25:19.334Z"
   },
   {
    "duration": 4,
    "start_time": "2022-03-08T14:25:19.346Z"
   },
   {
    "duration": 4,
    "start_time": "2022-03-08T14:25:19.352Z"
   },
   {
    "duration": 11,
    "start_time": "2022-03-08T14:25:19.357Z"
   },
   {
    "duration": 39,
    "start_time": "2022-03-08T14:25:19.370Z"
   },
   {
    "duration": 10,
    "start_time": "2022-03-08T14:25:19.411Z"
   },
   {
    "duration": 3,
    "start_time": "2022-03-08T14:25:19.422Z"
   },
   {
    "duration": 14,
    "start_time": "2022-03-08T14:25:19.427Z"
   },
   {
    "duration": 6,
    "start_time": "2022-03-08T14:25:19.442Z"
   },
   {
    "duration": 57,
    "start_time": "2022-03-08T14:25:19.449Z"
   },
   {
    "duration": 7,
    "start_time": "2022-03-08T14:25:19.508Z"
   },
   {
    "duration": 4,
    "start_time": "2022-03-08T14:25:19.517Z"
   },
   {
    "duration": 14,
    "start_time": "2022-03-08T14:25:19.523Z"
   },
   {
    "duration": 27,
    "start_time": "2022-03-08T14:25:19.539Z"
   },
   {
    "duration": 71,
    "start_time": "2022-03-08T14:25:19.568Z"
   },
   {
    "duration": 14,
    "start_time": "2022-03-08T14:25:19.641Z"
   },
   {
    "duration": 23,
    "start_time": "2022-03-08T14:25:19.657Z"
   },
   {
    "duration": 4,
    "start_time": "2022-03-08T14:25:19.681Z"
   },
   {
    "duration": 30,
    "start_time": "2022-03-08T14:25:19.688Z"
   },
   {
    "duration": 13,
    "start_time": "2022-03-08T14:25:19.719Z"
   },
   {
    "duration": 24,
    "start_time": "2022-03-08T14:25:19.734Z"
   },
   {
    "duration": 53,
    "start_time": "2022-03-08T14:25:19.760Z"
   },
   {
    "duration": 3,
    "start_time": "2022-03-08T14:25:19.814Z"
   },
   {
    "duration": 15,
    "start_time": "2022-03-08T14:25:19.818Z"
   },
   {
    "duration": 7,
    "start_time": "2022-03-08T14:25:19.835Z"
   },
   {
    "duration": 4,
    "start_time": "2022-03-08T14:25:19.844Z"
   },
   {
    "duration": 15,
    "start_time": "2022-03-08T14:25:19.849Z"
   },
   {
    "duration": 3,
    "start_time": "2022-03-08T14:25:19.866Z"
   },
   {
    "duration": 41,
    "start_time": "2022-03-08T14:25:19.870Z"
   },
   {
    "duration": 27,
    "start_time": "2022-03-08T14:25:19.912Z"
   },
   {
    "duration": 22,
    "start_time": "2022-03-08T14:25:19.941Z"
   },
   {
    "duration": 17,
    "start_time": "2022-03-08T14:25:19.964Z"
   },
   {
    "duration": 39,
    "start_time": "2022-03-08T14:25:19.982Z"
   },
   {
    "duration": 609,
    "start_time": "2022-03-08T14:53:43.005Z"
   },
   {
    "duration": 18,
    "start_time": "2022-03-08T14:53:43.616Z"
   },
   {
    "duration": 9,
    "start_time": "2022-03-08T14:53:43.635Z"
   },
   {
    "duration": 4,
    "start_time": "2022-03-08T14:53:43.645Z"
   },
   {
    "duration": 12,
    "start_time": "2022-03-08T14:53:43.650Z"
   },
   {
    "duration": 5,
    "start_time": "2022-03-08T14:53:43.663Z"
   },
   {
    "duration": 4,
    "start_time": "2022-03-08T14:53:43.669Z"
   },
   {
    "duration": 9,
    "start_time": "2022-03-08T14:53:43.675Z"
   },
   {
    "duration": 29,
    "start_time": "2022-03-08T14:53:43.685Z"
   },
   {
    "duration": 9,
    "start_time": "2022-03-08T14:53:43.716Z"
   },
   {
    "duration": 2,
    "start_time": "2022-03-08T14:53:43.727Z"
   },
   {
    "duration": 14,
    "start_time": "2022-03-08T14:53:43.731Z"
   },
   {
    "duration": 5,
    "start_time": "2022-03-08T14:53:43.746Z"
   },
   {
    "duration": 58,
    "start_time": "2022-03-08T14:53:43.752Z"
   },
   {
    "duration": 6,
    "start_time": "2022-03-08T14:53:43.811Z"
   },
   {
    "duration": 4,
    "start_time": "2022-03-08T14:53:43.818Z"
   },
   {
    "duration": 15,
    "start_time": "2022-03-08T14:53:43.823Z"
   },
   {
    "duration": 26,
    "start_time": "2022-03-08T14:53:43.839Z"
   },
   {
    "duration": 69,
    "start_time": "2022-03-08T14:53:43.867Z"
   },
   {
    "duration": 16,
    "start_time": "2022-03-08T14:53:43.937Z"
   },
   {
    "duration": 23,
    "start_time": "2022-03-08T14:53:43.954Z"
   },
   {
    "duration": 3,
    "start_time": "2022-03-08T14:53:43.979Z"
   },
   {
    "duration": 32,
    "start_time": "2022-03-08T14:53:43.985Z"
   },
   {
    "duration": 14,
    "start_time": "2022-03-08T14:53:44.019Z"
   },
   {
    "duration": 24,
    "start_time": "2022-03-08T14:53:44.034Z"
   },
   {
    "duration": 50,
    "start_time": "2022-03-08T14:53:44.060Z"
   },
   {
    "duration": 2,
    "start_time": "2022-03-08T14:53:44.112Z"
   },
   {
    "duration": 16,
    "start_time": "2022-03-08T14:53:44.116Z"
   },
   {
    "duration": 8,
    "start_time": "2022-03-08T14:53:44.133Z"
   },
   {
    "duration": 5,
    "start_time": "2022-03-08T14:53:44.142Z"
   },
   {
    "duration": 18,
    "start_time": "2022-03-08T14:53:44.148Z"
   },
   {
    "duration": 3,
    "start_time": "2022-03-08T14:53:44.167Z"
   },
   {
    "duration": 35,
    "start_time": "2022-03-08T14:53:44.171Z"
   },
   {
    "duration": 26,
    "start_time": "2022-03-08T14:53:44.208Z"
   },
   {
    "duration": 22,
    "start_time": "2022-03-08T14:53:44.235Z"
   },
   {
    "duration": 17,
    "start_time": "2022-03-08T14:53:44.258Z"
   },
   {
    "duration": 43,
    "start_time": "2022-03-08T14:53:44.276Z"
   },
   {
    "duration": 623,
    "start_time": "2022-03-08T15:00:38.815Z"
   },
   {
    "duration": 19,
    "start_time": "2022-03-08T15:00:39.440Z"
   },
   {
    "duration": 11,
    "start_time": "2022-03-08T15:00:39.464Z"
   },
   {
    "duration": 7,
    "start_time": "2022-03-08T15:00:39.476Z"
   },
   {
    "duration": 11,
    "start_time": "2022-03-08T15:00:39.506Z"
   },
   {
    "duration": 6,
    "start_time": "2022-03-08T15:00:39.519Z"
   },
   {
    "duration": 5,
    "start_time": "2022-03-08T15:00:39.526Z"
   },
   {
    "duration": 14,
    "start_time": "2022-03-08T15:00:39.534Z"
   },
   {
    "duration": 13,
    "start_time": "2022-03-08T15:00:39.550Z"
   },
   {
    "duration": 10,
    "start_time": "2022-03-08T15:00:39.564Z"
   },
   {
    "duration": 31,
    "start_time": "2022-03-08T15:00:39.575Z"
   },
   {
    "duration": 17,
    "start_time": "2022-03-08T15:00:39.608Z"
   },
   {
    "duration": 5,
    "start_time": "2022-03-08T15:00:39.627Z"
   },
   {
    "duration": 32,
    "start_time": "2022-03-08T15:00:39.633Z"
   },
   {
    "duration": 5,
    "start_time": "2022-03-08T15:00:39.667Z"
   },
   {
    "duration": 5,
    "start_time": "2022-03-08T15:00:39.674Z"
   },
   {
    "duration": 12,
    "start_time": "2022-03-08T15:00:39.705Z"
   },
   {
    "duration": 27,
    "start_time": "2022-03-08T15:00:39.719Z"
   },
   {
    "duration": 62,
    "start_time": "2022-03-08T15:00:39.748Z"
   },
   {
    "duration": 16,
    "start_time": "2022-03-08T15:00:39.812Z"
   },
   {
    "duration": 26,
    "start_time": "2022-03-08T15:00:39.829Z"
   },
   {
    "duration": 5,
    "start_time": "2022-03-08T15:00:39.857Z"
   },
   {
    "duration": 43,
    "start_time": "2022-03-08T15:00:39.864Z"
   },
   {
    "duration": 15,
    "start_time": "2022-03-08T15:00:39.908Z"
   },
   {
    "duration": 25,
    "start_time": "2022-03-08T15:00:39.925Z"
   },
   {
    "duration": 56,
    "start_time": "2022-03-08T15:00:39.954Z"
   },
   {
    "duration": 3,
    "start_time": "2022-03-08T15:00:40.012Z"
   },
   {
    "duration": 17,
    "start_time": "2022-03-08T15:00:40.016Z"
   },
   {
    "duration": 10,
    "start_time": "2022-03-08T15:00:40.034Z"
   },
   {
    "duration": 3,
    "start_time": "2022-03-08T15:00:40.045Z"
   },
   {
    "duration": 18,
    "start_time": "2022-03-08T15:00:40.049Z"
   },
   {
    "duration": 5,
    "start_time": "2022-03-08T15:00:40.068Z"
   },
   {
    "duration": 43,
    "start_time": "2022-03-08T15:00:40.074Z"
   },
   {
    "duration": 30,
    "start_time": "2022-03-08T15:00:40.118Z"
   },
   {
    "duration": 24,
    "start_time": "2022-03-08T15:00:40.149Z"
   },
   {
    "duration": 38,
    "start_time": "2022-03-08T15:00:40.174Z"
   },
   {
    "duration": 17,
    "start_time": "2022-03-08T15:00:40.213Z"
   },
   {
    "duration": 618,
    "start_time": "2022-03-08T15:10:15.912Z"
   },
   {
    "duration": 18,
    "start_time": "2022-03-08T15:10:16.532Z"
   },
   {
    "duration": 10,
    "start_time": "2022-03-08T15:10:16.551Z"
   },
   {
    "duration": 2,
    "start_time": "2022-03-08T15:10:16.563Z"
   },
   {
    "duration": 12,
    "start_time": "2022-03-08T15:10:16.567Z"
   },
   {
    "duration": 25,
    "start_time": "2022-03-08T15:10:16.580Z"
   },
   {
    "duration": 6,
    "start_time": "2022-03-08T15:10:16.607Z"
   },
   {
    "duration": 11,
    "start_time": "2022-03-08T15:10:16.615Z"
   },
   {
    "duration": 10,
    "start_time": "2022-03-08T15:10:16.628Z"
   },
   {
    "duration": 10,
    "start_time": "2022-03-08T15:10:16.640Z"
   },
   {
    "duration": 3,
    "start_time": "2022-03-08T15:10:16.651Z"
   },
   {
    "duration": 15,
    "start_time": "2022-03-08T15:10:16.655Z"
   },
   {
    "duration": 5,
    "start_time": "2022-03-08T15:10:16.671Z"
   },
   {
    "duration": 31,
    "start_time": "2022-03-08T15:10:16.705Z"
   },
   {
    "duration": 5,
    "start_time": "2022-03-08T15:10:16.738Z"
   },
   {
    "duration": 3,
    "start_time": "2022-03-08T15:10:16.745Z"
   },
   {
    "duration": 14,
    "start_time": "2022-03-08T15:10:16.750Z"
   },
   {
    "duration": 45,
    "start_time": "2022-03-08T15:10:16.765Z"
   },
   {
    "duration": 46,
    "start_time": "2022-03-08T15:10:16.812Z"
   },
   {
    "duration": 14,
    "start_time": "2022-03-08T15:10:16.860Z"
   },
   {
    "duration": 40,
    "start_time": "2022-03-08T15:10:16.875Z"
   },
   {
    "duration": 4,
    "start_time": "2022-03-08T15:10:16.916Z"
   },
   {
    "duration": 13,
    "start_time": "2022-03-08T15:10:16.922Z"
   },
   {
    "duration": 12,
    "start_time": "2022-03-08T15:10:16.937Z"
   },
   {
    "duration": 26,
    "start_time": "2022-03-08T15:10:16.951Z"
   },
   {
    "duration": 50,
    "start_time": "2022-03-08T15:10:16.978Z"
   },
   {
    "duration": 2,
    "start_time": "2022-03-08T15:10:17.030Z"
   },
   {
    "duration": 16,
    "start_time": "2022-03-08T15:10:17.034Z"
   },
   {
    "duration": 5,
    "start_time": "2022-03-08T15:10:17.051Z"
   },
   {
    "duration": 3,
    "start_time": "2022-03-08T15:10:17.057Z"
   },
   {
    "duration": 48,
    "start_time": "2022-03-08T15:10:17.061Z"
   },
   {
    "duration": 3,
    "start_time": "2022-03-08T15:10:17.110Z"
   },
   {
    "duration": 16,
    "start_time": "2022-03-08T15:10:17.114Z"
   },
   {
    "duration": 27,
    "start_time": "2022-03-08T15:10:17.131Z"
   },
   {
    "duration": 21,
    "start_time": "2022-03-08T15:10:17.159Z"
   },
   {
    "duration": 36,
    "start_time": "2022-03-08T15:10:17.181Z"
   },
   {
    "duration": 16,
    "start_time": "2022-03-08T15:10:17.219Z"
   },
   {
    "duration": 638,
    "start_time": "2022-03-08T15:11:26.395Z"
   },
   {
    "duration": 20,
    "start_time": "2022-03-08T15:11:27.035Z"
   },
   {
    "duration": 12,
    "start_time": "2022-03-08T15:11:27.057Z"
   },
   {
    "duration": 3,
    "start_time": "2022-03-08T15:11:27.071Z"
   },
   {
    "duration": 31,
    "start_time": "2022-03-08T15:11:27.075Z"
   },
   {
    "duration": 8,
    "start_time": "2022-03-08T15:11:27.108Z"
   },
   {
    "duration": 6,
    "start_time": "2022-03-08T15:11:27.118Z"
   },
   {
    "duration": 10,
    "start_time": "2022-03-08T15:11:27.126Z"
   },
   {
    "duration": 10,
    "start_time": "2022-03-08T15:11:27.138Z"
   },
   {
    "duration": 9,
    "start_time": "2022-03-08T15:11:27.150Z"
   },
   {
    "duration": 4,
    "start_time": "2022-03-08T15:11:27.161Z"
   },
   {
    "duration": 40,
    "start_time": "2022-03-08T15:11:27.166Z"
   },
   {
    "duration": 5,
    "start_time": "2022-03-08T15:11:27.207Z"
   },
   {
    "duration": 31,
    "start_time": "2022-03-08T15:11:27.213Z"
   },
   {
    "duration": 6,
    "start_time": "2022-03-08T15:11:27.246Z"
   },
   {
    "duration": 6,
    "start_time": "2022-03-08T15:11:27.254Z"
   },
   {
    "duration": 13,
    "start_time": "2022-03-08T15:11:27.262Z"
   },
   {
    "duration": 46,
    "start_time": "2022-03-08T15:11:27.277Z"
   },
   {
    "duration": 45,
    "start_time": "2022-03-08T15:11:27.324Z"
   },
   {
    "duration": 15,
    "start_time": "2022-03-08T15:11:27.370Z"
   },
   {
    "duration": 24,
    "start_time": "2022-03-08T15:11:27.405Z"
   },
   {
    "duration": 4,
    "start_time": "2022-03-08T15:11:27.430Z"
   },
   {
    "duration": 13,
    "start_time": "2022-03-08T15:11:27.436Z"
   },
   {
    "duration": 15,
    "start_time": "2022-03-08T15:11:27.451Z"
   },
   {
    "duration": 47,
    "start_time": "2022-03-08T15:11:27.467Z"
   },
   {
    "duration": 25,
    "start_time": "2022-03-08T15:11:27.515Z"
   },
   {
    "duration": 3,
    "start_time": "2022-03-08T15:11:27.542Z"
   },
   {
    "duration": 20,
    "start_time": "2022-03-08T15:11:27.546Z"
   },
   {
    "duration": 4,
    "start_time": "2022-03-08T15:11:27.567Z"
   },
   {
    "duration": 3,
    "start_time": "2022-03-08T15:11:27.573Z"
   },
   {
    "duration": 16,
    "start_time": "2022-03-08T15:11:27.605Z"
   },
   {
    "duration": 4,
    "start_time": "2022-03-08T15:11:27.622Z"
   },
   {
    "duration": 15,
    "start_time": "2022-03-08T15:11:27.628Z"
   },
   {
    "duration": 29,
    "start_time": "2022-03-08T15:11:27.645Z"
   },
   {
    "duration": 43,
    "start_time": "2022-03-08T15:11:27.676Z"
   },
   {
    "duration": 17,
    "start_time": "2022-03-08T15:11:27.720Z"
   },
   {
    "duration": 16,
    "start_time": "2022-03-08T15:11:27.739Z"
   },
   {
    "duration": 626,
    "start_time": "2022-03-08T15:14:19.887Z"
   },
   {
    "duration": 19,
    "start_time": "2022-03-08T15:14:20.515Z"
   },
   {
    "duration": 11,
    "start_time": "2022-03-08T15:14:20.537Z"
   },
   {
    "duration": 3,
    "start_time": "2022-03-08T15:14:20.550Z"
   },
   {
    "duration": 12,
    "start_time": "2022-03-08T15:14:20.555Z"
   },
   {
    "duration": 4,
    "start_time": "2022-03-08T15:14:20.569Z"
   },
   {
    "duration": 7,
    "start_time": "2022-03-08T15:14:20.574Z"
   },
   {
    "duration": 29,
    "start_time": "2022-03-08T15:14:20.583Z"
   },
   {
    "duration": 10,
    "start_time": "2022-03-08T15:14:20.614Z"
   },
   {
    "duration": 8,
    "start_time": "2022-03-08T15:14:20.626Z"
   },
   {
    "duration": 4,
    "start_time": "2022-03-08T15:14:20.636Z"
   },
   {
    "duration": 14,
    "start_time": "2022-03-08T15:14:20.641Z"
   },
   {
    "duration": 5,
    "start_time": "2022-03-08T15:14:20.656Z"
   },
   {
    "duration": 59,
    "start_time": "2022-03-08T15:14:20.662Z"
   },
   {
    "duration": 6,
    "start_time": "2022-03-08T15:14:20.723Z"
   },
   {
    "duration": 7,
    "start_time": "2022-03-08T15:14:20.730Z"
   },
   {
    "duration": 17,
    "start_time": "2022-03-08T15:14:20.739Z"
   },
   {
    "duration": 25,
    "start_time": "2022-03-08T15:14:20.758Z"
   },
   {
    "duration": 59,
    "start_time": "2022-03-08T15:14:20.785Z"
   },
   {
    "duration": 14,
    "start_time": "2022-03-08T15:14:20.845Z"
   },
   {
    "duration": 23,
    "start_time": "2022-03-08T15:14:20.860Z"
   },
   {
    "duration": 21,
    "start_time": "2022-03-08T15:14:20.885Z"
   },
   {
    "duration": 13,
    "start_time": "2022-03-08T15:14:20.909Z"
   },
   {
    "duration": 21,
    "start_time": "2022-03-08T15:14:20.924Z"
   },
   {
    "duration": 24,
    "start_time": "2022-03-08T15:14:20.946Z"
   },
   {
    "duration": 49,
    "start_time": "2022-03-08T15:14:20.972Z"
   },
   {
    "duration": 2,
    "start_time": "2022-03-08T15:14:21.023Z"
   },
   {
    "duration": 16,
    "start_time": "2022-03-08T15:14:21.027Z"
   },
   {
    "duration": 9,
    "start_time": "2022-03-08T15:14:21.044Z"
   },
   {
    "duration": 3,
    "start_time": "2022-03-08T15:14:21.054Z"
   },
   {
    "duration": 17,
    "start_time": "2022-03-08T15:14:21.058Z"
   },
   {
    "duration": 2,
    "start_time": "2022-03-08T15:14:21.077Z"
   },
   {
    "duration": 36,
    "start_time": "2022-03-08T15:14:21.080Z"
   },
   {
    "duration": 27,
    "start_time": "2022-03-08T15:14:21.118Z"
   },
   {
    "duration": 21,
    "start_time": "2022-03-08T15:14:21.147Z"
   },
   {
    "duration": 38,
    "start_time": "2022-03-08T15:14:21.169Z"
   },
   {
    "duration": 18,
    "start_time": "2022-03-08T15:14:21.208Z"
   },
   {
    "duration": 599,
    "start_time": "2022-03-08T15:16:58.223Z"
   },
   {
    "duration": 17,
    "start_time": "2022-03-08T15:16:58.824Z"
   },
   {
    "duration": 10,
    "start_time": "2022-03-08T15:16:58.843Z"
   },
   {
    "duration": 3,
    "start_time": "2022-03-08T15:16:58.855Z"
   },
   {
    "duration": 13,
    "start_time": "2022-03-08T15:16:58.859Z"
   },
   {
    "duration": 4,
    "start_time": "2022-03-08T15:16:58.873Z"
   },
   {
    "duration": 29,
    "start_time": "2022-03-08T15:16:58.878Z"
   },
   {
    "duration": 9,
    "start_time": "2022-03-08T15:16:58.909Z"
   },
   {
    "duration": 11,
    "start_time": "2022-03-08T15:16:58.920Z"
   },
   {
    "duration": 9,
    "start_time": "2022-03-08T15:16:58.933Z"
   },
   {
    "duration": 4,
    "start_time": "2022-03-08T15:16:58.943Z"
   },
   {
    "duration": 16,
    "start_time": "2022-03-08T15:16:58.948Z"
   },
   {
    "duration": 5,
    "start_time": "2022-03-08T15:16:58.965Z"
   },
   {
    "duration": 63,
    "start_time": "2022-03-08T15:16:58.972Z"
   },
   {
    "duration": 7,
    "start_time": "2022-03-08T15:16:59.037Z"
   },
   {
    "duration": 5,
    "start_time": "2022-03-08T15:16:59.046Z"
   },
   {
    "duration": 14,
    "start_time": "2022-03-08T15:16:59.052Z"
   },
   {
    "duration": 55,
    "start_time": "2022-03-08T15:16:59.068Z"
   },
   {
    "duration": 47,
    "start_time": "2022-03-08T15:16:59.125Z"
   },
   {
    "duration": 14,
    "start_time": "2022-03-08T15:16:59.174Z"
   },
   {
    "duration": 38,
    "start_time": "2022-03-08T15:16:59.189Z"
   },
   {
    "duration": 4,
    "start_time": "2022-03-08T15:16:59.229Z"
   },
   {
    "duration": 12,
    "start_time": "2022-03-08T15:16:59.236Z"
   },
   {
    "duration": 13,
    "start_time": "2022-03-08T15:16:59.250Z"
   },
   {
    "duration": 49,
    "start_time": "2022-03-08T15:16:59.264Z"
   },
   {
    "duration": 25,
    "start_time": "2022-03-08T15:16:59.314Z"
   },
   {
    "duration": 3,
    "start_time": "2022-03-08T15:16:59.340Z"
   },
   {
    "duration": 18,
    "start_time": "2022-03-08T15:16:59.344Z"
   },
   {
    "duration": 5,
    "start_time": "2022-03-08T15:16:59.363Z"
   },
   {
    "duration": 2,
    "start_time": "2022-03-08T15:16:59.369Z"
   },
   {
    "duration": 45,
    "start_time": "2022-03-08T15:16:59.373Z"
   },
   {
    "duration": 2,
    "start_time": "2022-03-08T15:16:59.420Z"
   },
   {
    "duration": 14,
    "start_time": "2022-03-08T15:16:59.424Z"
   },
   {
    "duration": 27,
    "start_time": "2022-03-08T15:16:59.439Z"
   },
   {
    "duration": 39,
    "start_time": "2022-03-08T15:16:59.467Z"
   },
   {
    "duration": 16,
    "start_time": "2022-03-08T15:16:59.507Z"
   },
   {
    "duration": 17,
    "start_time": "2022-03-08T15:16:59.524Z"
   },
   {
    "duration": 655,
    "start_time": "2022-03-08T15:18:03.392Z"
   },
   {
    "duration": 20,
    "start_time": "2022-03-08T15:18:04.048Z"
   },
   {
    "duration": 13,
    "start_time": "2022-03-08T15:18:04.070Z"
   },
   {
    "duration": 3,
    "start_time": "2022-03-08T15:18:04.085Z"
   },
   {
    "duration": 25,
    "start_time": "2022-03-08T15:18:04.090Z"
   },
   {
    "duration": 4,
    "start_time": "2022-03-08T15:18:04.117Z"
   },
   {
    "duration": 5,
    "start_time": "2022-03-08T15:18:04.123Z"
   },
   {
    "duration": 10,
    "start_time": "2022-03-08T15:18:04.131Z"
   },
   {
    "duration": 12,
    "start_time": "2022-03-08T15:18:04.143Z"
   },
   {
    "duration": 11,
    "start_time": "2022-03-08T15:18:04.157Z"
   },
   {
    "duration": 36,
    "start_time": "2022-03-08T15:18:04.169Z"
   },
   {
    "duration": 15,
    "start_time": "2022-03-08T15:18:04.207Z"
   },
   {
    "duration": 5,
    "start_time": "2022-03-08T15:18:04.223Z"
   },
   {
    "duration": 34,
    "start_time": "2022-03-08T15:18:04.230Z"
   },
   {
    "duration": 6,
    "start_time": "2022-03-08T15:18:04.265Z"
   },
   {
    "duration": 4,
    "start_time": "2022-03-08T15:18:04.273Z"
   },
   {
    "duration": 13,
    "start_time": "2022-03-08T15:18:04.305Z"
   },
   {
    "duration": 29,
    "start_time": "2022-03-08T15:18:04.320Z"
   },
   {
    "duration": 67,
    "start_time": "2022-03-08T15:18:04.351Z"
   },
   {
    "duration": 16,
    "start_time": "2022-03-08T15:18:04.419Z"
   },
   {
    "duration": 28,
    "start_time": "2022-03-08T15:18:04.436Z"
   },
   {
    "duration": 5,
    "start_time": "2022-03-08T15:18:04.465Z"
   },
   {
    "duration": 41,
    "start_time": "2022-03-08T15:18:04.472Z"
   },
   {
    "duration": 14,
    "start_time": "2022-03-08T15:18:04.515Z"
   },
   {
    "duration": 24,
    "start_time": "2022-03-08T15:18:04.531Z"
   },
   {
    "duration": 48,
    "start_time": "2022-03-08T15:18:04.556Z"
   },
   {
    "duration": 4,
    "start_time": "2022-03-08T15:18:04.606Z"
   },
   {
    "duration": 18,
    "start_time": "2022-03-08T15:18:04.612Z"
   },
   {
    "duration": 6,
    "start_time": "2022-03-08T15:18:04.632Z"
   },
   {
    "duration": 4,
    "start_time": "2022-03-08T15:18:04.639Z"
   },
   {
    "duration": 18,
    "start_time": "2022-03-08T15:18:04.644Z"
   },
   {
    "duration": 2,
    "start_time": "2022-03-08T15:18:04.664Z"
   },
   {
    "duration": 48,
    "start_time": "2022-03-08T15:18:04.667Z"
   },
   {
    "duration": 27,
    "start_time": "2022-03-08T15:18:04.717Z"
   },
   {
    "duration": 21,
    "start_time": "2022-03-08T15:18:04.746Z"
   },
   {
    "duration": 16,
    "start_time": "2022-03-08T15:18:04.768Z"
   },
   {
    "duration": 35,
    "start_time": "2022-03-08T15:18:04.785Z"
   },
   {
    "duration": 18,
    "start_time": "2022-03-08T15:30:15.986Z"
   },
   {
    "duration": 18,
    "start_time": "2022-03-08T15:30:20.206Z"
   },
   {
    "duration": 18,
    "start_time": "2022-03-08T15:30:25.216Z"
   },
   {
    "duration": 18,
    "start_time": "2022-03-08T15:30:38.046Z"
   },
   {
    "duration": 19,
    "start_time": "2022-03-08T15:30:52.449Z"
   },
   {
    "duration": 107,
    "start_time": "2022-03-08T16:03:28.758Z"
   },
   {
    "duration": 618,
    "start_time": "2022-03-08T16:03:39.748Z"
   },
   {
    "duration": 17,
    "start_time": "2022-03-08T16:03:40.368Z"
   },
   {
    "duration": 11,
    "start_time": "2022-03-08T16:03:40.389Z"
   },
   {
    "duration": 26,
    "start_time": "2022-03-08T16:03:40.401Z"
   },
   {
    "duration": 12,
    "start_time": "2022-03-08T16:03:40.429Z"
   },
   {
    "duration": 4,
    "start_time": "2022-03-08T16:03:40.442Z"
   },
   {
    "duration": 4,
    "start_time": "2022-03-08T16:03:40.447Z"
   },
   {
    "duration": 9,
    "start_time": "2022-03-08T16:03:40.453Z"
   },
   {
    "duration": 13,
    "start_time": "2022-03-08T16:03:40.463Z"
   },
   {
    "duration": 11,
    "start_time": "2022-03-08T16:03:40.477Z"
   },
   {
    "duration": 4,
    "start_time": "2022-03-08T16:03:40.490Z"
   },
   {
    "duration": 14,
    "start_time": "2022-03-08T16:03:40.505Z"
   },
   {
    "duration": 4,
    "start_time": "2022-03-08T16:03:40.521Z"
   },
   {
    "duration": 36,
    "start_time": "2022-03-08T16:03:40.527Z"
   },
   {
    "duration": 6,
    "start_time": "2022-03-08T16:03:40.564Z"
   },
   {
    "duration": 7,
    "start_time": "2022-03-08T16:03:40.571Z"
   },
   {
    "duration": 32,
    "start_time": "2022-03-08T16:03:40.579Z"
   },
   {
    "duration": 26,
    "start_time": "2022-03-08T16:03:40.612Z"
   },
   {
    "duration": 48,
    "start_time": "2022-03-08T16:03:40.640Z"
   },
   {
    "duration": 17,
    "start_time": "2022-03-08T16:03:40.705Z"
   },
   {
    "duration": 27,
    "start_time": "2022-03-08T16:03:40.723Z"
   },
   {
    "duration": 4,
    "start_time": "2022-03-08T16:03:40.752Z"
   },
   {
    "duration": 31,
    "start_time": "2022-03-08T16:03:40.757Z"
   },
   {
    "duration": 23,
    "start_time": "2022-03-08T16:03:40.790Z"
   },
   {
    "duration": 28,
    "start_time": "2022-03-08T16:03:40.814Z"
   },
   {
    "duration": 29,
    "start_time": "2022-03-08T16:03:40.845Z"
   },
   {
    "duration": 31,
    "start_time": "2022-03-08T16:03:40.876Z"
   },
   {
    "duration": 21,
    "start_time": "2022-03-08T16:03:40.909Z"
   },
   {
    "duration": 13,
    "start_time": "2022-03-08T16:03:40.932Z"
   },
   {
    "duration": 4,
    "start_time": "2022-03-08T16:03:40.946Z"
   },
   {
    "duration": 15,
    "start_time": "2022-03-08T16:03:40.951Z"
   },
   {
    "duration": 4,
    "start_time": "2022-03-08T16:03:40.967Z"
   },
   {
    "duration": 15,
    "start_time": "2022-03-08T16:03:40.972Z"
   },
   {
    "duration": 29,
    "start_time": "2022-03-08T16:03:41.005Z"
   },
   {
    "duration": 21,
    "start_time": "2022-03-08T16:03:41.035Z"
   },
   {
    "duration": 17,
    "start_time": "2022-03-08T16:03:41.057Z"
   },
   {
    "duration": 38,
    "start_time": "2022-03-08T16:03:41.075Z"
   }
  ],
  "celltoolbar": "Raw Cell Format",
  "kernelspec": {
   "display_name": "Python 3 (ipykernel)",
   "language": "python",
   "name": "python3"
  },
  "language_info": {
   "codemirror_mode": {
    "name": "ipython",
    "version": 3
   },
   "file_extension": ".py",
   "mimetype": "text/x-python",
   "name": "python",
   "nbconvert_exporter": "python",
   "pygments_lexer": "ipython3",
   "version": "3.12.4"
  },
  "toc": {
   "base_numbering": 1,
   "nav_menu": {
    "height": "12px",
    "width": "160px"
   },
   "number_sections": true,
   "sideBar": true,
   "skip_h1_title": true,
   "title_cell": "Table of Contents",
   "title_sidebar": "Contents",
   "toc_cell": false,
   "toc_position": {
    "height": "calc(100% - 180px)",
    "left": "10px",
    "top": "150px",
    "width": "289.6px"
   },
   "toc_section_display": true,
   "toc_window_display": true
  }
 },
 "nbformat": 4,
 "nbformat_minor": 5
}
