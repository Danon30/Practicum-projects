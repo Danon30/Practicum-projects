{
 "cells": [
  {
   "cell_type": "markdown",
   "metadata": {
    "toc": true
   },
   "source": [
    "<h1>Содержание<span class=\"tocSkip\"></span></h1>\n",
    "<div class=\"toc\"><ul class=\"toc-item\"><li><ul class=\"toc-item\"><li><ul class=\"toc-item\"><li><span><a href=\"#Данила,-привет!\" data-toc-modified-id=\"Данила,-привет!-0.0.1\"><span class=\"toc-item-num\">0.0.1&nbsp;&nbsp;</span>Данила, привет!</a></span></li></ul></li><li><span><a href=\"#Комментарий-от-ревьюера\" data-toc-modified-id=\"Комментарий-от-ревьюера-0.1\"><span class=\"toc-item-num\">0.1&nbsp;&nbsp;</span>Комментарий от ревьюера</a></span></li><li><span><a href=\"#Комментарий-от-ревьюера\" data-toc-modified-id=\"Комментарий-от-ревьюера-0.2\"><span class=\"toc-item-num\">0.2&nbsp;&nbsp;</span>Комментарий от ревьюера</a></span></li><li><span><a href=\"#Комментарий-от-ревьюера\" data-toc-modified-id=\"Комментарий-от-ревьюера-0.3\"><span class=\"toc-item-num\">0.3&nbsp;&nbsp;</span>Комментарий от ревьюера</a></span></li><li><span><a href=\"#Комментарий-студента:\" data-toc-modified-id=\"Комментарий-студента:-0.4\"><span class=\"toc-item-num\">0.4&nbsp;&nbsp;</span>Комментарий студента:</a></span></li><li><span><a href=\"#Комментарий-от-ревьюера-v_1\" data-toc-modified-id=\"Комментарий-от-ревьюера-v_1-0.5\"><span class=\"toc-item-num\">0.5&nbsp;&nbsp;</span>Комментарий от ревьюера v_1</a></span></li><li><span><a href=\"#Комментарий-от-ревьюера-v_2\" data-toc-modified-id=\"Комментарий-от-ревьюера-v_2-0.6\"><span class=\"toc-item-num\">0.6&nbsp;&nbsp;</span>Комментарий от ревьюера v_2</a></span></li></ul></li><li><span><a href=\"#Описание-проекта\" data-toc-modified-id=\"Описание-проекта-1\"><span class=\"toc-item-num\">1&nbsp;&nbsp;</span>Описание проекта</a></span><ul class=\"toc-item\"><li><span><a href=\"#Цель:\" data-toc-modified-id=\"Цель:-1.1\"><span class=\"toc-item-num\">1.1&nbsp;&nbsp;</span>Цель:</a></span></li><li><span><a href=\"#Комментарий-от-ревьюера-v_1\" data-toc-modified-id=\"Комментарий-от-ревьюера-v_1-1.2\"><span class=\"toc-item-num\">1.2&nbsp;&nbsp;</span>Комментарий от ревьюера v_1</a></span></li><li><span><a href=\"#Комментарий-от-ревьюера-v_2\" data-toc-modified-id=\"Комментарий-от-ревьюера-v_2-1.3\"><span class=\"toc-item-num\">1.3&nbsp;&nbsp;</span>Комментарий от ревьюера v_2</a></span></li></ul></li><li><span><a href=\"#Загрузка-данных-и-знакомство-с-ними\" data-toc-modified-id=\"Загрузка-данных-и-знакомство-с-ними-2\"><span class=\"toc-item-num\">2&nbsp;&nbsp;</span>Загрузка данных и знакомство с ними</a></span><ul class=\"toc-item\"><li><span><a href=\"#Загргрузка-библиотек-и-данных\" data-toc-modified-id=\"Загргрузка-библиотек-и-данных-2.1\"><span class=\"toc-item-num\">2.1&nbsp;&nbsp;</span>Загргрузка библиотек и данных</a></span></li><li><span><a href=\"#Комментарий-от-ревьюера-v_1\" data-toc-modified-id=\"Комментарий-от-ревьюера-v_1-2.2\"><span class=\"toc-item-num\">2.2&nbsp;&nbsp;</span>Комментарий от ревьюера v_1</a></span></li><li><span><a href=\"#Знакомство-и-изучение-данных\" data-toc-modified-id=\"Знакомство-и-изучение-данных-2.3\"><span class=\"toc-item-num\">2.3&nbsp;&nbsp;</span>Знакомство и изучение данных</a></span></li><li><span><a href=\"#Описание-данных\" data-toc-modified-id=\"Описание-данных-2.4\"><span class=\"toc-item-num\">2.4&nbsp;&nbsp;</span>Описание данных</a></span></li><li><span><a href=\"#Часть-1.-Задачи\" data-toc-modified-id=\"Часть-1.-Задачи-2.5\"><span class=\"toc-item-num\">2.5&nbsp;&nbsp;</span>Часть 1. Задачи</a></span></li><li><span><a href=\"#Часть-2.-Задачи\" data-toc-modified-id=\"Часть-2.-Задачи-2.6\"><span class=\"toc-item-num\">2.6&nbsp;&nbsp;</span>Часть 2. Задачи</a></span></li><li><span><a href=\"#Вывод\" data-toc-modified-id=\"Вывод-2.7\"><span class=\"toc-item-num\">2.7&nbsp;&nbsp;</span>Вывод</a></span></li></ul></li><li><span><a href=\"#Предобработка-данных\" data-toc-modified-id=\"Предобработка-данных-3\"><span class=\"toc-item-num\">3&nbsp;&nbsp;</span>Предобработка данных</a></span><ul class=\"toc-item\"><li><span><a href=\"#Стиль-заголовков-столбцов\" data-toc-modified-id=\"Стиль-заголовков-столбцов-3.1\"><span class=\"toc-item-num\">3.1&nbsp;&nbsp;</span>Стиль заголовков столбцов</a></span></li><li><span><a href=\"#Замена-типа-данных\" data-toc-modified-id=\"Замена-типа-данных-3.2\"><span class=\"toc-item-num\">3.2&nbsp;&nbsp;</span>Замена типа данных</a></span></li><li><span><a href=\"#Дубликаты-и-пропуски\" data-toc-modified-id=\"Дубликаты-и-пропуски-3.3\"><span class=\"toc-item-num\">3.3&nbsp;&nbsp;</span>Дубликаты и пропуски</a></span></li><li><span><a href=\"#Комментарий-от-ревьюера-v_1\" data-toc-modified-id=\"Комментарий-от-ревьюера-v_1-3.4\"><span class=\"toc-item-num\">3.4&nbsp;&nbsp;</span>Комментарий от ревьюера v_1</a></span></li><li><span><a href=\"#Комментарий-от-ревьюера-v_2\" data-toc-modified-id=\"Комментарий-от-ревьюера-v_2-3.5\"><span class=\"toc-item-num\">3.5&nbsp;&nbsp;</span>Комментарий от ревьюера v_2</a></span></li><li><span><a href=\"#Комментарий-от-ревьюера-v_1\" data-toc-modified-id=\"Комментарий-от-ревьюера-v_1-3.6\"><span class=\"toc-item-num\">3.6&nbsp;&nbsp;</span>Комментарий от ревьюера v_1</a></span></li><li><span><a href=\"#Вывод\" data-toc-modified-id=\"Вывод-3.7\"><span class=\"toc-item-num\">3.7&nbsp;&nbsp;</span>Вывод</a></span></li></ul></li><li><span><a href=\"#Приоритизация-гипотез\" data-toc-modified-id=\"Приоритизация-гипотез-4\"><span class=\"toc-item-num\">4&nbsp;&nbsp;</span>Приоритизация гипотез</a></span><ul class=\"toc-item\"><li><span><a href=\"#Фреймворк-ICE\" data-toc-modified-id=\"Фреймворк-ICE-4.1\"><span class=\"toc-item-num\">4.1&nbsp;&nbsp;</span>Фреймворк ICE</a></span></li><li><span><a href=\"#Фреймворк-RICE\" data-toc-modified-id=\"Фреймворк-RICE-4.2\"><span class=\"toc-item-num\">4.2&nbsp;&nbsp;</span>Фреймворк RICE</a></span></li><li><span><a href=\"#Причины-изменения-приоритизация-гипотез.-Вывод\" data-toc-modified-id=\"Причины-изменения-приоритизация-гипотез.-Вывод-4.3\"><span class=\"toc-item-num\">4.3&nbsp;&nbsp;</span>Причины изменения приоритизация гипотез. Вывод</a></span></li><li><span><a href=\"#Комментарий-от-ревьюера-v_1\" data-toc-modified-id=\"Комментарий-от-ревьюера-v_1-4.4\"><span class=\"toc-item-num\">4.4&nbsp;&nbsp;</span>Комментарий от ревьюера v_1</a></span></li></ul></li><li><span><a href=\"#Анализ-A/B-теста\" data-toc-modified-id=\"Анализ-A/B-теста-5\"><span class=\"toc-item-num\">5&nbsp;&nbsp;</span>Анализ A/B-теста</a></span><ul class=\"toc-item\"><li><span><a href=\"#График-кумулятивной-выручки-по-группам\" data-toc-modified-id=\"График-кумулятивной-выручки-по-группам-5.1\"><span class=\"toc-item-num\">5.1&nbsp;&nbsp;</span>График кумулятивной выручки по группам</a></span></li><li><span><a href=\"#Комментарий-от-ревьюера-v_1\" data-toc-modified-id=\"Комментарий-от-ревьюера-v_1-5.2\"><span class=\"toc-item-num\">5.2&nbsp;&nbsp;</span>Комментарий от ревьюера v_1</a></span></li><li><span><a href=\"#График-кумулятивного-среднего-чека-по-группам\" data-toc-modified-id=\"График-кумулятивного-среднего-чека-по-группам-5.3\"><span class=\"toc-item-num\">5.3&nbsp;&nbsp;</span>График кумулятивного среднего чека по группам</a></span></li><li><span><a href=\"#Комментарий-от-ревьюера-v_1\" data-toc-modified-id=\"Комментарий-от-ревьюера-v_1-5.4\"><span class=\"toc-item-num\">5.4&nbsp;&nbsp;</span>Комментарий от ревьюера v_1</a></span></li><li><span><a href=\"#График-относительного-изменения-кумулятивного-среднего-чека-группы-B-к-группе-A\" data-toc-modified-id=\"График-относительного-изменения-кумулятивного-среднего-чека-группы-B-к-группе-A-5.5\"><span class=\"toc-item-num\">5.5&nbsp;&nbsp;</span>График относительного изменения кумулятивного среднего чека группы B к группе A</a></span></li><li><span><a href=\"#График-кумулятивной-конверсии-по-группам\" data-toc-modified-id=\"График-кумулятивной-конверсии-по-группам-5.6\"><span class=\"toc-item-num\">5.6&nbsp;&nbsp;</span>График кумулятивной конверсии по группам</a></span></li><li><span><a href=\"#Комментарий-от-ревьюера-v_1\" data-toc-modified-id=\"Комментарий-от-ревьюера-v_1-5.7\"><span class=\"toc-item-num\">5.7&nbsp;&nbsp;</span>Комментарий от ревьюера v_1</a></span></li><li><span><a href=\"#График-относительного-изменения-кумулятивной-конверсии-группы-B-к-группе-A\" data-toc-modified-id=\"График-относительного-изменения-кумулятивной-конверсии-группы-B-к-группе-A-5.8\"><span class=\"toc-item-num\">5.8&nbsp;&nbsp;</span>График относительного изменения кумулятивной конверсии группы B к группе A</a></span></li><li><span><a href=\"#Комментарий-от-ревьюера-v_1\" data-toc-modified-id=\"Комментарий-от-ревьюера-v_1-5.9\"><span class=\"toc-item-num\">5.9&nbsp;&nbsp;</span>Комментарий от ревьюера v_1</a></span></li><li><span><a href=\"#Исследование-аномалий\" data-toc-modified-id=\"Исследование-аномалий-5.10\"><span class=\"toc-item-num\">5.10&nbsp;&nbsp;</span>Исследование аномалий</a></span><ul class=\"toc-item\"><li><span><a href=\"#Точечный-график-количества-заказов-по-пользователям\" data-toc-modified-id=\"Точечный-график-количества-заказов-по-пользователям-5.10.1\"><span class=\"toc-item-num\">5.10.1&nbsp;&nbsp;</span>Точечный график количества заказов по пользователям</a></span></li></ul></li><li><span><a href=\"#Комментарий-от-ревьюера-v_1\" data-toc-modified-id=\"Комментарий-от-ревьюера-v_1-5.11\"><span class=\"toc-item-num\">5.11&nbsp;&nbsp;</span>Комментарий от ревьюера v_1</a></span></li><li><span><a href=\"#Комментарий-от-ревьюера-v_2\" data-toc-modified-id=\"Комментарий-от-ревьюера-v_2-5.12\"><span class=\"toc-item-num\">5.12&nbsp;&nbsp;</span>Комментарий от ревьюера v_2</a></span><ul class=\"toc-item\"><li><span><a href=\"#95-й-и-99-й-перцентили-количества-заказов-на-пользователя.\" data-toc-modified-id=\"95-й-и-99-й-перцентили-количества-заказов-на-пользователя.-5.12.1\"><span class=\"toc-item-num\">5.12.1&nbsp;&nbsp;</span>95-й и 99-й перцентили количества заказов на пользователя.</a></span></li><li><span><a href=\"#Точечный-график-стоимостей-заказов.\" data-toc-modified-id=\"Точечный-график-стоимостей-заказов.-5.12.2\"><span class=\"toc-item-num\">5.12.2&nbsp;&nbsp;</span>Точечный график стоимостей заказов.</a></span></li></ul></li><li><span><a href=\"#Комментарий-от-ревьюера-v_1\" data-toc-modified-id=\"Комментарий-от-ревьюера-v_1-5.13\"><span class=\"toc-item-num\">5.13&nbsp;&nbsp;</span>Комментарий от ревьюера v_1</a></span></li><li><span><a href=\"#Комментарий-от-ревьюера-v_2\" data-toc-modified-id=\"Комментарий-от-ревьюера-v_2-5.14\"><span class=\"toc-item-num\">5.14&nbsp;&nbsp;</span>Комментарий от ревьюера v_2</a></span><ul class=\"toc-item\"><li><span><a href=\"#95-й-и-99-й-перцентили-стоимости-заказов\" data-toc-modified-id=\"95-й-и-99-й-перцентили-стоимости-заказов-5.14.1\"><span class=\"toc-item-num\">5.14.1&nbsp;&nbsp;</span>95-й и 99-й перцентили стоимости заказов</a></span></li></ul></li><li><span><a href=\"#Комментарий-от-ревьюера-v_1\" data-toc-modified-id=\"Комментарий-от-ревьюера-v_1-5.15\"><span class=\"toc-item-num\">5.15&nbsp;&nbsp;</span>Комментарий от ревьюера v_1</a></span></li><li><span><a href=\"#Комментарий-от-ревьюера-v_2\" data-toc-modified-id=\"Комментарий-от-ревьюера-v_2-5.16\"><span class=\"toc-item-num\">5.16&nbsp;&nbsp;</span>Комментарий от ревьюера v_2</a></span></li><li><span><a href=\"#Подсчёт-статистической-значимости-различий-в-конверсии-между-группами-по-«сырым»-данным.\" data-toc-modified-id=\"Подсчёт-статистической-значимости-различий-в-конверсии-между-группами-по-«сырым»-данным.-5.17\"><span class=\"toc-item-num\">5.17&nbsp;&nbsp;</span>Подсчёт статистической значимости различий в конверсии между группами по «сырым» данным.</a></span></li><li><span><a href=\"#Комментарий-от-ревьюера-v_1\" data-toc-modified-id=\"Комментарий-от-ревьюера-v_1-5.18\"><span class=\"toc-item-num\">5.18&nbsp;&nbsp;</span>Комментарий от ревьюера v_1</a></span></li><li><span><a href=\"#Комментарий-от-ревьюера-v_1\" data-toc-modified-id=\"Комментарий-от-ревьюера-v_1-5.19\"><span class=\"toc-item-num\">5.19&nbsp;&nbsp;</span>Комментарий от ревьюера v_1</a></span></li><li><span><a href=\"#Комментарий-от-ревьюера-v_1\" data-toc-modified-id=\"Комментарий-от-ревьюера-v_1-5.20\"><span class=\"toc-item-num\">5.20&nbsp;&nbsp;</span>Комментарий от ревьюера v_1</a></span></li><li><span><a href=\"#Комментарий-от-ревьюера-v_1\" data-toc-modified-id=\"Комментарий-от-ревьюера-v_1-5.21\"><span class=\"toc-item-num\">5.21&nbsp;&nbsp;</span>Комментарий от ревьюера v_1</a></span></li><li><span><a href=\"#Посчет-статистической-значимости-различий-в-среднем-чеке-заказа-между-группами-по-«сырым»-данным\" data-toc-modified-id=\"Посчет-статистической-значимости-различий-в-среднем-чеке-заказа-между-группами-по-«сырым»-данным-5.22\"><span class=\"toc-item-num\">5.22&nbsp;&nbsp;</span>Посчет статистической значимости различий в среднем чеке заказа между группами по «сырым» данным</a></span></li><li><span><a href=\"#Комментарий-от-ревьюера-v_1\" data-toc-modified-id=\"Комментарий-от-ревьюера-v_1-5.23\"><span class=\"toc-item-num\">5.23&nbsp;&nbsp;</span>Комментарий от ревьюера v_1</a></span></li><li><span><a href=\"#Комментарий-от-ревьюера-v_2\" data-toc-modified-id=\"Комментарий-от-ревьюера-v_2-5.24\"><span class=\"toc-item-num\">5.24&nbsp;&nbsp;</span>Комментарий от ревьюера v_2</a></span></li><li><span><a href=\"#Статистическая-значимость-различий-в-конверсии-между-группами-по-«очищенным»-данным\" data-toc-modified-id=\"Статистическая-значимость-различий-в-конверсии-между-группами-по-«очищенным»-данным-5.25\"><span class=\"toc-item-num\">5.25&nbsp;&nbsp;</span>Статистическая значимость различий в конверсии между группами по «очищенным» данным</a></span></li><li><span><a href=\"#Комментарий-от-ревьюера-v_1\" data-toc-modified-id=\"Комментарий-от-ревьюера-v_1-5.26\"><span class=\"toc-item-num\">5.26&nbsp;&nbsp;</span>Комментарий от ревьюера v_1</a></span></li><li><span><a href=\"#Комментарий-от-ревьюера-v_2\" data-toc-modified-id=\"Комментарий-от-ревьюера-v_2-5.27\"><span class=\"toc-item-num\">5.27&nbsp;&nbsp;</span>Комментарий от ревьюера v_2</a></span></li><li><span><a href=\"#Комментарий-от-ревьюера-v_1\" data-toc-modified-id=\"Комментарий-от-ревьюера-v_1-5.28\"><span class=\"toc-item-num\">5.28&nbsp;&nbsp;</span>Комментарий от ревьюера v_1</a></span></li><li><span><a href=\"#Комментарий-от-ревьюера-v_2\" data-toc-modified-id=\"Комментарий-от-ревьюера-v_2-5.29\"><span class=\"toc-item-num\">5.29&nbsp;&nbsp;</span>Комментарий от ревьюера v_2</a></span></li><li><span><a href=\"#Статистическая-значимость-различий-в-среднем-чеке-заказа-между-группами-по-«очищенным»-данным.\" data-toc-modified-id=\"Статистическая-значимость-различий-в-среднем-чеке-заказа-между-группами-по-«очищенным»-данным.-5.30\"><span class=\"toc-item-num\">5.30&nbsp;&nbsp;</span>Статистическая значимость различий в среднем чеке заказа между группами по «очищенным» данным.</a></span></li><li><span><a href=\"#Комментарий-от-ревьюера-v_1\" data-toc-modified-id=\"Комментарий-от-ревьюера-v_1-5.31\"><span class=\"toc-item-num\">5.31&nbsp;&nbsp;</span>Комментарий от ревьюера v_1</a></span></li><li><span><a href=\"#Примите-решение-по-результатам-теста-и-объясните-его\" data-toc-modified-id=\"Примите-решение-по-результатам-теста-и-объясните-его-5.32\"><span class=\"toc-item-num\">5.32&nbsp;&nbsp;</span>Примите решение по результатам теста и объясните его</a></span></li><li><span><a href=\"#Комментарий-от-ревьюера-v_1\" data-toc-modified-id=\"Комментарий-от-ревьюера-v_1-5.33\"><span class=\"toc-item-num\">5.33&nbsp;&nbsp;</span>Комментарий от ревьюера v_1</a></span></li><li><span><a href=\"#Выводы-А/В-теста\" data-toc-modified-id=\"Выводы-А/В-теста-5.34\"><span class=\"toc-item-num\">5.34&nbsp;&nbsp;</span>Выводы А/В теста</a></span></li></ul></li><li><span><a href=\"#Общий-вывод\" data-toc-modified-id=\"Общий-вывод-6\"><span class=\"toc-item-num\">6&nbsp;&nbsp;</span>Общий вывод</a></span><ul class=\"toc-item\"><li><span><a href=\"#Комментарий-от-ревьюера-v_1\" data-toc-modified-id=\"Комментарий-от-ревьюера-v_1-6.1\"><span class=\"toc-item-num\">6.1&nbsp;&nbsp;</span>Комментарий от ревьюера v_1</a></span></li></ul></li></ul></div>"
   ]
  },
  {
   "cell_type": "markdown",
   "metadata": {},
   "source": [
    "# Приоритизация гипотез и оценка результатов А/В-теста"
   ]
  },
  {
   "cell_type": "markdown",
   "metadata": {},
   "source": [
    "## Описание проекта\n",
    "\n",
    "Вы — аналитик крупного интернет-магазина. Вместе с отделом маркетинга вы подготовили список гипотез для увеличения выручки.\n",
    "### Цель:\n",
    "* Приоритизировать гипотезы\n",
    "* Запустить A/B-тест \n",
    "* Проанализировать результаты"
   ]
  },
  {
   "cell_type": "markdown",
   "metadata": {},
   "source": [
    "## Загрузка данных и знакомство с ними"
   ]
  },
  {
   "cell_type": "markdown",
   "metadata": {},
   "source": [
    "### Загргрузка библиотек и данных"
   ]
  },
  {
   "cell_type": "markdown",
   "metadata": {},
   "source": [
    "Для начала импортируем необходимые библиотеки"
   ]
  },
  {
   "cell_type": "code",
   "execution_count": 1,
   "metadata": {},
   "outputs": [],
   "source": [
    "import pandas as pd\n",
    "\n",
    "import datetime as dt\n",
    "import seaborn as sns \n",
    "import numpy as np\n",
    "import matplotlib.pyplot as plt \n",
    "import math\n",
    "import warnings\n",
    "from tqdm import tqdm\n",
    "import scipy.stats as stats\n",
    "%matplotlib inline\n",
    "\n",
    "warnings.filterwarnings('ignore')\n",
    "pd.set_option('display.max_colwidth', 300) # для выводов всех символов в записях"
   ]
  },
  {
   "cell_type": "markdown",
   "metadata": {},
   "source": [
    "Пропишем путь к файлам для лакальной работы и для работы в оркружении практикума"
   ]
  },
  {
   "cell_type": "code",
   "execution_count": 2,
   "metadata": {},
   "outputs": [],
   "source": [
    "try:  \n",
    "    hypothesis = pd.read_csv('C:/Users/Danila30/Downloads/GitHub/Принятие решений в бизнесе/hypothesis.csv')\n",
    "    orders = pd.read_csv('C:/Users/Danila30/Downloads/GitHub/Принятие решений в бизнесе/orders.csv')\n",
    "    visitors = pd.read_csv('C:/Users/Danila30/Downloads/GitHub/Принятие решений в бизнесе/visitors.csv')\n",
    "except:\n",
    "    hypothesis = pd.read_csv('/datasets/hypothesis.csv')\n",
    "    orders = pd.read_csv('/datasets/orders.csv')\n",
    "    visitors = pd.read_csv('/datasets/visitors.csv')"
   ]
  },
  {
   "cell_type": "markdown",
   "metadata": {},
   "source": [
    "### Знакомство и изучение данных"
   ]
  },
  {
   "cell_type": "code",
   "execution_count": 3,
   "metadata": {},
   "outputs": [
    {
     "name": "stdout",
     "output_type": "stream",
     "text": [
      "<class 'pandas.core.frame.DataFrame'>\n",
      "RangeIndex: 9 entries, 0 to 8\n",
      "Data columns (total 5 columns):\n",
      " #   Column      Non-Null Count  Dtype \n",
      "---  ------      --------------  ----- \n",
      " 0   Hypothesis  9 non-null      object\n",
      " 1   Reach       9 non-null      int64 \n",
      " 2   Impact      9 non-null      int64 \n",
      " 3   Confidence  9 non-null      int64 \n",
      " 4   Efforts     9 non-null      int64 \n",
      "dtypes: int64(4), object(1)\n",
      "memory usage: 492.0+ bytes\n"
     ]
    },
    {
     "data": {
      "text/html": [
       "<div>\n",
       "<style scoped>\n",
       "    .dataframe tbody tr th:only-of-type {\n",
       "        vertical-align: middle;\n",
       "    }\n",
       "\n",
       "    .dataframe tbody tr th {\n",
       "        vertical-align: top;\n",
       "    }\n",
       "\n",
       "    .dataframe thead th {\n",
       "        text-align: right;\n",
       "    }\n",
       "</style>\n",
       "<table border=\"1\" class=\"dataframe\">\n",
       "  <thead>\n",
       "    <tr style=\"text-align: right;\">\n",
       "      <th></th>\n",
       "      <th>Hypothesis</th>\n",
       "      <th>Reach</th>\n",
       "      <th>Impact</th>\n",
       "      <th>Confidence</th>\n",
       "      <th>Efforts</th>\n",
       "    </tr>\n",
       "  </thead>\n",
       "  <tbody>\n",
       "    <tr>\n",
       "      <th>0</th>\n",
       "      <td>Добавить два новых канала привлечения трафика, что позволит привлекать на 30% больше пользователей</td>\n",
       "      <td>3</td>\n",
       "      <td>10</td>\n",
       "      <td>8</td>\n",
       "      <td>6</td>\n",
       "    </tr>\n",
       "    <tr>\n",
       "      <th>1</th>\n",
       "      <td>Запустить собственную службу доставки, что сократит срок доставки заказов</td>\n",
       "      <td>2</td>\n",
       "      <td>5</td>\n",
       "      <td>4</td>\n",
       "      <td>10</td>\n",
       "    </tr>\n",
       "    <tr>\n",
       "      <th>2</th>\n",
       "      <td>Добавить блоки рекомендаций товаров на сайт интернет магазина, чтобы повысить конверсию и средний чек заказа</td>\n",
       "      <td>8</td>\n",
       "      <td>3</td>\n",
       "      <td>7</td>\n",
       "      <td>3</td>\n",
       "    </tr>\n",
       "    <tr>\n",
       "      <th>3</th>\n",
       "      <td>Изменить структура категорий, что увеличит конверсию, т.к. пользователи быстрее найдут нужный товар</td>\n",
       "      <td>8</td>\n",
       "      <td>3</td>\n",
       "      <td>3</td>\n",
       "      <td>8</td>\n",
       "    </tr>\n",
       "    <tr>\n",
       "      <th>4</th>\n",
       "      <td>Изменить цвет фона главной страницы, чтобы увеличить вовлеченность пользователей</td>\n",
       "      <td>3</td>\n",
       "      <td>1</td>\n",
       "      <td>1</td>\n",
       "      <td>1</td>\n",
       "    </tr>\n",
       "  </tbody>\n",
       "</table>\n",
       "</div>"
      ],
      "text/plain": [
       "                                                                                                     Hypothesis  \\\n",
       "0            Добавить два новых канала привлечения трафика, что позволит привлекать на 30% больше пользователей   \n",
       "1                                     Запустить собственную службу доставки, что сократит срок доставки заказов   \n",
       "2  Добавить блоки рекомендаций товаров на сайт интернет магазина, чтобы повысить конверсию и средний чек заказа   \n",
       "3           Изменить структура категорий, что увеличит конверсию, т.к. пользователи быстрее найдут нужный товар   \n",
       "4                              Изменить цвет фона главной страницы, чтобы увеличить вовлеченность пользователей   \n",
       "\n",
       "   Reach  Impact  Confidence  Efforts  \n",
       "0      3      10           8        6  \n",
       "1      2       5           4       10  \n",
       "2      8       3           7        3  \n",
       "3      8       3           3        8  \n",
       "4      3       1           1        1  "
      ]
     },
     "execution_count": 3,
     "metadata": {},
     "output_type": "execute_result"
    }
   ],
   "source": [
    "hypothesis.info()\n",
    "hypothesis.head()"
   ]
  },
  {
   "cell_type": "code",
   "execution_count": 4,
   "metadata": {},
   "outputs": [
    {
     "name": "stdout",
     "output_type": "stream",
     "text": [
      "<class 'pandas.core.frame.DataFrame'>\n",
      "RangeIndex: 1197 entries, 0 to 1196\n",
      "Data columns (total 5 columns):\n",
      " #   Column         Non-Null Count  Dtype \n",
      "---  ------         --------------  ----- \n",
      " 0   transactionId  1197 non-null   int64 \n",
      " 1   visitorId      1197 non-null   int64 \n",
      " 2   date           1197 non-null   object\n",
      " 3   revenue        1197 non-null   int64 \n",
      " 4   group          1197 non-null   object\n",
      "dtypes: int64(3), object(2)\n",
      "memory usage: 46.9+ KB\n"
     ]
    },
    {
     "data": {
      "text/html": [
       "<div>\n",
       "<style scoped>\n",
       "    .dataframe tbody tr th:only-of-type {\n",
       "        vertical-align: middle;\n",
       "    }\n",
       "\n",
       "    .dataframe tbody tr th {\n",
       "        vertical-align: top;\n",
       "    }\n",
       "\n",
       "    .dataframe thead th {\n",
       "        text-align: right;\n",
       "    }\n",
       "</style>\n",
       "<table border=\"1\" class=\"dataframe\">\n",
       "  <thead>\n",
       "    <tr style=\"text-align: right;\">\n",
       "      <th></th>\n",
       "      <th>transactionId</th>\n",
       "      <th>visitorId</th>\n",
       "      <th>date</th>\n",
       "      <th>revenue</th>\n",
       "      <th>group</th>\n",
       "    </tr>\n",
       "  </thead>\n",
       "  <tbody>\n",
       "    <tr>\n",
       "      <th>0</th>\n",
       "      <td>3667963787</td>\n",
       "      <td>3312258926</td>\n",
       "      <td>2019-08-15</td>\n",
       "      <td>1650</td>\n",
       "      <td>B</td>\n",
       "    </tr>\n",
       "    <tr>\n",
       "      <th>1</th>\n",
       "      <td>2804400009</td>\n",
       "      <td>3642806036</td>\n",
       "      <td>2019-08-15</td>\n",
       "      <td>730</td>\n",
       "      <td>B</td>\n",
       "    </tr>\n",
       "    <tr>\n",
       "      <th>2</th>\n",
       "      <td>2961555356</td>\n",
       "      <td>4069496402</td>\n",
       "      <td>2019-08-15</td>\n",
       "      <td>400</td>\n",
       "      <td>A</td>\n",
       "    </tr>\n",
       "    <tr>\n",
       "      <th>3</th>\n",
       "      <td>3797467345</td>\n",
       "      <td>1196621759</td>\n",
       "      <td>2019-08-15</td>\n",
       "      <td>9759</td>\n",
       "      <td>B</td>\n",
       "    </tr>\n",
       "    <tr>\n",
       "      <th>4</th>\n",
       "      <td>2282983706</td>\n",
       "      <td>2322279887</td>\n",
       "      <td>2019-08-15</td>\n",
       "      <td>2308</td>\n",
       "      <td>B</td>\n",
       "    </tr>\n",
       "  </tbody>\n",
       "</table>\n",
       "</div>"
      ],
      "text/plain": [
       "   transactionId   visitorId        date  revenue group\n",
       "0     3667963787  3312258926  2019-08-15     1650     B\n",
       "1     2804400009  3642806036  2019-08-15      730     B\n",
       "2     2961555356  4069496402  2019-08-15      400     A\n",
       "3     3797467345  1196621759  2019-08-15     9759     B\n",
       "4     2282983706  2322279887  2019-08-15     2308     B"
      ]
     },
     "execution_count": 4,
     "metadata": {},
     "output_type": "execute_result"
    }
   ],
   "source": [
    "orders.info()\n",
    "orders.head()"
   ]
  },
  {
   "cell_type": "code",
   "execution_count": 5,
   "metadata": {},
   "outputs": [
    {
     "name": "stdout",
     "output_type": "stream",
     "text": [
      "<class 'pandas.core.frame.DataFrame'>\n",
      "RangeIndex: 62 entries, 0 to 61\n",
      "Data columns (total 3 columns):\n",
      " #   Column    Non-Null Count  Dtype \n",
      "---  ------    --------------  ----- \n",
      " 0   date      62 non-null     object\n",
      " 1   group     62 non-null     object\n",
      " 2   visitors  62 non-null     int64 \n",
      "dtypes: int64(1), object(2)\n",
      "memory usage: 1.6+ KB\n"
     ]
    },
    {
     "data": {
      "text/html": [
       "<div>\n",
       "<style scoped>\n",
       "    .dataframe tbody tr th:only-of-type {\n",
       "        vertical-align: middle;\n",
       "    }\n",
       "\n",
       "    .dataframe tbody tr th {\n",
       "        vertical-align: top;\n",
       "    }\n",
       "\n",
       "    .dataframe thead th {\n",
       "        text-align: right;\n",
       "    }\n",
       "</style>\n",
       "<table border=\"1\" class=\"dataframe\">\n",
       "  <thead>\n",
       "    <tr style=\"text-align: right;\">\n",
       "      <th></th>\n",
       "      <th>date</th>\n",
       "      <th>group</th>\n",
       "      <th>visitors</th>\n",
       "    </tr>\n",
       "  </thead>\n",
       "  <tbody>\n",
       "    <tr>\n",
       "      <th>0</th>\n",
       "      <td>2019-08-01</td>\n",
       "      <td>A</td>\n",
       "      <td>719</td>\n",
       "    </tr>\n",
       "    <tr>\n",
       "      <th>1</th>\n",
       "      <td>2019-08-02</td>\n",
       "      <td>A</td>\n",
       "      <td>619</td>\n",
       "    </tr>\n",
       "    <tr>\n",
       "      <th>2</th>\n",
       "      <td>2019-08-03</td>\n",
       "      <td>A</td>\n",
       "      <td>507</td>\n",
       "    </tr>\n",
       "    <tr>\n",
       "      <th>3</th>\n",
       "      <td>2019-08-04</td>\n",
       "      <td>A</td>\n",
       "      <td>717</td>\n",
       "    </tr>\n",
       "    <tr>\n",
       "      <th>4</th>\n",
       "      <td>2019-08-05</td>\n",
       "      <td>A</td>\n",
       "      <td>756</td>\n",
       "    </tr>\n",
       "  </tbody>\n",
       "</table>\n",
       "</div>"
      ],
      "text/plain": [
       "         date group  visitors\n",
       "0  2019-08-01     A       719\n",
       "1  2019-08-02     A       619\n",
       "2  2019-08-03     A       507\n",
       "3  2019-08-04     A       717\n",
       "4  2019-08-05     A       756"
      ]
     },
     "execution_count": 5,
     "metadata": {},
     "output_type": "execute_result"
    }
   ],
   "source": [
    "visitors.info()\n",
    "visitors.head()"
   ]
  },
  {
   "cell_type": "markdown",
   "metadata": {},
   "source": [
    "### Описание данных"
   ]
  },
  {
   "cell_type": "markdown",
   "metadata": {},
   "source": [
    "Данные для первой части:\n",
    "\n",
    "Hypothesis (Данные для первой части) - 5 столбцов, 9 строк, 2 типа данных: int64 и object.\n",
    "* Hypothesis — краткое описание гипотезы;\n",
    "* Reach — охват пользователей по 10-балльной шкале;\n",
    "* Impact — влияние на пользователей по 10-балльной шкале;\n",
    "* Confidence — уверенность в гипотезе по 10-балльной шкале;\n",
    "* Efforts — затраты ресурсов на проверку гипотезы по 10-балльной шкале. Чем больше значение Efforts, тем дороже проверка гипотезы.\n",
    "\n",
    "Данные для второй части:\n",
    "Orders(Данные для второй части) - 5 столбцов, 1197 строк, 2 типа данных: int64 и object.\n",
    "* transactionId — идентификатор заказа;\n",
    "* visitorId — идентификатор пользователя, совершившего заказ;\n",
    "* date — дата, когда был совершён заказ;\n",
    "* revenue — выручка заказа;\n",
    "* group — группа A/B-теста, в которую попал заказ.\n",
    "\n",
    "Visitors(Данные для второй части) - 3 столбца, 62 строки, 2 типа данных: int64 и object.\n",
    "* date — дата;\n",
    "* group — группа A/B-теста;\n",
    "* visitors — количество пользователей в указанную дату в указанной группе A/B-теста"
   ]
  },
  {
   "cell_type": "markdown",
   "metadata": {},
   "source": [
    "### Часть 1. Задачи\n",
    "* Примените фреймворк ICE для приоритизации гипотез. Отсортируйте их по убыванию приоритета.\n",
    "* Примените фреймворк RICE для приоритизации гипотез. Отсортируйте их по убыванию приоритета.\n",
    "* Укажите, как изменилась приоритизация гипотез при применении RICE вместо ICE. Объясните, почему так произошло."
   ]
  },
  {
   "cell_type": "markdown",
   "metadata": {},
   "source": [
    "### Часть 2. Задачи\n",
    "Проанализируйте A/B-тест:\n",
    "\n",
    "* Постройте график кумулятивной выручки по группам. Сделайте выводы и предположения.\n",
    "* Постройте график кумулятивного среднего чека по группам. Сделайте выводы и предположения.\n",
    "* Постройте график относительного изменения кумулятивного среднего чека группы B к группе A. Сделайте выводы и предположения.\n",
    "* Постройте график кумулятивной конверсии по группам. Сделайте выводы и предположения.\n",
    "* Постройте график относительного изменения кумулятивной конверсии группы B к группе A. Сделайте выводы и предположения.\n",
    "* Постройте точечный график количества заказов по пользователям. Сделайте выводы и предположения.\n",
    "* Посчитайте 95-й и 99-й перцентили количества заказов на пользователя. Выберите границу для определения аномальных пользователей.\n",
    "* Постройте точечный график стоимостей заказов. Сделайте выводы и предположения.\n",
    "* Посчитайте 95-й и 99-й перцентили стоимости заказов. Выберите границу для определения аномальных заказов.\n",
    "* Посчитайте статистическую значимость различий в конверсии между группами по «сырым» данным. Сделайте выводы и предположения.\n",
    "* Посчитайте статистическую значимость различий в среднем чеке заказа между группами по «сырым» данным. Сделайте выводы и предположения.\n",
    "* Посчитайте статистическую значимость различий в конверсии между группами по «очищенным» данным. Сделайте выводы и предположения.\n",
    "* Посчитайте статистическую значимость различий в среднем чеке заказа между группами по «очищенным» данным. Сделайте выводы и предположения.\n",
    "* Примите решение по результатам теста и объясните его. Варианты решений: 1. Остановить тест, зафиксировать победу одной из групп. 2. Остановить тест, зафиксировать отсутствие различий между группами. 3. Продолжить тест."
   ]
  },
  {
   "cell_type": "markdown",
   "metadata": {},
   "source": [
    "### Вывод\n",
    "В анализе принимают участие данные из 3-х таблиц\n",
    "\n",
    "В названиях колонок видны нарушения стиля:\n",
    "Необходимо привести к нижнему регистру столбцы таблицы Hypothesis.\n",
    "\n",
    "Необходимо изменить тип данных в столбцах с датой в таблицах orders и visitors на datetime."
   ]
  },
  {
   "cell_type": "markdown",
   "metadata": {},
   "source": [
    "## Предобработка данных"
   ]
  },
  {
   "cell_type": "markdown",
   "metadata": {},
   "source": [
    "### Стиль заголовков столбцов"
   ]
  },
  {
   "cell_type": "markdown",
   "metadata": {},
   "source": [
    "Посмотрим еще раз стили заголовков столбцов"
   ]
  },
  {
   "cell_type": "code",
   "execution_count": 6,
   "metadata": {},
   "outputs": [
    {
     "name": "stdout",
     "output_type": "stream",
     "text": [
      "Index(['Hypothesis', 'Reach', 'Impact', 'Confidence', 'Efforts'], dtype='object')\n",
      "Index(['transactionId', 'visitorId', 'date', 'revenue', 'group'], dtype='object')\n",
      "Index(['date', 'group', 'visitors'], dtype='object')\n"
     ]
    }
   ],
   "source": [
    "print(hypothesis.columns)\n",
    "print(orders.columns)\n",
    "print(visitors.columns)"
   ]
  },
  {
   "cell_type": "markdown",
   "metadata": {},
   "source": [
    "Приведем к нижнему регистру названия столбцов таблицы hypothesis. Датафрейм orders изменять не стоит , для удобства восприятия"
   ]
  },
  {
   "cell_type": "code",
   "execution_count": 7,
   "metadata": {},
   "outputs": [],
   "source": [
    "hypothesis.columns = hypothesis.columns.str.lower()"
   ]
  },
  {
   "cell_type": "markdown",
   "metadata": {},
   "source": [
    "Проверим изменения"
   ]
  },
  {
   "cell_type": "code",
   "execution_count": 8,
   "metadata": {},
   "outputs": [
    {
     "data": {
      "text/plain": [
       "Index(['hypothesis', 'reach', 'impact', 'confidence', 'efforts'], dtype='object')"
      ]
     },
     "execution_count": 8,
     "metadata": {},
     "output_type": "execute_result"
    }
   ],
   "source": [
    "hypothesis.columns"
   ]
  },
  {
   "cell_type": "markdown",
   "metadata": {},
   "source": [
    "### Замена типа данных"
   ]
  },
  {
   "cell_type": "markdown",
   "metadata": {},
   "source": [
    "Cтолбцы с датами имеют тип object. Для дальнейшего анализа необходимо изменить их тип на datetime\n",
    "\n",
    "В 2-х таблицах есть столбцы с датами, которые имеют тип object, а именно:\n",
    "\n",
    "visitors - date\n",
    "\n",
    "orders - date"
   ]
  },
  {
   "cell_type": "code",
   "execution_count": 9,
   "metadata": {},
   "outputs": [
    {
     "name": "stdout",
     "output_type": "stream",
     "text": [
      "<class 'pandas.core.frame.DataFrame'>\n",
      "RangeIndex: 62 entries, 0 to 61\n",
      "Data columns (total 3 columns):\n",
      " #   Column    Non-Null Count  Dtype         \n",
      "---  ------    --------------  -----         \n",
      " 0   date      62 non-null     datetime64[ns]\n",
      " 1   group     62 non-null     object        \n",
      " 2   visitors  62 non-null     int64         \n",
      "dtypes: datetime64[ns](1), int64(1), object(1)\n",
      "memory usage: 1.6+ KB\n"
     ]
    }
   ],
   "source": [
    "#Замена типа данных для visitors['date']\n",
    "visitors['date'] = pd.to_datetime(visitors['date'])\n",
    "#Проверка\n",
    "visitors.info()"
   ]
  },
  {
   "cell_type": "code",
   "execution_count": 10,
   "metadata": {},
   "outputs": [
    {
     "name": "stdout",
     "output_type": "stream",
     "text": [
      "<class 'pandas.core.frame.DataFrame'>\n",
      "RangeIndex: 1197 entries, 0 to 1196\n",
      "Data columns (total 5 columns):\n",
      " #   Column         Non-Null Count  Dtype         \n",
      "---  ------         --------------  -----         \n",
      " 0   transactionId  1197 non-null   int64         \n",
      " 1   visitorId      1197 non-null   int64         \n",
      " 2   date           1197 non-null   datetime64[ns]\n",
      " 3   revenue        1197 non-null   int64         \n",
      " 4   group          1197 non-null   object        \n",
      "dtypes: datetime64[ns](1), int64(3), object(1)\n",
      "memory usage: 46.9+ KB\n"
     ]
    }
   ],
   "source": [
    "#Замена типа данных для orders['date']\n",
    "orders['date'] = pd.to_datetime(orders['date'])\n",
    "#Проверка\n",
    "orders.info()"
   ]
  },
  {
   "cell_type": "markdown",
   "metadata": {},
   "source": [
    "### Дубликаты и пропуски"
   ]
  },
  {
   "cell_type": "markdown",
   "metadata": {},
   "source": [
    "Проверим датафреймы на отстутствие дубликатов"
   ]
  },
  {
   "cell_type": "code",
   "execution_count": 11,
   "metadata": {},
   "outputs": [
    {
     "name": "stdout",
     "output_type": "stream",
     "text": [
      "0\n",
      "0\n",
      "0\n"
     ]
    }
   ],
   "source": [
    "print(hypothesis.duplicated().sum())\n",
    "print(orders.duplicated().sum())\n",
    "print(visitors.duplicated().sum())"
   ]
  },
  {
   "cell_type": "markdown",
   "metadata": {},
   "source": [
    "Дубликатов не выявлено"
   ]
  },
  {
   "cell_type": "markdown",
   "metadata": {},
   "source": [
    "Проверим датафреймы на наличие пропусков"
   ]
  },
  {
   "cell_type": "code",
   "execution_count": 12,
   "metadata": {},
   "outputs": [
    {
     "name": "stdout",
     "output_type": "stream",
     "text": [
      "hypothesis    0\n",
      "reach         0\n",
      "impact        0\n",
      "confidence    0\n",
      "efforts       0\n",
      "dtype: int64\n",
      "transactionId    0\n",
      "visitorId        0\n",
      "date             0\n",
      "revenue          0\n",
      "group            0\n",
      "dtype: int64\n",
      "date        0\n",
      "group       0\n",
      "visitors    0\n",
      "dtype: int64\n"
     ]
    }
   ],
   "source": [
    "print(hypothesis.isna().sum())\n",
    "print(orders.isna().sum())\n",
    "print(visitors.isna().sum())"
   ]
  },
  {
   "cell_type": "markdown",
   "metadata": {},
   "source": [
    "Пропуски отсуствуют"
   ]
  },
  {
   "cell_type": "markdown",
   "metadata": {},
   "source": [
    "Проверим, наличие пользователей, которые попали в 2 теста одновременно"
   ]
  },
  {
   "cell_type": "code",
   "execution_count": 13,
   "metadata": {},
   "outputs": [
    {
     "data": {
      "text/plain": [
       "58"
      ]
     },
     "execution_count": 13,
     "metadata": {},
     "output_type": "execute_result"
    }
   ],
   "source": [
    "users_two_group = orders.groupby('visitorId').agg({'group':'nunique'})\n",
    "users_two_group = users_two_group.query('group > 1')\n",
    "users_two_group['group'].count()"
   ]
  },
  {
   "cell_type": "markdown",
   "metadata": {},
   "source": [
    "58 покупателей находятся одновременно в двух группах А/В теста"
   ]
  },
  {
   "cell_type": "markdown",
   "metadata": {},
   "source": [
    "### Вывод\n",
    "Провели предобработку и подготовили наши данные к дальнейшему исследованию.\n",
    "\n",
    "* Исправили заголовки столбцов и привели их к \"хорошему\" стилю\n",
    "* Изменили тип данных в 2-x таблицах в столбцах с датами\n",
    "* Проверили таблицы на наличие дубликатов (дубликатов нет)"
   ]
  },
  {
   "cell_type": "markdown",
   "metadata": {},
   "source": [
    "## Приоритизация гипотез"
   ]
  },
  {
   "cell_type": "markdown",
   "metadata": {},
   "source": [
    "### Фреймворк ICE"
   ]
  },
  {
   "cell_type": "markdown",
   "metadata": {},
   "source": [
    "ICE (от англ. impact, confidence, effort / ease «влияние, уверенность, усилия / простота») — один из самых популярных способов приоритизации задач:"
   ]
  },
  {
   "cell_type": "code",
   "execution_count": 14,
   "metadata": {},
   "outputs": [
    {
     "data": {
      "text/html": [
       "<div>\n",
       "<style scoped>\n",
       "    .dataframe tbody tr th:only-of-type {\n",
       "        vertical-align: middle;\n",
       "    }\n",
       "\n",
       "    .dataframe tbody tr th {\n",
       "        vertical-align: top;\n",
       "    }\n",
       "\n",
       "    .dataframe thead th {\n",
       "        text-align: right;\n",
       "    }\n",
       "</style>\n",
       "<table border=\"1\" class=\"dataframe\">\n",
       "  <thead>\n",
       "    <tr style=\"text-align: right;\">\n",
       "      <th></th>\n",
       "      <th>hypothesis</th>\n",
       "      <th>reach</th>\n",
       "      <th>impact</th>\n",
       "      <th>confidence</th>\n",
       "      <th>efforts</th>\n",
       "    </tr>\n",
       "  </thead>\n",
       "  <tbody>\n",
       "    <tr>\n",
       "      <th>0</th>\n",
       "      <td>Добавить два новых канала привлечения трафика, что позволит привлекать на 30% больше пользователей</td>\n",
       "      <td>3</td>\n",
       "      <td>10</td>\n",
       "      <td>8</td>\n",
       "      <td>6</td>\n",
       "    </tr>\n",
       "    <tr>\n",
       "      <th>1</th>\n",
       "      <td>Запустить собственную службу доставки, что сократит срок доставки заказов</td>\n",
       "      <td>2</td>\n",
       "      <td>5</td>\n",
       "      <td>4</td>\n",
       "      <td>10</td>\n",
       "    </tr>\n",
       "    <tr>\n",
       "      <th>2</th>\n",
       "      <td>Добавить блоки рекомендаций товаров на сайт интернет магазина, чтобы повысить конверсию и средний чек заказа</td>\n",
       "      <td>8</td>\n",
       "      <td>3</td>\n",
       "      <td>7</td>\n",
       "      <td>3</td>\n",
       "    </tr>\n",
       "    <tr>\n",
       "      <th>3</th>\n",
       "      <td>Изменить структура категорий, что увеличит конверсию, т.к. пользователи быстрее найдут нужный товар</td>\n",
       "      <td>8</td>\n",
       "      <td>3</td>\n",
       "      <td>3</td>\n",
       "      <td>8</td>\n",
       "    </tr>\n",
       "    <tr>\n",
       "      <th>4</th>\n",
       "      <td>Изменить цвет фона главной страницы, чтобы увеличить вовлеченность пользователей</td>\n",
       "      <td>3</td>\n",
       "      <td>1</td>\n",
       "      <td>1</td>\n",
       "      <td>1</td>\n",
       "    </tr>\n",
       "    <tr>\n",
       "      <th>5</th>\n",
       "      <td>Добавить страницу отзывов клиентов о магазине, что позволит увеличить количество заказов</td>\n",
       "      <td>3</td>\n",
       "      <td>2</td>\n",
       "      <td>2</td>\n",
       "      <td>3</td>\n",
       "    </tr>\n",
       "    <tr>\n",
       "      <th>6</th>\n",
       "      <td>Показать на главной странице баннеры с актуальными акциями и распродажами, чтобы увеличить конверсию</td>\n",
       "      <td>5</td>\n",
       "      <td>3</td>\n",
       "      <td>8</td>\n",
       "      <td>3</td>\n",
       "    </tr>\n",
       "    <tr>\n",
       "      <th>7</th>\n",
       "      <td>Добавить форму подписки на все основные страницы, чтобы собрать базу клиентов для email-рассылок</td>\n",
       "      <td>10</td>\n",
       "      <td>7</td>\n",
       "      <td>8</td>\n",
       "      <td>5</td>\n",
       "    </tr>\n",
       "    <tr>\n",
       "      <th>8</th>\n",
       "      <td>Запустить акцию, дающую скидку на товар в день рождения</td>\n",
       "      <td>1</td>\n",
       "      <td>9</td>\n",
       "      <td>9</td>\n",
       "      <td>5</td>\n",
       "    </tr>\n",
       "  </tbody>\n",
       "</table>\n",
       "</div>"
      ],
      "text/plain": [
       "                                                                                                     hypothesis  \\\n",
       "0            Добавить два новых канала привлечения трафика, что позволит привлекать на 30% больше пользователей   \n",
       "1                                     Запустить собственную службу доставки, что сократит срок доставки заказов   \n",
       "2  Добавить блоки рекомендаций товаров на сайт интернет магазина, чтобы повысить конверсию и средний чек заказа   \n",
       "3           Изменить структура категорий, что увеличит конверсию, т.к. пользователи быстрее найдут нужный товар   \n",
       "4                              Изменить цвет фона главной страницы, чтобы увеличить вовлеченность пользователей   \n",
       "5                      Добавить страницу отзывов клиентов о магазине, что позволит увеличить количество заказов   \n",
       "6          Показать на главной странице баннеры с актуальными акциями и распродажами, чтобы увеличить конверсию   \n",
       "7              Добавить форму подписки на все основные страницы, чтобы собрать базу клиентов для email-рассылок   \n",
       "8                                                       Запустить акцию, дающую скидку на товар в день рождения   \n",
       "\n",
       "   reach  impact  confidence  efforts  \n",
       "0      3      10           8        6  \n",
       "1      2       5           4       10  \n",
       "2      8       3           7        3  \n",
       "3      8       3           3        8  \n",
       "4      3       1           1        1  \n",
       "5      3       2           2        3  \n",
       "6      5       3           8        3  \n",
       "7     10       7           8        5  \n",
       "8      1       9           9        5  "
      ]
     },
     "execution_count": 14,
     "metadata": {},
     "output_type": "execute_result"
    }
   ],
   "source": [
    "hypothesis"
   ]
  },
  {
   "cell_type": "code",
   "execution_count": 15,
   "metadata": {},
   "outputs": [],
   "source": [
    "hypothesis['ICE'] = (hypothesis['impact']*hypothesis['confidence']) / hypothesis['efforts']   "
   ]
  },
  {
   "cell_type": "code",
   "execution_count": 16,
   "metadata": {},
   "outputs": [
    {
     "data": {
      "text/html": [
       "<div>\n",
       "<style scoped>\n",
       "    .dataframe tbody tr th:only-of-type {\n",
       "        vertical-align: middle;\n",
       "    }\n",
       "\n",
       "    .dataframe tbody tr th {\n",
       "        vertical-align: top;\n",
       "    }\n",
       "\n",
       "    .dataframe thead th {\n",
       "        text-align: right;\n",
       "    }\n",
       "</style>\n",
       "<table border=\"1\" class=\"dataframe\">\n",
       "  <thead>\n",
       "    <tr style=\"text-align: right;\">\n",
       "      <th></th>\n",
       "      <th>hypothesis</th>\n",
       "      <th>ICE</th>\n",
       "    </tr>\n",
       "  </thead>\n",
       "  <tbody>\n",
       "    <tr>\n",
       "      <th>8</th>\n",
       "      <td>Запустить акцию, дающую скидку на товар в день рождения</td>\n",
       "      <td>16.0</td>\n",
       "    </tr>\n",
       "    <tr>\n",
       "      <th>0</th>\n",
       "      <td>Добавить два новых канала привлечения трафика, что позволит привлекать на 30% больше пользователей</td>\n",
       "      <td>13.0</td>\n",
       "    </tr>\n",
       "    <tr>\n",
       "      <th>7</th>\n",
       "      <td>Добавить форму подписки на все основные страницы, чтобы собрать базу клиентов для email-рассылок</td>\n",
       "      <td>11.0</td>\n",
       "    </tr>\n",
       "    <tr>\n",
       "      <th>6</th>\n",
       "      <td>Показать на главной странице баннеры с актуальными акциями и распродажами, чтобы увеличить конверсию</td>\n",
       "      <td>8.0</td>\n",
       "    </tr>\n",
       "    <tr>\n",
       "      <th>2</th>\n",
       "      <td>Добавить блоки рекомендаций товаров на сайт интернет магазина, чтобы повысить конверсию и средний чек заказа</td>\n",
       "      <td>7.0</td>\n",
       "    </tr>\n",
       "    <tr>\n",
       "      <th>1</th>\n",
       "      <td>Запустить собственную службу доставки, что сократит срок доставки заказов</td>\n",
       "      <td>2.0</td>\n",
       "    </tr>\n",
       "    <tr>\n",
       "      <th>5</th>\n",
       "      <td>Добавить страницу отзывов клиентов о магазине, что позволит увеличить количество заказов</td>\n",
       "      <td>1.0</td>\n",
       "    </tr>\n",
       "    <tr>\n",
       "      <th>3</th>\n",
       "      <td>Изменить структура категорий, что увеличит конверсию, т.к. пользователи быстрее найдут нужный товар</td>\n",
       "      <td>1.0</td>\n",
       "    </tr>\n",
       "    <tr>\n",
       "      <th>4</th>\n",
       "      <td>Изменить цвет фона главной страницы, чтобы увеличить вовлеченность пользователей</td>\n",
       "      <td>1.0</td>\n",
       "    </tr>\n",
       "  </tbody>\n",
       "</table>\n",
       "</div>"
      ],
      "text/plain": [
       "                                                                                                     hypothesis  \\\n",
       "8                                                       Запустить акцию, дающую скидку на товар в день рождения   \n",
       "0            Добавить два новых канала привлечения трафика, что позволит привлекать на 30% больше пользователей   \n",
       "7              Добавить форму подписки на все основные страницы, чтобы собрать базу клиентов для email-рассылок   \n",
       "6          Показать на главной странице баннеры с актуальными акциями и распродажами, чтобы увеличить конверсию   \n",
       "2  Добавить блоки рекомендаций товаров на сайт интернет магазина, чтобы повысить конверсию и средний чек заказа   \n",
       "1                                     Запустить собственную службу доставки, что сократит срок доставки заказов   \n",
       "5                      Добавить страницу отзывов клиентов о магазине, что позволит увеличить количество заказов   \n",
       "3           Изменить структура категорий, что увеличит конверсию, т.к. пользователи быстрее найдут нужный товар   \n",
       "4                              Изменить цвет фона главной страницы, чтобы увеличить вовлеченность пользователей   \n",
       "\n",
       "    ICE  \n",
       "8  16.0  \n",
       "0  13.0  \n",
       "7  11.0  \n",
       "6   8.0  \n",
       "2   7.0  \n",
       "1   2.0  \n",
       "5   1.0  \n",
       "3   1.0  \n",
       "4   1.0  "
      ]
     },
     "execution_count": 16,
     "metadata": {},
     "output_type": "execute_result"
    }
   ],
   "source": [
    "hypothesis_ice =  hypothesis[['hypothesis', 'ICE']].sort_values(by='ICE', ascending = False).round(0)\n",
    "hypothesis_ice"
   ]
  },
  {
   "cell_type": "markdown",
   "metadata": {},
   "source": [
    "### Фреймворк RICE"
   ]
  },
  {
   "cell_type": "markdown",
   "metadata": {},
   "source": [
    "RICE — это метод приоритизации идей и фич продукта. Аббревиатура включает 4 фактора, которые менеджер продукта может смело использовать для оценки и приоритизации продуктовых фич:\n",
    "\n",
    "* Reach — это охват\n",
    "* Impact — влияние\n",
    "* Confidence — уверенность в вашей оценке охвата, влияния и трудозатрат\n",
    "* Effort — трудозатраты"
   ]
  },
  {
   "cell_type": "code",
   "execution_count": 17,
   "metadata": {},
   "outputs": [],
   "source": [
    "hypothesis['RICE'] = (hypothesis['reach']*hypothesis['impact']*hypothesis['confidence'])/hypothesis['efforts']"
   ]
  },
  {
   "cell_type": "code",
   "execution_count": 18,
   "metadata": {},
   "outputs": [
    {
     "data": {
      "text/html": [
       "<div>\n",
       "<style scoped>\n",
       "    .dataframe tbody tr th:only-of-type {\n",
       "        vertical-align: middle;\n",
       "    }\n",
       "\n",
       "    .dataframe tbody tr th {\n",
       "        vertical-align: top;\n",
       "    }\n",
       "\n",
       "    .dataframe thead th {\n",
       "        text-align: right;\n",
       "    }\n",
       "</style>\n",
       "<table border=\"1\" class=\"dataframe\">\n",
       "  <thead>\n",
       "    <tr style=\"text-align: right;\">\n",
       "      <th></th>\n",
       "      <th>hypothesis</th>\n",
       "      <th>RICE</th>\n",
       "    </tr>\n",
       "  </thead>\n",
       "  <tbody>\n",
       "    <tr>\n",
       "      <th>7</th>\n",
       "      <td>Добавить форму подписки на все основные страницы, чтобы собрать базу клиентов для email-рассылок</td>\n",
       "      <td>112.0</td>\n",
       "    </tr>\n",
       "    <tr>\n",
       "      <th>2</th>\n",
       "      <td>Добавить блоки рекомендаций товаров на сайт интернет магазина, чтобы повысить конверсию и средний чек заказа</td>\n",
       "      <td>56.0</td>\n",
       "    </tr>\n",
       "    <tr>\n",
       "      <th>0</th>\n",
       "      <td>Добавить два новых канала привлечения трафика, что позволит привлекать на 30% больше пользователей</td>\n",
       "      <td>40.0</td>\n",
       "    </tr>\n",
       "    <tr>\n",
       "      <th>6</th>\n",
       "      <td>Показать на главной странице баннеры с актуальными акциями и распродажами, чтобы увеличить конверсию</td>\n",
       "      <td>40.0</td>\n",
       "    </tr>\n",
       "    <tr>\n",
       "      <th>8</th>\n",
       "      <td>Запустить акцию, дающую скидку на товар в день рождения</td>\n",
       "      <td>16.0</td>\n",
       "    </tr>\n",
       "    <tr>\n",
       "      <th>3</th>\n",
       "      <td>Изменить структура категорий, что увеличит конверсию, т.к. пользователи быстрее найдут нужный товар</td>\n",
       "      <td>9.0</td>\n",
       "    </tr>\n",
       "    <tr>\n",
       "      <th>1</th>\n",
       "      <td>Запустить собственную службу доставки, что сократит срок доставки заказов</td>\n",
       "      <td>4.0</td>\n",
       "    </tr>\n",
       "    <tr>\n",
       "      <th>5</th>\n",
       "      <td>Добавить страницу отзывов клиентов о магазине, что позволит увеличить количество заказов</td>\n",
       "      <td>4.0</td>\n",
       "    </tr>\n",
       "    <tr>\n",
       "      <th>4</th>\n",
       "      <td>Изменить цвет фона главной страницы, чтобы увеличить вовлеченность пользователей</td>\n",
       "      <td>3.0</td>\n",
       "    </tr>\n",
       "  </tbody>\n",
       "</table>\n",
       "</div>"
      ],
      "text/plain": [
       "                                                                                                     hypothesis  \\\n",
       "7              Добавить форму подписки на все основные страницы, чтобы собрать базу клиентов для email-рассылок   \n",
       "2  Добавить блоки рекомендаций товаров на сайт интернет магазина, чтобы повысить конверсию и средний чек заказа   \n",
       "0            Добавить два новых канала привлечения трафика, что позволит привлекать на 30% больше пользователей   \n",
       "6          Показать на главной странице баннеры с актуальными акциями и распродажами, чтобы увеличить конверсию   \n",
       "8                                                       Запустить акцию, дающую скидку на товар в день рождения   \n",
       "3           Изменить структура категорий, что увеличит конверсию, т.к. пользователи быстрее найдут нужный товар   \n",
       "1                                     Запустить собственную службу доставки, что сократит срок доставки заказов   \n",
       "5                      Добавить страницу отзывов клиентов о магазине, что позволит увеличить количество заказов   \n",
       "4                              Изменить цвет фона главной страницы, чтобы увеличить вовлеченность пользователей   \n",
       "\n",
       "    RICE  \n",
       "7  112.0  \n",
       "2   56.0  \n",
       "0   40.0  \n",
       "6   40.0  \n",
       "8   16.0  \n",
       "3    9.0  \n",
       "1    4.0  \n",
       "5    4.0  \n",
       "4    3.0  "
      ]
     },
     "execution_count": 18,
     "metadata": {},
     "output_type": "execute_result"
    }
   ],
   "source": [
    "hypothesis_rice = hypothesis[['hypothesis', 'RICE']].sort_values(by='RICE', ascending = False).round(0)\n",
    "hypothesis_rice"
   ]
  },
  {
   "cell_type": "code",
   "execution_count": 19,
   "metadata": {},
   "outputs": [
    {
     "data": {
      "text/html": [
       "<style type=\"text/css\">\n",
       "#T_fb223_row0_col1, #T_fb223_row2_col2 {\n",
       "  background-color: #0000ff;\n",
       "  color: #f1f1f1;\n",
       "}\n",
       "#T_fb223_row0_col2 {\n",
       "  background-color: #d4d4f4;\n",
       "  color: #000000;\n",
       "}\n",
       "#T_fb223_row1_col1 {\n",
       "  background-color: #3030fd;\n",
       "  color: #f1f1f1;\n",
       "}\n",
       "#T_fb223_row1_col2, #T_fb223_row3_col2 {\n",
       "  background-color: #9f9ff7;\n",
       "  color: #f1f1f1;\n",
       "}\n",
       "#T_fb223_row2_col1 {\n",
       "  background-color: #5050fb;\n",
       "  color: #f1f1f1;\n",
       "}\n",
       "#T_fb223_row3_col1 {\n",
       "  background-color: #8080f8;\n",
       "  color: #f1f1f1;\n",
       "}\n",
       "#T_fb223_row4_col1 {\n",
       "  background-color: #9090f8;\n",
       "  color: #f1f1f1;\n",
       "}\n",
       "#T_fb223_row4_col2 {\n",
       "  background-color: #7c7cf9;\n",
       "  color: #f1f1f1;\n",
       "}\n",
       "#T_fb223_row5_col1 {\n",
       "  background-color: #e0e0f4;\n",
       "  color: #000000;\n",
       "}\n",
       "#T_fb223_row5_col2, #T_fb223_row6_col2 {\n",
       "  background-color: #efeff3;\n",
       "  color: #000000;\n",
       "}\n",
       "#T_fb223_row6_col1, #T_fb223_row7_col1, #T_fb223_row8_col1, #T_fb223_row8_col2 {\n",
       "  background-color: #f0f0f3;\n",
       "  color: #000000;\n",
       "}\n",
       "#T_fb223_row7_col2 {\n",
       "  background-color: #e3e3f3;\n",
       "  color: #000000;\n",
       "}\n",
       "</style>\n",
       "<table id=\"T_fb223\">\n",
       "  <thead>\n",
       "    <tr>\n",
       "      <th class=\"blank level0\" >&nbsp;</th>\n",
       "      <th id=\"T_fb223_level0_col0\" class=\"col_heading level0 col0\" >hypothesis</th>\n",
       "      <th id=\"T_fb223_level0_col1\" class=\"col_heading level0 col1\" >ICE</th>\n",
       "      <th id=\"T_fb223_level0_col2\" class=\"col_heading level0 col2\" >RICE</th>\n",
       "    </tr>\n",
       "  </thead>\n",
       "  <tbody>\n",
       "    <tr>\n",
       "      <th id=\"T_fb223_level0_row0\" class=\"row_heading level0 row0\" >0</th>\n",
       "      <td id=\"T_fb223_row0_col0\" class=\"data row0 col0\" >Запустить акцию, дающую скидку на товар в день рождения</td>\n",
       "      <td id=\"T_fb223_row0_col1\" class=\"data row0 col1\" >16.000000</td>\n",
       "      <td id=\"T_fb223_row0_col2\" class=\"data row0 col2\" >16.000000</td>\n",
       "    </tr>\n",
       "    <tr>\n",
       "      <th id=\"T_fb223_level0_row1\" class=\"row_heading level0 row1\" >1</th>\n",
       "      <td id=\"T_fb223_row1_col0\" class=\"data row1 col0\" >Добавить два новых канала привлечения трафика, что позволит привлекать на 30% больше пользователей</td>\n",
       "      <td id=\"T_fb223_row1_col1\" class=\"data row1 col1\" >13.000000</td>\n",
       "      <td id=\"T_fb223_row1_col2\" class=\"data row1 col2\" >40.000000</td>\n",
       "    </tr>\n",
       "    <tr>\n",
       "      <th id=\"T_fb223_level0_row2\" class=\"row_heading level0 row2\" >2</th>\n",
       "      <td id=\"T_fb223_row2_col0\" class=\"data row2 col0\" >Добавить форму подписки на все основные страницы, чтобы собрать базу клиентов для email-рассылок</td>\n",
       "      <td id=\"T_fb223_row2_col1\" class=\"data row2 col1\" >11.000000</td>\n",
       "      <td id=\"T_fb223_row2_col2\" class=\"data row2 col2\" >112.000000</td>\n",
       "    </tr>\n",
       "    <tr>\n",
       "      <th id=\"T_fb223_level0_row3\" class=\"row_heading level0 row3\" >3</th>\n",
       "      <td id=\"T_fb223_row3_col0\" class=\"data row3 col0\" >Показать на главной странице баннеры с актуальными акциями и распродажами, чтобы увеличить конверсию</td>\n",
       "      <td id=\"T_fb223_row3_col1\" class=\"data row3 col1\" >8.000000</td>\n",
       "      <td id=\"T_fb223_row3_col2\" class=\"data row3 col2\" >40.000000</td>\n",
       "    </tr>\n",
       "    <tr>\n",
       "      <th id=\"T_fb223_level0_row4\" class=\"row_heading level0 row4\" >4</th>\n",
       "      <td id=\"T_fb223_row4_col0\" class=\"data row4 col0\" >Добавить блоки рекомендаций товаров на сайт интернет магазина, чтобы повысить конверсию и средний чек заказа</td>\n",
       "      <td id=\"T_fb223_row4_col1\" class=\"data row4 col1\" >7.000000</td>\n",
       "      <td id=\"T_fb223_row4_col2\" class=\"data row4 col2\" >56.000000</td>\n",
       "    </tr>\n",
       "    <tr>\n",
       "      <th id=\"T_fb223_level0_row5\" class=\"row_heading level0 row5\" >5</th>\n",
       "      <td id=\"T_fb223_row5_col0\" class=\"data row5 col0\" >Запустить собственную службу доставки, что сократит срок доставки заказов</td>\n",
       "      <td id=\"T_fb223_row5_col1\" class=\"data row5 col1\" >2.000000</td>\n",
       "      <td id=\"T_fb223_row5_col2\" class=\"data row5 col2\" >4.000000</td>\n",
       "    </tr>\n",
       "    <tr>\n",
       "      <th id=\"T_fb223_level0_row6\" class=\"row_heading level0 row6\" >6</th>\n",
       "      <td id=\"T_fb223_row6_col0\" class=\"data row6 col0\" >Добавить страницу отзывов клиентов о магазине, что позволит увеличить количество заказов</td>\n",
       "      <td id=\"T_fb223_row6_col1\" class=\"data row6 col1\" >1.000000</td>\n",
       "      <td id=\"T_fb223_row6_col2\" class=\"data row6 col2\" >4.000000</td>\n",
       "    </tr>\n",
       "    <tr>\n",
       "      <th id=\"T_fb223_level0_row7\" class=\"row_heading level0 row7\" >7</th>\n",
       "      <td id=\"T_fb223_row7_col0\" class=\"data row7 col0\" >Изменить структура категорий, что увеличит конверсию, т.к. пользователи быстрее найдут нужный товар</td>\n",
       "      <td id=\"T_fb223_row7_col1\" class=\"data row7 col1\" >1.000000</td>\n",
       "      <td id=\"T_fb223_row7_col2\" class=\"data row7 col2\" >9.000000</td>\n",
       "    </tr>\n",
       "    <tr>\n",
       "      <th id=\"T_fb223_level0_row8\" class=\"row_heading level0 row8\" >8</th>\n",
       "      <td id=\"T_fb223_row8_col0\" class=\"data row8 col0\" >Изменить цвет фона главной страницы, чтобы увеличить вовлеченность пользователей</td>\n",
       "      <td id=\"T_fb223_row8_col1\" class=\"data row8 col1\" >1.000000</td>\n",
       "      <td id=\"T_fb223_row8_col2\" class=\"data row8 col2\" >3.000000</td>\n",
       "    </tr>\n",
       "  </tbody>\n",
       "</table>\n"
      ],
      "text/plain": [
       "<pandas.io.formats.style.Styler at 0x17706cbaa50>"
      ]
     },
     "execution_count": 19,
     "metadata": {},
     "output_type": "execute_result"
    }
   ],
   "source": [
    "prioritization = hypothesis_ice.merge(hypothesis_rice, on = 'hypothesis') # объединили\n",
    "\n",
    "cm = sns.light_palette(\"blue\", as_cmap=True) #выделили цветом\n",
    "prioritization.style.background_gradient(cmap=cm)"
   ]
  },
  {
   "cell_type": "markdown",
   "metadata": {},
   "source": [
    "### Причины изменения приоритизация гипотез. Вывод\n",
    "Мы применили один из самых популярных способов приоритизации задач ICE(«влияние, уверенность, усилия / простота») и его модификатор RICE(«охват»).\n",
    "\n",
    "После применения флейморка ICE наиболее перспективными гипотезами являются:\n",
    "\n",
    "* Запустить акцию, дающую скидку на товар в день рождения (8)\n",
    "* Добавить два новых канала привлечения трафика, что позволит привлекать на 30% больше пользователей (0)\n",
    "* Добавить форму подписки на все основные страницы, чтобы собрать базу клиентов для email-рассылок (7)\n",
    "\n",
    "После применения флейморка RICE наиболее перспективными гипотезами являются:\n",
    "\n",
    "* Добавить форму подписки на все основные страницы, чтобы собрать базу клиентов для email-рассылок (7)\n",
    "* Добавить блоки рекомендаций товаров на сайт интернет магазина, чтобы повысить конверсию и средний чек заказа (2)\n",
    "* Добавить два новых канала привлечения трафика, что позволит привлекать на 30% больше пользователей (0)\n",
    "\n",
    "Исходя из вышеизложенного, рекомендуется в первую очередь протестировать гипотезы:\n",
    "\n",
    "* Добавить форму подписки на все основные страницы, чтобы собрать базу клиентов для email-рассылок (Порядковый номер 7)\n",
    "* Добавить два новых канала привлечения трафика, что позволит привлекать на 30% больше пользователей (Подярковый номер 0)\n",
    "\n",
    "Так как, именно данные гипотезы дважды попали в топ 3 по важности в способах приоритизации ICE и RICE!"
   ]
  },
  {
   "cell_type": "markdown",
   "metadata": {},
   "source": [
    "## Анализ A/B-теста"
   ]
  },
  {
   "cell_type": "markdown",
   "metadata": {},
   "source": [
    "### График кумулятивной выручки по группам"
   ]
  },
  {
   "cell_type": "code",
   "execution_count": 20,
   "metadata": {},
   "outputs": [],
   "source": [
    "# создаем массив уникальных пар значений дат и групп теста\n",
    "datesGroups = orders[['date','group']].drop_duplicates()\n",
    "# создадим таблицу с кумулятивными данными по заказам за каждый день теста для каждой из групп\n",
    "ordersAggregated = datesGroups.apply(\n",
    "    lambda x: orders[np.logical_and(orders['date'] <= x['date'], orders['group'] == x['group'])].agg({\n",
    "'date' : 'max',\n",
    "'group' : 'max',\n",
    "'transactionId' : pd.Series.nunique,\n",
    "'visitorId' : pd.Series.nunique,\n",
    "'revenue' : 'sum'}), axis=1).sort_values(by=['date','group']) "
   ]
  },
  {
   "cell_type": "code",
   "execution_count": 21,
   "metadata": {},
   "outputs": [],
   "source": [
    "# создадим таблицу с кумулятивными данными по визитам за каждый день теста для каждой из групп\n",
    "visitorsAggregated = datesGroups.apply(\n",
    "    lambda x: visitors[np.logical_and(visitors['date'] <= x['date'], visitors['group'] == x['group'])].agg({\n",
    "'date' : 'max',\n",
    "'group' : 'max',\n",
    "'visitors' : 'sum'}), axis=1).sort_values(by=['date','group'])"
   ]
  },
  {
   "cell_type": "markdown",
   "metadata": {},
   "source": [
    "Создадим переменную cumulativeData, в ней объеденим ordersAggregated и visitorsAggregated по колонкам 'date', 'group' с помощью метода merge()"
   ]
  },
  {
   "cell_type": "code",
   "execution_count": 22,
   "metadata": {},
   "outputs": [],
   "source": [
    "cumulativeData = ordersAggregated.merge(visitorsAggregated, left_on=['date', 'group'], right_on=['date', 'group'])"
   ]
  },
  {
   "cell_type": "markdown",
   "metadata": {},
   "source": [
    "Для удобства перезапишем названия столбцов  cumulativeData['date', 'group', 'orders', 'buyers', 'revenue', 'visitors']"
   ]
  },
  {
   "cell_type": "code",
   "execution_count": 23,
   "metadata": {},
   "outputs": [
    {
     "data": {
      "text/html": [
       "<div>\n",
       "<style scoped>\n",
       "    .dataframe tbody tr th:only-of-type {\n",
       "        vertical-align: middle;\n",
       "    }\n",
       "\n",
       "    .dataframe tbody tr th {\n",
       "        vertical-align: top;\n",
       "    }\n",
       "\n",
       "    .dataframe thead th {\n",
       "        text-align: right;\n",
       "    }\n",
       "</style>\n",
       "<table border=\"1\" class=\"dataframe\">\n",
       "  <thead>\n",
       "    <tr style=\"text-align: right;\">\n",
       "      <th></th>\n",
       "      <th>date</th>\n",
       "      <th>group</th>\n",
       "      <th>orders</th>\n",
       "      <th>buyers</th>\n",
       "      <th>revenue</th>\n",
       "      <th>visitors</th>\n",
       "    </tr>\n",
       "  </thead>\n",
       "  <tbody>\n",
       "    <tr>\n",
       "      <th>0</th>\n",
       "      <td>2019-08-01</td>\n",
       "      <td>A</td>\n",
       "      <td>24</td>\n",
       "      <td>20</td>\n",
       "      <td>148579</td>\n",
       "      <td>719</td>\n",
       "    </tr>\n",
       "    <tr>\n",
       "      <th>1</th>\n",
       "      <td>2019-08-01</td>\n",
       "      <td>B</td>\n",
       "      <td>21</td>\n",
       "      <td>20</td>\n",
       "      <td>101217</td>\n",
       "      <td>713</td>\n",
       "    </tr>\n",
       "    <tr>\n",
       "      <th>2</th>\n",
       "      <td>2019-08-02</td>\n",
       "      <td>A</td>\n",
       "      <td>44</td>\n",
       "      <td>38</td>\n",
       "      <td>242401</td>\n",
       "      <td>1338</td>\n",
       "    </tr>\n",
       "    <tr>\n",
       "      <th>3</th>\n",
       "      <td>2019-08-02</td>\n",
       "      <td>B</td>\n",
       "      <td>45</td>\n",
       "      <td>43</td>\n",
       "      <td>266748</td>\n",
       "      <td>1294</td>\n",
       "    </tr>\n",
       "    <tr>\n",
       "      <th>4</th>\n",
       "      <td>2019-08-03</td>\n",
       "      <td>A</td>\n",
       "      <td>68</td>\n",
       "      <td>62</td>\n",
       "      <td>354874</td>\n",
       "      <td>1845</td>\n",
       "    </tr>\n",
       "    <tr>\n",
       "      <th>...</th>\n",
       "      <td>...</td>\n",
       "      <td>...</td>\n",
       "      <td>...</td>\n",
       "      <td>...</td>\n",
       "      <td>...</td>\n",
       "      <td>...</td>\n",
       "    </tr>\n",
       "    <tr>\n",
       "      <th>57</th>\n",
       "      <td>2019-08-29</td>\n",
       "      <td>B</td>\n",
       "      <td>596</td>\n",
       "      <td>544</td>\n",
       "      <td>5559398</td>\n",
       "      <td>17708</td>\n",
       "    </tr>\n",
       "    <tr>\n",
       "      <th>58</th>\n",
       "      <td>2019-08-30</td>\n",
       "      <td>A</td>\n",
       "      <td>545</td>\n",
       "      <td>493</td>\n",
       "      <td>4022970</td>\n",
       "      <td>18037</td>\n",
       "    </tr>\n",
       "    <tr>\n",
       "      <th>59</th>\n",
       "      <td>2019-08-30</td>\n",
       "      <td>B</td>\n",
       "      <td>620</td>\n",
       "      <td>567</td>\n",
       "      <td>5774631</td>\n",
       "      <td>18198</td>\n",
       "    </tr>\n",
       "    <tr>\n",
       "      <th>60</th>\n",
       "      <td>2019-08-31</td>\n",
       "      <td>A</td>\n",
       "      <td>557</td>\n",
       "      <td>503</td>\n",
       "      <td>4084803</td>\n",
       "      <td>18736</td>\n",
       "    </tr>\n",
       "    <tr>\n",
       "      <th>61</th>\n",
       "      <td>2019-08-31</td>\n",
       "      <td>B</td>\n",
       "      <td>640</td>\n",
       "      <td>586</td>\n",
       "      <td>5907760</td>\n",
       "      <td>18916</td>\n",
       "    </tr>\n",
       "  </tbody>\n",
       "</table>\n",
       "<p>62 rows × 6 columns</p>\n",
       "</div>"
      ],
      "text/plain": [
       "         date group  orders  buyers  revenue  visitors\n",
       "0  2019-08-01     A      24      20   148579       719\n",
       "1  2019-08-01     B      21      20   101217       713\n",
       "2  2019-08-02     A      44      38   242401      1338\n",
       "3  2019-08-02     B      45      43   266748      1294\n",
       "4  2019-08-03     A      68      62   354874      1845\n",
       "..        ...   ...     ...     ...      ...       ...\n",
       "57 2019-08-29     B     596     544  5559398     17708\n",
       "58 2019-08-30     A     545     493  4022970     18037\n",
       "59 2019-08-30     B     620     567  5774631     18198\n",
       "60 2019-08-31     A     557     503  4084803     18736\n",
       "61 2019-08-31     B     640     586  5907760     18916\n",
       "\n",
       "[62 rows x 6 columns]"
      ]
     },
     "execution_count": 23,
     "metadata": {},
     "output_type": "execute_result"
    }
   ],
   "source": [
    "cumulativeData.columns = ['date', 'group', 'orders', 'buyers', 'revenue', 'visitors']\n",
    "cumulativeData"
   ]
  },
  {
   "cell_type": "markdown",
   "metadata": {},
   "source": [
    "После подготовки кумулятивных данных можно приступить к построению графиков"
   ]
  },
  {
   "cell_type": "markdown",
   "metadata": {},
   "source": [
    "Создадим переменные cumulativeRevenueA и cumulativeRevenueB, в которых сохраните данные о датах, выручке и числе заказов в группах A и B."
   ]
  },
  {
   "cell_type": "code",
   "execution_count": 24,
   "metadata": {},
   "outputs": [
    {
     "data": {
      "image/png": "[encoded data removed]",
      "text/plain": [
       "<Figure size 2200x800 with 1 Axes>"
      ]
     },
     "metadata": {},
     "output_type": "display_data"
    }
   ],
   "source": [
    "# датафрейм с кумулятивным количеством заказов и кумулятивной выручкой по дням в группе А\n",
    "cumulativeRevenueA = cumulativeData[cumulativeData['group']=='A'][['date','revenue', 'orders']]\n",
    "\n",
    "plt.figure(figsize=(22,8))\n",
    "\n",
    "# датафрейм с кумулятивным количеством заказов и кумулятивной выручкой по дням в группе B\n",
    "cumulativeRevenueB = cumulativeData[cumulativeData['group']=='B'][['date','revenue', 'orders']]\n",
    "\n",
    "# строим график выручки группы А\n",
    "plt.plot(cumulativeRevenueA['date'], cumulativeRevenueA['revenue'], label='A')\n",
    "\n",
    "# строим график выручки группы B\n",
    "plt.plot(cumulativeRevenueB['date'], cumulativeRevenueB['revenue'], label='B')\n",
    "\n",
    "plt.title('График кумулятивной выручки по группам', size=24)\n",
    "plt.xlabel(\"Дата\", size=17)\n",
    "plt.ylabel(\"Выручка\", size=17)\n",
    "plt.legend()\n",
    "plt.grid()\n",
    "plt.show()"
   ]
  },
  {
   "cell_type": "markdown",
   "metadata": {},
   "source": [
    "На графике кумулятивной выручки по группам видно, что до 18.08.2019 выручка обеих групп с небольшими колебаниями находится на одном уровне. Затем, 19.08.2019 происходит резкий скачок - это может быть связано с ростом числа заказов, но больше похоже на несколько дорогих заказов"
   ]
  },
  {
   "cell_type": "markdown",
   "metadata": {},
   "source": [
    "### График кумулятивного среднего чека по группам"
   ]
  },
  {
   "cell_type": "markdown",
   "metadata": {},
   "source": [
    "Давайте посмотрим как изменялся средний чек в группах"
   ]
  },
  {
   "cell_type": "code",
   "execution_count": 25,
   "metadata": {},
   "outputs": [
    {
     "data": {
      "image/png": "[encoded data removed]",
      "text/plain": [
       "<Figure size 2200x800 with 1 Axes>"
      ]
     },
     "metadata": {},
     "output_type": "display_data"
    }
   ],
   "source": [
    "plt.figure(figsize=(22,8))\n",
    "plt.plot(cumulativeRevenueA['date'], cumulativeRevenueA['revenue']/cumulativeRevenueA['orders'], label='A')\n",
    "plt.plot(cumulativeRevenueB['date'], cumulativeRevenueB['revenue']/cumulativeRevenueB['orders'], label='B')\n",
    "\n",
    "plt.legend()\n",
    "plt.title('График кумулятивного среднего чека по группам', size=24)\n",
    "plt.xlabel(\"Дата\", size=16)\n",
    "plt.ylabel(\"Средний чек\", size=16)\n",
    "plt.legend()\n",
    "plt.grid()\n",
    "plt.show();"
   ]
  },
  {
   "cell_type": "markdown",
   "metadata": {},
   "source": [
    "На графике кумулятивного среднего чека видно, что у обеих групп ср.чек выравнивается к 18.08.2019. Затем, после резкого скачка у группы В наблюдаем стабильное уменьшение среднего чека. Группе В необходимо больше данных, чтобы прийти к реальному среднему чеку и установиться на своём реальном уровне"
   ]
  },
  {
   "cell_type": "markdown",
   "metadata": {},
   "source": [
    "### График относительного изменения кумулятивного среднего чека группы B к группе A"
   ]
  },
  {
   "cell_type": "markdown",
   "metadata": {},
   "source": [
    "Построим график относительного различия для среднего чека. Добавим горизонтальную ось методом axhline() - «горизонтальная линия поперек оси»"
   ]
  },
  {
   "cell_type": "code",
   "execution_count": 26,
   "metadata": {},
   "outputs": [
    {
     "data": {
      "image/png": "[encoded data removed]",
      "text/plain": [
       "<Figure size 2200x800 with 1 Axes>"
      ]
     },
     "metadata": {},
     "output_type": "display_data"
    }
   ],
   "source": [
    "# собираем данные в одном датафрейме\n",
    "mergedCumulativeRevenue = cumulativeRevenueA.merge(cumulativeRevenueB, left_on='date', right_on='date', how='left', suffixes=['A', 'B'])\n",
    "\n",
    "# cтроим отношение средних чеков\n",
    "plt.figure(figsize=(22,8))\n",
    "plt.plot(mergedCumulativeRevenue['date'], (mergedCumulativeRevenue['revenueB']/mergedCumulativeRevenue['ordersB'])/(mergedCumulativeRevenue['revenueA']/mergedCumulativeRevenue['ordersA'])-1)\n",
    "\n",
    "# добавляем ось X\n",
    "plt.axhline(y=0, color='green', linestyle='--') \n",
    "plt.title('График относительного изменения кумулятивного среднего чека группы B к группе A', size=24)\n",
    "plt.xlabel(\"Дата\", size=16)\n",
    "plt.grid()\n",
    "plt.show()"
   ]
  },
  {
   "cell_type": "markdown",
   "metadata": {},
   "source": [
    "На графике относительного изменения кумулятивного среднего чека группы B к группе A видно, что в некоторые дни средний чек сильно скачет. Это может означать, что скорее всего в эти дни были крупные или дорогие заказы (аномалии и выбросы)"
   ]
  },
  {
   "cell_type": "markdown",
   "metadata": {},
   "source": [
    "### График кумулятивной конверсии по группам"
   ]
  },
  {
   "cell_type": "markdown",
   "metadata": {},
   "source": [
    "Для начала найдем минамальную и максимальную дату"
   ]
  },
  {
   "cell_type": "code",
   "execution_count": 27,
   "metadata": {},
   "outputs": [
    {
     "name": "stdout",
     "output_type": "stream",
     "text": [
      "2019-08-01 00:00:00\n",
      "2019-08-31 00:00:00\n"
     ]
    }
   ],
   "source": [
    "print(mergedCumulativeRevenue['date'].min())\n",
    "print(mergedCumulativeRevenue['date'].max())"
   ]
  },
  {
   "cell_type": "markdown",
   "metadata": {},
   "source": [
    "Аналогично проанализируем график кумулятивной конверсии. Зададим масштаб осей методом plt.axis(). Передадим ему минимальное и максимальное значения оси x и оси y"
   ]
  },
  {
   "cell_type": "code",
   "execution_count": 28,
   "metadata": {},
   "outputs": [
    {
     "data": {
      "image/png": "[encoded data removed]",
      "text/plain": [
       "<Figure size 2200x800 with 1 Axes>"
      ]
     },
     "metadata": {},
     "output_type": "display_data"
    }
   ],
   "source": [
    "# считаем кумулятивную конверсию\n",
    "cumulativeData['conversion'] = cumulativeData['orders']/cumulativeData['visitors']\n",
    "\n",
    "# отделяем данные по группе A\n",
    "cumulativeDataA = cumulativeData[cumulativeData['group']=='A']\n",
    "\n",
    "# отделяем данные по группе B\n",
    "cumulativeDataB = cumulativeData[cumulativeData['group']=='B']\n",
    "\n",
    "\n",
    "# строим графики\n",
    "plt.figure(figsize=(22,8))\n",
    "plt.plot(cumulativeDataA['date'], cumulativeDataA['conversion'], label='A')\n",
    "plt.plot(cumulativeDataB['date'], cumulativeDataB['conversion'], label='B')\n",
    "plt.legend()\n",
    "\n",
    "\n",
    "# задаем масштаб осей\n",
    "plt.axis([dt.datetime(2019, 8, 1), dt.datetime(2019, 8, 31), 0.004, 0.08])\n",
    "plt.title('График кумулятивной конверсии по группам', size=24)\n",
    "plt.xlabel(\"Дата\", size=16)\n",
    "plt.ylabel(\"Конверсия в %\", size=16)\n",
    "plt.legend()\n",
    "plt.grid()\n",
    "plt.show()"
   ]
  },
  {
   "cell_type": "markdown",
   "metadata": {},
   "source": [
    "До 5 августа данные в обеих группах колеблются около одного значения. Но затем конверсия группы В начинает расти и фиксируется около одного 0.035 с небольшими перепадами. Группа А - начиная с 2019.08.09 фиксируется на одном значении (приблизительно 0.03)"
   ]
  },
  {
   "cell_type": "markdown",
   "metadata": {},
   "source": [
    "### График относительного изменения кумулятивной конверсии группы B к группе A"
   ]
  },
  {
   "cell_type": "code",
   "execution_count": 29,
   "metadata": {},
   "outputs": [],
   "source": [
    "# объеденим кумулятивные конверсии обеих групп\n",
    "mergedCumulativeConversions = cumulativeDataA[['date','conversion']].merge(cumulativeDataB[['date','conversion']], left_on = 'date', right_on='date', how = 'left', suffixes = ['A', 'B'])"
   ]
  },
  {
   "cell_type": "code",
   "execution_count": 30,
   "metadata": {},
   "outputs": [
    {
     "data": {
      "image/png": "[encoded data removed]",
      "text/plain": [
       "<Figure size 2200x800 with 1 Axes>"
      ]
     },
     "metadata": {},
     "output_type": "display_data"
    }
   ],
   "source": [
    "plt.figure(figsize=(22,8))\n",
    "plt.plot(mergedCumulativeConversions['date'], mergedCumulativeConversions['conversionB']/mergedCumulativeConversions['conversionA']-1, label=\"Относительный прирост конверсии группы B относительно группы A\")\n",
    "\n",
    "\n",
    "plt.axhline(y=0, color='green', linestyle='--')\n",
    "plt.axhline(y=0.2, color='red', linestyle='--')\n",
    "plt.axhline(y=0.1, color='yellow', linestyle='--')\n",
    "\n",
    "plt.axis([dt.datetime(2019, 8, 1), dt.datetime(2019, 8, 31), -0.20, 0.3])\n",
    "plt.title('График относительного изменения кумулятивной конверсии группы B к группе A', size=24)\n",
    "plt.xlabel(\"Дата\", size=16)\n",
    "plt.ylabel(\"Конверсия в %\", size=16)\n",
    "plt.grid()\n",
    "plt.show()"
   ]
  },
  {
   "cell_type": "markdown",
   "metadata": {},
   "source": [
    "На графике относительного изменения кумулятивной конверсии группа В явно начинает прибавлять с 6 Августа, после достижени отметки в 20%  немного снизила темп и зафиксировалась в отметке примерно 11-12% по отношению к группе А."
   ]
  },
  {
   "cell_type": "markdown",
   "metadata": {},
   "source": [
    "### Исследование аномалий"
   ]
  },
  {
   "cell_type": "markdown",
   "metadata": {},
   "source": [
    "#### Точечный график количества заказов по пользователям"
   ]
  },
  {
   "cell_type": "markdown",
   "metadata": {},
   "source": [
    "Для начала найдем число заказов по пользователям — для этого создадим датафрейм c двумя столбцами: 'userId' и 'orders'. Назовиём его ordersByUsers"
   ]
  },
  {
   "cell_type": "code",
   "execution_count": 31,
   "metadata": {},
   "outputs": [
    {
     "data": {
      "text/html": [
       "<div>\n",
       "<style scoped>\n",
       "    .dataframe tbody tr th:only-of-type {\n",
       "        vertical-align: middle;\n",
       "    }\n",
       "\n",
       "    .dataframe tbody tr th {\n",
       "        vertical-align: top;\n",
       "    }\n",
       "\n",
       "    .dataframe thead th {\n",
       "        text-align: right;\n",
       "    }\n",
       "</style>\n",
       "<table border=\"1\" class=\"dataframe\">\n",
       "  <thead>\n",
       "    <tr style=\"text-align: right;\">\n",
       "      <th></th>\n",
       "      <th>userId</th>\n",
       "      <th>orders</th>\n",
       "    </tr>\n",
       "  </thead>\n",
       "  <tbody>\n",
       "    <tr>\n",
       "      <th>0</th>\n",
       "      <td>5114589</td>\n",
       "      <td>1</td>\n",
       "    </tr>\n",
       "    <tr>\n",
       "      <th>656</th>\n",
       "      <td>2705308997</td>\n",
       "      <td>1</td>\n",
       "    </tr>\n",
       "    <tr>\n",
       "      <th>658</th>\n",
       "      <td>2710193528</td>\n",
       "      <td>1</td>\n",
       "    </tr>\n",
       "    <tr>\n",
       "      <th>659</th>\n",
       "      <td>2710478747</td>\n",
       "      <td>1</td>\n",
       "    </tr>\n",
       "    <tr>\n",
       "      <th>660</th>\n",
       "      <td>2710492161</td>\n",
       "      <td>1</td>\n",
       "    </tr>\n",
       "    <tr>\n",
       "      <th>...</th>\n",
       "      <td>...</td>\n",
       "      <td>...</td>\n",
       "    </tr>\n",
       "    <tr>\n",
       "      <th>897</th>\n",
       "      <td>3717692402</td>\n",
       "      <td>5</td>\n",
       "    </tr>\n",
       "    <tr>\n",
       "      <th>487</th>\n",
       "      <td>2038680547</td>\n",
       "      <td>8</td>\n",
       "    </tr>\n",
       "    <tr>\n",
       "      <th>569</th>\n",
       "      <td>2378935119</td>\n",
       "      <td>9</td>\n",
       "    </tr>\n",
       "    <tr>\n",
       "      <th>1023</th>\n",
       "      <td>4256040402</td>\n",
       "      <td>11</td>\n",
       "    </tr>\n",
       "    <tr>\n",
       "      <th>591</th>\n",
       "      <td>2458001652</td>\n",
       "      <td>11</td>\n",
       "    </tr>\n",
       "  </tbody>\n",
       "</table>\n",
       "<p>1031 rows × 2 columns</p>\n",
       "</div>"
      ],
      "text/plain": [
       "          userId  orders\n",
       "0        5114589       1\n",
       "656   2705308997       1\n",
       "658   2710193528       1\n",
       "659   2710478747       1\n",
       "660   2710492161       1\n",
       "...          ...     ...\n",
       "897   3717692402       5\n",
       "487   2038680547       8\n",
       "569   2378935119       9\n",
       "1023  4256040402      11\n",
       "591   2458001652      11\n",
       "\n",
       "[1031 rows x 2 columns]"
      ]
     },
     "execution_count": 31,
     "metadata": {},
     "output_type": "execute_result"
    }
   ],
   "source": [
    "ordersByUsers  = orders.drop(['group', 'revenue', 'date'], \n",
    "                             axis=1).groupby('visitorId', as_index=False).agg({'transactionId': 'nunique'})\n",
    "ordersByUsers.columns = ['userId', 'orders']\n",
    "ordersByUsers.sort_values('orders')"
   ]
  },
  {
   "cell_type": "markdown",
   "metadata": {},
   "source": [
    "Визуализируем таблицу заказов по пользователям с помощью гистограммы распледеления"
   ]
  },
  {
   "cell_type": "code",
   "execution_count": 32,
   "metadata": {},
   "outputs": [
    {
     "data": {
      "image/png": "[encoded data removed]",
      "text/plain": [
       "<Figure size 640x480 with 1 Axes>"
      ]
     },
     "metadata": {},
     "output_type": "display_data"
    }
   ],
   "source": [
    "plt.hist(ordersByUsers['orders'])\n",
    "plt.grid()\n",
    "plt.title('Распределение заказов по пользователям')\n",
    "plt.xlabel('Кол-во заказов')\n",
    "plt.ylabel('Кол-во пользователей')\n",
    "plt.show()"
   ]
  },
  {
   "cell_type": "markdown",
   "metadata": {},
   "source": [
    "На гистограмме распределения видно, что пользователи в основном делают 1 заказ, более одного намного реже"
   ]
  },
  {
   "cell_type": "markdown",
   "metadata": {},
   "source": [
    "Построим точечный график"
   ]
  },
  {
   "cell_type": "code",
   "execution_count": 33,
   "metadata": {},
   "outputs": [
    {
     "data": {
      "image/png": "[encoded data removed]",
      "text/plain": [
       "<Figure size 640x480 with 1 Axes>"
      ]
     },
     "metadata": {},
     "output_type": "display_data"
    }
   ],
   "source": [
    "x_values = pd.Series(range(0, len(ordersByUsers)))\n",
    "plt.scatter(x_values, ordersByUsers['orders'])\n",
    "plt.xlabel('Кол-во заказов')\n",
    "plt.ylabel('Кол-во пользователей')\n",
    "plt.title('Распределение заказов по пользователям')\n",
    "plt.show()"
   ]
  },
  {
   "cell_type": "markdown",
   "metadata": {},
   "source": [
    "Из диаграммы рассеяния видно, что пользователей заказавших более 2-х заказов очень мало, возможно именно их нужно считать аномальными"
   ]
  },
  {
   "cell_type": "markdown",
   "metadata": {},
   "source": [
    "#### 95-й и 99-й перцентили количества заказов на пользователя. "
   ]
  },
  {
   "cell_type": "markdown",
   "metadata": {},
   "source": [
    "Для выявления аномального количества числа заказов на одного пользователя, необходимо  посчитать перцентили"
   ]
  },
  {
   "cell_type": "code",
   "execution_count": 34,
   "metadata": {},
   "outputs": [
    {
     "name": "stdout",
     "output_type": "stream",
     "text": [
      "[2. 4.]\n"
     ]
    }
   ],
   "source": [
    "print(np.percentile(ordersByUsers['orders'], [95, 99]))"
   ]
  },
  {
   "cell_type": "markdown",
   "metadata": {},
   "source": [
    "Не более 5% пользователей совершали более 2 заказов, и не более 1% - больше 4 заказов. Будем считать за аномальных пользователей, у которых более 4-х заказов"
   ]
  },
  {
   "cell_type": "markdown",
   "metadata": {},
   "source": [
    "#### Точечный график стоимостей заказов."
   ]
  },
  {
   "cell_type": "markdown",
   "metadata": {},
   "source": [
    "Построим гистограмму распределения выручки ('revenue') с заказов по пользователям с помощью метода hist()"
   ]
  },
  {
   "cell_type": "code",
   "execution_count": 35,
   "metadata": {},
   "outputs": [
    {
     "data": {
      "image/png": "[encoded data removed]",
      "text/plain": [
       "<Figure size 640x480 with 1 Axes>"
      ]
     },
     "metadata": {},
     "output_type": "display_data"
    }
   ],
   "source": [
    "plt.hist(orders['revenue'])\n",
    "plt.grid()\n",
    "plt.title('Распределение стоимости заказов')\n",
    "plt.xlabel('Цена')\n",
    "plt.ylabel('Кол-во заказов')\n",
    "plt.show()"
   ]
  },
  {
   "cell_type": "markdown",
   "metadata": {},
   "source": [
    "Сумма большинства заказов менее 20 000 рублей. Однако по гистограмме не видно дорогих заказов. Необходимо построить точечный график"
   ]
  },
  {
   "cell_type": "code",
   "execution_count": 36,
   "metadata": {
    "scrolled": true
   },
   "outputs": [
    {
     "data": {
      "image/png": "[encoded data removed]",
      "text/plain": [
       "<Figure size 640x480 with 1 Axes>"
      ]
     },
     "metadata": {},
     "output_type": "display_data"
    }
   ],
   "source": [
    "x_values = pd.Series(range(0, len(orders['revenue'])))\n",
    "plt.scatter(x_values, orders['revenue'])\n",
    "plt.xlabel('Кол-во заказов')\n",
    "plt.ylabel('Стоимость')\n",
    "plt.title('Распределение заказов по пользователям')\n",
    "plt.show()\n"
   ]
  },
  {
   "cell_type": "code",
   "execution_count": 37,
   "metadata": {},
   "outputs": [
    {
     "data": {
      "image/png": "[encoded data removed]",
      "text/plain": [
       "<Figure size 640x480 with 1 Axes>"
      ]
     },
     "metadata": {},
     "output_type": "display_data"
    }
   ],
   "source": [
    "x_values = pd.Series(range(0, len(orders['revenue'])))\n",
    "\n",
    "plt.scatter(x_values, orders['revenue']) \n",
    "\n",
    "plt.title('Распределение стоимости заказов без аномального значения')\n",
    "plt.xlabel('Число пользователей, чел')\n",
    "plt.ylabel('Стоимость заказов, руб')\n",
    "plt.axis([0, 1200, 0, 60000])\n",
    "\n",
    "plt.show()"
   ]
  },
  {
   "cell_type": "markdown",
   "metadata": {},
   "source": [
    "Основная масса заказов наблюдается в среднем чеке до 20 т.р.Выбросы наблюдаем  около 50 т.р. и выше!"
   ]
  },
  {
   "cell_type": "markdown",
   "metadata": {},
   "source": [
    "#### 95-й и 99-й перцентили стоимости заказов"
   ]
  },
  {
   "cell_type": "code",
   "execution_count": 38,
   "metadata": {},
   "outputs": [
    {
     "name": "stdout",
     "output_type": "stream",
     "text": [
      "[28000.  58233.2]\n"
     ]
    }
   ],
   "source": [
    "print(np.percentile(orders['revenue'], [95, 99]))"
   ]
  },
  {
   "cell_type": "markdown",
   "metadata": {},
   "source": [
    "Не более, чем у 5% заказов чек дороже 28 000 рублей. И не больше, чем у 1% - дороже 58233 рубля.Будем считать за аномальных пользователей, у которых заказы на сумму более 28 000 т.р."
   ]
  },
  {
   "cell_type": "markdown",
   "metadata": {},
   "source": [
    "### Подсчёт статистической значимости различий в конверсии между группами по «сырым» данным."
   ]
  },
  {
   "cell_type": "markdown",
   "metadata": {},
   "source": [
    "Сформулируем гипотезы\n",
    "\n",
    "* Н0 - различия в конверсиях между группами по «сырым» данным статистически не значимы\n",
    "\n",
    "* Н1 - различия в конверсиях между группами по «сырым» данным статистически значимы\n",
    "\n",
    "Пороговое значение alpha примем за 5%.\n",
    "\n",
    "Посчитаем статистическую значимость различий в конверсии и среднем чеке между группами по «сырым» данным — без удаления аномальных заказов."
   ]
  },
  {
   "cell_type": "code",
   "execution_count": 39,
   "metadata": {},
   "outputs": [
    {
     "data": {
      "text/html": [
       "<div>\n",
       "<style scoped>\n",
       "    .dataframe tbody tr th:only-of-type {\n",
       "        vertical-align: middle;\n",
       "    }\n",
       "\n",
       "    .dataframe tbody tr th {\n",
       "        vertical-align: top;\n",
       "    }\n",
       "\n",
       "    .dataframe thead th {\n",
       "        text-align: right;\n",
       "    }\n",
       "</style>\n",
       "<table border=\"1\" class=\"dataframe\">\n",
       "  <thead>\n",
       "    <tr style=\"text-align: right;\">\n",
       "      <th></th>\n",
       "      <th>date</th>\n",
       "      <th>ordersPerDateA</th>\n",
       "      <th>revenuePerDateA</th>\n",
       "      <th>ordersPerDateB</th>\n",
       "      <th>revenuePerDateB</th>\n",
       "      <th>ordersCummulativeA</th>\n",
       "      <th>revenueCummulativeA</th>\n",
       "      <th>ordersCummulativeB</th>\n",
       "      <th>revenueCummulativeB</th>\n",
       "      <th>visitorsPerDateA</th>\n",
       "      <th>visitorsPerDateB</th>\n",
       "      <th>visitorsCummulativeA</th>\n",
       "      <th>visitorsCummulativeB</th>\n",
       "    </tr>\n",
       "  </thead>\n",
       "  <tbody>\n",
       "    <tr>\n",
       "      <th>0</th>\n",
       "      <td>2019-08-01</td>\n",
       "      <td>24</td>\n",
       "      <td>148579</td>\n",
       "      <td>21</td>\n",
       "      <td>101217</td>\n",
       "      <td>24</td>\n",
       "      <td>148579</td>\n",
       "      <td>21</td>\n",
       "      <td>101217</td>\n",
       "      <td>719</td>\n",
       "      <td>713</td>\n",
       "      <td>719</td>\n",
       "      <td>713</td>\n",
       "    </tr>\n",
       "    <tr>\n",
       "      <th>1</th>\n",
       "      <td>2019-08-02</td>\n",
       "      <td>20</td>\n",
       "      <td>93822</td>\n",
       "      <td>24</td>\n",
       "      <td>165531</td>\n",
       "      <td>44</td>\n",
       "      <td>242401</td>\n",
       "      <td>45</td>\n",
       "      <td>266748</td>\n",
       "      <td>619</td>\n",
       "      <td>581</td>\n",
       "      <td>1338</td>\n",
       "      <td>1294</td>\n",
       "    </tr>\n",
       "    <tr>\n",
       "      <th>2</th>\n",
       "      <td>2019-08-03</td>\n",
       "      <td>24</td>\n",
       "      <td>112473</td>\n",
       "      <td>16</td>\n",
       "      <td>114248</td>\n",
       "      <td>68</td>\n",
       "      <td>354874</td>\n",
       "      <td>61</td>\n",
       "      <td>380996</td>\n",
       "      <td>507</td>\n",
       "      <td>509</td>\n",
       "      <td>1845</td>\n",
       "      <td>1803</td>\n",
       "    </tr>\n",
       "    <tr>\n",
       "      <th>3</th>\n",
       "      <td>2019-08-04</td>\n",
       "      <td>16</td>\n",
       "      <td>70825</td>\n",
       "      <td>17</td>\n",
       "      <td>108571</td>\n",
       "      <td>84</td>\n",
       "      <td>425699</td>\n",
       "      <td>78</td>\n",
       "      <td>489567</td>\n",
       "      <td>717</td>\n",
       "      <td>770</td>\n",
       "      <td>2562</td>\n",
       "      <td>2573</td>\n",
       "    </tr>\n",
       "    <tr>\n",
       "      <th>4</th>\n",
       "      <td>2019-08-05</td>\n",
       "      <td>25</td>\n",
       "      <td>124218</td>\n",
       "      <td>23</td>\n",
       "      <td>92428</td>\n",
       "      <td>109</td>\n",
       "      <td>549917</td>\n",
       "      <td>101</td>\n",
       "      <td>581995</td>\n",
       "      <td>756</td>\n",
       "      <td>707</td>\n",
       "      <td>3318</td>\n",
       "      <td>3280</td>\n",
       "    </tr>\n",
       "  </tbody>\n",
       "</table>\n",
       "</div>"
      ],
      "text/plain": [
       "        date  ordersPerDateA  revenuePerDateA  ordersPerDateB  \\\n",
       "0 2019-08-01              24           148579              21   \n",
       "1 2019-08-02              20            93822              24   \n",
       "2 2019-08-03              24           112473              16   \n",
       "3 2019-08-04              16            70825              17   \n",
       "4 2019-08-05              25           124218              23   \n",
       "\n",
       "   revenuePerDateB  ordersCummulativeA  revenueCummulativeA  \\\n",
       "0           101217                  24               148579   \n",
       "1           165531                  44               242401   \n",
       "2           114248                  68               354874   \n",
       "3           108571                  84               425699   \n",
       "4            92428                 109               549917   \n",
       "\n",
       "   ordersCummulativeB  revenueCummulativeB  visitorsPerDateA  \\\n",
       "0                  21               101217               719   \n",
       "1                  45               266748               619   \n",
       "2                  61               380996               507   \n",
       "3                  78               489567               717   \n",
       "4                 101               581995               756   \n",
       "\n",
       "   visitorsPerDateB  visitorsCummulativeA  visitorsCummulativeB  \n",
       "0               713                   719                   713  \n",
       "1               581                  1338                  1294  \n",
       "2               509                  1845                  1803  \n",
       "3               770                  2562                  2573  \n",
       "4               707                  3318                  3280  "
      ]
     },
     "execution_count": 39,
     "metadata": {},
     "output_type": "execute_result"
    }
   ],
   "source": [
    "visitorsADaily = visitors[visitors['group'] == 'A'][['date', 'visitors']]\n",
    "visitorsADaily.columns = ['date', 'visitorsPerDateA']\n",
    "\n",
    "visitorsACummulative = visitorsADaily.apply(\n",
    "    lambda x: visitorsADaily[visitorsADaily['date'] <= x['date']].agg(\n",
    "        {'date': 'max', 'visitorsPerDateA': 'sum'}\n",
    "    ),\n",
    "    axis=1,\n",
    ")\n",
    "visitorsACummulative.columns = ['date', 'visitorsCummulativeA']\n",
    "\n",
    "visitorsBDaily = visitors[visitors['group'] == 'B'][['date', 'visitors']]\n",
    "visitorsBDaily.columns = ['date', 'visitorsPerDateB']\n",
    "\n",
    "visitorsBCummulative = visitorsBDaily.apply(\n",
    "    lambda x: visitorsBDaily[visitorsBDaily['date'] <= x['date']].agg(\n",
    "        {'date': 'max', 'visitorsPerDateB': 'sum'}\n",
    "    ),\n",
    "    axis=1,\n",
    ")\n",
    "visitorsBCummulative.columns = ['date', 'visitorsCummulativeB']\n",
    "\n",
    "ordersADaily = (\n",
    "    orders[orders['group'] == 'A'][['date', 'transactionId', 'visitorId', 'revenue']]\n",
    "    .groupby('date', as_index=False)\n",
    "    .agg({'transactionId': pd.Series.nunique, 'revenue': 'sum'})\n",
    ")\n",
    "ordersADaily.columns = ['date', 'ordersPerDateA', 'revenuePerDateA']\n",
    "\n",
    "ordersACummulative = ordersADaily.apply(\n",
    "    lambda x: ordersADaily[ordersADaily['date'] <= x['date']].agg(\n",
    "        {'date': 'max', 'ordersPerDateA': 'sum', 'revenuePerDateA': 'sum'}\n",
    "    ),\n",
    "    axis=1,\n",
    ").sort_values(by=['date'])\n",
    "ordersACummulative.columns = [\n",
    "    'date',\n",
    "    'ordersCummulativeA',\n",
    "    'revenueCummulativeA',\n",
    "]\n",
    "\n",
    "ordersBDaily = (\n",
    "    orders[orders['group'] == 'B'][['date', 'transactionId', 'visitorId', 'revenue']]\n",
    "    .groupby('date', as_index=False)\n",
    "    .agg({'transactionId': pd.Series.nunique, 'revenue': 'sum'})\n",
    ")\n",
    "\n",
    "ordersBDaily.columns = ['date', 'ordersPerDateB', 'revenuePerDateB']\n",
    "\n",
    "ordersBCummulative = ordersBDaily.apply(\n",
    "    lambda x: ordersBDaily[ordersBDaily['date'] <= x['date']].agg(\n",
    "        {'date': 'max', 'ordersPerDateB': 'sum', 'revenuePerDateB': 'sum'}\n",
    "    ),\n",
    "    axis=1,\n",
    ").sort_values(by=['date'])\n",
    "ordersBCummulative.columns = [\n",
    "    'date',\n",
    "    'ordersCummulativeB',\n",
    "    'revenueCummulativeB',\n",
    "]\n",
    "\n",
    "data = (\n",
    "    ordersADaily.merge(\n",
    "        ordersBDaily, left_on='date', right_on='date', how='left'\n",
    "    )\n",
    "    .merge(ordersACummulative, left_on='date', right_on='date', how='left')\n",
    "    .merge(ordersBCummulative, left_on='date', right_on='date', how='left')\n",
    "    .merge(visitorsADaily, left_on='date', right_on='date', how='left')\n",
    "    .merge(visitorsBDaily, left_on='date', right_on='date', how='left')\n",
    "    .merge(visitorsACummulative, left_on='date', right_on='date', how='left')\n",
    "    .merge(visitorsBCummulative, left_on='date', right_on='date', how='left')\n",
    ")\n",
    "data.head()"
   ]
  },
  {
   "cell_type": "markdown",
   "metadata": {},
   "source": [
    "Получаем датафрейм data, где:\n",
    "    \n",
    "* date — дата;\n",
    "* ordersPerDateA — количество заказов в выбранную дату в группе A;\n",
    "* revenuePerDateA — суммарная выручка в выбранную дату в группе A;\n",
    "* ordersPerDateB — количество заказов в выбранную дату в группе B;\n",
    "* revenuePerDateB — суммарная выручка в выбранную дату в группе B;\n",
    "* ordersCummulativeA — суммарное число заказов до выбранной даты включительно в группе A;\n",
    "* revenueCummulativeA — суммарная выручка до выбранной даты включительно в группе A;\n",
    "* ordersCummulativeB — суммарное количество заказов до выбранной даты включительно в группе B;\n",
    "* revenueCummulativeB — суммарная выручка до выбранной даты включительно в группе B;\n",
    "* visitorsPerDateA — количество пользователей в выбранную дату в группе A;\n",
    "* visitorsPerDateB — количество пользователей в выбранную дату в группе B;\n",
    "* visitorsCummulativeA — количество пользователей до выбранной даты включительно в группе A;\n",
    "* visitorsCummulativeB — количество пользователей до выбранной даты включительно в группе B."
   ]
  },
  {
   "cell_type": "markdown",
   "metadata": {},
   "source": [
    "Создадим переменные ordersByUsersA и ordersByUsersB. В них данные для пользователей, которые заказывали хотя бы 1 раз, укажем число совершённых заказов."
   ]
  },
  {
   "cell_type": "code",
   "execution_count": 40,
   "metadata": {},
   "outputs": [],
   "source": [
    "ordersByUsersA = (\n",
    "    orders[orders['group'] == 'A']\n",
    "    .groupby('visitorId', as_index=False)\n",
    "    .agg({'transactionId': pd.Series.nunique})\n",
    ")\n",
    "ordersByUsersA.columns = ['userId', 'orders']\n",
    "\n",
    "ordersByUsersB = (\n",
    "    orders[orders['group'] == 'B']\n",
    "    .groupby('visitorId', as_index=False)\n",
    "    .agg({'transactionId': pd.Series.nunique})\n",
    ")\n",
    "ordersByUsersB.columns = ['userId', 'orders'] "
   ]
  },
  {
   "cell_type": "markdown",
   "metadata": {},
   "source": [
    "Объявим переменные sampleA и sampleB, в которых пользователям из разных групп будет соответствовать количество заказов. Тем, кто ничего не заказал, будут соответствовать нули. Это нужно, чтобы подготовить выборки к проверке критерием Манна-Уитни."
   ]
  },
  {
   "cell_type": "code",
   "execution_count": 41,
   "metadata": {},
   "outputs": [],
   "source": [
    "#в sampleA сохраняем выборку, где каждый элемент — число заказов определённого пользователя, в том числе ноль. \n",
    "# число элементов sampleA — это количество пользователей, сумма всех элементов — количество заказов.\n",
    "sampleA = pd.concat(\n",
    "    [\n",
    "        ordersByUsersA['orders'],\n",
    "        pd.Series(\n",
    "            0,\n",
    "            index=np.arange(\n",
    "                data['visitorsPerDateA'].sum() - len(ordersByUsersA['orders'])\n",
    "            ),\n",
    "            name='orders',\n",
    "        ),\n",
    "    ],\n",
    "    axis=0,\n",
    ")\n",
    "#в sampleB сохраняем выборку, где каждый элемент — число заказов определённого пользователя, в том числе ноль. \n",
    "# число элементов sampleB — это количество пользователей, сумма всех элементов — количество заказов.\n",
    "sampleB = pd.concat(\n",
    "    [\n",
    "        ordersByUsersB['orders'],\n",
    "        pd.Series(\n",
    "            0,\n",
    "            index=np.arange(\n",
    "                data['visitorsPerDateB'].sum() - len(ordersByUsersB['orders'])\n",
    "            ),\n",
    "            name='orders',\n",
    "        ),\n",
    "    ],\n",
    "    axis=0,\n",
    ")"
   ]
  },
  {
   "cell_type": "markdown",
   "metadata": {},
   "source": [
    "У реализации метода Манн-Уитни в python есть одна особенность: его базовые настройки в python не предполагают проверку двухсторонней гипотезы, а это не соответствует гипотезам, проверяемым в проекте. Для корректной работы метода необходимо задать его параметр alternative = 'two-sided'\n",
    "\n",
    "В сам тест добавим mannwhitneyu(одно, второе, alternative = 'two-sided'). Тогда тест будет значть, что гипотеза двустороняя? и вернет целый p-value. Если мы не указываем этот параметр, тест думает, что гипотеза одностороняя, и возвращает только половину p-value."
   ]
  },
  {
   "cell_type": "code",
   "execution_count": 42,
   "metadata": {},
   "outputs": [
    {
     "name": "stdout",
     "output_type": "stream",
     "text": [
      "P-value по конверсии до очистки данных: 0.017\n"
     ]
    }
   ],
   "source": [
    "p_val_con_all = (stats.mannwhitneyu(sampleA, sampleB,alternative = 'two-sided')[1]).round(5)\n",
    "\n",
    "print(\"P-value по конверсии до очистки данных: {0:.3f}\".format(p_val_con_all))"
   ]
  },
  {
   "cell_type": "code",
   "execution_count": 43,
   "metadata": {},
   "outputs": [
    {
     "name": "stdout",
     "output_type": "stream",
     "text": [
      "Относительный прирост конверсии группы B: 0.138\n"
     ]
    }
   ],
   "source": [
    "print(\"Относительный прирост конверсии группы B: {0:.3f}\".format(sampleB.mean() / sampleA.mean() - 1))"
   ]
  },
  {
   "cell_type": "code",
   "execution_count": 44,
   "metadata": {},
   "outputs": [
    {
     "name": "stdout",
     "output_type": "stream",
     "text": [
      "Отвергаем нулевую гипотезу\n"
     ]
    }
   ],
   "source": [
    "alpha = .05\n",
    "\n",
    "if (p_val_con_all < alpha):\n",
    "    print(\"Отвергаем нулевую гипотезу\")\n",
    "else:\n",
    "    print(\"Не получилось отвергнуть нулевую гипотезу\")"
   ]
  },
  {
   "cell_type": "markdown",
   "metadata": {},
   "source": [
    "P-value значительно меньше 0.05, поэтому нулевую гипотезу отвергаем. Анализ сырых данных показывает, что в конверсии между группами есть статистически значимые различия. Относительный прирост конверсии группы B к конверсии группы А равен 13,8%."
   ]
  },
  {
   "cell_type": "markdown",
   "metadata": {},
   "source": [
    "### Посчет статистической значимости различий в среднем чеке заказа между группами по «сырым» данным"
   ]
  },
  {
   "cell_type": "markdown",
   "metadata": {},
   "source": [
    "Сравним средние чеки по \"сырым\" данным. Сформулируем гипотезы\n",
    "\n",
    "* Н0 - различия в среднем чеке заказа между группами по «сырым» данным статистически не значимы\n",
    "\n",
    "* Н1 - различия в среднем чеке заказа между группами по «сырым» данным статистически значимы\n"
   ]
  },
  {
   "cell_type": "markdown",
   "metadata": {},
   "source": [
    "Чтобы рассчитать статистическую значимость различий в среднем чеке между сегментами, передадим критерию mannwhitneyu() данные о выручке с заказов. Гипотеза у нас двусторонняя (есть нулевая и альтернативная), поэтому добавим в них параметр alternative = 'two-sided'"
   ]
  },
  {
   "cell_type": "code",
   "execution_count": 45,
   "metadata": {},
   "outputs": [],
   "source": [
    "revenue_A = orders[orders['group']=='A']['revenue']\n",
    "revenue_B = orders[orders['group']=='B']['revenue']"
   ]
  },
  {
   "cell_type": "code",
   "execution_count": 46,
   "metadata": {},
   "outputs": [
    {
     "name": "stdout",
     "output_type": "stream",
     "text": [
      "P-value по среднему чеку до очистки данных: 0.729\n"
     ]
    }
   ],
   "source": [
    "p_val_avg_check = (stats.mannwhitneyu(revenue_A, revenue_B,alternative = 'two-sided')[1]).round(3)\n",
    "\n",
    "print('P-value по среднему чеку до очистки данных: {}'.format(p_val_avg_check))"
   ]
  },
  {
   "cell_type": "code",
   "execution_count": 47,
   "metadata": {},
   "outputs": [
    {
     "name": "stdout",
     "output_type": "stream",
     "text": [
      "Относительный прирост среднего чека группы B к среднему чеку группы А до очистки данных: 0.26\n"
     ]
    }
   ],
   "source": [
    "relative_increase_avg_check = revenue_B.mean() / revenue_A.mean() - 1\n",
    "\n",
    "print('Относительный прирост среднего чека группы B к среднему чеку группы А до очистки данных: {:.2f}'\n",
    "      .format(relative_increase_avg_check))"
   ]
  },
  {
   "cell_type": "code",
   "execution_count": 48,
   "metadata": {},
   "outputs": [
    {
     "name": "stdout",
     "output_type": "stream",
     "text": [
      "Не получилось отвергнуть нулевую гипотезу\n"
     ]
    }
   ],
   "source": [
    "# Пороговое значение alpha примем за 5%.\n",
    "alpha = .05\n",
    "\n",
    "if (p_val_avg_check < alpha):\n",
    "    print(\"Отвергаем нулевую гипотезу\")\n",
    "else:\n",
    "    print(\"Не получилось отвергнуть нулевую гипотезу\")\n",
    "    "
   ]
  },
  {
   "cell_type": "markdown",
   "metadata": {},
   "source": [
    "P-value больше 0.05 - статистически значимых различий в среднем чеке заказа между группами по «сырым» данным нет. Относительное различие среднего чека между группами 26%."
   ]
  },
  {
   "cell_type": "markdown",
   "metadata": {},
   "source": [
    "### Статистическая значимость различий в конверсии между группами по «очищенным» данным"
   ]
  },
  {
   "cell_type": "markdown",
   "metadata": {},
   "source": [
    "Приступим к анализу аномалий.\n",
    "\n",
    "95-й и 99-й перцентили средних чеков равны 28000 и 58233.2 рублям.\n",
    "\n",
    "95-й и 99-й перцентили числа заказов на одного пользователя равны 2 и 4 заказам на пользователя.\n",
    "\n",
    "Примем за аномальных пользователей тех, кто совершил больше 4-х заказов, или совершил заказ на сумму свыше 28 000 рублей.\n",
    "\n",
    "Так мы уберём 1%  пользователей с наибольшим числом заказов и от 1% до 5% заказов с наибольшей стоимостью.\n",
    "\n",
    "Сделаем срезы пользователей с числом заказов более 4-х — usersWithManyOrders и пользователей, совершивших заказы дороже 28 000 — usersWithExpensiveOrders."
   ]
  },
  {
   "cell_type": "code",
   "execution_count": 49,
   "metadata": {},
   "outputs": [],
   "source": [
    "usersWithManyOrders = pd.concat(\n",
    "    [\n",
    "        ordersByUsersA[ordersByUsersA['orders'] > 4]['userId'],\n",
    "        ordersByUsersB[ordersByUsersB['orders'] > 4]['userId'],\n",
    "    ],\n",
    "    axis=0,\n",
    ")"
   ]
  },
  {
   "cell_type": "code",
   "execution_count": 50,
   "metadata": {},
   "outputs": [],
   "source": [
    "usersWithExpensiveOrders = orders[orders['revenue'] > 28000]['visitorId']"
   ]
  },
  {
   "cell_type": "markdown",
   "metadata": {},
   "source": [
    "Объединим их в таблице abnormalUsers, удалим дубликаты, отсортируем по возрастанию."
   ]
  },
  {
   "cell_type": "code",
   "execution_count": 51,
   "metadata": {},
   "outputs": [
    {
     "data": {
      "text/plain": [
       "1099    148427295\n",
       "928     204675465\n",
       "684     358944393\n",
       "648     382846391\n",
       "1189    393266494\n",
       "dtype: int64"
      ]
     },
     "execution_count": 51,
     "metadata": {},
     "output_type": "execute_result"
    }
   ],
   "source": [
    "\n",
    "abnormalUsers = (\n",
    "    pd.concat([usersWithManyOrders, usersWithExpensiveOrders], axis=0)\n",
    "    .drop_duplicates()\n",
    "    .sort_values()\n",
    ")\n",
    "abnormalUsers.head(5)"
   ]
  },
  {
   "cell_type": "code",
   "execution_count": 52,
   "metadata": {},
   "outputs": [
    {
     "data": {
      "text/plain": [
       "(59,)"
      ]
     },
     "execution_count": 52,
     "metadata": {},
     "output_type": "execute_result"
    }
   ],
   "source": [
    "#Посчитаем кол-во аномальных юзеров\n",
    "abnormalUsers.shape"
   ]
  },
  {
   "cell_type": "markdown",
   "metadata": {},
   "source": [
    "Всего обнаружено 59 аномальных пользователей. Псле их удаления посчитаем статистическую значимость.Необходимо выяснить(сравнить), если ли разница до/после очищения от аномальний"
   ]
  },
  {
   "cell_type": "markdown",
   "metadata": {},
   "source": [
    "Сформулируем гипотезы\n",
    "\n",
    "Н0 - различия в конверсии между группами по «очищенным» данным статистически не значимы\n",
    "\n",
    "Н1 - различия в конверсии между группами по «очищенным» данным статистически значимы\n",
    "\n",
    "Пороговое значение alpha примем за 5%.\n",
    "\n",
    "Создадим переменные sampleAFiltered и sampleBFiltered, в которых сохраним очищенные данные о заказах — не включая аномальных пользователей."
   ]
  },
  {
   "cell_type": "code",
   "execution_count": 53,
   "metadata": {},
   "outputs": [],
   "source": [
    "sampleAFiltered = pd.concat(\n",
    "    [\n",
    "        ordersByUsersA[\n",
    "            np.logical_not(ordersByUsersA['userId'].isin(abnormalUsers))\n",
    "        ]['orders'],\n",
    "        pd.Series(\n",
    "            0,\n",
    "            index=np.arange(\n",
    "                data['visitorsPerDateA'].sum() - len(ordersByUsersA['orders'])\n",
    "            ),\n",
    "            name='orders',\n",
    "        ),\n",
    "    ],\n",
    "    axis=0,\n",
    ")"
   ]
  },
  {
   "cell_type": "code",
   "execution_count": 54,
   "metadata": {},
   "outputs": [],
   "source": [
    "sampleBFiltered = pd.concat(\n",
    "    [\n",
    "        ordersByUsersB[\n",
    "            np.logical_not(ordersByUsersB['userId'].isin(abnormalUsers))\n",
    "        ]['orders'],\n",
    "        pd.Series(\n",
    "            0,\n",
    "            index=np.arange(\n",
    "                data['visitorsPerDateB'].sum() - len(ordersByUsersB['orders'])\n",
    "            ),\n",
    "            name='orders',\n",
    "        ),\n",
    "    ],\n",
    "    axis=0,\n",
    ") "
   ]
  },
  {
   "cell_type": "markdown",
   "metadata": {},
   "source": [
    "Выведем p-value для сравнения конверсии между очищенными группами.\n",
    "\n",
    "Выведем относительный прирост конверсии очищенной группы B.\n",
    "\n",
    "Гипотеза у нас двусторонняя (есть нулевая и альтернативная), поэтому добавим в них параметр alternative = 'two-sided'."
   ]
  },
  {
   "cell_type": "code",
   "execution_count": 55,
   "metadata": {},
   "outputs": [
    {
     "name": "stdout",
     "output_type": "stream",
     "text": [
      "P-value по конверсии после очистки данных: 0.01846\n"
     ]
    }
   ],
   "source": [
    "p_val_conversion_clean = (stats.mannwhitneyu(sampleAFiltered, sampleBFiltered, alternative = 'two-sided')[1]).round(5)\n",
    "\n",
    "print('P-value по конверсии после очистки данных: {}'.format(p_val_conversion_clean))"
   ]
  },
  {
   "cell_type": "code",
   "execution_count": 56,
   "metadata": {},
   "outputs": [
    {
     "name": "stdout",
     "output_type": "stream",
     "text": [
      "Относительный прирост конверсии группы B к конверсии группы А после очистки данных: 0.15\n"
     ]
    }
   ],
   "source": [
    "relative_increase_conversion_clean = sampleBFiltered.mean()/sampleAFiltered.mean()-1\n",
    "\n",
    "print('Относительный прирост конверсии группы B к конверсии группы А после очистки данных: {:.2f}'\n",
    "      .format(relative_increase_conversion_clean))"
   ]
  },
  {
   "cell_type": "code",
   "execution_count": 57,
   "metadata": {},
   "outputs": [
    {
     "name": "stdout",
     "output_type": "stream",
     "text": [
      "Отвергаем нулевую гипотезу\n"
     ]
    }
   ],
   "source": [
    "alpha = .05\n",
    "\n",
    "if (p_val_conversion_clean < alpha):\n",
    "    print(\"Отвергаем нулевую гипотезу\")\n",
    "else:\n",
    "    print(\"Не получилось отвергнуть нулевую гипотезу\")\n",
    "    "
   ]
  },
  {
   "cell_type": "markdown",
   "metadata": {},
   "source": [
    "Как и в случае с сырыми данными, статистическая значимость достигнута. Отвергаем нулевую гипотезу. Сегмент B лучше сегмента А. Относительный прирост конверсии очищенной группы B к А увеличился на 2 процентных пункта и равен 15%"
   ]
  },
  {
   "cell_type": "markdown",
   "metadata": {},
   "source": [
    "### Статистическая значимость различий в среднем чеке заказа между группами по «очищенным» данным."
   ]
  },
  {
   "cell_type": "markdown",
   "metadata": {},
   "source": [
    "Посчитаем статистическую значимость различия средних чеков после удаления аномальных пользователей.\n",
    "\n",
    "Сформулируем гипотезы\n",
    "\n",
    "Н0 - различия в среднем чеке заказа между группами по «очищенным» данным статистически не значимы\n",
    "\n",
    "Н1 - различия в среднем чеке заказа между группами по «очищенным» данным статистически значимы\n",
    "\n",
    "Пороговое значение alpha примем за 5%.\n",
    "\n",
    "Гипотеза у нас двусторонняя (есть нулевая и альтернативная), поэтому добавим в них параметр alternative = 'two-sided'."
   ]
  },
  {
   "cell_type": "code",
   "execution_count": 58,
   "metadata": {},
   "outputs": [],
   "source": [
    "#отфильтруем аномальных пользователей\n",
    "sampleAFiltered_revenue = orders[\n",
    "                np.logical_and(\n",
    "                    orders['group'] == 'A',\n",
    "                    np.logical_not(orders['visitorId'].isin(abnormalUsers)),\n",
    "                )\n",
    "            ]['revenue']\n"
   ]
  },
  {
   "cell_type": "code",
   "execution_count": 59,
   "metadata": {},
   "outputs": [],
   "source": [
    "sampleBFiltered_revenue = orders[\n",
    "                np.logical_and(\n",
    "                    orders['group'] == 'B',\n",
    "                    np.logical_not(orders['visitorId'].isin(abnormalUsers)),\n",
    "                )\n",
    "            ]['revenue']"
   ]
  },
  {
   "cell_type": "code",
   "execution_count": 60,
   "metadata": {},
   "outputs": [
    {
     "name": "stdout",
     "output_type": "stream",
     "text": [
      "P-value по среднему чеку после очистки данных: 0.961\n"
     ]
    }
   ],
   "source": [
    "p_val_avg_check_clean = (stats.mannwhitneyu(\n",
    "    sampleAFiltered_revenue, \n",
    "    sampleBFiltered_revenue, \n",
    "    alternative = 'two-sided')[1]).round(5)\n",
    "\n",
    "print('P-value по среднему чеку после очистки данных: {:.3f}'.format(p_val_avg_check_clean))"
   ]
  },
  {
   "cell_type": "code",
   "execution_count": 61,
   "metadata": {},
   "outputs": [
    {
     "name": "stdout",
     "output_type": "stream",
     "text": [
      "Относительный прирост среднего чека группы B к среднему чеку группы А после очистки данных: -0.01\n"
     ]
    }
   ],
   "source": [
    "relative_increase_avg_check_clean = sampleBFiltered_revenue.mean()/sampleAFiltered_revenue.mean()-1\n",
    "\n",
    "print('Относительный прирост среднего чека группы B к среднему чеку группы А после очистки данных: {:.2f}'\n",
    "      .format(relative_increase_avg_check_clean))"
   ]
  },
  {
   "cell_type": "code",
   "execution_count": 62,
   "metadata": {},
   "outputs": [
    {
     "name": "stdout",
     "output_type": "stream",
     "text": [
      "Не получилось отвергнуть нулевую гипотезу\n"
     ]
    }
   ],
   "source": [
    "alpha = .05\n",
    "\n",
    "if (p_val_avg_check_clean < alpha):\n",
    "    print(\"Отвергаем нулевую гипотезу\")\n",
    "else:\n",
    "    print(\"Не получилось отвергнуть нулевую гипотезу\")"
   ]
  },
  {
   "cell_type": "markdown",
   "metadata": {},
   "source": [
    "Статистической значимости различия между средними чеками не появилось. P-value увеличился до 0.961, а разница между сегментами стала -0.01."
   ]
  },
  {
   "cell_type": "markdown",
   "metadata": {},
   "source": [
    "### Примите решение по результатам теста и объясните его\n",
    "Варианты решений: 1. Остановить тест, зафиксировать победу одной из групп. 2. Остановить тест, зафиксировать отсутствие различий между группами. 3. Продолжить тест.\n",
    "\n",
    "Опираясь на полученные результаты и несмотря на то, что по среднему чеку статистической значимости не выявлено, необходимо остановить тест и зафиксировать победу группы В. Группа B статистически значимо лучше группы A по метрике конверсии, но различий в средних чеках нет. Так как задача стоит в эффективности гипотезы по увеличению выручки, нужно смотреть на конверсию. Среднний чек не всегда покажет положительную или отрицательную динамику, проще говоря сложно понять по среднему чеку, без учета числа покупателей. Для эффективной проверки гипотезы по увеличению выручки необходимо смотреть на оба показателя!\n",
    "\n",
    "Коверсия влияет на выручку, и поэтому раз конверсия в случае группы В значимо увеличилась, то и выручка увеличилась тоже. Даже с учетом того, что средний чек остался без изменений."
   ]
  },
  {
   "cell_type": "markdown",
   "metadata": {},
   "source": [
    "### Выводы А/В теста\n",
    "* Есть статистически значимое различие по конверсии между группами как по сырым данным, так и после фильтрации аномалий\n",
    "* Нет статистически значимого различия по среднему чеку между группами, как по сырым, так и по отфильтрованным данным"
   ]
  },
  {
   "cell_type": "markdown",
   "metadata": {},
   "source": [
    "## Общий вывод"
   ]
  },
  {
   "cell_type": "markdown",
   "metadata": {},
   "source": [
    "В первой части проекта было сделано:\n",
    "\n",
    "1) Загрузка и знакомство с данными\n",
    "\n",
    "2) Предобработка данных, а именно:\n",
    "\n",
    "* Исправили заголовки столбцов и привели их к \"хорошему\" стилю\n",
    "* Изменили тип данных во всех трёх таблицах в столбцах с датами\n",
    "* Проверили таблицы на наличие дубликатов (дубликатов нет)\n",
    "* Проверили таблицы на наличие пропусков (пропуски отсутствуют)\n",
    "* Было проверено, есть ли кто-то из покупателей сразу в двух группах. Оказалось, таких пользователей 58. Делать с ними ничего не будем, так как их мало, и их удаление никак не скажется на результатах тестов.\n",
    "* Было изучено 9 гипотез и выполнена приоритизация с помощью фреймворков ICE и RICE. Наиболее перспективная гипотеза по ICE (влияние, уверенность, усилия) - это \"Запустить акцию, дающую скидку на товар в день рождения\". У нее высокие Impact и Confidence. Наиболее перспективная гипотеза по RICE (влияние, уверенность, усилия, охват) - гипотеза \"Добавить форму подписки на все основные страницы, чтобы собрать базу клиентов для email-рассылок\". \n",
    "\n",
    "Во второй части проекта выполнен анализ результатов AB-теста, который был проведен с целью увеличения выручки.\n",
    "\n",
    "Изучены графики с кумулятивными метриками:\n",
    "\n",
    "* На графике кумулятивной выручки по группам видно, что до 18.08.2019 выручка обеих групп с небольшими колебаниями находится на одном уровне. Затем, 19.08.2019 происходит резкий скачок - это может быть связано с ростом числа заказов, но больше похоже на несколько дорогих заказов\n",
    "\n",
    "* На графике кумулятивной выручки по группам видно, что до 18.08.2019 выручка обеих групп с небольшими колебаниями находится на одном уровне. Затем, 19.08.2019 происходит резкий скачок - это может быть связано с ростом числа заказов, но больше похоже на несколько дорогих заказов\n",
    "\n",
    "* На графике относительного изменения кумулятивного среднего чека группы B к группе A видно, что в некоторые дни средний чек сильно скачет. Это может означать, что скорее всего в эти дни были крупные или дорогие заказы (аномалии и выбросы)\n",
    "\n",
    "* До 5 августа данные в обеих группах колеблются около одного значения. Но затем конверсия группы В начинает расти и фиксируется около одного 0.035 с небольшими перепадами. Группа А - начиная с 2019.08.09 фиксируется на одном значении (приблизительно 0.03)\n",
    "\n",
    "* На графике относительного изменения кумулятивной конверсии группа В явно начинает прибавлять с 6 Августа, после достижени отметки в 20%  немного снизила темп и зафиксировалась в отметке примерно 11-12% по отношению к группе А.\n",
    "\n",
    "Изучены аномалии по количеству заказов и стоимости заказов:\n",
    "\n",
    "* Пользователей, заказавших более двух раз, не так мало. Не более 5% пользователей совершали больше двух заказов. И не более 1% пользователей - больше четырех заказов.\n",
    "\n",
    "* В выборке есть немного дорогих заказов. Присуствуют выбросы в районе 40-100 т.р. Не более, чем у 5% заказов чек дороже 28000. И не больше, чем у 1% заказов чек дороже 58233 т.р.\n",
    "\n",
    "Изучена статистическая сначимость различий в среднем чеке и конверсии по \"сырым\" и очищенным данным.\n",
    "Получены такие результаты:\n",
    "\n",
    "-  в конверсии между группами по \"сырым\" данным есть статистически значимые различия. Относительный прирост конверсии группы B к конверсии группы А равен 13%.\n",
    "-  статистически значимых различий в среднем чеке заказа между группами по «сырым» данным нет. Относительное различие среднего чека между группами всего 26%.\n",
    "\n",
    "Выполнен анализ аномалий:\n",
    "\n",
    "За аномальных пользователей приняты те, кто совершил 4 заказа и более или совершил заказ на сумму свыше 28 000 рублей. Так было убрано 1% пользователей с наибольшим числом заказов и от 1% до 5% заказов с наибольшей стоимостью.\n",
    "\n",
    "После очистки данных получены такие результаты:\n",
    "\n",
    "- как и в случае с сырыми данными, статистическая значимость в конверсии между группами достигнута. Сегмент B лучше сегмента А. Относительный прирост конверсии группы B к А стал равен 15%.\n",
    "- статистической значимости различия между средними чеками не появилось. P-value увеличился до 0.961, а разница между сегментами стала -0.01.\n",
    "\n",
    "Принято решение по результатам теста.\n",
    "Опираясь на полученные результаты и несмотря на то, что по среднему чеку статистической значимости не обнаружено, рекомендовано остановить тест и зафиксировать победу группы В. Группа B статистически значимо лучше группы A по метрике конверсии, но различий в средних чеках нет. Так как задача стоит в эффективности гипотезы по увеличению выручки, следует обратить внимание на конверсию.\n",
    "\n",
    "Коверсия влияет на выручку, и поэтому раз конверсия в случае группы В значимо увеличилась, то и выручка увеличилась тоже. Даже с учетом того, что средний чек остался без изменений."
   ]
  }
 ],
 "metadata": {
  "ExecuteTimeLog": [
   {
    "duration": 1231,
    "start_time": "2022-07-12T20:57:08.781Z"
   },
   {
    "duration": 158,
    "start_time": "2022-07-12T20:57:10.014Z"
   },
   {
    "duration": 20,
    "start_time": "2022-07-12T20:57:10.174Z"
   },
   {
    "duration": 15,
    "start_time": "2022-07-12T20:57:10.196Z"
   },
   {
    "duration": 13,
    "start_time": "2022-07-12T20:57:10.213Z"
   },
   {
    "duration": 7,
    "start_time": "2022-07-12T20:57:10.227Z"
   },
   {
    "duration": 15,
    "start_time": "2022-07-12T20:57:10.235Z"
   },
   {
    "duration": 26,
    "start_time": "2022-07-12T20:57:10.251Z"
   },
   {
    "duration": 30,
    "start_time": "2022-07-12T20:57:10.278Z"
   },
   {
    "duration": 20,
    "start_time": "2022-07-12T20:57:10.310Z"
   },
   {
    "duration": 11,
    "start_time": "2022-07-12T20:57:10.333Z"
   },
   {
    "duration": 10,
    "start_time": "2022-07-12T20:57:10.346Z"
   },
   {
    "duration": 13,
    "start_time": "2022-07-12T20:57:10.358Z"
   },
   {
    "duration": 7,
    "start_time": "2022-07-12T20:57:10.372Z"
   },
   {
    "duration": 11,
    "start_time": "2022-07-12T20:57:10.380Z"
   },
   {
    "duration": 23,
    "start_time": "2022-07-12T20:57:10.392Z"
   },
   {
    "duration": 7,
    "start_time": "2022-07-12T20:57:10.417Z"
   },
   {
    "duration": 22,
    "start_time": "2022-07-12T20:57:10.425Z"
   },
   {
    "duration": 51,
    "start_time": "2022-07-12T20:57:10.449Z"
   },
   {
    "duration": 177,
    "start_time": "2022-07-12T20:57:10.502Z"
   },
   {
    "duration": 124,
    "start_time": "2022-07-12T20:57:10.681Z"
   },
   {
    "duration": 17,
    "start_time": "2022-07-12T20:57:10.807Z"
   },
   {
    "duration": 18,
    "start_time": "2022-07-12T20:57:10.826Z"
   },
   {
    "duration": 321,
    "start_time": "2022-07-12T20:57:10.845Z"
   },
   {
    "duration": 242,
    "start_time": "2022-07-12T20:57:11.168Z"
   },
   {
    "duration": 399,
    "start_time": "2022-07-12T20:57:11.412Z"
   },
   {
    "duration": 13,
    "start_time": "2022-07-12T20:57:11.813Z"
   },
   {
    "duration": 243,
    "start_time": "2022-07-12T20:57:11.830Z"
   },
   {
    "duration": 8,
    "start_time": "2022-07-12T20:57:12.074Z"
   },
   {
    "duration": 341,
    "start_time": "2022-07-12T20:57:12.083Z"
   },
   {
    "duration": 12,
    "start_time": "2022-07-12T20:57:12.425Z"
   },
   {
    "duration": 132,
    "start_time": "2022-07-12T20:57:12.438Z"
   },
   {
    "duration": 201,
    "start_time": "2022-07-12T20:57:12.572Z"
   },
   {
    "duration": 3,
    "start_time": "2022-07-12T20:57:12.775Z"
   },
   {
    "duration": 139,
    "start_time": "2022-07-12T20:57:12.780Z"
   },
   {
    "duration": 129,
    "start_time": "2022-07-12T20:57:12.920Z"
   },
   {
    "duration": 3,
    "start_time": "2022-07-12T20:57:13.051Z"
   },
   {
    "duration": 228,
    "start_time": "2022-07-12T20:57:13.056Z"
   },
   {
    "duration": 124,
    "start_time": "2022-07-12T20:57:13.285Z"
   },
   {
    "duration": 12,
    "start_time": "2022-07-12T20:57:13.411Z"
   },
   {
    "duration": 20,
    "start_time": "2022-07-12T20:57:13.425Z"
   },
   {
    "duration": 4,
    "start_time": "2022-07-12T20:57:13.446Z"
   },
   {
    "duration": 8,
    "start_time": "2022-07-12T20:57:13.451Z"
   },
   {
    "duration": 11,
    "start_time": "2022-07-12T20:57:13.460Z"
   },
   {
    "duration": 8,
    "start_time": "2022-07-12T20:57:13.473Z"
   },
   {
    "duration": 8,
    "start_time": "2022-07-12T20:57:13.483Z"
   },
   {
    "duration": 6,
    "start_time": "2022-07-12T20:57:13.493Z"
   },
   {
    "duration": 8,
    "start_time": "2022-07-12T20:57:13.500Z"
   },
   {
    "duration": 4,
    "start_time": "2022-07-12T20:57:13.523Z"
   },
   {
    "duration": 8,
    "start_time": "2022-07-12T20:57:13.529Z"
   },
   {
    "duration": 5,
    "start_time": "2022-07-12T20:57:13.538Z"
   },
   {
    "duration": 6,
    "start_time": "2022-07-12T20:57:13.545Z"
   },
   {
    "duration": 10,
    "start_time": "2022-07-12T20:57:13.552Z"
   },
   {
    "duration": 25,
    "start_time": "2022-07-12T20:57:13.563Z"
   },
   {
    "duration": 5,
    "start_time": "2022-07-12T20:57:13.589Z"
   },
   {
    "duration": 28,
    "start_time": "2022-07-12T20:57:13.595Z"
   },
   {
    "duration": 7,
    "start_time": "2022-07-12T20:57:13.625Z"
   },
   {
    "duration": 9,
    "start_time": "2022-07-12T20:57:13.633Z"
   },
   {
    "duration": 9,
    "start_time": "2022-07-12T20:57:13.643Z"
   },
   {
    "duration": 5,
    "start_time": "2022-07-12T20:57:13.654Z"
   },
   {
    "duration": 9,
    "start_time": "2022-07-12T20:57:13.660Z"
   },
   {
    "duration": 79,
    "start_time": "2022-07-13T14:34:16.013Z"
   },
   {
    "duration": 44,
    "start_time": "2022-07-13T14:34:17.704Z"
   },
   {
    "duration": 8,
    "start_time": "2022-07-13T14:34:24.801Z"
   },
   {
    "duration": 10,
    "start_time": "2022-07-13T14:34:25.401Z"
   },
   {
    "duration": 1228,
    "start_time": "2022-07-13T14:34:29.549Z"
   },
   {
    "duration": 117,
    "start_time": "2022-07-13T14:34:30.779Z"
   },
   {
    "duration": 22,
    "start_time": "2022-07-13T14:34:30.897Z"
   },
   {
    "duration": 29,
    "start_time": "2022-07-13T14:34:30.921Z"
   },
   {
    "duration": 29,
    "start_time": "2022-07-13T14:34:30.953Z"
   },
   {
    "duration": 13,
    "start_time": "2022-07-13T14:34:30.984Z"
   },
   {
    "duration": 14,
    "start_time": "2022-07-13T14:34:30.999Z"
   },
   {
    "duration": 13,
    "start_time": "2022-07-13T14:34:31.015Z"
   },
   {
    "duration": 29,
    "start_time": "2022-07-13T14:34:31.029Z"
   },
   {
    "duration": 19,
    "start_time": "2022-07-13T14:34:31.060Z"
   },
   {
    "duration": 15,
    "start_time": "2022-07-13T14:34:31.082Z"
   },
   {
    "duration": 27,
    "start_time": "2022-07-13T14:34:31.099Z"
   },
   {
    "duration": 24,
    "start_time": "2022-07-13T14:34:31.128Z"
   },
   {
    "duration": 15,
    "start_time": "2022-07-13T14:34:31.156Z"
   },
   {
    "duration": 11,
    "start_time": "2022-07-13T14:34:31.172Z"
   },
   {
    "duration": 15,
    "start_time": "2022-07-13T14:34:31.185Z"
   },
   {
    "duration": 22,
    "start_time": "2022-07-13T14:34:31.202Z"
   },
   {
    "duration": 46,
    "start_time": "2022-07-13T14:34:31.225Z"
   },
   {
    "duration": 62,
    "start_time": "2022-07-13T14:34:31.273Z"
   },
   {
    "duration": 192,
    "start_time": "2022-07-13T14:34:31.336Z"
   },
   {
    "duration": 134,
    "start_time": "2022-07-13T14:34:31.529Z"
   },
   {
    "duration": 7,
    "start_time": "2022-07-13T14:34:31.665Z"
   },
   {
    "duration": 35,
    "start_time": "2022-07-13T14:34:31.673Z"
   },
   {
    "duration": 364,
    "start_time": "2022-07-13T14:34:31.711Z"
   },
   {
    "duration": 281,
    "start_time": "2022-07-13T14:34:32.077Z"
   },
   {
    "duration": 404,
    "start_time": "2022-07-13T14:34:32.359Z"
   },
   {
    "duration": 4,
    "start_time": "2022-07-13T14:34:32.764Z"
   },
   {
    "duration": 271,
    "start_time": "2022-07-13T14:34:32.770Z"
   },
   {
    "duration": 9,
    "start_time": "2022-07-13T14:34:33.043Z"
   },
   {
    "duration": 409,
    "start_time": "2022-07-13T14:34:33.053Z"
   },
   {
    "duration": 15,
    "start_time": "2022-07-13T14:34:33.464Z"
   },
   {
    "duration": 145,
    "start_time": "2022-07-13T14:34:33.481Z"
   },
   {
    "duration": 201,
    "start_time": "2022-07-13T14:34:33.627Z"
   },
   {
    "duration": 5,
    "start_time": "2022-07-13T14:34:33.829Z"
   },
   {
    "duration": 163,
    "start_time": "2022-07-13T14:34:33.835Z"
   },
   {
    "duration": 153,
    "start_time": "2022-07-13T14:34:34.003Z"
   },
   {
    "duration": 5,
    "start_time": "2022-07-13T14:34:34.158Z"
   },
   {
    "duration": 261,
    "start_time": "2022-07-13T14:34:34.166Z"
   },
   {
    "duration": 150,
    "start_time": "2022-07-13T14:34:34.429Z"
   },
   {
    "duration": 9,
    "start_time": "2022-07-13T14:34:34.581Z"
   },
   {
    "duration": 21,
    "start_time": "2022-07-13T14:34:34.603Z"
   },
   {
    "duration": 5,
    "start_time": "2022-07-13T14:34:34.626Z"
   },
   {
    "duration": 6,
    "start_time": "2022-07-13T14:34:34.633Z"
   },
   {
    "duration": 7,
    "start_time": "2022-07-13T14:34:34.640Z"
   },
   {
    "duration": 7,
    "start_time": "2022-07-13T14:34:34.649Z"
   },
   {
    "duration": 6,
    "start_time": "2022-07-13T14:34:34.657Z"
   },
   {
    "duration": 8,
    "start_time": "2022-07-13T14:34:34.664Z"
   },
   {
    "duration": 6,
    "start_time": "2022-07-13T14:34:34.704Z"
   },
   {
    "duration": 7,
    "start_time": "2022-07-13T14:34:34.712Z"
   },
   {
    "duration": 9,
    "start_time": "2022-07-13T14:34:34.720Z"
   },
   {
    "duration": 5,
    "start_time": "2022-07-13T14:34:34.730Z"
   },
   {
    "duration": 13,
    "start_time": "2022-07-13T14:34:34.737Z"
   },
   {
    "duration": 12,
    "start_time": "2022-07-13T14:34:34.752Z"
   },
   {
    "duration": 40,
    "start_time": "2022-07-13T14:34:34.766Z"
   },
   {
    "duration": 4,
    "start_time": "2022-07-13T14:34:34.807Z"
   },
   {
    "duration": 6,
    "start_time": "2022-07-13T14:34:34.813Z"
   },
   {
    "duration": 7,
    "start_time": "2022-07-13T14:34:34.821Z"
   },
   {
    "duration": 6,
    "start_time": "2022-07-13T14:34:34.829Z"
   },
   {
    "duration": 8,
    "start_time": "2022-07-13T14:34:34.837Z"
   },
   {
    "duration": 4,
    "start_time": "2022-07-13T14:34:34.846Z"
   },
   {
    "duration": 16,
    "start_time": "2022-07-13T14:34:34.852Z"
   },
   {
    "duration": 391,
    "start_time": "2022-07-13T15:00:37.869Z"
   },
   {
    "duration": 169,
    "start_time": "2022-07-13T15:02:42.797Z"
   },
   {
    "duration": 135,
    "start_time": "2022-07-13T15:03:34.950Z"
   },
   {
    "duration": 147,
    "start_time": "2022-07-13T15:03:43.551Z"
   },
   {
    "duration": 111,
    "start_time": "2022-07-13T15:29:25.943Z"
   },
   {
    "duration": 11,
    "start_time": "2022-07-13T15:29:58.641Z"
   },
   {
    "duration": 12,
    "start_time": "2022-07-13T15:30:03.242Z"
   },
   {
    "duration": 12,
    "start_time": "2022-07-13T15:30:11.275Z"
   },
   {
    "duration": 1306,
    "start_time": "2022-07-13T15:30:15.841Z"
   },
   {
    "duration": 138,
    "start_time": "2022-07-13T15:30:17.150Z"
   },
   {
    "duration": 32,
    "start_time": "2022-07-13T15:30:17.290Z"
   },
   {
    "duration": 27,
    "start_time": "2022-07-13T15:30:17.326Z"
   },
   {
    "duration": 48,
    "start_time": "2022-07-13T15:30:17.356Z"
   },
   {
    "duration": 6,
    "start_time": "2022-07-13T15:30:17.406Z"
   },
   {
    "duration": 23,
    "start_time": "2022-07-13T15:30:17.415Z"
   },
   {
    "duration": 12,
    "start_time": "2022-07-13T15:30:17.440Z"
   },
   {
    "duration": 18,
    "start_time": "2022-07-13T15:30:17.454Z"
   },
   {
    "duration": 29,
    "start_time": "2022-07-13T15:30:17.476Z"
   },
   {
    "duration": 17,
    "start_time": "2022-07-13T15:30:17.507Z"
   },
   {
    "duration": 9,
    "start_time": "2022-07-13T15:30:17.526Z"
   },
   {
    "duration": 17,
    "start_time": "2022-07-13T15:30:17.537Z"
   },
   {
    "duration": 9,
    "start_time": "2022-07-13T15:30:17.556Z"
   },
   {
    "duration": 5,
    "start_time": "2022-07-13T15:30:17.568Z"
   },
   {
    "duration": 45,
    "start_time": "2022-07-13T15:30:17.575Z"
   },
   {
    "duration": 8,
    "start_time": "2022-07-13T15:30:17.622Z"
   },
   {
    "duration": 25,
    "start_time": "2022-07-13T15:30:17.631Z"
   },
   {
    "duration": 77,
    "start_time": "2022-07-13T15:30:17.658Z"
   },
   {
    "duration": 225,
    "start_time": "2022-07-13T15:30:17.737Z"
   },
   {
    "duration": 133,
    "start_time": "2022-07-13T15:30:17.963Z"
   },
   {
    "duration": 9,
    "start_time": "2022-07-13T15:30:18.103Z"
   },
   {
    "duration": 22,
    "start_time": "2022-07-13T15:30:18.114Z"
   },
   {
    "duration": 391,
    "start_time": "2022-07-13T15:30:18.137Z"
   },
   {
    "duration": 289,
    "start_time": "2022-07-13T15:30:18.530Z"
   },
   {
    "duration": 369,
    "start_time": "2022-07-13T15:30:18.821Z"
   },
   {
    "duration": 13,
    "start_time": "2022-07-13T15:30:19.192Z"
   },
   {
    "duration": 277,
    "start_time": "2022-07-13T15:30:19.211Z"
   },
   {
    "duration": 14,
    "start_time": "2022-07-13T15:30:19.490Z"
   },
   {
    "duration": 372,
    "start_time": "2022-07-13T15:30:19.505Z"
   },
   {
    "duration": 13,
    "start_time": "2022-07-13T15:30:19.879Z"
   },
   {
    "duration": 155,
    "start_time": "2022-07-13T15:30:19.905Z"
   },
   {
    "duration": 253,
    "start_time": "2022-07-13T15:30:20.062Z"
   },
   {
    "duration": 5,
    "start_time": "2022-07-13T15:30:20.318Z"
   },
   {
    "duration": 202,
    "start_time": "2022-07-13T15:30:20.325Z"
   },
   {
    "duration": 166,
    "start_time": "2022-07-13T15:30:20.529Z"
   },
   {
    "duration": 130,
    "start_time": "2022-07-13T15:30:20.698Z"
   },
   {
    "duration": 0,
    "start_time": "2022-07-13T15:30:20.830Z"
   },
   {
    "duration": 0,
    "start_time": "2022-07-13T15:30:20.832Z"
   },
   {
    "duration": 0,
    "start_time": "2022-07-13T15:30:20.833Z"
   },
   {
    "duration": 0,
    "start_time": "2022-07-13T15:30:20.835Z"
   },
   {
    "duration": 0,
    "start_time": "2022-07-13T15:30:20.836Z"
   },
   {
    "duration": 0,
    "start_time": "2022-07-13T15:30:20.837Z"
   },
   {
    "duration": 0,
    "start_time": "2022-07-13T15:30:20.839Z"
   },
   {
    "duration": 0,
    "start_time": "2022-07-13T15:30:20.840Z"
   },
   {
    "duration": 0,
    "start_time": "2022-07-13T15:30:20.842Z"
   },
   {
    "duration": 0,
    "start_time": "2022-07-13T15:30:20.843Z"
   },
   {
    "duration": 0,
    "start_time": "2022-07-13T15:30:20.845Z"
   },
   {
    "duration": 0,
    "start_time": "2022-07-13T15:30:20.846Z"
   },
   {
    "duration": 1,
    "start_time": "2022-07-13T15:30:20.847Z"
   },
   {
    "duration": 0,
    "start_time": "2022-07-13T15:30:20.849Z"
   },
   {
    "duration": 0,
    "start_time": "2022-07-13T15:30:20.850Z"
   },
   {
    "duration": 0,
    "start_time": "2022-07-13T15:30:20.852Z"
   },
   {
    "duration": 0,
    "start_time": "2022-07-13T15:30:20.853Z"
   },
   {
    "duration": 0,
    "start_time": "2022-07-13T15:30:20.855Z"
   },
   {
    "duration": 0,
    "start_time": "2022-07-13T15:30:20.856Z"
   },
   {
    "duration": 0,
    "start_time": "2022-07-13T15:30:20.903Z"
   },
   {
    "duration": 0,
    "start_time": "2022-07-13T15:30:20.905Z"
   },
   {
    "duration": 0,
    "start_time": "2022-07-13T15:30:20.907Z"
   },
   {
    "duration": 0,
    "start_time": "2022-07-13T15:30:20.909Z"
   },
   {
    "duration": 1,
    "start_time": "2022-07-13T15:30:20.910Z"
   },
   {
    "duration": 0,
    "start_time": "2022-07-13T15:30:20.912Z"
   },
   {
    "duration": 102,
    "start_time": "2022-07-13T15:37:55.261Z"
   },
   {
    "duration": 17,
    "start_time": "2022-07-13T15:38:00.619Z"
   },
   {
    "duration": 13,
    "start_time": "2022-07-13T15:38:13.944Z"
   },
   {
    "duration": 164,
    "start_time": "2022-07-13T15:40:43.392Z"
   },
   {
    "duration": 166,
    "start_time": "2022-07-13T15:43:14.570Z"
   },
   {
    "duration": 156,
    "start_time": "2022-07-13T15:43:31.016Z"
   },
   {
    "duration": 154,
    "start_time": "2022-07-13T15:46:43.522Z"
   },
   {
    "duration": 162,
    "start_time": "2022-07-13T15:46:57.260Z"
   },
   {
    "duration": 1220,
    "start_time": "2022-07-13T15:51:55.245Z"
   },
   {
    "duration": 128,
    "start_time": "2022-07-13T15:51:56.468Z"
   },
   {
    "duration": 26,
    "start_time": "2022-07-13T15:51:56.598Z"
   },
   {
    "duration": 34,
    "start_time": "2022-07-13T15:51:56.626Z"
   },
   {
    "duration": 26,
    "start_time": "2022-07-13T15:51:56.663Z"
   },
   {
    "duration": 17,
    "start_time": "2022-07-13T15:51:56.691Z"
   },
   {
    "duration": 33,
    "start_time": "2022-07-13T15:51:56.710Z"
   },
   {
    "duration": 51,
    "start_time": "2022-07-13T15:51:56.745Z"
   },
   {
    "duration": 27,
    "start_time": "2022-07-13T15:51:56.798Z"
   },
   {
    "duration": 31,
    "start_time": "2022-07-13T15:51:56.826Z"
   },
   {
    "duration": 14,
    "start_time": "2022-07-13T15:51:56.859Z"
   },
   {
    "duration": 18,
    "start_time": "2022-07-13T15:51:56.875Z"
   },
   {
    "duration": 12,
    "start_time": "2022-07-13T15:51:56.895Z"
   },
   {
    "duration": 15,
    "start_time": "2022-07-13T15:51:56.910Z"
   },
   {
    "duration": 9,
    "start_time": "2022-07-13T15:51:56.927Z"
   },
   {
    "duration": 18,
    "start_time": "2022-07-13T15:51:56.939Z"
   },
   {
    "duration": 10,
    "start_time": "2022-07-13T15:51:56.959Z"
   },
   {
    "duration": 18,
    "start_time": "2022-07-13T15:51:56.972Z"
   },
   {
    "duration": 70,
    "start_time": "2022-07-13T15:51:56.992Z"
   },
   {
    "duration": 205,
    "start_time": "2022-07-13T15:51:57.063Z"
   },
   {
    "duration": 155,
    "start_time": "2022-07-13T15:51:57.270Z"
   },
   {
    "duration": 8,
    "start_time": "2022-07-13T15:51:57.426Z"
   },
   {
    "duration": 18,
    "start_time": "2022-07-13T15:51:57.436Z"
   },
   {
    "duration": 390,
    "start_time": "2022-07-13T15:51:57.456Z"
   },
   {
    "duration": 282,
    "start_time": "2022-07-13T15:51:57.847Z"
   },
   {
    "duration": 354,
    "start_time": "2022-07-13T15:51:58.131Z"
   },
   {
    "duration": 4,
    "start_time": "2022-07-13T15:51:58.487Z"
   },
   {
    "duration": 288,
    "start_time": "2022-07-13T15:51:58.492Z"
   },
   {
    "duration": 9,
    "start_time": "2022-07-13T15:51:58.781Z"
   },
   {
    "duration": 374,
    "start_time": "2022-07-13T15:51:58.792Z"
   },
   {
    "duration": 14,
    "start_time": "2022-07-13T15:51:59.168Z"
   },
   {
    "duration": 157,
    "start_time": "2022-07-13T15:51:59.184Z"
   },
   {
    "duration": 232,
    "start_time": "2022-07-13T15:51:59.343Z"
   },
   {
    "duration": 4,
    "start_time": "2022-07-13T15:51:59.577Z"
   },
   {
    "duration": 174,
    "start_time": "2022-07-13T15:51:59.583Z"
   },
   {
    "duration": 161,
    "start_time": "2022-07-13T15:51:59.759Z"
   },
   {
    "duration": 164,
    "start_time": "2022-07-13T15:51:59.922Z"
   },
   {
    "duration": 16,
    "start_time": "2022-07-13T15:52:00.088Z"
   },
   {
    "duration": 269,
    "start_time": "2022-07-13T15:52:00.106Z"
   },
   {
    "duration": 164,
    "start_time": "2022-07-13T15:52:00.377Z"
   },
   {
    "duration": 7,
    "start_time": "2022-07-13T15:52:00.546Z"
   },
   {
    "duration": 39,
    "start_time": "2022-07-13T15:52:00.555Z"
   },
   {
    "duration": 4,
    "start_time": "2022-07-13T15:52:00.596Z"
   },
   {
    "duration": 29,
    "start_time": "2022-07-13T15:52:00.604Z"
   },
   {
    "duration": 10,
    "start_time": "2022-07-13T15:52:00.634Z"
   },
   {
    "duration": 13,
    "start_time": "2022-07-13T15:52:00.646Z"
   },
   {
    "duration": 9,
    "start_time": "2022-07-13T15:52:00.661Z"
   },
   {
    "duration": 22,
    "start_time": "2022-07-13T15:52:00.671Z"
   },
   {
    "duration": 22,
    "start_time": "2022-07-13T15:52:00.694Z"
   },
   {
    "duration": 9,
    "start_time": "2022-07-13T15:52:00.718Z"
   },
   {
    "duration": 11,
    "start_time": "2022-07-13T15:52:00.728Z"
   },
   {
    "duration": 12,
    "start_time": "2022-07-13T15:52:00.741Z"
   },
   {
    "duration": 12,
    "start_time": "2022-07-13T15:52:00.755Z"
   },
   {
    "duration": 12,
    "start_time": "2022-07-13T15:52:00.769Z"
   },
   {
    "duration": 39,
    "start_time": "2022-07-13T15:52:00.784Z"
   },
   {
    "duration": 5,
    "start_time": "2022-07-13T15:52:00.825Z"
   },
   {
    "duration": 16,
    "start_time": "2022-07-13T15:52:00.832Z"
   },
   {
    "duration": 37,
    "start_time": "2022-07-13T15:52:00.850Z"
   },
   {
    "duration": 20,
    "start_time": "2022-07-13T15:52:00.889Z"
   },
   {
    "duration": 21,
    "start_time": "2022-07-13T15:52:00.911Z"
   },
   {
    "duration": 20,
    "start_time": "2022-07-13T15:52:00.934Z"
   },
   {
    "duration": 21,
    "start_time": "2022-07-13T15:52:00.956Z"
   },
   {
    "duration": 5,
    "start_time": "2022-07-13T15:59:02.934Z"
   },
   {
    "duration": 1186,
    "start_time": "2022-07-13T15:59:07.281Z"
   },
   {
    "duration": 116,
    "start_time": "2022-07-13T15:59:08.469Z"
   },
   {
    "duration": 21,
    "start_time": "2022-07-13T15:59:08.586Z"
   },
   {
    "duration": 16,
    "start_time": "2022-07-13T15:59:08.609Z"
   },
   {
    "duration": 17,
    "start_time": "2022-07-13T15:59:08.628Z"
   },
   {
    "duration": 7,
    "start_time": "2022-07-13T15:59:08.647Z"
   },
   {
    "duration": 15,
    "start_time": "2022-07-13T15:59:08.656Z"
   },
   {
    "duration": 33,
    "start_time": "2022-07-13T15:59:08.672Z"
   },
   {
    "duration": 17,
    "start_time": "2022-07-13T15:59:08.707Z"
   },
   {
    "duration": 15,
    "start_time": "2022-07-13T15:59:08.726Z"
   },
   {
    "duration": 20,
    "start_time": "2022-07-13T15:59:08.743Z"
   },
   {
    "duration": 15,
    "start_time": "2022-07-13T15:59:08.765Z"
   },
   {
    "duration": 31,
    "start_time": "2022-07-13T15:59:08.781Z"
   },
   {
    "duration": 22,
    "start_time": "2022-07-13T15:59:08.816Z"
   },
   {
    "duration": 19,
    "start_time": "2022-07-13T15:59:08.839Z"
   },
   {
    "duration": 34,
    "start_time": "2022-07-13T15:59:08.860Z"
   },
   {
    "duration": 25,
    "start_time": "2022-07-13T15:59:08.896Z"
   },
   {
    "duration": 25,
    "start_time": "2022-07-13T15:59:08.923Z"
   },
   {
    "duration": 77,
    "start_time": "2022-07-13T15:59:08.950Z"
   },
   {
    "duration": 199,
    "start_time": "2022-07-13T15:59:09.029Z"
   },
   {
    "duration": 137,
    "start_time": "2022-07-13T15:59:09.230Z"
   },
   {
    "duration": 8,
    "start_time": "2022-07-13T15:59:09.369Z"
   },
   {
    "duration": 38,
    "start_time": "2022-07-13T15:59:09.379Z"
   },
   {
    "duration": 364,
    "start_time": "2022-07-13T15:59:09.418Z"
   },
   {
    "duration": 275,
    "start_time": "2022-07-13T15:59:09.784Z"
   },
   {
    "duration": 375,
    "start_time": "2022-07-13T15:59:10.061Z"
   },
   {
    "duration": 3,
    "start_time": "2022-07-13T15:59:10.438Z"
   },
   {
    "duration": 288,
    "start_time": "2022-07-13T15:59:10.443Z"
   },
   {
    "duration": 9,
    "start_time": "2022-07-13T15:59:10.732Z"
   },
   {
    "duration": 339,
    "start_time": "2022-07-13T15:59:10.742Z"
   },
   {
    "duration": 23,
    "start_time": "2022-07-13T15:59:11.082Z"
   },
   {
    "duration": 141,
    "start_time": "2022-07-13T15:59:11.107Z"
   },
   {
    "duration": 229,
    "start_time": "2022-07-13T15:59:11.250Z"
   },
   {
    "duration": 4,
    "start_time": "2022-07-13T15:59:11.480Z"
   },
   {
    "duration": 160,
    "start_time": "2022-07-13T15:59:11.486Z"
   },
   {
    "duration": 171,
    "start_time": "2022-07-13T15:59:11.648Z"
   },
   {
    "duration": 163,
    "start_time": "2022-07-13T15:59:11.821Z"
   },
   {
    "duration": 5,
    "start_time": "2022-07-13T15:59:11.986Z"
   },
   {
    "duration": 249,
    "start_time": "2022-07-13T15:59:12.005Z"
   },
   {
    "duration": 151,
    "start_time": "2022-07-13T15:59:12.256Z"
   },
   {
    "duration": 11,
    "start_time": "2022-07-13T15:59:12.411Z"
   },
   {
    "duration": 34,
    "start_time": "2022-07-13T15:59:12.423Z"
   },
   {
    "duration": 4,
    "start_time": "2022-07-13T15:59:12.459Z"
   },
   {
    "duration": 14,
    "start_time": "2022-07-13T15:59:12.465Z"
   },
   {
    "duration": 14,
    "start_time": "2022-07-13T15:59:12.481Z"
   },
   {
    "duration": 14,
    "start_time": "2022-07-13T15:59:12.498Z"
   },
   {
    "duration": 10,
    "start_time": "2022-07-13T15:59:12.513Z"
   },
   {
    "duration": 10,
    "start_time": "2022-07-13T15:59:12.525Z"
   },
   {
    "duration": 10,
    "start_time": "2022-07-13T15:59:12.537Z"
   },
   {
    "duration": 15,
    "start_time": "2022-07-13T15:59:12.549Z"
   },
   {
    "duration": 12,
    "start_time": "2022-07-13T15:59:12.566Z"
   },
   {
    "duration": 8,
    "start_time": "2022-07-13T15:59:12.580Z"
   },
   {
    "duration": 15,
    "start_time": "2022-07-13T15:59:12.589Z"
   },
   {
    "duration": 11,
    "start_time": "2022-07-13T15:59:12.606Z"
   },
   {
    "duration": 29,
    "start_time": "2022-07-13T15:59:12.619Z"
   },
   {
    "duration": 5,
    "start_time": "2022-07-13T15:59:12.650Z"
   },
   {
    "duration": 26,
    "start_time": "2022-07-13T15:59:12.657Z"
   },
   {
    "duration": 16,
    "start_time": "2022-07-13T15:59:12.685Z"
   },
   {
    "duration": 15,
    "start_time": "2022-07-13T15:59:12.703Z"
   },
   {
    "duration": 24,
    "start_time": "2022-07-13T15:59:12.720Z"
   },
   {
    "duration": 7,
    "start_time": "2022-07-13T15:59:12.746Z"
   },
   {
    "duration": 15,
    "start_time": "2022-07-13T15:59:12.755Z"
   },
   {
    "duration": 1259,
    "start_time": "2022-07-13T16:01:36.418Z"
   },
   {
    "duration": 146,
    "start_time": "2022-07-13T16:01:37.679Z"
   },
   {
    "duration": 24,
    "start_time": "2022-07-13T16:01:37.826Z"
   },
   {
    "duration": 16,
    "start_time": "2022-07-13T16:01:37.852Z"
   },
   {
    "duration": 15,
    "start_time": "2022-07-13T16:01:37.870Z"
   },
   {
    "duration": 4,
    "start_time": "2022-07-13T16:01:37.887Z"
   },
   {
    "duration": 10,
    "start_time": "2022-07-13T16:01:37.892Z"
   },
   {
    "duration": 6,
    "start_time": "2022-07-13T16:01:37.904Z"
   },
   {
    "duration": 15,
    "start_time": "2022-07-13T16:01:37.912Z"
   },
   {
    "duration": 16,
    "start_time": "2022-07-13T16:01:37.929Z"
   },
   {
    "duration": 13,
    "start_time": "2022-07-13T16:01:37.946Z"
   },
   {
    "duration": 15,
    "start_time": "2022-07-13T16:01:37.960Z"
   },
   {
    "duration": 15,
    "start_time": "2022-07-13T16:01:37.977Z"
   },
   {
    "duration": 9,
    "start_time": "2022-07-13T16:01:37.996Z"
   },
   {
    "duration": 8,
    "start_time": "2022-07-13T16:01:38.007Z"
   },
   {
    "duration": 14,
    "start_time": "2022-07-13T16:01:38.017Z"
   },
   {
    "duration": 8,
    "start_time": "2022-07-13T16:01:38.033Z"
   },
   {
    "duration": 13,
    "start_time": "2022-07-13T16:01:38.043Z"
   },
   {
    "duration": 79,
    "start_time": "2022-07-13T16:01:38.057Z"
   },
   {
    "duration": 338,
    "start_time": "2022-07-13T16:01:38.138Z"
   },
   {
    "duration": 153,
    "start_time": "2022-07-13T16:01:38.478Z"
   },
   {
    "duration": 8,
    "start_time": "2022-07-13T16:01:38.632Z"
   },
   {
    "duration": 17,
    "start_time": "2022-07-13T16:01:38.641Z"
   },
   {
    "duration": 401,
    "start_time": "2022-07-13T16:01:38.660Z"
   },
   {
    "duration": 284,
    "start_time": "2022-07-13T16:01:39.063Z"
   },
   {
    "duration": 378,
    "start_time": "2022-07-13T16:01:39.350Z"
   },
   {
    "duration": 5,
    "start_time": "2022-07-13T16:01:39.730Z"
   },
   {
    "duration": 309,
    "start_time": "2022-07-13T16:01:39.738Z"
   },
   {
    "duration": 11,
    "start_time": "2022-07-13T16:01:40.049Z"
   },
   {
    "duration": 442,
    "start_time": "2022-07-13T16:01:40.062Z"
   },
   {
    "duration": 14,
    "start_time": "2022-07-13T16:01:40.506Z"
   },
   {
    "duration": 146,
    "start_time": "2022-07-13T16:01:40.521Z"
   },
   {
    "duration": 261,
    "start_time": "2022-07-13T16:01:40.668Z"
   },
   {
    "duration": 4,
    "start_time": "2022-07-13T16:01:40.931Z"
   },
   {
    "duration": 234,
    "start_time": "2022-07-13T16:01:40.937Z"
   },
   {
    "duration": 153,
    "start_time": "2022-07-13T16:01:41.173Z"
   },
   {
    "duration": 164,
    "start_time": "2022-07-13T16:01:41.328Z"
   },
   {
    "duration": 13,
    "start_time": "2022-07-13T16:01:41.494Z"
   },
   {
    "duration": 265,
    "start_time": "2022-07-13T16:01:41.509Z"
   },
   {
    "duration": 169,
    "start_time": "2022-07-13T16:01:41.776Z"
   },
   {
    "duration": 7,
    "start_time": "2022-07-13T16:01:41.950Z"
   },
   {
    "duration": 26,
    "start_time": "2022-07-13T16:01:41.958Z"
   },
   {
    "duration": 20,
    "start_time": "2022-07-13T16:01:41.986Z"
   },
   {
    "duration": 7,
    "start_time": "2022-07-13T16:01:42.007Z"
   },
   {
    "duration": 10,
    "start_time": "2022-07-13T16:01:42.015Z"
   },
   {
    "duration": 7,
    "start_time": "2022-07-13T16:01:42.027Z"
   },
   {
    "duration": 12,
    "start_time": "2022-07-13T16:01:42.036Z"
   },
   {
    "duration": 7,
    "start_time": "2022-07-13T16:01:42.050Z"
   },
   {
    "duration": 9,
    "start_time": "2022-07-13T16:01:42.058Z"
   },
   {
    "duration": 7,
    "start_time": "2022-07-13T16:01:42.068Z"
   },
   {
    "duration": 12,
    "start_time": "2022-07-13T16:01:42.076Z"
   },
   {
    "duration": 4,
    "start_time": "2022-07-13T16:01:42.104Z"
   },
   {
    "duration": 12,
    "start_time": "2022-07-13T16:01:42.110Z"
   },
   {
    "duration": 13,
    "start_time": "2022-07-13T16:01:42.124Z"
   },
   {
    "duration": 30,
    "start_time": "2022-07-13T16:01:42.139Z"
   },
   {
    "duration": 5,
    "start_time": "2022-07-13T16:01:42.171Z"
   },
   {
    "duration": 10,
    "start_time": "2022-07-13T16:01:42.177Z"
   },
   {
    "duration": 16,
    "start_time": "2022-07-13T16:01:42.188Z"
   },
   {
    "duration": 9,
    "start_time": "2022-07-13T16:01:42.206Z"
   },
   {
    "duration": 9,
    "start_time": "2022-07-13T16:01:42.217Z"
   },
   {
    "duration": 8,
    "start_time": "2022-07-13T16:01:42.228Z"
   },
   {
    "duration": 10,
    "start_time": "2022-07-13T16:01:42.237Z"
   }
  ],
  "kernelspec": {
   "display_name": "Python 3 (ipykernel)",
   "language": "python",
   "name": "python3"
  },
  "language_info": {
   "codemirror_mode": {
    "name": "ipython",
    "version": 3
   },
   "file_extension": ".py",
   "mimetype": "text/x-python",
   "name": "python",
   "nbconvert_exporter": "python",
   "pygments_lexer": "ipython3",
   "version": "3.12.4"
  },
  "toc": {
   "base_numbering": 1,
   "nav_menu": {
    "height": "55px",
    "width": "167px"
   },
   "number_sections": true,
   "sideBar": true,
   "skip_h1_title": true,
   "title_cell": "Содержание",
   "title_sidebar": "Contents",
   "toc_cell": true,
   "toc_position": {
    "height": "calc(100% - 180px)",
    "left": "10px",
    "top": "150px",
    "width": "283.975px"
   },
   "toc_section_display": true,
   "toc_window_display": true
  }
 },
 "nbformat": 4,
 "nbformat_minor": 4
}
