{
 "cells": [
  {
   "cell_type": "markdown",
   "id": "183d39ce",
   "metadata": {},
   "source": [
    "# Определение перспективного тарифа для телеком компании"
   ]
  },
  {
   "cell_type": "markdown",
   "id": "0d71057b",
   "metadata": {},
   "source": [
    "# Содержание:\n",
    "* [Шаг 1. Изучение и знакомство с данными](#first-bullet)\n",
    "* [Шаг 2. Предобработка данных](#second-bullet)\n",
    "* [Шаг 3. Анализ данных](#third-bullet)\n",
    "* [Шаг 4. Проверим гипотезы](#fourth-bullet)\n",
    "* [Шаг 5. Общий вывод](#fifth-bullet)"
   ]
  },
  {
   "cell_type": "markdown",
   "id": "e7296e4a",
   "metadata": {},
   "source": [
    "## Описание проекта\n",
    "\n"
   ]
  },
  {
   "cell_type": "markdown",
   "id": "68f00f05",
   "metadata": {},
   "source": [
    "Клиентам предлагают два тарифных плана: «Смарт» и «Ультра» компании «Мегалайн» — федерального оператора сотовой связи. Чтобы скорректировать рекламный бюджет, коммерческий департамент хочет понять, какой тариф приносит больше денег. Нам предстоит сделать предварительный анализ тарифов на небольшой выборке клиентов. В нашем распоряжении данные 500 пользователей «Мегалайна»: кто они, откуда, каким тарифом пользуются, сколько звонков и сообщений каждый отправил за 2018 год. Нужно проанализировать поведение клиентов и сделать вывод — какой тариф лучше."
   ]
  },
  {
   "cell_type": "markdown",
   "id": "3a1c9e83",
   "metadata": {},
   "source": [
    "## Описание данных"
   ]
  },
  {
   "cell_type": "markdown",
   "id": "57128e81",
   "metadata": {},
   "source": [
    "### Таблица users (информация о пользователях):\n",
    "- user_id — уникальный идентификатор пользователя\n",
    "- first_name — имя пользователя\n",
    "- last_name — фамилия пользователя\n",
    "- age — возраст пользователя (годы)\n",
    "- reg_date — дата подключения тарифа (день, месяц, год)\n",
    "- churn_date — дата прекращения пользования тарифом (если значение пропущено, то тариф ещё действовал на момент выгрузки данных)\n",
    "- city — город проживания пользователя\n",
    "- tariff — название тарифного плана"
   ]
  },
  {
   "cell_type": "markdown",
   "id": "96a21fb8",
   "metadata": {},
   "source": [
    "### Таблица calls (информация о звонках):\n",
    "- id — уникальный номер звонка\n",
    "- call_date — дата звонка\n",
    "- duration — длительность звонка в минутах\n",
    "- user_id — идентификатор пользователя, сделавшего звонок"
   ]
  },
  {
   "cell_type": "markdown",
   "id": "4fa6ddbd",
   "metadata": {},
   "source": [
    "### Таблица messages (информация о сообщениях):\n",
    "- id — уникальный номер сообщения\n",
    "- message_date — дата сообщения\n",
    "- user_id — идентификатор пользователя, отправившего сообщение"
   ]
  },
  {
   "cell_type": "markdown",
   "id": "5cbc9f0c",
   "metadata": {},
   "source": [
    "### Таблица internet (информация об интернет-сессиях):\n",
    "- id — уникальный номер сессии\n",
    "- mb_used — объём потраченного за сессию интернет-трафика (в мегабайтах)\n",
    "- session_date — дата интернет-сессии\n",
    "- user_id — идентификатор пользователя"
   ]
  },
  {
   "cell_type": "markdown",
   "id": "3b12ceab",
   "metadata": {},
   "source": [
    "### Таблица tariffs (информация о тарифах):\n",
    "- tariff_name — название тарифа\n",
    "- rub_monthly_fee — ежемесячная абонентская плата в рублях\n",
    "- minutes_included — количество минут разговора в месяц, включённых в абонентскую плату\n",
    "- messages_included — количество сообщений в месяц, включённых в абонентскую плату\n",
    "- mb_per_month_included — объём интернет-трафика, включённого в абонентскую плату (в мегабайтах)\n",
    "- rub_per_minute — стоимость минуты разговора сверх тарифного пакета (например, если в тарифе 100 минут разговора в месяц, то со 101 минуты будет взиматься плата)"
   ]
  },
  {
   "cell_type": "markdown",
   "id": "88a9fb22",
   "metadata": {},
   "source": [
    "# Шаг 1. Изучение и знакомство с данными \n",
    "<a id=\"first-bullet\"></a>"
   ]
  },
  {
   "cell_type": "code",
   "execution_count": 1,
   "id": "5dd0e1f3",
   "metadata": {},
   "outputs": [],
   "source": [
    "import pandas as pd\n",
    "import numpy as np\n",
    "import matplotlib.pyplot as plt\n",
    "from scipy import stats as st"
   ]
  },
  {
   "cell_type": "code",
   "execution_count": 2,
   "id": "ab1f96c2",
   "metadata": {},
   "outputs": [],
   "source": [
    "try: \n",
    "    df_users = pd.read_csv('C:/Users/Danila30/Downloads/GitHub/Статистический анализ данных/users.csv')\n",
    "    df_calls = pd.read_csv('C:/Users/Danila30/Downloads/GitHub/Статистический анализ данных/calls.csv')\n",
    "    df_messages = pd.read_csv('C:/Users/Danila30/Downloads/GitHub/Статистический анализ данных/messages.csv')\n",
    "    df_internet = pd.read_csv('C:/Users/Danila30/Downloads/GitHub/Статистический анализ данных/internet.csv',index_col=0)\n",
    "    df_tariffs = pd.read_csv('C:/Users/Danila30/Downloads/GitHub/Статистический анализ данных/tariffs.csv')\n",
    "except:\n",
    "    df_users = pd.read_csv('/datasets/users.csv')\n",
    "    df_calls = pd.read_csv('/datasets/calls.csv')\n",
    "    df_messages = pd.read_csv('/datasets/messages.csv')\n",
    "    df_internet = pd.read_csv('/datasets/internet.csv',index_col=0)\n",
    "    df_tariffs = pd.read_csv('/datasets/tariffs.csv')\n"
   ]
  },
  {
   "cell_type": "code",
   "execution_count": 3,
   "id": "94b5efae",
   "metadata": {},
   "outputs": [],
   "source": [
    "#cнижает размерность чисел для вывода на экран на всем проекте и помогает с экспоненциальной записью чисел\n",
    "pd.options.display.float_format = '{:,.2f}'.format"
   ]
  },
  {
   "cell_type": "markdown",
   "id": "34f9ed9e",
   "metadata": {},
   "source": [
    "## Вывод\n",
    "Необходимо подробно ознакомитьс с каждым датасетом по отдельности."
   ]
  },
  {
   "cell_type": "markdown",
   "id": "9d9ae082",
   "metadata": {},
   "source": [
    "## Пользователи"
   ]
  },
  {
   "cell_type": "code",
   "execution_count": 4,
   "id": "3e0224ee",
   "metadata": {},
   "outputs": [
    {
     "name": "stdout",
     "output_type": "stream",
     "text": [
      "<class 'pandas.core.frame.DataFrame'>\n",
      "RangeIndex: 500 entries, 0 to 499\n",
      "Data columns (total 8 columns):\n",
      " #   Column      Non-Null Count  Dtype \n",
      "---  ------      --------------  ----- \n",
      " 0   user_id     500 non-null    int64 \n",
      " 1   age         500 non-null    int64 \n",
      " 2   churn_date  38 non-null     object\n",
      " 3   city        500 non-null    object\n",
      " 4   first_name  500 non-null    object\n",
      " 5   last_name   500 non-null    object\n",
      " 6   reg_date    500 non-null    object\n",
      " 7   tariff      500 non-null    object\n",
      "dtypes: int64(2), object(6)\n",
      "memory usage: 31.4+ KB\n"
     ]
    }
   ],
   "source": [
    "df_users.info()"
   ]
  },
  {
   "cell_type": "code",
   "execution_count": 5,
   "id": "9c8f2b66",
   "metadata": {},
   "outputs": [
    {
     "data": {
      "text/html": [
       "<div>\n",
       "<style scoped>\n",
       "    .dataframe tbody tr th:only-of-type {\n",
       "        vertical-align: middle;\n",
       "    }\n",
       "\n",
       "    .dataframe tbody tr th {\n",
       "        vertical-align: top;\n",
       "    }\n",
       "\n",
       "    .dataframe thead th {\n",
       "        text-align: right;\n",
       "    }\n",
       "</style>\n",
       "<table border=\"1\" class=\"dataframe\">\n",
       "  <thead>\n",
       "    <tr style=\"text-align: right;\">\n",
       "      <th></th>\n",
       "      <th>user_id</th>\n",
       "      <th>age</th>\n",
       "      <th>churn_date</th>\n",
       "      <th>city</th>\n",
       "      <th>first_name</th>\n",
       "      <th>last_name</th>\n",
       "      <th>reg_date</th>\n",
       "      <th>tariff</th>\n",
       "    </tr>\n",
       "  </thead>\n",
       "  <tbody>\n",
       "    <tr>\n",
       "      <th>0</th>\n",
       "      <td>1000</td>\n",
       "      <td>52</td>\n",
       "      <td>NaN</td>\n",
       "      <td>Краснодар</td>\n",
       "      <td>Рафаил</td>\n",
       "      <td>Верещагин</td>\n",
       "      <td>2018-05-25</td>\n",
       "      <td>ultra</td>\n",
       "    </tr>\n",
       "    <tr>\n",
       "      <th>1</th>\n",
       "      <td>1001</td>\n",
       "      <td>41</td>\n",
       "      <td>NaN</td>\n",
       "      <td>Москва</td>\n",
       "      <td>Иван</td>\n",
       "      <td>Ежов</td>\n",
       "      <td>2018-11-01</td>\n",
       "      <td>smart</td>\n",
       "    </tr>\n",
       "    <tr>\n",
       "      <th>2</th>\n",
       "      <td>1002</td>\n",
       "      <td>59</td>\n",
       "      <td>NaN</td>\n",
       "      <td>Стерлитамак</td>\n",
       "      <td>Евгений</td>\n",
       "      <td>Абрамович</td>\n",
       "      <td>2018-06-17</td>\n",
       "      <td>smart</td>\n",
       "    </tr>\n",
       "    <tr>\n",
       "      <th>3</th>\n",
       "      <td>1003</td>\n",
       "      <td>23</td>\n",
       "      <td>NaN</td>\n",
       "      <td>Москва</td>\n",
       "      <td>Белла</td>\n",
       "      <td>Белякова</td>\n",
       "      <td>2018-08-17</td>\n",
       "      <td>ultra</td>\n",
       "    </tr>\n",
       "    <tr>\n",
       "      <th>4</th>\n",
       "      <td>1004</td>\n",
       "      <td>68</td>\n",
       "      <td>NaN</td>\n",
       "      <td>Новокузнецк</td>\n",
       "      <td>Татьяна</td>\n",
       "      <td>Авдеенко</td>\n",
       "      <td>2018-05-14</td>\n",
       "      <td>ultra</td>\n",
       "    </tr>\n",
       "  </tbody>\n",
       "</table>\n",
       "</div>"
      ],
      "text/plain": [
       "   user_id  age churn_date         city first_name  last_name    reg_date  \\\n",
       "0     1000   52        NaN    Краснодар     Рафаил  Верещагин  2018-05-25   \n",
       "1     1001   41        NaN       Москва       Иван       Ежов  2018-11-01   \n",
       "2     1002   59        NaN  Стерлитамак    Евгений  Абрамович  2018-06-17   \n",
       "3     1003   23        NaN       Москва      Белла   Белякова  2018-08-17   \n",
       "4     1004   68        NaN  Новокузнецк    Татьяна   Авдеенко  2018-05-14   \n",
       "\n",
       "  tariff  \n",
       "0  ultra  \n",
       "1  smart  \n",
       "2  smart  \n",
       "3  ultra  \n",
       "4  ultra  "
      ]
     },
     "execution_count": 5,
     "metadata": {},
     "output_type": "execute_result"
    }
   ],
   "source": [
    "df_users.head()"
   ]
  },
  {
   "cell_type": "code",
   "execution_count": 6,
   "id": "79f291ac",
   "metadata": {},
   "outputs": [
    {
     "data": {
      "text/html": [
       "<div>\n",
       "<style scoped>\n",
       "    .dataframe tbody tr th:only-of-type {\n",
       "        vertical-align: middle;\n",
       "    }\n",
       "\n",
       "    .dataframe tbody tr th {\n",
       "        vertical-align: top;\n",
       "    }\n",
       "\n",
       "    .dataframe thead th {\n",
       "        text-align: right;\n",
       "    }\n",
       "</style>\n",
       "<table border=\"1\" class=\"dataframe\">\n",
       "  <thead>\n",
       "    <tr style=\"text-align: right;\">\n",
       "      <th></th>\n",
       "      <th>user_id</th>\n",
       "      <th>age</th>\n",
       "      <th>churn_date</th>\n",
       "      <th>city</th>\n",
       "      <th>first_name</th>\n",
       "      <th>last_name</th>\n",
       "      <th>reg_date</th>\n",
       "      <th>tariff</th>\n",
       "    </tr>\n",
       "  </thead>\n",
       "  <tbody>\n",
       "    <tr>\n",
       "      <th>count</th>\n",
       "      <td>500.00</td>\n",
       "      <td>500.00</td>\n",
       "      <td>38</td>\n",
       "      <td>500</td>\n",
       "      <td>500</td>\n",
       "      <td>500</td>\n",
       "      <td>500</td>\n",
       "      <td>500</td>\n",
       "    </tr>\n",
       "    <tr>\n",
       "      <th>unique</th>\n",
       "      <td>NaN</td>\n",
       "      <td>NaN</td>\n",
       "      <td>33</td>\n",
       "      <td>76</td>\n",
       "      <td>246</td>\n",
       "      <td>419</td>\n",
       "      <td>270</td>\n",
       "      <td>2</td>\n",
       "    </tr>\n",
       "    <tr>\n",
       "      <th>top</th>\n",
       "      <td>NaN</td>\n",
       "      <td>NaN</td>\n",
       "      <td>2018-12-03</td>\n",
       "      <td>Москва</td>\n",
       "      <td>Радим</td>\n",
       "      <td>Андреенко</td>\n",
       "      <td>2018-05-28</td>\n",
       "      <td>smart</td>\n",
       "    </tr>\n",
       "    <tr>\n",
       "      <th>freq</th>\n",
       "      <td>NaN</td>\n",
       "      <td>NaN</td>\n",
       "      <td>2</td>\n",
       "      <td>99</td>\n",
       "      <td>6</td>\n",
       "      <td>5</td>\n",
       "      <td>8</td>\n",
       "      <td>351</td>\n",
       "    </tr>\n",
       "    <tr>\n",
       "      <th>mean</th>\n",
       "      <td>1,249.50</td>\n",
       "      <td>46.59</td>\n",
       "      <td>NaN</td>\n",
       "      <td>NaN</td>\n",
       "      <td>NaN</td>\n",
       "      <td>NaN</td>\n",
       "      <td>NaN</td>\n",
       "      <td>NaN</td>\n",
       "    </tr>\n",
       "    <tr>\n",
       "      <th>std</th>\n",
       "      <td>144.48</td>\n",
       "      <td>16.67</td>\n",
       "      <td>NaN</td>\n",
       "      <td>NaN</td>\n",
       "      <td>NaN</td>\n",
       "      <td>NaN</td>\n",
       "      <td>NaN</td>\n",
       "      <td>NaN</td>\n",
       "    </tr>\n",
       "    <tr>\n",
       "      <th>min</th>\n",
       "      <td>1,000.00</td>\n",
       "      <td>18.00</td>\n",
       "      <td>NaN</td>\n",
       "      <td>NaN</td>\n",
       "      <td>NaN</td>\n",
       "      <td>NaN</td>\n",
       "      <td>NaN</td>\n",
       "      <td>NaN</td>\n",
       "    </tr>\n",
       "    <tr>\n",
       "      <th>25%</th>\n",
       "      <td>1,124.75</td>\n",
       "      <td>32.00</td>\n",
       "      <td>NaN</td>\n",
       "      <td>NaN</td>\n",
       "      <td>NaN</td>\n",
       "      <td>NaN</td>\n",
       "      <td>NaN</td>\n",
       "      <td>NaN</td>\n",
       "    </tr>\n",
       "    <tr>\n",
       "      <th>50%</th>\n",
       "      <td>1,249.50</td>\n",
       "      <td>46.00</td>\n",
       "      <td>NaN</td>\n",
       "      <td>NaN</td>\n",
       "      <td>NaN</td>\n",
       "      <td>NaN</td>\n",
       "      <td>NaN</td>\n",
       "      <td>NaN</td>\n",
       "    </tr>\n",
       "    <tr>\n",
       "      <th>75%</th>\n",
       "      <td>1,374.25</td>\n",
       "      <td>62.00</td>\n",
       "      <td>NaN</td>\n",
       "      <td>NaN</td>\n",
       "      <td>NaN</td>\n",
       "      <td>NaN</td>\n",
       "      <td>NaN</td>\n",
       "      <td>NaN</td>\n",
       "    </tr>\n",
       "    <tr>\n",
       "      <th>max</th>\n",
       "      <td>1,499.00</td>\n",
       "      <td>75.00</td>\n",
       "      <td>NaN</td>\n",
       "      <td>NaN</td>\n",
       "      <td>NaN</td>\n",
       "      <td>NaN</td>\n",
       "      <td>NaN</td>\n",
       "      <td>NaN</td>\n",
       "    </tr>\n",
       "  </tbody>\n",
       "</table>\n",
       "</div>"
      ],
      "text/plain": [
       "        user_id    age  churn_date    city first_name  last_name    reg_date  \\\n",
       "count    500.00 500.00          38     500        500        500         500   \n",
       "unique      NaN    NaN          33      76        246        419         270   \n",
       "top         NaN    NaN  2018-12-03  Москва      Радим  Андреенко  2018-05-28   \n",
       "freq        NaN    NaN           2      99          6          5           8   \n",
       "mean   1,249.50  46.59         NaN     NaN        NaN        NaN         NaN   \n",
       "std      144.48  16.67         NaN     NaN        NaN        NaN         NaN   \n",
       "min    1,000.00  18.00         NaN     NaN        NaN        NaN         NaN   \n",
       "25%    1,124.75  32.00         NaN     NaN        NaN        NaN         NaN   \n",
       "50%    1,249.50  46.00         NaN     NaN        NaN        NaN         NaN   \n",
       "75%    1,374.25  62.00         NaN     NaN        NaN        NaN         NaN   \n",
       "max    1,499.00  75.00         NaN     NaN        NaN        NaN         NaN   \n",
       "\n",
       "       tariff  \n",
       "count     500  \n",
       "unique      2  \n",
       "top     smart  \n",
       "freq      351  \n",
       "mean      NaN  \n",
       "std       NaN  \n",
       "min       NaN  \n",
       "25%       NaN  \n",
       "50%       NaN  \n",
       "75%       NaN  \n",
       "max       NaN  "
      ]
     },
     "execution_count": 6,
     "metadata": {},
     "output_type": "execute_result"
    }
   ],
   "source": [
    "df_users.describe(include='all')"
   ]
  },
  {
   "cell_type": "code",
   "execution_count": 7,
   "id": "93cc2d40",
   "metadata": {},
   "outputs": [
    {
     "name": "stdout",
     "output_type": "stream",
     "text": [
      "Количество дубликатов: 0\n"
     ]
    }
   ],
   "source": [
    "df_users.isna().sum()\n",
    "print('Количество дубликатов: {}'.format(df_users.duplicated().sum()))"
   ]
  },
  {
   "cell_type": "markdown",
   "id": "91db5429",
   "metadata": {},
   "source": [
    "### Выводы\n",
    "Пропуски в данных отсутствуют, дубликатов не выявлено. В таблице представлены данные 500 пользователей, 462 из них все еще пользуются тарифом.\n",
    "\n",
    "Для дальнейшего анализ значения в столбцах необходимо привести к типу DateTime:\n",
    "\n",
    "* reg_date дата подключения тарифа;\n",
    "* churn_date дата прекращения пользования тарифом.\n",
    "\n"
   ]
  },
  {
   "cell_type": "markdown",
   "id": "cdedb65e",
   "metadata": {},
   "source": [
    "## Звонки"
   ]
  },
  {
   "cell_type": "code",
   "execution_count": 8,
   "id": "eb5196ec",
   "metadata": {},
   "outputs": [
    {
     "name": "stdout",
     "output_type": "stream",
     "text": [
      "<class 'pandas.core.frame.DataFrame'>\n",
      "RangeIndex: 202607 entries, 0 to 202606\n",
      "Data columns (total 4 columns):\n",
      " #   Column     Non-Null Count   Dtype  \n",
      "---  ------     --------------   -----  \n",
      " 0   id         202607 non-null  object \n",
      " 1   call_date  202607 non-null  object \n",
      " 2   duration   202607 non-null  float64\n",
      " 3   user_id    202607 non-null  int64  \n",
      "dtypes: float64(1), int64(1), object(2)\n",
      "memory usage: 6.2+ MB\n"
     ]
    }
   ],
   "source": [
    "df_calls.info()"
   ]
  },
  {
   "cell_type": "code",
   "execution_count": 9,
   "id": "9f45ec5d",
   "metadata": {},
   "outputs": [
    {
     "data": {
      "text/plain": [
       "id           0\n",
       "call_date    0\n",
       "duration     0\n",
       "user_id      0\n",
       "dtype: int64"
      ]
     },
     "execution_count": 9,
     "metadata": {},
     "output_type": "execute_result"
    }
   ],
   "source": [
    "df_calls.isna().sum()"
   ]
  },
  {
   "cell_type": "code",
   "execution_count": 10,
   "id": "d5dc4872",
   "metadata": {},
   "outputs": [
    {
     "data": {
      "text/html": [
       "<div>\n",
       "<style scoped>\n",
       "    .dataframe tbody tr th:only-of-type {\n",
       "        vertical-align: middle;\n",
       "    }\n",
       "\n",
       "    .dataframe tbody tr th {\n",
       "        vertical-align: top;\n",
       "    }\n",
       "\n",
       "    .dataframe thead th {\n",
       "        text-align: right;\n",
       "    }\n",
       "</style>\n",
       "<table border=\"1\" class=\"dataframe\">\n",
       "  <thead>\n",
       "    <tr style=\"text-align: right;\">\n",
       "      <th></th>\n",
       "      <th>id</th>\n",
       "      <th>call_date</th>\n",
       "      <th>duration</th>\n",
       "      <th>user_id</th>\n",
       "    </tr>\n",
       "  </thead>\n",
       "  <tbody>\n",
       "    <tr>\n",
       "      <th>count</th>\n",
       "      <td>202607</td>\n",
       "      <td>202607</td>\n",
       "      <td>202,607.00</td>\n",
       "      <td>202,607.00</td>\n",
       "    </tr>\n",
       "    <tr>\n",
       "      <th>unique</th>\n",
       "      <td>202607</td>\n",
       "      <td>365</td>\n",
       "      <td>NaN</td>\n",
       "      <td>NaN</td>\n",
       "    </tr>\n",
       "    <tr>\n",
       "      <th>top</th>\n",
       "      <td>1000_0</td>\n",
       "      <td>2018-12-31</td>\n",
       "      <td>NaN</td>\n",
       "      <td>NaN</td>\n",
       "    </tr>\n",
       "    <tr>\n",
       "      <th>freq</th>\n",
       "      <td>1</td>\n",
       "      <td>1435</td>\n",
       "      <td>NaN</td>\n",
       "      <td>NaN</td>\n",
       "    </tr>\n",
       "    <tr>\n",
       "      <th>mean</th>\n",
       "      <td>NaN</td>\n",
       "      <td>NaN</td>\n",
       "      <td>6.76</td>\n",
       "      <td>1,253.94</td>\n",
       "    </tr>\n",
       "    <tr>\n",
       "      <th>std</th>\n",
       "      <td>NaN</td>\n",
       "      <td>NaN</td>\n",
       "      <td>5.84</td>\n",
       "      <td>144.72</td>\n",
       "    </tr>\n",
       "    <tr>\n",
       "      <th>min</th>\n",
       "      <td>NaN</td>\n",
       "      <td>NaN</td>\n",
       "      <td>0.00</td>\n",
       "      <td>1,000.00</td>\n",
       "    </tr>\n",
       "    <tr>\n",
       "      <th>25%</th>\n",
       "      <td>NaN</td>\n",
       "      <td>NaN</td>\n",
       "      <td>1.30</td>\n",
       "      <td>1,126.00</td>\n",
       "    </tr>\n",
       "    <tr>\n",
       "      <th>50%</th>\n",
       "      <td>NaN</td>\n",
       "      <td>NaN</td>\n",
       "      <td>6.00</td>\n",
       "      <td>1,260.00</td>\n",
       "    </tr>\n",
       "    <tr>\n",
       "      <th>75%</th>\n",
       "      <td>NaN</td>\n",
       "      <td>NaN</td>\n",
       "      <td>10.70</td>\n",
       "      <td>1,379.00</td>\n",
       "    </tr>\n",
       "    <tr>\n",
       "      <th>max</th>\n",
       "      <td>NaN</td>\n",
       "      <td>NaN</td>\n",
       "      <td>38.00</td>\n",
       "      <td>1,499.00</td>\n",
       "    </tr>\n",
       "  </tbody>\n",
       "</table>\n",
       "</div>"
      ],
      "text/plain": [
       "            id   call_date   duration    user_id\n",
       "count   202607      202607 202,607.00 202,607.00\n",
       "unique  202607         365        NaN        NaN\n",
       "top     1000_0  2018-12-31        NaN        NaN\n",
       "freq         1        1435        NaN        NaN\n",
       "mean       NaN         NaN       6.76   1,253.94\n",
       "std        NaN         NaN       5.84     144.72\n",
       "min        NaN         NaN       0.00   1,000.00\n",
       "25%        NaN         NaN       1.30   1,126.00\n",
       "50%        NaN         NaN       6.00   1,260.00\n",
       "75%        NaN         NaN      10.70   1,379.00\n",
       "max        NaN         NaN      38.00   1,499.00"
      ]
     },
     "execution_count": 10,
     "metadata": {},
     "output_type": "execute_result"
    }
   ],
   "source": [
    "df_calls.describe(include='all')"
   ]
  },
  {
   "cell_type": "code",
   "execution_count": 11,
   "id": "aeeb2cb7",
   "metadata": {},
   "outputs": [
    {
     "name": "stdout",
     "output_type": "stream",
     "text": [
      "Количество дубликатов: 0\n",
      "Количество звонков, у которых длительность звонка менее 1 минуты: 47927\n"
     ]
    },
    {
     "data": {
      "text/html": [
       "<div>\n",
       "<style scoped>\n",
       "    .dataframe tbody tr th:only-of-type {\n",
       "        vertical-align: middle;\n",
       "    }\n",
       "\n",
       "    .dataframe tbody tr th {\n",
       "        vertical-align: top;\n",
       "    }\n",
       "\n",
       "    .dataframe thead th {\n",
       "        text-align: right;\n",
       "    }\n",
       "</style>\n",
       "<table border=\"1\" class=\"dataframe\">\n",
       "  <thead>\n",
       "    <tr style=\"text-align: right;\">\n",
       "      <th></th>\n",
       "      <th>id</th>\n",
       "      <th>call_date</th>\n",
       "      <th>duration</th>\n",
       "      <th>user_id</th>\n",
       "    </tr>\n",
       "  </thead>\n",
       "  <tbody>\n",
       "    <tr>\n",
       "      <th>0</th>\n",
       "      <td>1000_0</td>\n",
       "      <td>2018-07-25</td>\n",
       "      <td>0.00</td>\n",
       "      <td>1000</td>\n",
       "    </tr>\n",
       "    <tr>\n",
       "      <th>1</th>\n",
       "      <td>1000_1</td>\n",
       "      <td>2018-08-17</td>\n",
       "      <td>0.00</td>\n",
       "      <td>1000</td>\n",
       "    </tr>\n",
       "    <tr>\n",
       "      <th>2</th>\n",
       "      <td>1000_2</td>\n",
       "      <td>2018-06-11</td>\n",
       "      <td>2.85</td>\n",
       "      <td>1000</td>\n",
       "    </tr>\n",
       "    <tr>\n",
       "      <th>3</th>\n",
       "      <td>1000_3</td>\n",
       "      <td>2018-09-21</td>\n",
       "      <td>13.80</td>\n",
       "      <td>1000</td>\n",
       "    </tr>\n",
       "    <tr>\n",
       "      <th>4</th>\n",
       "      <td>1000_4</td>\n",
       "      <td>2018-12-15</td>\n",
       "      <td>5.18</td>\n",
       "      <td>1000</td>\n",
       "    </tr>\n",
       "  </tbody>\n",
       "</table>\n",
       "</div>"
      ],
      "text/plain": [
       "       id   call_date  duration  user_id\n",
       "0  1000_0  2018-07-25      0.00     1000\n",
       "1  1000_1  2018-08-17      0.00     1000\n",
       "2  1000_2  2018-06-11      2.85     1000\n",
       "3  1000_3  2018-09-21     13.80     1000\n",
       "4  1000_4  2018-12-15      5.18     1000"
      ]
     },
     "execution_count": 11,
     "metadata": {},
     "output_type": "execute_result"
    }
   ],
   "source": [
    "print('Количество дубликатов: {}'.format(df_calls.duplicated().sum()))\n",
    "\n",
    "print('Количество звонков, у которых длительность звонка менее 1 минуты: {}'.format(len(df_calls[df_calls.duration < 1])))\n",
    "\n",
    "df_calls.head()"
   ]
  },
  {
   "cell_type": "markdown",
   "id": "a8327922",
   "metadata": {},
   "source": [
    "### Выводы\n",
    "Call_date дату звонков нужно привести к DateTime. Пропусков не выявлено. Звонки, которые продолжались меньше минут - 47927. \n",
    "\n",
    "Применим метод np.ceil для приведения значений к большему числу и после поменяем тип на INT\n"
   ]
  },
  {
   "cell_type": "markdown",
   "id": "21d0d1d6",
   "metadata": {},
   "source": [
    "## Сообщения"
   ]
  },
  {
   "cell_type": "code",
   "execution_count": 12,
   "id": "a747ce87",
   "metadata": {},
   "outputs": [
    {
     "name": "stdout",
     "output_type": "stream",
     "text": [
      "<class 'pandas.core.frame.DataFrame'>\n",
      "RangeIndex: 123036 entries, 0 to 123035\n",
      "Data columns (total 3 columns):\n",
      " #   Column        Non-Null Count   Dtype \n",
      "---  ------        --------------   ----- \n",
      " 0   id            123036 non-null  object\n",
      " 1   message_date  123036 non-null  object\n",
      " 2   user_id       123036 non-null  int64 \n",
      "dtypes: int64(1), object(2)\n",
      "memory usage: 2.8+ MB\n"
     ]
    }
   ],
   "source": [
    "df_messages.info()"
   ]
  },
  {
   "cell_type": "code",
   "execution_count": 13,
   "id": "e7ba2963",
   "metadata": {},
   "outputs": [
    {
     "data": {
      "text/html": [
       "<div>\n",
       "<style scoped>\n",
       "    .dataframe tbody tr th:only-of-type {\n",
       "        vertical-align: middle;\n",
       "    }\n",
       "\n",
       "    .dataframe tbody tr th {\n",
       "        vertical-align: top;\n",
       "    }\n",
       "\n",
       "    .dataframe thead th {\n",
       "        text-align: right;\n",
       "    }\n",
       "</style>\n",
       "<table border=\"1\" class=\"dataframe\">\n",
       "  <thead>\n",
       "    <tr style=\"text-align: right;\">\n",
       "      <th></th>\n",
       "      <th>id</th>\n",
       "      <th>message_date</th>\n",
       "      <th>user_id</th>\n",
       "    </tr>\n",
       "  </thead>\n",
       "  <tbody>\n",
       "    <tr>\n",
       "      <th>0</th>\n",
       "      <td>1000_0</td>\n",
       "      <td>2018-06-27</td>\n",
       "      <td>1000</td>\n",
       "    </tr>\n",
       "    <tr>\n",
       "      <th>1</th>\n",
       "      <td>1000_1</td>\n",
       "      <td>2018-10-08</td>\n",
       "      <td>1000</td>\n",
       "    </tr>\n",
       "    <tr>\n",
       "      <th>2</th>\n",
       "      <td>1000_2</td>\n",
       "      <td>2018-08-04</td>\n",
       "      <td>1000</td>\n",
       "    </tr>\n",
       "    <tr>\n",
       "      <th>3</th>\n",
       "      <td>1000_3</td>\n",
       "      <td>2018-06-16</td>\n",
       "      <td>1000</td>\n",
       "    </tr>\n",
       "    <tr>\n",
       "      <th>4</th>\n",
       "      <td>1000_4</td>\n",
       "      <td>2018-12-05</td>\n",
       "      <td>1000</td>\n",
       "    </tr>\n",
       "  </tbody>\n",
       "</table>\n",
       "</div>"
      ],
      "text/plain": [
       "       id message_date  user_id\n",
       "0  1000_0   2018-06-27     1000\n",
       "1  1000_1   2018-10-08     1000\n",
       "2  1000_2   2018-08-04     1000\n",
       "3  1000_3   2018-06-16     1000\n",
       "4  1000_4   2018-12-05     1000"
      ]
     },
     "execution_count": 13,
     "metadata": {},
     "output_type": "execute_result"
    }
   ],
   "source": [
    "df_messages.head()"
   ]
  },
  {
   "cell_type": "code",
   "execution_count": 14,
   "id": "f231a732",
   "metadata": {},
   "outputs": [
    {
     "data": {
      "text/html": [
       "<div>\n",
       "<style scoped>\n",
       "    .dataframe tbody tr th:only-of-type {\n",
       "        vertical-align: middle;\n",
       "    }\n",
       "\n",
       "    .dataframe tbody tr th {\n",
       "        vertical-align: top;\n",
       "    }\n",
       "\n",
       "    .dataframe thead th {\n",
       "        text-align: right;\n",
       "    }\n",
       "</style>\n",
       "<table border=\"1\" class=\"dataframe\">\n",
       "  <thead>\n",
       "    <tr style=\"text-align: right;\">\n",
       "      <th></th>\n",
       "      <th>id</th>\n",
       "      <th>message_date</th>\n",
       "      <th>user_id</th>\n",
       "    </tr>\n",
       "  </thead>\n",
       "  <tbody>\n",
       "    <tr>\n",
       "      <th>count</th>\n",
       "      <td>123036</td>\n",
       "      <td>123036</td>\n",
       "      <td>123,036.00</td>\n",
       "    </tr>\n",
       "    <tr>\n",
       "      <th>unique</th>\n",
       "      <td>123036</td>\n",
       "      <td>364</td>\n",
       "      <td>NaN</td>\n",
       "    </tr>\n",
       "    <tr>\n",
       "      <th>top</th>\n",
       "      <td>1000_0</td>\n",
       "      <td>2018-12-31</td>\n",
       "      <td>NaN</td>\n",
       "    </tr>\n",
       "    <tr>\n",
       "      <th>freq</th>\n",
       "      <td>1</td>\n",
       "      <td>859</td>\n",
       "      <td>NaN</td>\n",
       "    </tr>\n",
       "    <tr>\n",
       "      <th>mean</th>\n",
       "      <td>NaN</td>\n",
       "      <td>NaN</td>\n",
       "      <td>1,256.99</td>\n",
       "    </tr>\n",
       "    <tr>\n",
       "      <th>std</th>\n",
       "      <td>NaN</td>\n",
       "      <td>NaN</td>\n",
       "      <td>143.52</td>\n",
       "    </tr>\n",
       "    <tr>\n",
       "      <th>min</th>\n",
       "      <td>NaN</td>\n",
       "      <td>NaN</td>\n",
       "      <td>1,000.00</td>\n",
       "    </tr>\n",
       "    <tr>\n",
       "      <th>25%</th>\n",
       "      <td>NaN</td>\n",
       "      <td>NaN</td>\n",
       "      <td>1,134.00</td>\n",
       "    </tr>\n",
       "    <tr>\n",
       "      <th>50%</th>\n",
       "      <td>NaN</td>\n",
       "      <td>NaN</td>\n",
       "      <td>1,271.00</td>\n",
       "    </tr>\n",
       "    <tr>\n",
       "      <th>75%</th>\n",
       "      <td>NaN</td>\n",
       "      <td>NaN</td>\n",
       "      <td>1,381.00</td>\n",
       "    </tr>\n",
       "    <tr>\n",
       "      <th>max</th>\n",
       "      <td>NaN</td>\n",
       "      <td>NaN</td>\n",
       "      <td>1,499.00</td>\n",
       "    </tr>\n",
       "  </tbody>\n",
       "</table>\n",
       "</div>"
      ],
      "text/plain": [
       "            id message_date    user_id\n",
       "count   123036       123036 123,036.00\n",
       "unique  123036          364        NaN\n",
       "top     1000_0   2018-12-31        NaN\n",
       "freq         1          859        NaN\n",
       "mean       NaN          NaN   1,256.99\n",
       "std        NaN          NaN     143.52\n",
       "min        NaN          NaN   1,000.00\n",
       "25%        NaN          NaN   1,134.00\n",
       "50%        NaN          NaN   1,271.00\n",
       "75%        NaN          NaN   1,381.00\n",
       "max        NaN          NaN   1,499.00"
      ]
     },
     "execution_count": 14,
     "metadata": {},
     "output_type": "execute_result"
    }
   ],
   "source": [
    "df_messages.describe(include='all')"
   ]
  },
  {
   "cell_type": "code",
   "execution_count": 15,
   "id": "395eae2d",
   "metadata": {},
   "outputs": [
    {
     "name": "stdout",
     "output_type": "stream",
     "text": [
      "Количество дубликатов: 0\n"
     ]
    }
   ],
   "source": [
    "df_messages.isna().sum()\n",
    "print('Количество дубликатов: {}'.format(df_messages.duplicated().sum()))"
   ]
  },
  {
   "cell_type": "markdown",
   "id": "2a7090e7",
   "metadata": {},
   "source": [
    "### Выводы\n",
    "Пропусков и дубликатов не обнаружено. Столбец message_date (дату сообщения) необходимо привести к DateTime.\n"
   ]
  },
  {
   "cell_type": "markdown",
   "id": "a1603345",
   "metadata": {},
   "source": [
    "## Интернет"
   ]
  },
  {
   "cell_type": "code",
   "execution_count": 16,
   "id": "495ccbbc",
   "metadata": {},
   "outputs": [
    {
     "name": "stdout",
     "output_type": "stream",
     "text": [
      "<class 'pandas.core.frame.DataFrame'>\n",
      "Index: 149396 entries, 0 to 149395\n",
      "Data columns (total 4 columns):\n",
      " #   Column        Non-Null Count   Dtype  \n",
      "---  ------        --------------   -----  \n",
      " 0   id            149396 non-null  object \n",
      " 1   mb_used       149396 non-null  float64\n",
      " 2   session_date  149396 non-null  object \n",
      " 3   user_id       149396 non-null  int64  \n",
      "dtypes: float64(1), int64(1), object(2)\n",
      "memory usage: 5.7+ MB\n"
     ]
    }
   ],
   "source": [
    "df_internet.info()"
   ]
  },
  {
   "cell_type": "code",
   "execution_count": 17,
   "id": "9226d0b1",
   "metadata": {},
   "outputs": [
    {
     "data": {
      "text/html": [
       "<div>\n",
       "<style scoped>\n",
       "    .dataframe tbody tr th:only-of-type {\n",
       "        vertical-align: middle;\n",
       "    }\n",
       "\n",
       "    .dataframe tbody tr th {\n",
       "        vertical-align: top;\n",
       "    }\n",
       "\n",
       "    .dataframe thead th {\n",
       "        text-align: right;\n",
       "    }\n",
       "</style>\n",
       "<table border=\"1\" class=\"dataframe\">\n",
       "  <thead>\n",
       "    <tr style=\"text-align: right;\">\n",
       "      <th></th>\n",
       "      <th>id</th>\n",
       "      <th>mb_used</th>\n",
       "      <th>session_date</th>\n",
       "      <th>user_id</th>\n",
       "    </tr>\n",
       "  </thead>\n",
       "  <tbody>\n",
       "    <tr>\n",
       "      <th>count</th>\n",
       "      <td>149396</td>\n",
       "      <td>149,396.00</td>\n",
       "      <td>149396</td>\n",
       "      <td>149,396.00</td>\n",
       "    </tr>\n",
       "    <tr>\n",
       "      <th>unique</th>\n",
       "      <td>149396</td>\n",
       "      <td>NaN</td>\n",
       "      <td>365</td>\n",
       "      <td>NaN</td>\n",
       "    </tr>\n",
       "    <tr>\n",
       "      <th>top</th>\n",
       "      <td>1000_0</td>\n",
       "      <td>NaN</td>\n",
       "      <td>2018-12-31</td>\n",
       "      <td>NaN</td>\n",
       "    </tr>\n",
       "    <tr>\n",
       "      <th>freq</th>\n",
       "      <td>1</td>\n",
       "      <td>NaN</td>\n",
       "      <td>1057</td>\n",
       "      <td>NaN</td>\n",
       "    </tr>\n",
       "    <tr>\n",
       "      <th>mean</th>\n",
       "      <td>NaN</td>\n",
       "      <td>370.19</td>\n",
       "      <td>NaN</td>\n",
       "      <td>1,252.10</td>\n",
       "    </tr>\n",
       "    <tr>\n",
       "      <th>std</th>\n",
       "      <td>NaN</td>\n",
       "      <td>278.30</td>\n",
       "      <td>NaN</td>\n",
       "      <td>144.05</td>\n",
       "    </tr>\n",
       "    <tr>\n",
       "      <th>min</th>\n",
       "      <td>NaN</td>\n",
       "      <td>0.00</td>\n",
       "      <td>NaN</td>\n",
       "      <td>1,000.00</td>\n",
       "    </tr>\n",
       "    <tr>\n",
       "      <th>25%</th>\n",
       "      <td>NaN</td>\n",
       "      <td>138.19</td>\n",
       "      <td>NaN</td>\n",
       "      <td>1,130.00</td>\n",
       "    </tr>\n",
       "    <tr>\n",
       "      <th>50%</th>\n",
       "      <td>NaN</td>\n",
       "      <td>348.01</td>\n",
       "      <td>NaN</td>\n",
       "      <td>1,251.00</td>\n",
       "    </tr>\n",
       "    <tr>\n",
       "      <th>75%</th>\n",
       "      <td>NaN</td>\n",
       "      <td>559.55</td>\n",
       "      <td>NaN</td>\n",
       "      <td>1,380.00</td>\n",
       "    </tr>\n",
       "    <tr>\n",
       "      <th>max</th>\n",
       "      <td>NaN</td>\n",
       "      <td>1,724.83</td>\n",
       "      <td>NaN</td>\n",
       "      <td>1,499.00</td>\n",
       "    </tr>\n",
       "  </tbody>\n",
       "</table>\n",
       "</div>"
      ],
      "text/plain": [
       "            id    mb_used session_date    user_id\n",
       "count   149396 149,396.00       149396 149,396.00\n",
       "unique  149396        NaN          365        NaN\n",
       "top     1000_0        NaN   2018-12-31        NaN\n",
       "freq         1        NaN         1057        NaN\n",
       "mean       NaN     370.19          NaN   1,252.10\n",
       "std        NaN     278.30          NaN     144.05\n",
       "min        NaN       0.00          NaN   1,000.00\n",
       "25%        NaN     138.19          NaN   1,130.00\n",
       "50%        NaN     348.01          NaN   1,251.00\n",
       "75%        NaN     559.55          NaN   1,380.00\n",
       "max        NaN   1,724.83          NaN   1,499.00"
      ]
     },
     "execution_count": 17,
     "metadata": {},
     "output_type": "execute_result"
    }
   ],
   "source": [
    "df_internet.describe(include='all')"
   ]
  },
  {
   "cell_type": "code",
   "execution_count": 18,
   "id": "c991ffae",
   "metadata": {},
   "outputs": [
    {
     "name": "stdout",
     "output_type": "stream",
     "text": [
      "Количество дубликатов: 0\n"
     ]
    }
   ],
   "source": [
    "df_internet.isna().sum()\n",
    "print('Количество дубликатов: {}'.format(df_internet.duplicated().sum()))"
   ]
  },
  {
   "cell_type": "code",
   "execution_count": 19,
   "id": "f8d4bf33",
   "metadata": {},
   "outputs": [
    {
     "name": "stdout",
     "output_type": "stream",
     "text": [
      "Количество сессий, в которой потратили интернет-трафика менее 1 Мб и больше 0: 101\n",
      "Количество сессий, в которой потратили интернет-трафика менее 1 Мб: 19699\n"
     ]
    }
   ],
   "source": [
    "df_internet.head()\n",
    "\n",
    "print('Количество сессий, в которой потратили интернет-трафика менее 1 Мб и больше 0: {}'.format(len(df_internet.query('mb_used < 1 and mb_used > 0'))))\n",
    "\n",
    "print('Количество сессий, в которой потратили интернет-трафика менее 1 Мб: {}'.format(len(df_internet.query('mb_used < 1 '))))"
   ]
  },
  {
   "cell_type": "markdown",
   "id": "b8c8aa50",
   "metadata": {},
   "source": [
    "### Выводы\n",
    "Пропусков, которые нужно заменить не выявлено.\n",
    "Объём потраченного за сессию интернет-трафика указан в мегабайтах, в то время как в тарифе в гигабайтах. Таким образом, если пользователь израсходует объем трафика, предоставленный тарифным планом, для анализа нам потребуется привести дополнительный объем трафика к гигабайтам, чтобы рассчитать стоимость.\n",
    "session_date дату интернет-сессии нужно привести к DateTime.\n",
    "19699 сессий имеют объём потраченного за сессию интернет-трафика менее 1 Мб. Если сессия зарегистрирована, значит трафик был, правда, странно, если он равен 0. Но исходя из условий оператор округляет вверх значения мегабайтов. Применим метод np.ceil для приведения ВСЕХ значений к большему числу, а также все нули заменим на 1, после поменяем тип на INT\n",
    "\n"
   ]
  },
  {
   "cell_type": "markdown",
   "id": "158a9a92",
   "metadata": {},
   "source": [
    "## Тарифы"
   ]
  },
  {
   "cell_type": "code",
   "execution_count": 20,
   "id": "83ecc8b7",
   "metadata": {},
   "outputs": [
    {
     "name": "stdout",
     "output_type": "stream",
     "text": [
      "<class 'pandas.core.frame.DataFrame'>\n",
      "RangeIndex: 2 entries, 0 to 1\n",
      "Data columns (total 8 columns):\n",
      " #   Column                 Non-Null Count  Dtype \n",
      "---  ------                 --------------  ----- \n",
      " 0   messages_included      2 non-null      int64 \n",
      " 1   mb_per_month_included  2 non-null      int64 \n",
      " 2   minutes_included       2 non-null      int64 \n",
      " 3   rub_monthly_fee        2 non-null      int64 \n",
      " 4   rub_per_gb             2 non-null      int64 \n",
      " 5   rub_per_message        2 non-null      int64 \n",
      " 6   rub_per_minute         2 non-null      int64 \n",
      " 7   tariff_name            2 non-null      object\n",
      "dtypes: int64(7), object(1)\n",
      "memory usage: 260.0+ bytes\n"
     ]
    }
   ],
   "source": [
    "df_tariffs.info()"
   ]
  },
  {
   "cell_type": "code",
   "execution_count": 21,
   "id": "c98203a8",
   "metadata": {},
   "outputs": [
    {
     "data": {
      "text/html": [
       "<div>\n",
       "<style scoped>\n",
       "    .dataframe tbody tr th:only-of-type {\n",
       "        vertical-align: middle;\n",
       "    }\n",
       "\n",
       "    .dataframe tbody tr th {\n",
       "        vertical-align: top;\n",
       "    }\n",
       "\n",
       "    .dataframe thead th {\n",
       "        text-align: right;\n",
       "    }\n",
       "</style>\n",
       "<table border=\"1\" class=\"dataframe\">\n",
       "  <thead>\n",
       "    <tr style=\"text-align: right;\">\n",
       "      <th></th>\n",
       "      <th>messages_included</th>\n",
       "      <th>mb_per_month_included</th>\n",
       "      <th>minutes_included</th>\n",
       "      <th>rub_monthly_fee</th>\n",
       "      <th>rub_per_gb</th>\n",
       "      <th>rub_per_message</th>\n",
       "      <th>rub_per_minute</th>\n",
       "      <th>tariff_name</th>\n",
       "    </tr>\n",
       "  </thead>\n",
       "  <tbody>\n",
       "    <tr>\n",
       "      <th>0</th>\n",
       "      <td>50</td>\n",
       "      <td>15360</td>\n",
       "      <td>500</td>\n",
       "      <td>550</td>\n",
       "      <td>200</td>\n",
       "      <td>3</td>\n",
       "      <td>3</td>\n",
       "      <td>smart</td>\n",
       "    </tr>\n",
       "    <tr>\n",
       "      <th>1</th>\n",
       "      <td>1000</td>\n",
       "      <td>30720</td>\n",
       "      <td>3000</td>\n",
       "      <td>1950</td>\n",
       "      <td>150</td>\n",
       "      <td>1</td>\n",
       "      <td>1</td>\n",
       "      <td>ultra</td>\n",
       "    </tr>\n",
       "  </tbody>\n",
       "</table>\n",
       "</div>"
      ],
      "text/plain": [
       "   messages_included  mb_per_month_included  minutes_included  \\\n",
       "0                 50                  15360               500   \n",
       "1               1000                  30720              3000   \n",
       "\n",
       "   rub_monthly_fee  rub_per_gb  rub_per_message  rub_per_minute tariff_name  \n",
       "0              550         200                3               3       smart  \n",
       "1             1950         150                1               1       ultra  "
      ]
     },
     "execution_count": 21,
     "metadata": {},
     "output_type": "execute_result"
    }
   ],
   "source": [
    "df_tariffs.head()"
   ]
  },
  {
   "cell_type": "code",
   "execution_count": 22,
   "id": "bd636139",
   "metadata": {},
   "outputs": [
    {
     "data": {
      "text/html": [
       "<div>\n",
       "<style scoped>\n",
       "    .dataframe tbody tr th:only-of-type {\n",
       "        vertical-align: middle;\n",
       "    }\n",
       "\n",
       "    .dataframe tbody tr th {\n",
       "        vertical-align: top;\n",
       "    }\n",
       "\n",
       "    .dataframe thead th {\n",
       "        text-align: right;\n",
       "    }\n",
       "</style>\n",
       "<table border=\"1\" class=\"dataframe\">\n",
       "  <thead>\n",
       "    <tr style=\"text-align: right;\">\n",
       "      <th></th>\n",
       "      <th>messages_included</th>\n",
       "      <th>mb_per_month_included</th>\n",
       "      <th>minutes_included</th>\n",
       "      <th>rub_monthly_fee</th>\n",
       "      <th>rub_per_gb</th>\n",
       "      <th>rub_per_message</th>\n",
       "      <th>rub_per_minute</th>\n",
       "      <th>tariff</th>\n",
       "    </tr>\n",
       "  </thead>\n",
       "  <tbody>\n",
       "    <tr>\n",
       "      <th>0</th>\n",
       "      <td>50</td>\n",
       "      <td>15360</td>\n",
       "      <td>500</td>\n",
       "      <td>550</td>\n",
       "      <td>200</td>\n",
       "      <td>3</td>\n",
       "      <td>3</td>\n",
       "      <td>smart</td>\n",
       "    </tr>\n",
       "    <tr>\n",
       "      <th>1</th>\n",
       "      <td>1000</td>\n",
       "      <td>30720</td>\n",
       "      <td>3000</td>\n",
       "      <td>1950</td>\n",
       "      <td>150</td>\n",
       "      <td>1</td>\n",
       "      <td>1</td>\n",
       "      <td>ultra</td>\n",
       "    </tr>\n",
       "  </tbody>\n",
       "</table>\n",
       "</div>"
      ],
      "text/plain": [
       "   messages_included  mb_per_month_included  minutes_included  \\\n",
       "0                 50                  15360               500   \n",
       "1               1000                  30720              3000   \n",
       "\n",
       "   rub_monthly_fee  rub_per_gb  rub_per_message  rub_per_minute tariff  \n",
       "0              550         200                3               3  smart  \n",
       "1             1950         150                1               1  ultra  "
      ]
     },
     "execution_count": 22,
     "metadata": {},
     "output_type": "execute_result"
    }
   ],
   "source": [
    "df_tariffs = df_tariffs.rename(columns={'tariff_name': 'tariff'})\n",
    "df_tariffs.head()"
   ]
  },
  {
   "cell_type": "markdown",
   "id": "de3063a2",
   "metadata": {},
   "source": [
    "### Выводы\n",
    "Пропусков, которые нужно заменить не обнаружено. Название столбца было измененно в связи с тем, что имя такого столбца есть в users_df для дальнейшего слияния датасетов."
   ]
  },
  {
   "cell_type": "code",
   "execution_count": 23,
   "id": "8a304e75",
   "metadata": {},
   "outputs": [
    {
     "data": {
      "image/png": "[encoded data removed]",
      "text/plain": [
       "<Figure size 640x480 with 1 Axes>"
      ]
     },
     "metadata": {},
     "output_type": "display_data"
    }
   ],
   "source": [
    "# Построим гистограмму объема трафика\n",
    "df_internet['mb_used'].hist(bins = 100)\n",
    "plt.title(f'Гистограмма трафика')\n",
    "plt.xlabel(f'Трафик')\n",
    "plt.ylabel('Частота')\n",
    "plt.show()"
   ]
  },
  {
   "cell_type": "code",
   "execution_count": 24,
   "id": "8c9bcccd",
   "metadata": {},
   "outputs": [
    {
     "name": "stdout",
     "output_type": "stream",
     "text": [
      "Трафик, продолжительность которого равна нулю 13.12%\n"
     ]
    }
   ],
   "source": [
    "print('Трафик, продолжительность которого равна нулю {0:.2%}'.format(df_internet.query('mb_used == 0').shape[0] \\\n",
    "                                                                          / df_internet.shape[0]))"
   ]
  },
  {
   "cell_type": "markdown",
   "id": "f290837f",
   "metadata": {},
   "source": [
    "В данных по интернет-сессиям 13.12% это сессии, продолжительность которых равна нулю. Можно предроложить, что такая ситуация возникла, когда интернет у абонента подключен, но абонент не производил никакой активности. Будем считать, что трафик 0 это корректное значение."
   ]
  },
  {
   "cell_type": "markdown",
   "id": "747bd64b",
   "metadata": {},
   "source": [
    "# Шаг 2. Предобработка данных \n",
    "<a class=\"anchor\" id=\"second-bullet\"></a>"
   ]
  },
  {
   "cell_type": "markdown",
   "id": "6a0b2b0e",
   "metadata": {},
   "source": [
    "## Округление\n",
    "Окрулгим значения в calls_df"
   ]
  },
  {
   "cell_type": "code",
   "execution_count": 25,
   "id": "0c96c772",
   "metadata": {},
   "outputs": [],
   "source": [
    "# Звонки\n",
    "df_calls['duration'] = np.ceil(df_calls['duration'])\n",
    "\n",
    "#df_calls.loc[df_calls['duration'] == 0 ,'duration'] = 1\n",
    "# Интернет-сессии\n",
    "#df_internet['mb_used'] = np.ceil(df_internet['mb_used'])\n",
    "\n",
    "#df_internet.loc[df_internet['mb_used'] == 0 ,'mb_used'] = 1"
   ]
  },
  {
   "cell_type": "markdown",
   "id": "fa0ddaaf",
   "metadata": {},
   "source": [
    "## Изменение типа данных"
   ]
  },
  {
   "cell_type": "code",
   "execution_count": 26,
   "id": "6dc34ca3",
   "metadata": {},
   "outputs": [],
   "source": [
    "# Преобразование в даты\n",
    "df_users['reg_date'] = pd.to_datetime(df_users['reg_date'], format = '%Y-%m-%d') \n",
    "df_users['churn_date'] = pd.to_datetime(df_users['churn_date'], format = '%Y-%m-%d') \n",
    "df_calls['call_date'] = pd.to_datetime(df_calls['call_date'], format = '%Y-%m-%d')\n",
    "df_messages['message_date'] = pd.to_datetime(df_messages['message_date'], format = '%Y-%m-%d')\n",
    "df_internet['session_date'] = pd.to_datetime(df_internet['session_date'], format = '%Y-%m-%d')\n",
    "# Преобразование в int\n",
    "df_calls['duration'] = df_calls['duration'].astype('int')\n",
    "#df_internet['mb_used'] = df_internet['mb_used'].astype('int')"
   ]
  },
  {
   "cell_type": "markdown",
   "id": "8e416e27",
   "metadata": {},
   "source": [
    "## Посчитаем значения, необходимые для анализа каждого пользователя"
   ]
  },
  {
   "cell_type": "markdown",
   "id": "51414bc5",
   "metadata": {},
   "source": [
    "### Количество сделанных звонков и израсходованных минут разговора по месяцам"
   ]
  },
  {
   "cell_type": "code",
   "execution_count": 27,
   "id": "ac7c2897",
   "metadata": {},
   "outputs": [],
   "source": [
    "used_users = pd.DataFrame()"
   ]
  },
  {
   "cell_type": "code",
   "execution_count": 28,
   "id": "c4775e68",
   "metadata": {},
   "outputs": [],
   "source": [
    "df_calls['month'] = pd.DatetimeIndex(df_calls['call_date']).month\n",
    "\n",
    "calls_in_month = df_calls.pivot_table(index=['month', 'user_id'],values='duration',aggfunc=['count', 'sum'])\n",
    "\n",
    "df_temp = pd.DataFrame(calls_in_month.to_records())\n",
    "\n",
    "used_users['user_id'] = df_temp['user_id']\n",
    "used_users['month']   = df_temp['month']\n",
    "used_users['calls']   = df_temp.iloc[:, 2]\n",
    "used_users['minutes'] = df_temp.iloc[:, 3]\n"
   ]
  },
  {
   "cell_type": "markdown",
   "id": "1c2b761a",
   "metadata": {},
   "source": [
    "### Количество отправленных сообщений по месяцам"
   ]
  },
  {
   "cell_type": "code",
   "execution_count": 29,
   "id": "4c16d722",
   "metadata": {},
   "outputs": [
    {
     "data": {
      "text/html": [
       "<div>\n",
       "<style scoped>\n",
       "    .dataframe tbody tr th:only-of-type {\n",
       "        vertical-align: middle;\n",
       "    }\n",
       "\n",
       "    .dataframe tbody tr th {\n",
       "        vertical-align: top;\n",
       "    }\n",
       "\n",
       "    .dataframe thead th {\n",
       "        text-align: right;\n",
       "    }\n",
       "</style>\n",
       "<table border=\"1\" class=\"dataframe\">\n",
       "  <thead>\n",
       "    <tr style=\"text-align: right;\">\n",
       "      <th></th>\n",
       "      <th>user_id</th>\n",
       "      <th>month</th>\n",
       "      <th>calls</th>\n",
       "      <th>minutes</th>\n",
       "      <th>messages</th>\n",
       "    </tr>\n",
       "  </thead>\n",
       "  <tbody>\n",
       "    <tr>\n",
       "      <th>0</th>\n",
       "      <td>1000</td>\n",
       "      <td>5</td>\n",
       "      <td>22.00</td>\n",
       "      <td>159.00</td>\n",
       "      <td>22.00</td>\n",
       "    </tr>\n",
       "    <tr>\n",
       "      <th>1</th>\n",
       "      <td>1000</td>\n",
       "      <td>6</td>\n",
       "      <td>43.00</td>\n",
       "      <td>172.00</td>\n",
       "      <td>60.00</td>\n",
       "    </tr>\n",
       "    <tr>\n",
       "      <th>2</th>\n",
       "      <td>1000</td>\n",
       "      <td>7</td>\n",
       "      <td>47.00</td>\n",
       "      <td>340.00</td>\n",
       "      <td>75.00</td>\n",
       "    </tr>\n",
       "    <tr>\n",
       "      <th>3</th>\n",
       "      <td>1000</td>\n",
       "      <td>8</td>\n",
       "      <td>52.00</td>\n",
       "      <td>408.00</td>\n",
       "      <td>81.00</td>\n",
       "    </tr>\n",
       "    <tr>\n",
       "      <th>4</th>\n",
       "      <td>1000</td>\n",
       "      <td>9</td>\n",
       "      <td>58.00</td>\n",
       "      <td>466.00</td>\n",
       "      <td>57.00</td>\n",
       "    </tr>\n",
       "  </tbody>\n",
       "</table>\n",
       "</div>"
      ],
      "text/plain": [
       "   user_id  month  calls  minutes  messages\n",
       "0     1000      5  22.00   159.00     22.00\n",
       "1     1000      6  43.00   172.00     60.00\n",
       "2     1000      7  47.00   340.00     75.00\n",
       "3     1000      8  52.00   408.00     81.00\n",
       "4     1000      9  58.00   466.00     57.00"
      ]
     },
     "execution_count": 29,
     "metadata": {},
     "output_type": "execute_result"
    }
   ],
   "source": [
    "df_messages['month'] = pd.DatetimeIndex(df_messages['message_date']).month\n",
    "\n",
    "messages_in_month = df_messages.pivot_table(index=['month', 'user_id'],values='id',aggfunc='count')\n",
    "\n",
    "df_temp = pd.DataFrame(messages_in_month.to_records()).rename(columns={'id': 'messages'})\n",
    "\n",
    "used_users = used_users.merge(df_temp, on=['user_id', 'month'], how='outer')\n",
    "used_users.head()"
   ]
  },
  {
   "cell_type": "markdown",
   "id": "ea589128",
   "metadata": {},
   "source": [
    "### Объем израсходованного интернет-трафика по месяцам"
   ]
  },
  {
   "cell_type": "code",
   "execution_count": 30,
   "id": "2da3168d",
   "metadata": {},
   "outputs": [
    {
     "name": "stdout",
     "output_type": "stream",
     "text": [
      "<class 'pandas.core.frame.DataFrame'>\n",
      "RangeIndex: 3214 entries, 0 to 3213\n",
      "Data columns (total 6 columns):\n",
      " #   Column    Non-Null Count  Dtype  \n",
      "---  ------    --------------  -----  \n",
      " 0   user_id   3214 non-null   int64  \n",
      " 1   month     3214 non-null   int32  \n",
      " 2   calls     3174 non-null   float64\n",
      " 3   minutes   3174 non-null   float64\n",
      " 4   messages  2717 non-null   float64\n",
      " 5   mb_used   3203 non-null   float64\n",
      "dtypes: float64(4), int32(1), int64(1)\n",
      "memory usage: 138.2 KB\n"
     ]
    },
    {
     "data": {
      "text/html": [
       "<div>\n",
       "<style scoped>\n",
       "    .dataframe tbody tr th:only-of-type {\n",
       "        vertical-align: middle;\n",
       "    }\n",
       "\n",
       "    .dataframe tbody tr th {\n",
       "        vertical-align: top;\n",
       "    }\n",
       "\n",
       "    .dataframe thead th {\n",
       "        text-align: right;\n",
       "    }\n",
       "</style>\n",
       "<table border=\"1\" class=\"dataframe\">\n",
       "  <thead>\n",
       "    <tr style=\"text-align: right;\">\n",
       "      <th></th>\n",
       "      <th>user_id</th>\n",
       "      <th>month</th>\n",
       "      <th>calls</th>\n",
       "      <th>minutes</th>\n",
       "      <th>messages</th>\n",
       "      <th>mb_used</th>\n",
       "    </tr>\n",
       "  </thead>\n",
       "  <tbody>\n",
       "    <tr>\n",
       "      <th>0</th>\n",
       "      <td>1000</td>\n",
       "      <td>5</td>\n",
       "      <td>22.00</td>\n",
       "      <td>159.00</td>\n",
       "      <td>22.00</td>\n",
       "      <td>2,254.00</td>\n",
       "    </tr>\n",
       "    <tr>\n",
       "      <th>1</th>\n",
       "      <td>1000</td>\n",
       "      <td>6</td>\n",
       "      <td>43.00</td>\n",
       "      <td>172.00</td>\n",
       "      <td>60.00</td>\n",
       "      <td>23,234.00</td>\n",
       "    </tr>\n",
       "    <tr>\n",
       "      <th>2</th>\n",
       "      <td>1000</td>\n",
       "      <td>7</td>\n",
       "      <td>47.00</td>\n",
       "      <td>340.00</td>\n",
       "      <td>75.00</td>\n",
       "      <td>14,004.00</td>\n",
       "    </tr>\n",
       "    <tr>\n",
       "      <th>3</th>\n",
       "      <td>1000</td>\n",
       "      <td>8</td>\n",
       "      <td>52.00</td>\n",
       "      <td>408.00</td>\n",
       "      <td>81.00</td>\n",
       "      <td>14,056.00</td>\n",
       "    </tr>\n",
       "    <tr>\n",
       "      <th>4</th>\n",
       "      <td>1000</td>\n",
       "      <td>9</td>\n",
       "      <td>58.00</td>\n",
       "      <td>466.00</td>\n",
       "      <td>57.00</td>\n",
       "      <td>14,569.00</td>\n",
       "    </tr>\n",
       "  </tbody>\n",
       "</table>\n",
       "</div>"
      ],
      "text/plain": [
       "   user_id  month  calls  minutes  messages   mb_used\n",
       "0     1000      5  22.00   159.00     22.00  2,254.00\n",
       "1     1000      6  43.00   172.00     60.00 23,234.00\n",
       "2     1000      7  47.00   340.00     75.00 14,004.00\n",
       "3     1000      8  52.00   408.00     81.00 14,056.00\n",
       "4     1000      9  58.00   466.00     57.00 14,569.00"
      ]
     },
     "execution_count": 30,
     "metadata": {},
     "output_type": "execute_result"
    }
   ],
   "source": [
    "df_internet['month'] = pd.DatetimeIndex(df_internet['session_date']).month\n",
    "\n",
    "internet_in_month = df_internet.pivot_table(index=['month', 'user_id'],values='mb_used',aggfunc='sum')\n",
    "\n",
    "df_temp = pd.DataFrame(internet_in_month.to_records())\n",
    "\n",
    "used_users = used_users.merge(df_temp, on=['user_id', 'month'], how='outer')\n",
    "used_users['mb_used']=np.ceil(used_users['mb_used'])\n",
    "\n",
    "used_users.info()\n",
    "\n",
    "used_users.head()"
   ]
  },
  {
   "cell_type": "markdown",
   "id": "67e24ec9",
   "metadata": {},
   "source": [
    "### Вывод\n",
    "\n",
    "После всех преобразований и объединений данных по месяцу, можно наблюдать:\n",
    "- количество сделанных звонков и израсходованных минут разговора;\n",
    "- количество отправленных сообщений;\n",
    "- объем израсходованного интернет-трафика в мегабайтах."
   ]
  },
  {
   "cell_type": "markdown",
   "id": "b7aab8be",
   "metadata": {},
   "source": [
    "### Помесячная выручка с каждого пользователя"
   ]
  },
  {
   "cell_type": "markdown",
   "id": "95c38c73",
   "metadata": {},
   "source": [
    "После формирования датафрейма по месяцам возникли пропуски. Некоторые пользователи в некоторые месяцы пользовались не всеми услугами. Например, кто-то только мобильным интернетом. Заполним пропуски нулями, чтобы  позже посмотреть на распределение."
   ]
  },
  {
   "cell_type": "code",
   "execution_count": 31,
   "id": "aa2b6623",
   "metadata": {},
   "outputs": [
    {
     "name": "stdout",
     "output_type": "stream",
     "text": [
      "<class 'pandas.core.frame.DataFrame'>\n",
      "RangeIndex: 3214 entries, 0 to 3213\n",
      "Data columns (total 6 columns):\n",
      " #   Column    Non-Null Count  Dtype\n",
      "---  ------    --------------  -----\n",
      " 0   user_id   3214 non-null   int64\n",
      " 1   month     3214 non-null   int32\n",
      " 2   calls     3214 non-null   int32\n",
      " 3   minutes   3214 non-null   int32\n",
      " 4   messages  3214 non-null   int32\n",
      " 5   mb_used   3214 non-null   int32\n",
      "dtypes: int32(5), int64(1)\n",
      "memory usage: 88.0 KB\n"
     ]
    },
    {
     "data": {
      "text/html": [
       "<div>\n",
       "<style scoped>\n",
       "    .dataframe tbody tr th:only-of-type {\n",
       "        vertical-align: middle;\n",
       "    }\n",
       "\n",
       "    .dataframe tbody tr th {\n",
       "        vertical-align: top;\n",
       "    }\n",
       "\n",
       "    .dataframe thead th {\n",
       "        text-align: right;\n",
       "    }\n",
       "</style>\n",
       "<table border=\"1\" class=\"dataframe\">\n",
       "  <thead>\n",
       "    <tr style=\"text-align: right;\">\n",
       "      <th></th>\n",
       "      <th>user_id</th>\n",
       "      <th>month</th>\n",
       "      <th>calls</th>\n",
       "      <th>minutes</th>\n",
       "      <th>messages</th>\n",
       "      <th>mb_used</th>\n",
       "    </tr>\n",
       "  </thead>\n",
       "  <tbody>\n",
       "    <tr>\n",
       "      <th>0</th>\n",
       "      <td>1000</td>\n",
       "      <td>5</td>\n",
       "      <td>22</td>\n",
       "      <td>159</td>\n",
       "      <td>22</td>\n",
       "      <td>2254</td>\n",
       "    </tr>\n",
       "    <tr>\n",
       "      <th>1</th>\n",
       "      <td>1000</td>\n",
       "      <td>6</td>\n",
       "      <td>43</td>\n",
       "      <td>172</td>\n",
       "      <td>60</td>\n",
       "      <td>23234</td>\n",
       "    </tr>\n",
       "    <tr>\n",
       "      <th>2</th>\n",
       "      <td>1000</td>\n",
       "      <td>7</td>\n",
       "      <td>47</td>\n",
       "      <td>340</td>\n",
       "      <td>75</td>\n",
       "      <td>14004</td>\n",
       "    </tr>\n",
       "    <tr>\n",
       "      <th>3</th>\n",
       "      <td>1000</td>\n",
       "      <td>8</td>\n",
       "      <td>52</td>\n",
       "      <td>408</td>\n",
       "      <td>81</td>\n",
       "      <td>14056</td>\n",
       "    </tr>\n",
       "    <tr>\n",
       "      <th>4</th>\n",
       "      <td>1000</td>\n",
       "      <td>9</td>\n",
       "      <td>58</td>\n",
       "      <td>466</td>\n",
       "      <td>57</td>\n",
       "      <td>14569</td>\n",
       "    </tr>\n",
       "  </tbody>\n",
       "</table>\n",
       "</div>"
      ],
      "text/plain": [
       "   user_id  month  calls  minutes  messages  mb_used\n",
       "0     1000      5     22      159        22     2254\n",
       "1     1000      6     43      172        60    23234\n",
       "2     1000      7     47      340        75    14004\n",
       "3     1000      8     52      408        81    14056\n",
       "4     1000      9     58      466        57    14569"
      ]
     },
     "execution_count": 31,
     "metadata": {},
     "output_type": "execute_result"
    }
   ],
   "source": [
    "features = ['calls', 'minutes', 'messages', 'mb_used']\n",
    "\n",
    "for i in features:\n",
    "    #заполняем пропуски 0 и изменяем тип данных на int\n",
    "    used_users[i] = used_users[i].fillna(0).astype('int') \n",
    "used_users.info()\n",
    "used_users.head()"
   ]
  },
  {
   "cell_type": "markdown",
   "id": "072ee296",
   "metadata": {},
   "source": [
    "### Ежемесячный доход от каждого пользователя"
   ]
  },
  {
   "cell_type": "markdown",
   "id": "9529e14d",
   "metadata": {},
   "source": [
    "Добавим в датафрейм информацию о пользователях и тарифах. Воспользуемся методом merge."
   ]
  },
  {
   "cell_type": "code",
   "execution_count": 32,
   "id": "ce6825ac",
   "metadata": {
    "scrolled": true
   },
   "outputs": [
    {
     "data": {
      "text/html": [
       "<div>\n",
       "<style scoped>\n",
       "    .dataframe tbody tr th:only-of-type {\n",
       "        vertical-align: middle;\n",
       "    }\n",
       "\n",
       "    .dataframe tbody tr th {\n",
       "        vertical-align: top;\n",
       "    }\n",
       "\n",
       "    .dataframe thead th {\n",
       "        text-align: right;\n",
       "    }\n",
       "</style>\n",
       "<table border=\"1\" class=\"dataframe\">\n",
       "  <thead>\n",
       "    <tr style=\"text-align: right;\">\n",
       "      <th></th>\n",
       "      <th>user_id</th>\n",
       "      <th>month</th>\n",
       "      <th>calls</th>\n",
       "      <th>minutes</th>\n",
       "      <th>messages</th>\n",
       "      <th>mb_used</th>\n",
       "      <th>age</th>\n",
       "      <th>churn_date</th>\n",
       "      <th>city</th>\n",
       "      <th>first_name</th>\n",
       "      <th>last_name</th>\n",
       "      <th>reg_date</th>\n",
       "      <th>tariff</th>\n",
       "      <th>messages_included</th>\n",
       "      <th>mb_per_month_included</th>\n",
       "      <th>minutes_included</th>\n",
       "      <th>rub_monthly_fee</th>\n",
       "      <th>rub_per_gb</th>\n",
       "      <th>rub_per_message</th>\n",
       "      <th>rub_per_minute</th>\n",
       "    </tr>\n",
       "  </thead>\n",
       "  <tbody>\n",
       "    <tr>\n",
       "      <th>0</th>\n",
       "      <td>1001</td>\n",
       "      <td>11.00</td>\n",
       "      <td>59.00</td>\n",
       "      <td>430.00</td>\n",
       "      <td>0.00</td>\n",
       "      <td>18,430.00</td>\n",
       "      <td>41</td>\n",
       "      <td>NaT</td>\n",
       "      <td>Москва</td>\n",
       "      <td>Иван</td>\n",
       "      <td>Ежов</td>\n",
       "      <td>2018-11-01</td>\n",
       "      <td>smart</td>\n",
       "      <td>50</td>\n",
       "      <td>15360</td>\n",
       "      <td>500</td>\n",
       "      <td>550</td>\n",
       "      <td>200</td>\n",
       "      <td>3</td>\n",
       "      <td>3</td>\n",
       "    </tr>\n",
       "    <tr>\n",
       "      <th>1</th>\n",
       "      <td>1001</td>\n",
       "      <td>12.00</td>\n",
       "      <td>63.00</td>\n",
       "      <td>414.00</td>\n",
       "      <td>0.00</td>\n",
       "      <td>14,037.00</td>\n",
       "      <td>41</td>\n",
       "      <td>NaT</td>\n",
       "      <td>Москва</td>\n",
       "      <td>Иван</td>\n",
       "      <td>Ежов</td>\n",
       "      <td>2018-11-01</td>\n",
       "      <td>smart</td>\n",
       "      <td>50</td>\n",
       "      <td>15360</td>\n",
       "      <td>500</td>\n",
       "      <td>550</td>\n",
       "      <td>200</td>\n",
       "      <td>3</td>\n",
       "      <td>3</td>\n",
       "    </tr>\n",
       "    <tr>\n",
       "      <th>2</th>\n",
       "      <td>1002</td>\n",
       "      <td>6.00</td>\n",
       "      <td>15.00</td>\n",
       "      <td>117.00</td>\n",
       "      <td>4.00</td>\n",
       "      <td>10,857.00</td>\n",
       "      <td>59</td>\n",
       "      <td>NaT</td>\n",
       "      <td>Стерлитамак</td>\n",
       "      <td>Евгений</td>\n",
       "      <td>Абрамович</td>\n",
       "      <td>2018-06-17</td>\n",
       "      <td>smart</td>\n",
       "      <td>50</td>\n",
       "      <td>15360</td>\n",
       "      <td>500</td>\n",
       "      <td>550</td>\n",
       "      <td>200</td>\n",
       "      <td>3</td>\n",
       "      <td>3</td>\n",
       "    </tr>\n",
       "    <tr>\n",
       "      <th>3</th>\n",
       "      <td>1002</td>\n",
       "      <td>7.00</td>\n",
       "      <td>26.00</td>\n",
       "      <td>214.00</td>\n",
       "      <td>11.00</td>\n",
       "      <td>17,581.00</td>\n",
       "      <td>59</td>\n",
       "      <td>NaT</td>\n",
       "      <td>Стерлитамак</td>\n",
       "      <td>Евгений</td>\n",
       "      <td>Абрамович</td>\n",
       "      <td>2018-06-17</td>\n",
       "      <td>smart</td>\n",
       "      <td>50</td>\n",
       "      <td>15360</td>\n",
       "      <td>500</td>\n",
       "      <td>550</td>\n",
       "      <td>200</td>\n",
       "      <td>3</td>\n",
       "      <td>3</td>\n",
       "    </tr>\n",
       "    <tr>\n",
       "      <th>4</th>\n",
       "      <td>1002</td>\n",
       "      <td>8.00</td>\n",
       "      <td>42.00</td>\n",
       "      <td>289.00</td>\n",
       "      <td>13.00</td>\n",
       "      <td>20,320.00</td>\n",
       "      <td>59</td>\n",
       "      <td>NaT</td>\n",
       "      <td>Стерлитамак</td>\n",
       "      <td>Евгений</td>\n",
       "      <td>Абрамович</td>\n",
       "      <td>2018-06-17</td>\n",
       "      <td>smart</td>\n",
       "      <td>50</td>\n",
       "      <td>15360</td>\n",
       "      <td>500</td>\n",
       "      <td>550</td>\n",
       "      <td>200</td>\n",
       "      <td>3</td>\n",
       "      <td>3</td>\n",
       "    </tr>\n",
       "  </tbody>\n",
       "</table>\n",
       "</div>"
      ],
      "text/plain": [
       "   user_id  month  calls  minutes  messages   mb_used  age churn_date  \\\n",
       "0     1001  11.00  59.00   430.00      0.00 18,430.00   41        NaT   \n",
       "1     1001  12.00  63.00   414.00      0.00 14,037.00   41        NaT   \n",
       "2     1002   6.00  15.00   117.00      4.00 10,857.00   59        NaT   \n",
       "3     1002   7.00  26.00   214.00     11.00 17,581.00   59        NaT   \n",
       "4     1002   8.00  42.00   289.00     13.00 20,320.00   59        NaT   \n",
       "\n",
       "          city first_name  last_name   reg_date tariff  messages_included  \\\n",
       "0       Москва       Иван       Ежов 2018-11-01  smart                 50   \n",
       "1       Москва       Иван       Ежов 2018-11-01  smart                 50   \n",
       "2  Стерлитамак    Евгений  Абрамович 2018-06-17  smart                 50   \n",
       "3  Стерлитамак    Евгений  Абрамович 2018-06-17  smart                 50   \n",
       "4  Стерлитамак    Евгений  Абрамович 2018-06-17  smart                 50   \n",
       "\n",
       "   mb_per_month_included  minutes_included  rub_monthly_fee  rub_per_gb  \\\n",
       "0                  15360               500              550         200   \n",
       "1                  15360               500              550         200   \n",
       "2                  15360               500              550         200   \n",
       "3                  15360               500              550         200   \n",
       "4                  15360               500              550         200   \n",
       "\n",
       "   rub_per_message  rub_per_minute  \n",
       "0                3               3  \n",
       "1                3               3  \n",
       "2                3               3  \n",
       "3                3               3  \n",
       "4                3               3  "
      ]
     },
     "execution_count": 32,
     "metadata": {},
     "output_type": "execute_result"
    }
   ],
   "source": [
    "used_users = used_users.merge(df_users,on='user_id',how='outer')\n",
    "used_users = used_users.merge(df_tariffs, on='tariff',how='outer')\n",
    "used_users.head()"
   ]
  },
  {
   "cell_type": "code",
   "execution_count": 33,
   "id": "8283617b",
   "metadata": {},
   "outputs": [
    {
     "data": {
      "text/plain": [
       "user_id\n",
       "1433    12\n",
       "1308    12\n",
       "1302    12\n",
       "1299    12\n",
       "1282    12\n",
       "        ..\n",
       "1190     1\n",
       "1170     1\n",
       "1336     1\n",
       "1445     1\n",
       "1223     1\n",
       "Name: count, Length: 500, dtype: int64"
      ]
     },
     "execution_count": 33,
     "metadata": {},
     "output_type": "execute_result"
    }
   ],
   "source": [
    "used_users['user_id'].value_counts()"
   ]
  },
  {
   "cell_type": "code",
   "execution_count": 34,
   "id": "ba8a6e5a",
   "metadata": {},
   "outputs": [
    {
     "data": {
      "text/plain": [
       "user_id\n",
       "1000    1\n",
       "1329    1\n",
       "1342    1\n",
       "1341    1\n",
       "1340    1\n",
       "       ..\n",
       "1161    1\n",
       "1160    1\n",
       "1159    1\n",
       "1158    1\n",
       "1499    1\n",
       "Name: count, Length: 500, dtype: int64"
      ]
     },
     "execution_count": 34,
     "metadata": {},
     "output_type": "execute_result"
    }
   ],
   "source": [
    "df_users['user_id'].value_counts()"
   ]
  },
  {
   "cell_type": "markdown",
   "id": "954c87db",
   "metadata": {},
   "source": [
    "Перерасход минут, сообщений и трафика необходимо расчитывать,как разность между ежемесячным значением и включенным в тариф. Если итоговое значение больше 0 -то перерасход был, если  меньше 0 - то тариф использован без перерасхода"
   ]
  },
  {
   "cell_type": "code",
   "execution_count": 35,
   "id": "8d66ac9e",
   "metadata": {},
   "outputs": [
    {
     "data": {
      "text/html": [
       "<div>\n",
       "<style scoped>\n",
       "    .dataframe tbody tr th:only-of-type {\n",
       "        vertical-align: middle;\n",
       "    }\n",
       "\n",
       "    .dataframe tbody tr th {\n",
       "        vertical-align: top;\n",
       "    }\n",
       "\n",
       "    .dataframe thead th {\n",
       "        text-align: right;\n",
       "    }\n",
       "</style>\n",
       "<table border=\"1\" class=\"dataframe\">\n",
       "  <thead>\n",
       "    <tr style=\"text-align: right;\">\n",
       "      <th></th>\n",
       "      <th>user_id</th>\n",
       "      <th>month</th>\n",
       "      <th>calls</th>\n",
       "      <th>minutes</th>\n",
       "      <th>messages</th>\n",
       "      <th>mb_used</th>\n",
       "      <th>age</th>\n",
       "      <th>churn_date</th>\n",
       "      <th>city</th>\n",
       "      <th>first_name</th>\n",
       "      <th>...</th>\n",
       "      <th>messages_included</th>\n",
       "      <th>mb_per_month_included</th>\n",
       "      <th>minutes_included</th>\n",
       "      <th>rub_monthly_fee</th>\n",
       "      <th>rub_per_gb</th>\n",
       "      <th>rub_per_message</th>\n",
       "      <th>rub_per_minute</th>\n",
       "      <th>minutes_over</th>\n",
       "      <th>messages_over</th>\n",
       "      <th>mb_used_over</th>\n",
       "    </tr>\n",
       "  </thead>\n",
       "  <tbody>\n",
       "    <tr>\n",
       "      <th>0</th>\n",
       "      <td>1001</td>\n",
       "      <td>11.00</td>\n",
       "      <td>59.00</td>\n",
       "      <td>430.00</td>\n",
       "      <td>0.00</td>\n",
       "      <td>18,430.00</td>\n",
       "      <td>41</td>\n",
       "      <td>NaT</td>\n",
       "      <td>Москва</td>\n",
       "      <td>Иван</td>\n",
       "      <td>...</td>\n",
       "      <td>50</td>\n",
       "      <td>15360</td>\n",
       "      <td>500</td>\n",
       "      <td>550</td>\n",
       "      <td>200</td>\n",
       "      <td>3</td>\n",
       "      <td>3</td>\n",
       "      <td>-70.00</td>\n",
       "      <td>-50.00</td>\n",
       "      <td>3,070.00</td>\n",
       "    </tr>\n",
       "    <tr>\n",
       "      <th>1</th>\n",
       "      <td>1001</td>\n",
       "      <td>12.00</td>\n",
       "      <td>63.00</td>\n",
       "      <td>414.00</td>\n",
       "      <td>0.00</td>\n",
       "      <td>14,037.00</td>\n",
       "      <td>41</td>\n",
       "      <td>NaT</td>\n",
       "      <td>Москва</td>\n",
       "      <td>Иван</td>\n",
       "      <td>...</td>\n",
       "      <td>50</td>\n",
       "      <td>15360</td>\n",
       "      <td>500</td>\n",
       "      <td>550</td>\n",
       "      <td>200</td>\n",
       "      <td>3</td>\n",
       "      <td>3</td>\n",
       "      <td>-86.00</td>\n",
       "      <td>-50.00</td>\n",
       "      <td>-1,323.00</td>\n",
       "    </tr>\n",
       "    <tr>\n",
       "      <th>2</th>\n",
       "      <td>1002</td>\n",
       "      <td>6.00</td>\n",
       "      <td>15.00</td>\n",
       "      <td>117.00</td>\n",
       "      <td>4.00</td>\n",
       "      <td>10,857.00</td>\n",
       "      <td>59</td>\n",
       "      <td>NaT</td>\n",
       "      <td>Стерлитамак</td>\n",
       "      <td>Евгений</td>\n",
       "      <td>...</td>\n",
       "      <td>50</td>\n",
       "      <td>15360</td>\n",
       "      <td>500</td>\n",
       "      <td>550</td>\n",
       "      <td>200</td>\n",
       "      <td>3</td>\n",
       "      <td>3</td>\n",
       "      <td>-383.00</td>\n",
       "      <td>-46.00</td>\n",
       "      <td>-4,503.00</td>\n",
       "    </tr>\n",
       "    <tr>\n",
       "      <th>3</th>\n",
       "      <td>1002</td>\n",
       "      <td>7.00</td>\n",
       "      <td>26.00</td>\n",
       "      <td>214.00</td>\n",
       "      <td>11.00</td>\n",
       "      <td>17,581.00</td>\n",
       "      <td>59</td>\n",
       "      <td>NaT</td>\n",
       "      <td>Стерлитамак</td>\n",
       "      <td>Евгений</td>\n",
       "      <td>...</td>\n",
       "      <td>50</td>\n",
       "      <td>15360</td>\n",
       "      <td>500</td>\n",
       "      <td>550</td>\n",
       "      <td>200</td>\n",
       "      <td>3</td>\n",
       "      <td>3</td>\n",
       "      <td>-286.00</td>\n",
       "      <td>-39.00</td>\n",
       "      <td>2,221.00</td>\n",
       "    </tr>\n",
       "    <tr>\n",
       "      <th>4</th>\n",
       "      <td>1002</td>\n",
       "      <td>8.00</td>\n",
       "      <td>42.00</td>\n",
       "      <td>289.00</td>\n",
       "      <td>13.00</td>\n",
       "      <td>20,320.00</td>\n",
       "      <td>59</td>\n",
       "      <td>NaT</td>\n",
       "      <td>Стерлитамак</td>\n",
       "      <td>Евгений</td>\n",
       "      <td>...</td>\n",
       "      <td>50</td>\n",
       "      <td>15360</td>\n",
       "      <td>500</td>\n",
       "      <td>550</td>\n",
       "      <td>200</td>\n",
       "      <td>3</td>\n",
       "      <td>3</td>\n",
       "      <td>-211.00</td>\n",
       "      <td>-37.00</td>\n",
       "      <td>4,960.00</td>\n",
       "    </tr>\n",
       "  </tbody>\n",
       "</table>\n",
       "<p>5 rows × 23 columns</p>\n",
       "</div>"
      ],
      "text/plain": [
       "   user_id  month  calls  minutes  messages   mb_used  age churn_date  \\\n",
       "0     1001  11.00  59.00   430.00      0.00 18,430.00   41        NaT   \n",
       "1     1001  12.00  63.00   414.00      0.00 14,037.00   41        NaT   \n",
       "2     1002   6.00  15.00   117.00      4.00 10,857.00   59        NaT   \n",
       "3     1002   7.00  26.00   214.00     11.00 17,581.00   59        NaT   \n",
       "4     1002   8.00  42.00   289.00     13.00 20,320.00   59        NaT   \n",
       "\n",
       "          city first_name  ... messages_included mb_per_month_included  \\\n",
       "0       Москва       Иван  ...                50                 15360   \n",
       "1       Москва       Иван  ...                50                 15360   \n",
       "2  Стерлитамак    Евгений  ...                50                 15360   \n",
       "3  Стерлитамак    Евгений  ...                50                 15360   \n",
       "4  Стерлитамак    Евгений  ...                50                 15360   \n",
       "\n",
       "  minutes_included  rub_monthly_fee  rub_per_gb  rub_per_message  \\\n",
       "0              500              550         200                3   \n",
       "1              500              550         200                3   \n",
       "2              500              550         200                3   \n",
       "3              500              550         200                3   \n",
       "4              500              550         200                3   \n",
       "\n",
       "   rub_per_minute  minutes_over  messages_over  mb_used_over  \n",
       "0               3        -70.00         -50.00      3,070.00  \n",
       "1               3        -86.00         -50.00     -1,323.00  \n",
       "2               3       -383.00         -46.00     -4,503.00  \n",
       "3               3       -286.00         -39.00      2,221.00  \n",
       "4               3       -211.00         -37.00      4,960.00  \n",
       "\n",
       "[5 rows x 23 columns]"
      ]
     },
     "execution_count": 35,
     "metadata": {},
     "output_type": "execute_result"
    }
   ],
   "source": [
    "used_users['minutes_over']  = used_users['minutes'] - used_users['minutes_included']\n",
    "used_users['messages_over'] = used_users['messages'] - used_users['messages_included']\n",
    "used_users['mb_used_over']  = used_users['mb_used'] - used_users['mb_per_month_included']\n",
    "used_users.head()"
   ]
  },
  {
   "cell_type": "markdown",
   "id": "07c6f383",
   "metadata": {},
   "source": [
    "Создадим функцию одной строки для просчёта дополнительной стоимости минут, сообщений и трафика."
   ]
  },
  {
   "cell_type": "code",
   "execution_count": 36,
   "id": "06b2cd66",
   "metadata": {},
   "outputs": [],
   "source": [
    "def monthly_calculation(row):\n",
    "    minutes_price = 0\n",
    "    messages_price = 0\n",
    "    mb_used_price = 0\n",
    "    \n",
    "    # стоимость дополнительных минут\n",
    "    if row['minutes_over'] > 0:\n",
    "        minutes_price = row['minutes_over'] * row['rub_per_minute']\n",
    "\n",
    "    # стоимость дополнительных сообщений\n",
    "    if row['messages_over'] > 0:\n",
    "        messages_price = row['messages_over'] * row['rub_per_message']\n",
    "\n",
    "    # стоимость дополнительного трафика\n",
    "    if row['mb_used_over'] > 0:\n",
    "        mb_used_price = np.ceil((row['mb_used_over'] / 1024)) * row['rub_per_gb']\n",
    "        #mb_used_price = (row['mb_used_over'] // 1024 +1) * row['rub_per_gb']\n",
    "    \n",
    "    return minutes_price + messages_price + mb_used_price"
   ]
  },
  {
   "cell_type": "markdown",
   "id": "9c7640a0",
   "metadata": {},
   "source": [
    "Интернет трафик необходимо округлить в большую сторону с помощью метода np.ceil"
   ]
  },
  {
   "cell_type": "markdown",
   "id": "fbf81327",
   "metadata": {},
   "source": [
    "Для дальнейшего анализа применим функцию и добавим новые столбцы в нашу таблицу"
   ]
  },
  {
   "cell_type": "code",
   "execution_count": 37,
   "id": "955b0c23",
   "metadata": {},
   "outputs": [
    {
     "data": {
      "text/html": [
       "<div>\n",
       "<style scoped>\n",
       "    .dataframe tbody tr th:only-of-type {\n",
       "        vertical-align: middle;\n",
       "    }\n",
       "\n",
       "    .dataframe tbody tr th {\n",
       "        vertical-align: top;\n",
       "    }\n",
       "\n",
       "    .dataframe thead th {\n",
       "        text-align: right;\n",
       "    }\n",
       "</style>\n",
       "<table border=\"1\" class=\"dataframe\">\n",
       "  <thead>\n",
       "    <tr style=\"text-align: right;\">\n",
       "      <th></th>\n",
       "      <th>user_id</th>\n",
       "      <th>month</th>\n",
       "      <th>calls</th>\n",
       "      <th>minutes</th>\n",
       "      <th>messages</th>\n",
       "      <th>mb_used</th>\n",
       "      <th>age</th>\n",
       "      <th>churn_date</th>\n",
       "      <th>city</th>\n",
       "      <th>first_name</th>\n",
       "      <th>...</th>\n",
       "      <th>minutes_included</th>\n",
       "      <th>rub_monthly_fee</th>\n",
       "      <th>rub_per_gb</th>\n",
       "      <th>rub_per_message</th>\n",
       "      <th>rub_per_minute</th>\n",
       "      <th>minutes_over</th>\n",
       "      <th>messages_over</th>\n",
       "      <th>mb_used_over</th>\n",
       "      <th>rub_monthly_fee_over</th>\n",
       "      <th>rub_monthly_fee_total</th>\n",
       "    </tr>\n",
       "  </thead>\n",
       "  <tbody>\n",
       "    <tr>\n",
       "      <th>0</th>\n",
       "      <td>1001</td>\n",
       "      <td>11.00</td>\n",
       "      <td>59.00</td>\n",
       "      <td>430.00</td>\n",
       "      <td>0.00</td>\n",
       "      <td>18,430.00</td>\n",
       "      <td>41</td>\n",
       "      <td>NaT</td>\n",
       "      <td>Москва</td>\n",
       "      <td>Иван</td>\n",
       "      <td>...</td>\n",
       "      <td>500</td>\n",
       "      <td>550</td>\n",
       "      <td>200</td>\n",
       "      <td>3</td>\n",
       "      <td>3</td>\n",
       "      <td>-70.00</td>\n",
       "      <td>-50.00</td>\n",
       "      <td>3,070.00</td>\n",
       "      <td>600.00</td>\n",
       "      <td>1,150.00</td>\n",
       "    </tr>\n",
       "    <tr>\n",
       "      <th>1</th>\n",
       "      <td>1001</td>\n",
       "      <td>12.00</td>\n",
       "      <td>63.00</td>\n",
       "      <td>414.00</td>\n",
       "      <td>0.00</td>\n",
       "      <td>14,037.00</td>\n",
       "      <td>41</td>\n",
       "      <td>NaT</td>\n",
       "      <td>Москва</td>\n",
       "      <td>Иван</td>\n",
       "      <td>...</td>\n",
       "      <td>500</td>\n",
       "      <td>550</td>\n",
       "      <td>200</td>\n",
       "      <td>3</td>\n",
       "      <td>3</td>\n",
       "      <td>-86.00</td>\n",
       "      <td>-50.00</td>\n",
       "      <td>-1,323.00</td>\n",
       "      <td>0.00</td>\n",
       "      <td>550.00</td>\n",
       "    </tr>\n",
       "    <tr>\n",
       "      <th>2</th>\n",
       "      <td>1002</td>\n",
       "      <td>6.00</td>\n",
       "      <td>15.00</td>\n",
       "      <td>117.00</td>\n",
       "      <td>4.00</td>\n",
       "      <td>10,857.00</td>\n",
       "      <td>59</td>\n",
       "      <td>NaT</td>\n",
       "      <td>Стерлитамак</td>\n",
       "      <td>Евгений</td>\n",
       "      <td>...</td>\n",
       "      <td>500</td>\n",
       "      <td>550</td>\n",
       "      <td>200</td>\n",
       "      <td>3</td>\n",
       "      <td>3</td>\n",
       "      <td>-383.00</td>\n",
       "      <td>-46.00</td>\n",
       "      <td>-4,503.00</td>\n",
       "      <td>0.00</td>\n",
       "      <td>550.00</td>\n",
       "    </tr>\n",
       "    <tr>\n",
       "      <th>3</th>\n",
       "      <td>1002</td>\n",
       "      <td>7.00</td>\n",
       "      <td>26.00</td>\n",
       "      <td>214.00</td>\n",
       "      <td>11.00</td>\n",
       "      <td>17,581.00</td>\n",
       "      <td>59</td>\n",
       "      <td>NaT</td>\n",
       "      <td>Стерлитамак</td>\n",
       "      <td>Евгений</td>\n",
       "      <td>...</td>\n",
       "      <td>500</td>\n",
       "      <td>550</td>\n",
       "      <td>200</td>\n",
       "      <td>3</td>\n",
       "      <td>3</td>\n",
       "      <td>-286.00</td>\n",
       "      <td>-39.00</td>\n",
       "      <td>2,221.00</td>\n",
       "      <td>600.00</td>\n",
       "      <td>1,150.00</td>\n",
       "    </tr>\n",
       "    <tr>\n",
       "      <th>4</th>\n",
       "      <td>1002</td>\n",
       "      <td>8.00</td>\n",
       "      <td>42.00</td>\n",
       "      <td>289.00</td>\n",
       "      <td>13.00</td>\n",
       "      <td>20,320.00</td>\n",
       "      <td>59</td>\n",
       "      <td>NaT</td>\n",
       "      <td>Стерлитамак</td>\n",
       "      <td>Евгений</td>\n",
       "      <td>...</td>\n",
       "      <td>500</td>\n",
       "      <td>550</td>\n",
       "      <td>200</td>\n",
       "      <td>3</td>\n",
       "      <td>3</td>\n",
       "      <td>-211.00</td>\n",
       "      <td>-37.00</td>\n",
       "      <td>4,960.00</td>\n",
       "      <td>1,000.00</td>\n",
       "      <td>1,550.00</td>\n",
       "    </tr>\n",
       "  </tbody>\n",
       "</table>\n",
       "<p>5 rows × 25 columns</p>\n",
       "</div>"
      ],
      "text/plain": [
       "   user_id  month  calls  minutes  messages   mb_used  age churn_date  \\\n",
       "0     1001  11.00  59.00   430.00      0.00 18,430.00   41        NaT   \n",
       "1     1001  12.00  63.00   414.00      0.00 14,037.00   41        NaT   \n",
       "2     1002   6.00  15.00   117.00      4.00 10,857.00   59        NaT   \n",
       "3     1002   7.00  26.00   214.00     11.00 17,581.00   59        NaT   \n",
       "4     1002   8.00  42.00   289.00     13.00 20,320.00   59        NaT   \n",
       "\n",
       "          city first_name  ... minutes_included rub_monthly_fee rub_per_gb  \\\n",
       "0       Москва       Иван  ...              500             550        200   \n",
       "1       Москва       Иван  ...              500             550        200   \n",
       "2  Стерлитамак    Евгений  ...              500             550        200   \n",
       "3  Стерлитамак    Евгений  ...              500             550        200   \n",
       "4  Стерлитамак    Евгений  ...              500             550        200   \n",
       "\n",
       "   rub_per_message  rub_per_minute  minutes_over  messages_over  mb_used_over  \\\n",
       "0                3               3        -70.00         -50.00      3,070.00   \n",
       "1                3               3        -86.00         -50.00     -1,323.00   \n",
       "2                3               3       -383.00         -46.00     -4,503.00   \n",
       "3                3               3       -286.00         -39.00      2,221.00   \n",
       "4                3               3       -211.00         -37.00      4,960.00   \n",
       "\n",
       "   rub_monthly_fee_over  rub_monthly_fee_total  \n",
       "0                600.00               1,150.00  \n",
       "1                  0.00                 550.00  \n",
       "2                  0.00                 550.00  \n",
       "3                600.00               1,150.00  \n",
       "4              1,000.00               1,550.00  \n",
       "\n",
       "[5 rows x 25 columns]"
      ]
     },
     "execution_count": 37,
     "metadata": {},
     "output_type": "execute_result"
    }
   ],
   "source": [
    "used_users['rub_monthly_fee_over'] = used_users.apply(monthly_calculation, axis=1)\n",
    "used_users['rub_monthly_fee_total'] = used_users['rub_monthly_fee'] + used_users['rub_monthly_fee_over']\n",
    "used_users.head()"
   ]
  },
  {
   "cell_type": "code",
   "execution_count": 38,
   "id": "157a7150",
   "metadata": {},
   "outputs": [
    {
     "data": {
      "text/plain": [
       "4916951.0"
      ]
     },
     "execution_count": 38,
     "metadata": {},
     "output_type": "execute_result"
    }
   ],
   "source": [
    "# check\n",
    "used_users['rub_monthly_fee_total'].sum()"
   ]
  },
  {
   "cell_type": "code",
   "execution_count": 39,
   "id": "ec83eb79",
   "metadata": {},
   "outputs": [
    {
     "data": {
      "text/plain": [
       "Index(['user_id', 'month', 'calls', 'minutes', 'messages', 'mb_used', 'age',\n",
       "       'churn_date', 'city', 'first_name', 'last_name', 'reg_date', 'tariff',\n",
       "       'messages_included', 'mb_per_month_included', 'minutes_included',\n",
       "       'rub_monthly_fee', 'rub_per_gb', 'rub_per_message', 'rub_per_minute',\n",
       "       'minutes_over', 'messages_over', 'mb_used_over', 'rub_monthly_fee_over',\n",
       "       'rub_monthly_fee_total'],\n",
       "      dtype='object')"
      ]
     },
     "execution_count": 39,
     "metadata": {},
     "output_type": "execute_result"
    }
   ],
   "source": [
    "used_users.columns"
   ]
  },
  {
   "cell_type": "code",
   "execution_count": 40,
   "id": "21273a0e",
   "metadata": {},
   "outputs": [
    {
     "data": {
      "text/html": [
       "<div>\n",
       "<style scoped>\n",
       "    .dataframe tbody tr th:only-of-type {\n",
       "        vertical-align: middle;\n",
       "    }\n",
       "\n",
       "    .dataframe tbody tr th {\n",
       "        vertical-align: top;\n",
       "    }\n",
       "\n",
       "    .dataframe thead th {\n",
       "        text-align: right;\n",
       "    }\n",
       "</style>\n",
       "<table border=\"1\" class=\"dataframe\">\n",
       "  <thead>\n",
       "    <tr style=\"text-align: right;\">\n",
       "      <th></th>\n",
       "      <th>user_id</th>\n",
       "      <th>month</th>\n",
       "      <th>minutes</th>\n",
       "      <th>messages</th>\n",
       "      <th>mb_used</th>\n",
       "      <th>tariff</th>\n",
       "      <th>minutes_over</th>\n",
       "      <th>messages_over</th>\n",
       "      <th>mb_used_over</th>\n",
       "      <th>rub_monthly_fee_over</th>\n",
       "      <th>rub_monthly_fee_total</th>\n",
       "    </tr>\n",
       "  </thead>\n",
       "  <tbody>\n",
       "    <tr>\n",
       "      <th>3212</th>\n",
       "      <td>1495</td>\n",
       "      <td>9.00</td>\n",
       "      <td>813.00</td>\n",
       "      <td>82.00</td>\n",
       "      <td>33,068.00</td>\n",
       "      <td>ultra</td>\n",
       "      <td>-2,187.00</td>\n",
       "      <td>-918.00</td>\n",
       "      <td>2,348.00</td>\n",
       "      <td>450.00</td>\n",
       "      <td>2,400.00</td>\n",
       "    </tr>\n",
       "    <tr>\n",
       "      <th>3213</th>\n",
       "      <td>1495</td>\n",
       "      <td>10.00</td>\n",
       "      <td>1,030.00</td>\n",
       "      <td>82.00</td>\n",
       "      <td>29,363.00</td>\n",
       "      <td>ultra</td>\n",
       "      <td>-1,970.00</td>\n",
       "      <td>-918.00</td>\n",
       "      <td>-1,357.00</td>\n",
       "      <td>0.00</td>\n",
       "      <td>1,950.00</td>\n",
       "    </tr>\n",
       "    <tr>\n",
       "      <th>3214</th>\n",
       "      <td>1495</td>\n",
       "      <td>11.00</td>\n",
       "      <td>954.00</td>\n",
       "      <td>79.00</td>\n",
       "      <td>38,940.00</td>\n",
       "      <td>ultra</td>\n",
       "      <td>-2,046.00</td>\n",
       "      <td>-921.00</td>\n",
       "      <td>8,220.00</td>\n",
       "      <td>1,350.00</td>\n",
       "      <td>3,300.00</td>\n",
       "    </tr>\n",
       "    <tr>\n",
       "      <th>3215</th>\n",
       "      <td>1495</td>\n",
       "      <td>12.00</td>\n",
       "      <td>1,031.00</td>\n",
       "      <td>84.00</td>\n",
       "      <td>23,427.00</td>\n",
       "      <td>ultra</td>\n",
       "      <td>-1,969.00</td>\n",
       "      <td>-916.00</td>\n",
       "      <td>-7,293.00</td>\n",
       "      <td>0.00</td>\n",
       "      <td>1,950.00</td>\n",
       "    </tr>\n",
       "  </tbody>\n",
       "</table>\n",
       "</div>"
      ],
      "text/plain": [
       "      user_id  month  minutes  messages   mb_used tariff  minutes_over  \\\n",
       "3212     1495   9.00   813.00     82.00 33,068.00  ultra     -2,187.00   \n",
       "3213     1495  10.00 1,030.00     82.00 29,363.00  ultra     -1,970.00   \n",
       "3214     1495  11.00   954.00     79.00 38,940.00  ultra     -2,046.00   \n",
       "3215     1495  12.00 1,031.00     84.00 23,427.00  ultra     -1,969.00   \n",
       "\n",
       "      messages_over  mb_used_over  rub_monthly_fee_over  rub_monthly_fee_total  \n",
       "3212        -918.00      2,348.00                450.00               2,400.00  \n",
       "3213        -918.00     -1,357.00                  0.00               1,950.00  \n",
       "3214        -921.00      8,220.00              1,350.00               3,300.00  \n",
       "3215        -916.00     -7,293.00                  0.00               1,950.00  "
      ]
     },
     "execution_count": 40,
     "metadata": {},
     "output_type": "execute_result"
    }
   ],
   "source": [
    "# check\n",
    "used_users[used_users['minutes'] > 500][['user_id', 'month', 'minutes', 'messages', 'mb_used', 'tariff',\n",
    "       'minutes_over', 'messages_over', 'mb_used_over', 'rub_monthly_fee_over',\n",
    "       'rub_monthly_fee_total']].tail(4)"
   ]
  },
  {
   "cell_type": "markdown",
   "id": "6d81c58d",
   "metadata": {},
   "source": [
    "Посмотрим количество пользователей по каждому тарифу"
   ]
  },
  {
   "cell_type": "code",
   "execution_count": 41,
   "id": "f773f98e",
   "metadata": {},
   "outputs": [
    {
     "name": "stdout",
     "output_type": "stream",
     "text": [
      "Количество пользователей smart: 351\n",
      "Количество пользователей ultra: 149\n"
     ]
    }
   ],
   "source": [
    "smart = used_users.query(\"tariff == 'smart'\")\n",
    "print('Количество пользователей smart: {}'.format(len(smart.groupby('user_id'))))\n",
    "\n",
    "ultra = used_users.query(\"tariff == 'ultra'\")\n",
    "print('Количество пользователей ultra: {}'.format(len(ultra.groupby('user_id'))))"
   ]
  },
  {
   "cell_type": "markdown",
   "id": "16972231",
   "metadata": {},
   "source": [
    "### Выводы\n",
    "Данные готовы и сгруппированы в одну таблицу для дальнейшего анализа, от всех пропусков избавились, в конечной таблице пользователей со smart оказалось - 350, а с ultra - 148 на это нужно будет обратить внимание."
   ]
  },
  {
   "cell_type": "markdown",
   "id": "43937629",
   "metadata": {},
   "source": [
    "# Шаг 3. Анализ данных \n",
    "<a class=\"anchor\" id=\"third-bullet\"></a>"
   ]
  },
  {
   "cell_type": "markdown",
   "id": "9607a7fc",
   "metadata": {},
   "source": [
    "## Сколько минут разговора, сколько сообщений и какой объём интернет-трафика требуется пользователям каждого тарифа в месяц?"
   ]
  },
  {
   "cell_type": "markdown",
   "id": "66a6c224",
   "metadata": {},
   "source": [
    "Объеденим данные клиентов оператора, исходя из выборки"
   ]
  },
  {
   "cell_type": "code",
   "execution_count": 42,
   "id": "a7b6d546",
   "metadata": {},
   "outputs": [],
   "source": [
    "values = ['minutes', 'messages', 'mb_used', 'rub_monthly_fee_over', 'rub_monthly_fee_total']"
   ]
  },
  {
   "cell_type": "markdown",
   "id": "0804c169",
   "metadata": {},
   "source": [
    "Необходимо объеденить данные по тарифам для каждого месяца\n"
   ]
  },
  {
   "cell_type": "code",
   "execution_count": 43,
   "id": "360a4837",
   "metadata": {},
   "outputs": [
    {
     "data": {
      "text/html": [
       "<div>\n",
       "<style scoped>\n",
       "    .dataframe tbody tr th:only-of-type {\n",
       "        vertical-align: middle;\n",
       "    }\n",
       "\n",
       "    .dataframe tbody tr th {\n",
       "        vertical-align: top;\n",
       "    }\n",
       "\n",
       "    .dataframe thead th {\n",
       "        text-align: right;\n",
       "    }\n",
       "</style>\n",
       "<table border=\"1\" class=\"dataframe\">\n",
       "  <thead>\n",
       "    <tr style=\"text-align: right;\">\n",
       "      <th></th>\n",
       "      <th>gb_used</th>\n",
       "      <th>messages</th>\n",
       "      <th>minutes</th>\n",
       "      <th>rub_monthly_fee_over</th>\n",
       "      <th>rub_monthly_fee_total</th>\n",
       "    </tr>\n",
       "    <tr>\n",
       "      <th>month</th>\n",
       "      <th></th>\n",
       "      <th></th>\n",
       "      <th></th>\n",
       "      <th></th>\n",
       "      <th></th>\n",
       "    </tr>\n",
       "  </thead>\n",
       "  <tbody>\n",
       "    <tr>\n",
       "      <th>1.00</th>\n",
       "      <td>8.31</td>\n",
       "      <td>18.24</td>\n",
       "      <td>203.85</td>\n",
       "      <td>171.32</td>\n",
       "      <td>721.32</td>\n",
       "    </tr>\n",
       "    <tr>\n",
       "      <th>2.00</th>\n",
       "      <td>11.33</td>\n",
       "      <td>24.09</td>\n",
       "      <td>298.69</td>\n",
       "      <td>277.60</td>\n",
       "      <td>827.60</td>\n",
       "    </tr>\n",
       "    <tr>\n",
       "      <th>3.00</th>\n",
       "      <td>14.75</td>\n",
       "      <td>31.86</td>\n",
       "      <td>390.05</td>\n",
       "      <td>614.62</td>\n",
       "      <td>1,164.62</td>\n",
       "    </tr>\n",
       "    <tr>\n",
       "      <th>4.00</th>\n",
       "      <td>13.15</td>\n",
       "      <td>30.74</td>\n",
       "      <td>367.13</td>\n",
       "      <td>413.09</td>\n",
       "      <td>963.09</td>\n",
       "    </tr>\n",
       "    <tr>\n",
       "      <th>5.00</th>\n",
       "      <td>15.44</td>\n",
       "      <td>33.77</td>\n",
       "      <td>387.36</td>\n",
       "      <td>647.51</td>\n",
       "      <td>1,197.51</td>\n",
       "    </tr>\n",
       "    <tr>\n",
       "      <th>6.00</th>\n",
       "      <td>15.42</td>\n",
       "      <td>33.40</td>\n",
       "      <td>395.64</td>\n",
       "      <td>654.02</td>\n",
       "      <td>1,204.02</td>\n",
       "    </tr>\n",
       "    <tr>\n",
       "      <th>7.00</th>\n",
       "      <td>15.37</td>\n",
       "      <td>33.75</td>\n",
       "      <td>408.35</td>\n",
       "      <td>673.95</td>\n",
       "      <td>1,223.95</td>\n",
       "    </tr>\n",
       "    <tr>\n",
       "      <th>8.00</th>\n",
       "      <td>16.22</td>\n",
       "      <td>33.64</td>\n",
       "      <td>421.47</td>\n",
       "      <td>770.60</td>\n",
       "      <td>1,320.60</td>\n",
       "    </tr>\n",
       "    <tr>\n",
       "      <th>9.00</th>\n",
       "      <td>15.92</td>\n",
       "      <td>33.64</td>\n",
       "      <td>428.61</td>\n",
       "      <td>699.95</td>\n",
       "      <td>1,249.95</td>\n",
       "    </tr>\n",
       "    <tr>\n",
       "      <th>10.00</th>\n",
       "      <td>16.36</td>\n",
       "      <td>33.77</td>\n",
       "      <td>426.14</td>\n",
       "      <td>814.85</td>\n",
       "      <td>1,364.85</td>\n",
       "    </tr>\n",
       "    <tr>\n",
       "      <th>11.00</th>\n",
       "      <td>16.50</td>\n",
       "      <td>34.08</td>\n",
       "      <td>435.27</td>\n",
       "      <td>793.05</td>\n",
       "      <td>1,343.05</td>\n",
       "    </tr>\n",
       "    <tr>\n",
       "      <th>12.00</th>\n",
       "      <td>17.69</td>\n",
       "      <td>35.99</td>\n",
       "      <td>478.56</td>\n",
       "      <td>1,028.53</td>\n",
       "      <td>1,578.53</td>\n",
       "    </tr>\n",
       "  </tbody>\n",
       "</table>\n",
       "</div>"
      ],
      "text/plain": [
       "       gb_used  messages  minutes  rub_monthly_fee_over  rub_monthly_fee_total\n",
       "month                                                                         \n",
       "1.00      8.31     18.24   203.85                171.32                 721.32\n",
       "2.00     11.33     24.09   298.69                277.60                 827.60\n",
       "3.00     14.75     31.86   390.05                614.62               1,164.62\n",
       "4.00     13.15     30.74   367.13                413.09                 963.09\n",
       "5.00     15.44     33.77   387.36                647.51               1,197.51\n",
       "6.00     15.42     33.40   395.64                654.02               1,204.02\n",
       "7.00     15.37     33.75   408.35                673.95               1,223.95\n",
       "8.00     16.22     33.64   421.47                770.60               1,320.60\n",
       "9.00     15.92     33.64   428.61                699.95               1,249.95\n",
       "10.00    16.36     33.77   426.14                814.85               1,364.85\n",
       "11.00    16.50     34.08   435.27                793.05               1,343.05\n",
       "12.00    17.69     35.99   478.56              1,028.53               1,578.53"
      ]
     },
     "metadata": {},
     "output_type": "display_data"
    },
    {
     "data": {
      "text/html": [
       "<div>\n",
       "<style scoped>\n",
       "    .dataframe tbody tr th:only-of-type {\n",
       "        vertical-align: middle;\n",
       "    }\n",
       "\n",
       "    .dataframe tbody tr th {\n",
       "        vertical-align: top;\n",
       "    }\n",
       "\n",
       "    .dataframe thead th {\n",
       "        text-align: right;\n",
       "    }\n",
       "</style>\n",
       "<table border=\"1\" class=\"dataframe\">\n",
       "  <thead>\n",
       "    <tr style=\"text-align: right;\">\n",
       "      <th></th>\n",
       "      <th>gb_used</th>\n",
       "      <th>messages</th>\n",
       "      <th>minutes</th>\n",
       "      <th>rub_monthly_fee_over</th>\n",
       "      <th>rub_monthly_fee_total</th>\n",
       "    </tr>\n",
       "    <tr>\n",
       "      <th>month</th>\n",
       "      <th></th>\n",
       "      <th></th>\n",
       "      <th></th>\n",
       "      <th></th>\n",
       "      <th></th>\n",
       "    </tr>\n",
       "  </thead>\n",
       "  <tbody>\n",
       "    <tr>\n",
       "      <th>1.00</th>\n",
       "      <td>12.83</td>\n",
       "      <td>33.78</td>\n",
       "      <td>428.11</td>\n",
       "      <td>0.00</td>\n",
       "      <td>1,950.00</td>\n",
       "    </tr>\n",
       "    <tr>\n",
       "      <th>2.00</th>\n",
       "      <td>11.50</td>\n",
       "      <td>21.96</td>\n",
       "      <td>297.12</td>\n",
       "      <td>25.00</td>\n",
       "      <td>1,975.00</td>\n",
       "    </tr>\n",
       "    <tr>\n",
       "      <th>3.00</th>\n",
       "      <td>17.13</td>\n",
       "      <td>32.30</td>\n",
       "      <td>489.65</td>\n",
       "      <td>64.86</td>\n",
       "      <td>2,014.86</td>\n",
       "    </tr>\n",
       "    <tr>\n",
       "      <th>4.00</th>\n",
       "      <td>16.43</td>\n",
       "      <td>31.56</td>\n",
       "      <td>458.02</td>\n",
       "      <td>51.82</td>\n",
       "      <td>2,001.82</td>\n",
       "    </tr>\n",
       "    <tr>\n",
       "      <th>5.00</th>\n",
       "      <td>18.91</td>\n",
       "      <td>37.85</td>\n",
       "      <td>510.33</td>\n",
       "      <td>109.70</td>\n",
       "      <td>2,059.70</td>\n",
       "    </tr>\n",
       "    <tr>\n",
       "      <th>6.00</th>\n",
       "      <td>18.48</td>\n",
       "      <td>41.73</td>\n",
       "      <td>479.70</td>\n",
       "      <td>89.29</td>\n",
       "      <td>2,039.29</td>\n",
       "    </tr>\n",
       "    <tr>\n",
       "      <th>7.00</th>\n",
       "      <td>20.02</td>\n",
       "      <td>49.85</td>\n",
       "      <td>545.79</td>\n",
       "      <td>168.13</td>\n",
       "      <td>2,118.13</td>\n",
       "    </tr>\n",
       "    <tr>\n",
       "      <th>8.00</th>\n",
       "      <td>19.12</td>\n",
       "      <td>48.44</td>\n",
       "      <td>510.78</td>\n",
       "      <td>133.18</td>\n",
       "      <td>2,083.18</td>\n",
       "    </tr>\n",
       "    <tr>\n",
       "      <th>9.00</th>\n",
       "      <td>18.75</td>\n",
       "      <td>52.29</td>\n",
       "      <td>539.44</td>\n",
       "      <td>74.35</td>\n",
       "      <td>2,024.35</td>\n",
       "    </tr>\n",
       "    <tr>\n",
       "      <th>10.00</th>\n",
       "      <td>19.58</td>\n",
       "      <td>58.43</td>\n",
       "      <td>558.08</td>\n",
       "      <td>115.85</td>\n",
       "      <td>2,065.85</td>\n",
       "    </tr>\n",
       "    <tr>\n",
       "      <th>11.00</th>\n",
       "      <td>19.32</td>\n",
       "      <td>55.79</td>\n",
       "      <td>541.38</td>\n",
       "      <td>142.16</td>\n",
       "      <td>2,092.16</td>\n",
       "    </tr>\n",
       "    <tr>\n",
       "      <th>12.00</th>\n",
       "      <td>21.28</td>\n",
       "      <td>60.61</td>\n",
       "      <td>592.81</td>\n",
       "      <td>188.85</td>\n",
       "      <td>2,138.85</td>\n",
       "    </tr>\n",
       "  </tbody>\n",
       "</table>\n",
       "</div>"
      ],
      "text/plain": [
       "       gb_used  messages  minutes  rub_monthly_fee_over  rub_monthly_fee_total\n",
       "month                                                                         \n",
       "1.00     12.83     33.78   428.11                  0.00               1,950.00\n",
       "2.00     11.50     21.96   297.12                 25.00               1,975.00\n",
       "3.00     17.13     32.30   489.65                 64.86               2,014.86\n",
       "4.00     16.43     31.56   458.02                 51.82               2,001.82\n",
       "5.00     18.91     37.85   510.33                109.70               2,059.70\n",
       "6.00     18.48     41.73   479.70                 89.29               2,039.29\n",
       "7.00     20.02     49.85   545.79                168.13               2,118.13\n",
       "8.00     19.12     48.44   510.78                133.18               2,083.18\n",
       "9.00     18.75     52.29   539.44                 74.35               2,024.35\n",
       "10.00    19.58     58.43   558.08                115.85               2,065.85\n",
       "11.00    19.32     55.79   541.38                142.16               2,092.16\n",
       "12.00    21.28     60.61   592.81                188.85               2,138.85"
      ]
     },
     "metadata": {},
     "output_type": "display_data"
    }
   ],
   "source": [
    "tariff_monthly_used_users = used_users.pivot_table(index=['tariff', 'month'],values=values)\n",
    "\n",
    "smart_monthly_costs = tariff_monthly_used_users.loc['smart']\n",
    "smart_monthly_costs['mb_used'] = smart_monthly_costs['mb_used']/1024\n",
    "smart_monthly_costs.rename(columns={'mb_used': 'gb_used'}, inplace=True)\n",
    "display(smart_monthly_costs)\n",
    "ultra_monthly_costs = tariff_monthly_used_users.loc['ultra']\n",
    "ultra_monthly_costs['mb_used'] = ultra_monthly_costs['mb_used']/1024\n",
    "ultra_monthly_costs.rename(columns={'mb_used': 'gb_used'}, inplace=True)\n",
    "display(ultra_monthly_costs)"
   ]
  },
  {
   "cell_type": "markdown",
   "id": "4758d18a",
   "metadata": {},
   "source": [
    "В данной таблице можно наблюдать минуты разговора, количество сообщений и объём интернет-трафика, которые пользователь расходует за месяц"
   ]
  },
  {
   "cell_type": "code",
   "execution_count": 44,
   "id": "0bb88786",
   "metadata": {},
   "outputs": [
    {
     "data": {
      "text/html": [
       "<div>\n",
       "<style scoped>\n",
       "    .dataframe tbody tr th:only-of-type {\n",
       "        vertical-align: middle;\n",
       "    }\n",
       "\n",
       "    .dataframe tbody tr th {\n",
       "        vertical-align: top;\n",
       "    }\n",
       "\n",
       "    .dataframe thead th {\n",
       "        text-align: right;\n",
       "    }\n",
       "</style>\n",
       "<table border=\"1\" class=\"dataframe\">\n",
       "  <thead>\n",
       "    <tr style=\"text-align: right;\">\n",
       "      <th></th>\n",
       "      <th>gb_used</th>\n",
       "      <th>messages</th>\n",
       "      <th>minutes</th>\n",
       "      <th>rub_monthly_fee_over</th>\n",
       "      <th>rub_monthly_fee_total</th>\n",
       "    </tr>\n",
       "    <tr>\n",
       "      <th>tariff</th>\n",
       "      <th></th>\n",
       "      <th></th>\n",
       "      <th></th>\n",
       "      <th></th>\n",
       "      <th></th>\n",
       "    </tr>\n",
       "  </thead>\n",
       "  <tbody>\n",
       "    <tr>\n",
       "      <th>smart</th>\n",
       "      <td>15,058.89</td>\n",
       "      <td>31.41</td>\n",
       "      <td>386.76</td>\n",
       "      <td>629.92</td>\n",
       "      <td>1,179.92</td>\n",
       "    </tr>\n",
       "    <tr>\n",
       "      <th>ultra</th>\n",
       "      <td>18,206.31</td>\n",
       "      <td>43.71</td>\n",
       "      <td>495.93</td>\n",
       "      <td>96.93</td>\n",
       "      <td>2,046.93</td>\n",
       "    </tr>\n",
       "  </tbody>\n",
       "</table>\n",
       "</div>"
      ],
      "text/plain": [
       "         gb_used  messages  minutes  rub_monthly_fee_over  \\\n",
       "tariff                                                      \n",
       "smart  15,058.89     31.41   386.76                629.92   \n",
       "ultra  18,206.31     43.71   495.93                 96.93   \n",
       "\n",
       "        rub_monthly_fee_total  \n",
       "tariff                         \n",
       "smart                1,179.92  \n",
       "ultra                2,046.93  "
      ]
     },
     "execution_count": 44,
     "metadata": {},
     "output_type": "execute_result"
    }
   ],
   "source": [
    "tariff_usage = tariff_monthly_used_users.pivot_table(index='tariff',values=values)\n",
    "tariff_usage.rename(columns={'mb_used': 'gb_used'}, inplace=True)\n",
    "tariff_usage\n"
   ]
  },
  {
   "cell_type": "markdown",
   "id": "794ff30a",
   "metadata": {},
   "source": [
    "### Выводы\n",
    "Пользователи тарифа ultra более активны, но пользователи тарифа smart тратят в среднем в 6 раз больше на дополнительные пакеты услуг. Оператор может использовать это для маркетинговой компании.\n",
    "Оператору больше денег приносит тариф ultra, даже с учетом того, что в среднем пользователи не выходят за границы тарифных лимитов, а пользователи тарифа smart не тратят столько денег, чтобы превысить стоимость тарифа ultra. Так, для пользователя выгоднее тариф smart."
   ]
  },
  {
   "cell_type": "markdown",
   "id": "9c1559b2",
   "metadata": {},
   "source": [
    "## Дисперсия и стандартное отклонение"
   ]
  },
  {
   "cell_type": "markdown",
   "id": "f81e8f76",
   "metadata": {},
   "source": [
    "Дисперсия и стандартное отклонение позволяют определить распределение, на сколько много выбросов в нём и характер распределения"
   ]
  },
  {
   "cell_type": "markdown",
   "id": "f9206988",
   "metadata": {},
   "source": [
    "### Минуты разговора"
   ]
  },
  {
   "cell_type": "code",
   "execution_count": 45,
   "id": "00a4ad32",
   "metadata": {},
   "outputs": [
    {
     "data": {
      "text/plain": [
       "count   2,229.00\n",
       "mean      417.93\n",
       "std       190.31\n",
       "min         0.00\n",
       "25%       282.00\n",
       "50%       422.00\n",
       "75%       545.00\n",
       "max     1,435.00\n",
       "Name: minutes, dtype: float64"
      ]
     },
     "execution_count": 45,
     "metadata": {},
     "output_type": "execute_result"
    }
   ],
   "source": [
    "smart['minutes'].describe()"
   ]
  },
  {
   "cell_type": "code",
   "execution_count": 46,
   "id": "ef9df1b6",
   "metadata": {},
   "outputs": [
    {
     "data": {
      "text/plain": [
       "count     985.00\n",
       "mean      526.62\n",
       "std       317.61\n",
       "min         0.00\n",
       "25%       284.00\n",
       "50%       518.00\n",
       "75%       752.00\n",
       "max     1,673.00\n",
       "Name: minutes, dtype: float64"
      ]
     },
     "execution_count": 46,
     "metadata": {},
     "output_type": "execute_result"
    }
   ],
   "source": [
    "ultra['minutes'].describe()"
   ]
  },
  {
   "cell_type": "code",
   "execution_count": 47,
   "id": "7cc18f4e",
   "metadata": {},
   "outputs": [
    {
     "data": {
      "image/png": "[encoded data removed]",
      "text/plain": [
       "<Figure size 640x480 with 1 Axes>"
      ]
     },
     "metadata": {},
     "output_type": "display_data"
    }
   ],
   "source": [
    "plt.hist(smart['minutes'], bins=50, label='smart')\n",
    "plt.hist(ultra['minutes'], bins=50, label='ultra', alpha=0.7)\n",
    "plt.legend(loc='upper right')\n",
    "plt.xlabel('количество минут')\n",
    "plt.ylabel('количество пользователей')\n",
    "plt.show()"
   ]
  },
  {
   "cell_type": "code",
   "execution_count": 48,
   "id": "b461e68c",
   "metadata": {},
   "outputs": [
    {
     "name": "stdout",
     "output_type": "stream",
     "text": [
      "Дисперсия минут тарифа smart 36219.315784344246\n",
      "Дисперсия минут тарифа ultra 100873.63339730092\n"
     ]
    }
   ],
   "source": [
    "smart_minutes_var = np.var(smart['minutes'], ddof=1)\n",
    "ultra_minutes_var = np.var(ultra['minutes'], ddof=1)\n",
    "print('Дисперсия минут тарифа smart {}'.format(smart_minutes_var))\n",
    "print('Дисперсия минут тарифа ultra {}'.format(ultra_minutes_var))"
   ]
  },
  {
   "cell_type": "code",
   "execution_count": 49,
   "id": "0ac3e6ae",
   "metadata": {},
   "outputs": [
    {
     "data": {
      "text/html": [
       "<div>\n",
       "<style scoped>\n",
       "    .dataframe tbody tr th:only-of-type {\n",
       "        vertical-align: middle;\n",
       "    }\n",
       "\n",
       "    .dataframe tbody tr th {\n",
       "        vertical-align: top;\n",
       "    }\n",
       "\n",
       "    .dataframe thead th {\n",
       "        text-align: right;\n",
       "    }\n",
       "</style>\n",
       "<table border=\"1\" class=\"dataframe\">\n",
       "  <thead>\n",
       "    <tr style=\"text-align: right;\">\n",
       "      <th></th>\n",
       "      <th>Смарт</th>\n",
       "      <th>Ультра</th>\n",
       "    </tr>\n",
       "  </thead>\n",
       "  <tbody>\n",
       "    <tr>\n",
       "      <th>Стандартное отклонение (мин)</th>\n",
       "      <td>190.31</td>\n",
       "      <td>317.61</td>\n",
       "    </tr>\n",
       "    <tr>\n",
       "      <th>Дисперсия</th>\n",
       "      <td>36,219.32</td>\n",
       "      <td>100,873.63</td>\n",
       "    </tr>\n",
       "  </tbody>\n",
       "</table>\n",
       "</div>"
      ],
      "text/plain": [
       "                                 Смарт     Ультра\n",
       "Стандартное отклонение (мин)    190.31     317.61\n",
       "Дисперсия                    36,219.32 100,873.63"
      ]
     },
     "execution_count": 49,
     "metadata": {},
     "output_type": "execute_result"
    }
   ],
   "source": [
    "smart_dict_minutes = {'Стандартное отклонение (мин)': smart['minutes'].std(),\n",
    "             'Дисперсия': smart_minutes_var}\n",
    "smart_d_minutes = pd.Series(smart_dict_minutes)\n",
    "ultra_dict_minutes = {'Стандартное отклонение (мин)': ultra['minutes'].std(),\n",
    "             'Дисперсия': ultra_minutes_var}\n",
    "ultra_d_minutes = pd.Series(ultra_dict_minutes)\n",
    "smart_ultra_minutes = pd.DataFrame({'Смарт': smart_d_minutes, 'Ультра': ultra_d_minutes})\n",
    "smart_ultra_minutes"
   ]
  },
  {
   "cell_type": "markdown",
   "id": "19715df0",
   "metadata": {},
   "source": [
    "#### Вывод:\n",
    "Средняя продолжительность разговора по пользователям: у тарифа смарт - 418 минут, у тарифа ультра - 527 минут. Стоит отметить, что стандартное отклонение у тарифа смарт в 1.66 раз меньше, на графике это тоже заметно. Следует сказать, что примерно половина пользователей тарифа ультра используют преимущества данного тарифа (окупают потраченые деньги), т.к. другая половина расходует меньше 500 минут и могли бы пользоваться тарифом смарт. Возможно их больше интересуют сообщения, но скорее всего интернет трафик!"
   ]
  },
  {
   "cell_type": "markdown",
   "id": "b05cdc09",
   "metadata": {},
   "source": [
    "### Количество сообщений"
   ]
  },
  {
   "cell_type": "code",
   "execution_count": 50,
   "id": "aed1bf8f",
   "metadata": {},
   "outputs": [
    {
     "data": {
      "text/plain": [
       "count   2,229.00\n",
       "mean       33.38\n",
       "std        28.23\n",
       "min         0.00\n",
       "25%        10.00\n",
       "50%        28.00\n",
       "75%        51.00\n",
       "max       143.00\n",
       "Name: messages, dtype: float64"
      ]
     },
     "execution_count": 50,
     "metadata": {},
     "output_type": "execute_result"
    }
   ],
   "source": [
    "smart['messages'].describe()"
   ]
  },
  {
   "cell_type": "code",
   "execution_count": 51,
   "id": "a530fee2",
   "metadata": {},
   "outputs": [
    {
     "data": {
      "text/plain": [
       "count   985.00\n",
       "mean     49.36\n",
       "std      47.80\n",
       "min       0.00\n",
       "25%       6.00\n",
       "50%      38.00\n",
       "75%      79.00\n",
       "max     224.00\n",
       "Name: messages, dtype: float64"
      ]
     },
     "execution_count": 51,
     "metadata": {},
     "output_type": "execute_result"
    }
   ],
   "source": [
    "ultra['messages'].describe()"
   ]
  },
  {
   "cell_type": "code",
   "execution_count": 52,
   "id": "44489afd",
   "metadata": {},
   "outputs": [
    {
     "data": {
      "image/png": "[encoded data removed]",
      "text/plain": [
       "<Figure size 640x480 with 1 Axes>"
      ]
     },
     "metadata": {},
     "output_type": "display_data"
    }
   ],
   "source": [
    "plt.hist(smart['messages'], bins=50, label='smart')\n",
    "plt.hist(ultra['messages'], bins=50, label='ultra', alpha=0.7)\n",
    "plt.legend(loc='upper right')\n",
    "plt.xlabel('количество сообщений')\n",
    "plt.ylabel('количество пользователей')\n",
    "plt.show()"
   ]
  },
  {
   "cell_type": "code",
   "execution_count": 53,
   "id": "64f921ca",
   "metadata": {},
   "outputs": [
    {
     "name": "stdout",
     "output_type": "stream",
     "text": [
      "Дисперсия сообщений тарифа smart 796.8129584480083\n",
      "Дисперсия сообщений тарифа ultra 2285.2661425446836\n"
     ]
    }
   ],
   "source": [
    "smart_messages_var = np.var(smart['messages'], ddof=1)\n",
    "ultra_messages_var = np.var(ultra['messages'], ddof=1)\n",
    "print('Дисперсия сообщений тарифа smart {}'.format(smart_messages_var))\n",
    "print('Дисперсия сообщений тарифа ultra {}'.format(ultra_messages_var))"
   ]
  },
  {
   "cell_type": "code",
   "execution_count": 54,
   "id": "49cadc48",
   "metadata": {
    "scrolled": true
   },
   "outputs": [
    {
     "data": {
      "text/html": [
       "<div>\n",
       "<style scoped>\n",
       "    .dataframe tbody tr th:only-of-type {\n",
       "        vertical-align: middle;\n",
       "    }\n",
       "\n",
       "    .dataframe tbody tr th {\n",
       "        vertical-align: top;\n",
       "    }\n",
       "\n",
       "    .dataframe thead th {\n",
       "        text-align: right;\n",
       "    }\n",
       "</style>\n",
       "<table border=\"1\" class=\"dataframe\">\n",
       "  <thead>\n",
       "    <tr style=\"text-align: right;\">\n",
       "      <th></th>\n",
       "      <th>Смарт</th>\n",
       "      <th>Ультра</th>\n",
       "    </tr>\n",
       "  </thead>\n",
       "  <tbody>\n",
       "    <tr>\n",
       "      <th>Стандартное отклонение (сообщения)</th>\n",
       "      <td>28.23</td>\n",
       "      <td>47.80</td>\n",
       "    </tr>\n",
       "    <tr>\n",
       "      <th>Дисперсия</th>\n",
       "      <td>796.81</td>\n",
       "      <td>2,285.27</td>\n",
       "    </tr>\n",
       "  </tbody>\n",
       "</table>\n",
       "</div>"
      ],
      "text/plain": [
       "                                    Смарт   Ультра\n",
       "Стандартное отклонение (сообщения)  28.23    47.80\n",
       "Дисперсия                          796.81 2,285.27"
      ]
     },
     "execution_count": 54,
     "metadata": {},
     "output_type": "execute_result"
    }
   ],
   "source": [
    "smart_dict_messages = {'Стандартное отклонение (сообщения)': smart['messages'].std(),\n",
    "             'Дисперсия': smart_messages_var}\n",
    "smart_d_messages = pd.Series(smart_dict_messages)\n",
    "ultra_dict_messages = {'Стандартное отклонение (сообщения)': ultra['messages'].std(),\n",
    "             'Дисперсия': ultra_messages_var}\n",
    "ultra_d_messages = pd.Series(ultra_dict_messages)\n",
    "smart_ultra_messages = pd.DataFrame({'Смарт': smart_d_messages, 'Ультра': ultra_d_messages})\n",
    "smart_ultra_messages"
   ]
  },
  {
   "cell_type": "markdown",
   "id": "f1dd33c2",
   "metadata": {},
   "source": [
    "#### Вывод:\n",
    "Среднее количество отпраавленных сообщений: у тарифа смарт - 33 сообщения, у тарифа ультра - 49 сообщений. Стоит отметить, что стандартное отклонение у тарифа смарт в 1.67 раз меньше, на графике это тоже заметно. Необходимо сказать что обычные сообщения не так популярны в наше время. В тарифе ультра есть любители такого способа общения (которые отправляют больше 50 сообщений), но их среднея часть отправляет всего 49 сообщений, когда в абонентскую плату тарифа смарт включено 50 сообщений. Поэтому и возникает такое большое стандартное отклонение!"
   ]
  },
  {
   "cell_type": "markdown",
   "id": "7be993c2",
   "metadata": {},
   "source": [
    "### Интернет-трафик"
   ]
  },
  {
   "cell_type": "code",
   "execution_count": 55,
   "id": "74ab9744",
   "metadata": {},
   "outputs": [
    {
     "name": "stderr",
     "output_type": "stream",
     "text": [
      "D:\\Temp\\ipykernel_41484\\2087636091.py:1: SettingWithCopyWarning: \n",
      "A value is trying to be set on a copy of a slice from a DataFrame.\n",
      "Try using .loc[row_indexer,col_indexer] = value instead\n",
      "\n",
      "See the caveats in the documentation: https://pandas.pydata.org/pandas-docs/stable/user_guide/indexing.html#returning-a-view-versus-a-copy\n",
      "  smart['gb_used']=smart['mb_used']/1024\n"
     ]
    },
    {
     "data": {
      "text/plain": [
       "count   2,229.00\n",
       "mean       15.83\n",
       "std         5.73\n",
       "min         0.00\n",
       "25%        12.35\n",
       "50%        16.12\n",
       "75%        19.57\n",
       "max        37.65\n",
       "Name: gb_used, dtype: float64"
      ]
     },
     "execution_count": 55,
     "metadata": {},
     "output_type": "execute_result"
    }
   ],
   "source": [
    "smart['gb_used']=smart['mb_used']/1024\n",
    "smart['gb_used'].describe()"
   ]
  },
  {
   "cell_type": "code",
   "execution_count": 56,
   "id": "f711fe36",
   "metadata": {},
   "outputs": [
    {
     "name": "stderr",
     "output_type": "stream",
     "text": [
      "D:\\Temp\\ipykernel_41484\\550917311.py:1: SettingWithCopyWarning: \n",
      "A value is trying to be set on a copy of a slice from a DataFrame.\n",
      "Try using .loc[row_indexer,col_indexer] = value instead\n",
      "\n",
      "See the caveats in the documentation: https://pandas.pydata.org/pandas-docs/stable/user_guide/indexing.html#returning-a-view-versus-a-copy\n",
      "  ultra['gb_used']=ultra['mb_used']/1024\n"
     ]
    },
    {
     "data": {
      "text/plain": [
       "count   985.00\n",
       "mean     19.01\n",
       "std       9.85\n",
       "min       0.00\n",
       "25%      11.50\n",
       "50%      18.86\n",
       "75%      26.21\n",
       "max      48.58\n",
       "Name: gb_used, dtype: float64"
      ]
     },
     "execution_count": 56,
     "metadata": {},
     "output_type": "execute_result"
    }
   ],
   "source": [
    "ultra['gb_used']=ultra['mb_used']/1024\n",
    "ultra['gb_used'].describe()"
   ]
  },
  {
   "cell_type": "code",
   "execution_count": 57,
   "id": "a25a8c41",
   "metadata": {},
   "outputs": [
    {
     "data": {
      "image/png": "[encoded data removed]",
      "text/plain": [
       "<Figure size 640x480 with 1 Axes>"
      ]
     },
     "metadata": {},
     "output_type": "display_data"
    }
   ],
   "source": [
    "plt.hist(smart['mb_used']/1024, bins=50, label='smart')\n",
    "plt.hist(ultra['mb_used']/1024, bins=50, label='ultra', alpha=0.7)\n",
    "plt.legend(loc='upper right')\n",
    "plt.xlabel('количество гигабайт')\n",
    "plt.ylabel('количество пользователей')\n",
    "plt.show()"
   ]
  },
  {
   "cell_type": "code",
   "execution_count": 58,
   "id": "ce8c7758",
   "metadata": {},
   "outputs": [
    {
     "name": "stdout",
     "output_type": "stream",
     "text": [
      "Дисперсия гигабайт тарифа smart 32.866057855890205\n",
      "Дисперсия гигабайт тарифа ultra 97.03770619857964\n"
     ]
    }
   ],
   "source": [
    "smart_mb_var = np.var(smart['mb_used']/1024, ddof=1)\n",
    "ultra_mb_var = np.var(ultra['mb_used']/1024, ddof=1)\n",
    "print('Дисперсия гигабайт тарифа smart {}'.format(smart_mb_var))\n",
    "print('Дисперсия гигабайт тарифа ultra {}'.format(ultra_mb_var))"
   ]
  },
  {
   "cell_type": "code",
   "execution_count": 59,
   "id": "f062e889",
   "metadata": {},
   "outputs": [
    {
     "data": {
      "text/html": [
       "<div>\n",
       "<style scoped>\n",
       "    .dataframe tbody tr th:only-of-type {\n",
       "        vertical-align: middle;\n",
       "    }\n",
       "\n",
       "    .dataframe tbody tr th {\n",
       "        vertical-align: top;\n",
       "    }\n",
       "\n",
       "    .dataframe thead th {\n",
       "        text-align: right;\n",
       "    }\n",
       "</style>\n",
       "<table border=\"1\" class=\"dataframe\">\n",
       "  <thead>\n",
       "    <tr style=\"text-align: right;\">\n",
       "      <th></th>\n",
       "      <th>Смарт</th>\n",
       "      <th>Ультра</th>\n",
       "    </tr>\n",
       "  </thead>\n",
       "  <tbody>\n",
       "    <tr>\n",
       "      <th>Стандартное отклонение (гигабайт)</th>\n",
       "      <td>5.73</td>\n",
       "      <td>9.85</td>\n",
       "    </tr>\n",
       "    <tr>\n",
       "      <th>Дисперсия</th>\n",
       "      <td>32.87</td>\n",
       "      <td>97.04</td>\n",
       "    </tr>\n",
       "  </tbody>\n",
       "</table>\n",
       "</div>"
      ],
      "text/plain": [
       "                                   Смарт  Ультра\n",
       "Стандартное отклонение (гигабайт)   5.73    9.85\n",
       "Дисперсия                          32.87   97.04"
      ]
     },
     "execution_count": 59,
     "metadata": {},
     "output_type": "execute_result"
    }
   ],
   "source": [
    "smart_dict_mb = {'Стандартное отклонение (гигабайт)': smart['mb_used'].std()/1024,\n",
    "             'Дисперсия': smart_mb_var}\n",
    "smart_d_mb = pd.Series(smart_dict_mb)\n",
    "ultra_dict_mb = {'Стандартное отклонение (гигабайт)': ultra['mb_used'].std()/1024,\n",
    "             'Дисперсия': ultra_mb_var}\n",
    "ultra_d_mb = pd.Series(ultra_dict_mb)\n",
    "smart_ultra_mb = pd.DataFrame({'Смарт': smart_d_mb, 'Ультра': ultra_d_mb})\n",
    "smart_ultra_mb"
   ]
  },
  {
   "cell_type": "markdown",
   "id": "6864d64b",
   "metadata": {},
   "source": [
    "#### Вывод:\n",
    "Среднее количество использованого трафика: у тарифа смарт - 15.8 гб, у тарифа ультра - 19 гб. Чуть меньше половины пользователей в тарифе смарт используют интернет-трафика сврех лимита. Возможно их не так сильно интересуют минуты разговора и сообщения, поэтому что бы не доплачивать за тариф ультра, они готовы пользваться тарифом смарт и доплачивать отдельно только за интернет-трафик!"
   ]
  },
  {
   "cell_type": "markdown",
   "id": "d84d2818",
   "metadata": {},
   "source": [
    "### Cреднее количество по Москве и другим регионам"
   ]
  },
  {
   "cell_type": "code",
   "execution_count": 60,
   "id": "7adc45de",
   "metadata": {},
   "outputs": [
    {
     "name": "stderr",
     "output_type": "stream",
     "text": [
      "D:\\Temp\\ipykernel_41484\\454408660.py:2: FutureWarning: A value is trying to be set on a copy of a DataFrame or Series through chained assignment using an inplace method.\n",
      "The behavior will change in pandas 3.0. This inplace method will never work because the intermediate object on which we are setting values always behaves as a copy.\n",
      "\n",
      "For example, when doing 'df[col].method(value, inplace=True)', try using 'df.method({col: value}, inplace=True)' or df[col] = df[col].method(value) instead, to perform the operation inplace on the original object.\n",
      "\n",
      "\n",
      "  used_users['city'].where(moscow, 'Другой регион', inplace=True)\n"
     ]
    }
   ],
   "source": [
    "moscow = used_users['city'] == 'Москва'\n",
    "used_users['city'].where(moscow, 'Другой регион', inplace=True)\n",
    "\n",
    "city_monthly_costs = used_users.pivot_table(index=['city', 'month'],values=values)"
   ]
  },
  {
   "cell_type": "code",
   "execution_count": 61,
   "id": "c8bc97cb",
   "metadata": {},
   "outputs": [
    {
     "data": {
      "text/html": [
       "<div>\n",
       "<style scoped>\n",
       "    .dataframe tbody tr th:only-of-type {\n",
       "        vertical-align: middle;\n",
       "    }\n",
       "\n",
       "    .dataframe tbody tr th {\n",
       "        vertical-align: top;\n",
       "    }\n",
       "\n",
       "    .dataframe thead th {\n",
       "        text-align: right;\n",
       "    }\n",
       "</style>\n",
       "<table border=\"1\" class=\"dataframe\">\n",
       "  <thead>\n",
       "    <tr style=\"text-align: right;\">\n",
       "      <th></th>\n",
       "      <th>gb_used</th>\n",
       "      <th>messages</th>\n",
       "      <th>minutes</th>\n",
       "      <th>rub_monthly_fee_over</th>\n",
       "      <th>rub_monthly_fee_total</th>\n",
       "    </tr>\n",
       "    <tr>\n",
       "      <th>city</th>\n",
       "      <th></th>\n",
       "      <th></th>\n",
       "      <th></th>\n",
       "      <th></th>\n",
       "      <th></th>\n",
       "    </tr>\n",
       "  </thead>\n",
       "  <tbody>\n",
       "    <tr>\n",
       "      <th>Другой регион</th>\n",
       "      <td>15.29</td>\n",
       "      <td>35.27</td>\n",
       "      <td>413.25</td>\n",
       "      <td>477.92</td>\n",
       "      <td>1,424.46</td>\n",
       "    </tr>\n",
       "    <tr>\n",
       "      <th>Москва</th>\n",
       "      <td>17.17</td>\n",
       "      <td>33.94</td>\n",
       "      <td>444.01</td>\n",
       "      <td>416.46</td>\n",
       "      <td>1,511.43</td>\n",
       "    </tr>\n",
       "  </tbody>\n",
       "</table>\n",
       "</div>"
      ],
      "text/plain": [
       "               gb_used  messages  minutes  rub_monthly_fee_over  \\\n",
       "city                                                              \n",
       "Другой регион    15.29     35.27   413.25                477.92   \n",
       "Москва           17.17     33.94   444.01                416.46   \n",
       "\n",
       "               rub_monthly_fee_total  \n",
       "city                                  \n",
       "Другой регион               1,424.46  \n",
       "Москва                      1,511.43  "
      ]
     },
     "execution_count": 61,
     "metadata": {},
     "output_type": "execute_result"
    }
   ],
   "source": [
    "city_usage = city_monthly_costs.pivot_table(index='city',values=values)\n",
    "city_usage['mb_used'] = city_usage['mb_used']/1024\n",
    "city_usage.rename(columns={'mb_used': 'gb_used'}, inplace=True)\n",
    "city_usage"
   ]
  },
  {
   "cell_type": "markdown",
   "id": "98a7ea64",
   "metadata": {},
   "source": [
    "### Вывод\n",
    "По средним значениям дохода от пользователей Москвы и регионов видно, что разница варьируется в районе 100 рублей.\n",
    "Сообщения и минуты приблизительно одинаково тратятся везде, в Москве больше тратят трафика интернета."
   ]
  },
  {
   "cell_type": "markdown",
   "id": "fbc76b6b",
   "metadata": {},
   "source": [
    "# Шаг 4. Проверим гипотезы \n",
    "<a class=\"anchor\" id=\"fourth-bullet\"></a>"
   ]
  },
  {
   "cell_type": "markdown",
   "id": "f9718600",
   "metadata": {},
   "source": [
    "## Гипотеза №1 - Cредняя выручка пользователей тарифов «Ультра» и «Смарт» различается\n",
    "- Нулевая гипотеза H₀: Средняя выручка пользователей тарифов \"Ультра\" и \"Смарт\" НЕ различается\n",
    "\n",
    "- Исходя из H₀ формулируется альтернативная гипотеза H₁: Средняя выручка пользователей тарифов \"Ультра\" и \"Смарт\" различается\n",
    "\n",
    "- Пороговое значение alpha (критический уровень статистической значимости) зададим равным 5%."
   ]
  },
  {
   "cell_type": "code",
   "execution_count": 62,
   "id": "7705efc6",
   "metadata": {},
   "outputs": [
    {
     "name": "stdout",
     "output_type": "stream",
     "text": [
      "p-значение: 8.08190955548901e-161\n",
      "Отвергаем нулевую гипотезу\n"
     ]
    }
   ],
   "source": [
    "alpha = 0.05 # критический уровень статистической значимости\n",
    "             # отвергнем гипотезу, если p-value окажется меньше него \n",
    "\n",
    "results = st.ttest_ind(\n",
    "    smart['rub_monthly_fee_total'], \n",
    "    ultra['rub_monthly_fee_total'],\n",
    "    equal_var = True)\n",
    "\n",
    "print('p-значение:', results.pvalue)\n",
    "\n",
    "if (results.pvalue < alpha):\n",
    "    print(\"Отвергаем нулевую гипотезу\")\n",
    "else:\n",
    "    print(\"Не получилось отвергнуть нулевую гипотезу\")"
   ]
  },
  {
   "cell_type": "markdown",
   "id": "e6ae54d8",
   "metadata": {},
   "source": [
    "### Вывод\n",
    "Средняя выручка пользователей тарифов «Ультра» и «Смарт» дейтсвительно различаются - наша гипотеза подтвердилась. Об этом говорит почти Нулевая(H₀) вероятность. Случайно получить такое отличие в значениях практически не получится."
   ]
  },
  {
   "cell_type": "markdown",
   "id": "ff6d4f09",
   "metadata": {},
   "source": [
    "## Гипотеза №2 - Средняя выручка пользователей из Москвы отличается от выручки пользователей из других регионов\n",
    "\n",
    "- Нулевая гипотеза H₀: Cредняя выручка пользователей из Москвы НЕ отличается от выручки пользователей из других регионов\n",
    "- Исходя из H₀ формулируется альтернативная гипотеза H₁: Cредняя выручка пользователей из Москвы отличается от выручки пользователей из других регионов\n",
    "- Пороговое значение alpha (критический уровень статистической значимости) зададим равным 5%."
   ]
  },
  {
   "cell_type": "code",
   "execution_count": 63,
   "id": "3836918c",
   "metadata": {},
   "outputs": [
    {
     "name": "stdout",
     "output_type": "stream",
     "text": [
      "p-значение: 0.5400751614511182\n",
      "Не получилось отвергнуть нулевую гипотезу\n"
     ]
    }
   ],
   "source": [
    "alpha = 0.05 # критический уровень статистической значимости\n",
    "             # отвергнем гипотезу, если p-value окажется меньше него  \n",
    "\n",
    "moscow = used_users.query(\"city == 'Москва'\")['rub_monthly_fee_total']\n",
    "other_cities = used_users.query(\"city == 'Другой регион'\")['rub_monthly_fee_total']\n",
    "\n",
    "results = st.ttest_ind(moscow, other_cities)\n",
    "\n",
    "print('p-значение:', results.pvalue)\n",
    "\n",
    "if (results.pvalue < alpha):\n",
    "    print(\"Отвергаем нулевую гипотезу\")\n",
    "else:\n",
    "    print(\"Не получилось отвергнуть нулевую гипотезу\")"
   ]
  },
  {
   "cell_type": "code",
   "execution_count": 64,
   "id": "3036ea8f",
   "metadata": {},
   "outputs": [
    {
     "name": "stdout",
     "output_type": "stream",
     "text": [
      "p-значение: 0.1912450522572209\n",
      "Не получилось отвергнуть нулевую гипотезу\n"
     ]
    }
   ],
   "source": [
    "# Приведены два датасета: сумма покупок, совершённых за месяц посетителями ...\n",
    "\n",
    "sample_1 = [3071, 3636, 3454, 3151, 2185, 3259, 1727, 2263, 2015,\n",
    "2582, 4815, 633, 3186, 887, 2028, 3589, 2564, 1422, 1785,\n",
    "3180, 1770, 2716, 2546, 1848, 4644, 3134, 475, 2686,\n",
    "1838, 3352]\n",
    "sample_2 = [1211, 1228, 2157, 3699, 600, 1898, 1688, 1420, 5048, 3007,\n",
    "509, 3777, 5583, 3949, 121, 1674, 4300, 1338, 3066,\n",
    "3562, 1010, 2311, 462, 863, 2021, 528, 1849, 255,\n",
    "1740, 2596]\n",
    "alpha = .05 # критический уровень статистической значимости\n",
    "# если p-value окажется меньше него - отвергнем гипотезу\n",
    "results = st.ttest_ind(\n",
    "sample_1,\n",
    "sample_2)\n",
    "print('p-значение:', results.pvalue)\n",
    "if (results.pvalue < alpha):\n",
    "    print(\"Отвергаем нулевую гипотезу\")\n",
    "else:\n",
    "\n",
    "    print(\"Не получилось отвергнуть нулевую гипотезу\")"
   ]
  },
  {
   "cell_type": "markdown",
   "id": "8b610095",
   "metadata": {},
   "source": [
    "### Вывод\n",
    "Полученное значение p-value говорит о том, что с вероятностью,более 54% различие средней выручки по Москве и другим регионам можно получить случайно. Это слишком большая вероятность, чтобы делать вывод о значимом различии между средней выручкой по Москве и средней выручкой по другим регионам. Поэтому средняя выручка пользователей из Москвы не отличается от выручки пользователей из других регионов."
   ]
  },
  {
   "cell_type": "markdown",
   "id": "088b5928",
   "metadata": {},
   "source": [
    "# Шаг 5. Общий вывод \n",
    "<a class=\"anchor\" id=\"fifth-bullet\"></a>"
   ]
  },
  {
   "cell_type": "markdown",
   "id": "a8df2aad",
   "metadata": {},
   "source": [
    "Из двух гипотез подтвердилась только одна: Cредняя выручка пользователей тарифов «Ультра» и «Смарт» различается.\n",
    " \n",
    "В первой гипотезе шанс, что средняя выручка будет одинакова равна $$ 8 * \\frac{1}{10^{180}}$$ Это очень маленький процент, и поэтому наша гипотеза подтвердилась.\n",
    " \n",
    "Во второй гипотезе с вероятностью, более 54% различие средней выручки по Москве и другим регионам можно получить случайно. Это слишком большая вероятность, чтобы делать вывод о значимом различии между средней выручкой по Москве и средней выручкой по другим регионам. Поэтому средняя выручка пользователей из Москвы не отличается от выручки пользователей из других регионов.\n",
    " \n",
    "Также были построены графики, были выявлены различия использования пакета, построены следующие таблицы."
   ]
  },
  {
   "cell_type": "code",
   "execution_count": 65,
   "id": "5ee36340",
   "metadata": {},
   "outputs": [
    {
     "data": {
      "text/html": [
       "<div>\n",
       "<style scoped>\n",
       "    .dataframe tbody tr th:only-of-type {\n",
       "        vertical-align: middle;\n",
       "    }\n",
       "\n",
       "    .dataframe tbody tr th {\n",
       "        vertical-align: top;\n",
       "    }\n",
       "\n",
       "    .dataframe thead th {\n",
       "        text-align: right;\n",
       "    }\n",
       "</style>\n",
       "<table border=\"1\" class=\"dataframe\">\n",
       "  <thead>\n",
       "    <tr style=\"text-align: right;\">\n",
       "      <th></th>\n",
       "      <th>Смарт</th>\n",
       "      <th>Ультра</th>\n",
       "    </tr>\n",
       "  </thead>\n",
       "  <tbody>\n",
       "    <tr>\n",
       "      <th>Стандартное отклонение (мин)</th>\n",
       "      <td>190.31</td>\n",
       "      <td>317.61</td>\n",
       "    </tr>\n",
       "    <tr>\n",
       "      <th>Дисперсия</th>\n",
       "      <td>36,219.32</td>\n",
       "      <td>100,873.63</td>\n",
       "    </tr>\n",
       "  </tbody>\n",
       "</table>\n",
       "</div>"
      ],
      "text/plain": [
       "                                 Смарт     Ультра\n",
       "Стандартное отклонение (мин)    190.31     317.61\n",
       "Дисперсия                    36,219.32 100,873.63"
      ]
     },
     "metadata": {},
     "output_type": "display_data"
    },
    {
     "data": {
      "text/html": [
       "<div>\n",
       "<style scoped>\n",
       "    .dataframe tbody tr th:only-of-type {\n",
       "        vertical-align: middle;\n",
       "    }\n",
       "\n",
       "    .dataframe tbody tr th {\n",
       "        vertical-align: top;\n",
       "    }\n",
       "\n",
       "    .dataframe thead th {\n",
       "        text-align: right;\n",
       "    }\n",
       "</style>\n",
       "<table border=\"1\" class=\"dataframe\">\n",
       "  <thead>\n",
       "    <tr style=\"text-align: right;\">\n",
       "      <th></th>\n",
       "      <th>Смарт</th>\n",
       "      <th>Ультра</th>\n",
       "    </tr>\n",
       "  </thead>\n",
       "  <tbody>\n",
       "    <tr>\n",
       "      <th>Стандартное отклонение (сообщения)</th>\n",
       "      <td>28.23</td>\n",
       "      <td>47.80</td>\n",
       "    </tr>\n",
       "    <tr>\n",
       "      <th>Дисперсия</th>\n",
       "      <td>796.81</td>\n",
       "      <td>2,285.27</td>\n",
       "    </tr>\n",
       "  </tbody>\n",
       "</table>\n",
       "</div>"
      ],
      "text/plain": [
       "                                    Смарт   Ультра\n",
       "Стандартное отклонение (сообщения)  28.23    47.80\n",
       "Дисперсия                          796.81 2,285.27"
      ]
     },
     "metadata": {},
     "output_type": "display_data"
    },
    {
     "data": {
      "text/html": [
       "<div>\n",
       "<style scoped>\n",
       "    .dataframe tbody tr th:only-of-type {\n",
       "        vertical-align: middle;\n",
       "    }\n",
       "\n",
       "    .dataframe tbody tr th {\n",
       "        vertical-align: top;\n",
       "    }\n",
       "\n",
       "    .dataframe thead th {\n",
       "        text-align: right;\n",
       "    }\n",
       "</style>\n",
       "<table border=\"1\" class=\"dataframe\">\n",
       "  <thead>\n",
       "    <tr style=\"text-align: right;\">\n",
       "      <th></th>\n",
       "      <th>Смарт</th>\n",
       "      <th>Ультра</th>\n",
       "    </tr>\n",
       "  </thead>\n",
       "  <tbody>\n",
       "    <tr>\n",
       "      <th>Стандартное отклонение (гигабайт)</th>\n",
       "      <td>5.73</td>\n",
       "      <td>9.85</td>\n",
       "    </tr>\n",
       "    <tr>\n",
       "      <th>Дисперсия</th>\n",
       "      <td>32.87</td>\n",
       "      <td>97.04</td>\n",
       "    </tr>\n",
       "  </tbody>\n",
       "</table>\n",
       "</div>"
      ],
      "text/plain": [
       "                                   Смарт  Ультра\n",
       "Стандартное отклонение (гигабайт)   5.73    9.85\n",
       "Дисперсия                          32.87   97.04"
      ]
     },
     "metadata": {},
     "output_type": "display_data"
    }
   ],
   "source": [
    "display(smart_ultra_minutes)\n",
    "\n",
    "display(smart_ultra_messages)\n",
    "\n",
    "display(smart_ultra_mb)"
   ]
  },
  {
   "cell_type": "markdown",
   "id": "b34a5bbd",
   "metadata": {},
   "source": [
    "Какой же тариф лучше?\n",
    "\n",
    "- исходя из вышеприведенного анализа выборочных совокупностей и гипотезы, можем сказать:\n",
    "\n",
    "- для оператора – выгоднее тариф Ультра, потому что он приносит больше денег; для пользователя – выгоднее тариф Смарт, потому что полного пакета в среднем хватает пользователям."
   ]
  },
  {
   "cell_type": "code",
   "execution_count": 66,
   "id": "cf2b65c0",
   "metadata": {},
   "outputs": [
    {
     "data": {
      "text/plain": [
       "Index(['user_id', 'month', 'calls', 'minutes', 'messages', 'mb_used', 'age',\n",
       "       'churn_date', 'city', 'first_name', 'last_name', 'reg_date', 'tariff',\n",
       "       'messages_included', 'mb_per_month_included', 'minutes_included',\n",
       "       'rub_monthly_fee', 'rub_per_gb', 'rub_per_message', 'rub_per_minute',\n",
       "       'minutes_over', 'messages_over', 'mb_used_over', 'rub_monthly_fee_over',\n",
       "       'rub_monthly_fee_total'],\n",
       "      dtype='object')"
      ]
     },
     "execution_count": 66,
     "metadata": {},
     "output_type": "execute_result"
    }
   ],
   "source": [
    "used_users.columns"
   ]
  },
  {
   "cell_type": "code",
   "execution_count": 67,
   "id": "984d3f97",
   "metadata": {},
   "outputs": [],
   "source": [
    "import seaborn as sns\n",
    "import matplotlib.pyplot as plt"
   ]
  },
  {
   "cell_type": "code",
   "execution_count": 68,
   "id": "8a7a4ec6",
   "metadata": {},
   "outputs": [
    {
     "name": "stderr",
     "output_type": "stream",
     "text": [
      "D:\\Temp\\ipykernel_41484\\2416222052.py:2: FutureWarning: \n",
      "\n",
      "Passing `palette` without assigning `hue` is deprecated and will be removed in v0.14.0. Assign the `y` variable to `hue` and set `legend=False` for the same effect.\n",
      "\n",
      "  g = sns.catplot(y='tariff', x=column, kind=\"box\", data=used_users, orient='h', palette = 'pastel')\n",
      "D:\\Temp\\ipykernel_41484\\2416222052.py:2: FutureWarning: \n",
      "\n",
      "Passing `palette` without assigning `hue` is deprecated and will be removed in v0.14.0. Assign the `y` variable to `hue` and set `legend=False` for the same effect.\n",
      "\n",
      "  g = sns.catplot(y='tariff', x=column, kind=\"box\", data=used_users, orient='h', palette = 'pastel')\n",
      "D:\\Temp\\ipykernel_41484\\2416222052.py:2: FutureWarning: \n",
      "\n",
      "Passing `palette` without assigning `hue` is deprecated and will be removed in v0.14.0. Assign the `y` variable to `hue` and set `legend=False` for the same effect.\n",
      "\n",
      "  g = sns.catplot(y='tariff', x=column, kind=\"box\", data=used_users, orient='h', palette = 'pastel')\n",
      "D:\\Temp\\ipykernel_41484\\2416222052.py:2: FutureWarning: \n",
      "\n",
      "Passing `palette` without assigning `hue` is deprecated and will be removed in v0.14.0. Assign the `y` variable to `hue` and set `legend=False` for the same effect.\n",
      "\n",
      "  g = sns.catplot(y='tariff', x=column, kind=\"box\", data=used_users, orient='h', palette = 'pastel')\n"
     ]
    },
    {
     "data": {
      "image/png": "[encoded data removed]",
      "text/plain": [
       "<Figure size 1200x200 with 1 Axes>"
      ]
     },
     "metadata": {},
     "output_type": "display_data"
    },
    {
     "data": {
      "image/png": "[encoded data removed]",
      "text/plain": [
       "<Figure size 1200x200 with 1 Axes>"
      ]
     },
     "metadata": {},
     "output_type": "display_data"
    },
    {
     "data": {
      "image/png": "[encoded data removed]",
      "text/plain": [
       "<Figure size 1200x200 with 1 Axes>"
      ]
     },
     "metadata": {},
     "output_type": "display_data"
    },
    {
     "data": {
      "image/png": "[encoded data removed]",
      "text/plain": [
       "<Figure size 1200x200 with 1 Axes>"
      ]
     },
     "metadata": {},
     "output_type": "display_data"
    }
   ],
   "source": [
    "for column in ['minutes', 'messages', 'mb_used', 'rub_monthly_fee_total']:    \n",
    "    g = sns.catplot(y='tariff', x=column, kind=\"box\", data=used_users, orient='h', palette = 'pastel')\n",
    "    g.fig.set_figwidth(12)\n",
    "    g.fig.set_figheight(2)"
   ]
  },
  {
   "cell_type": "code",
   "execution_count": 69,
   "id": "dc7ef111",
   "metadata": {},
   "outputs": [
    {
     "data": {
      "image/png": "[encoded data removed]",
      "text/plain": [
       "<Figure size 1000x400 with 1 Axes>"
      ]
     },
     "metadata": {},
     "output_type": "display_data"
    }
   ],
   "source": [
    "(used_users\n",
    " .pivot_table(index='tariff', columns='month', values='user_id', aggfunc='count')\n",
    " .T\n",
    " .plot(kind='line', figsize=(10,4),  style = 'o-')\n",
    ")\n",
    "plt.title('Рост кол-ва клиентов по 2-м тарифам за год'+ \"\\n\")\n",
    "plt.xlabel('Месяц')\n",
    "plt.ylabel('кол-во');"
   ]
  },
  {
   "cell_type": "code",
   "execution_count": 70,
   "id": "2ca89e7b",
   "metadata": {},
   "outputs": [
    {
     "data": {
      "image/png": "[encoded data removed]",
      "text/plain": [
       "<Figure size 1000x400 with 1 Axes>"
      ]
     },
     "metadata": {},
     "output_type": "display_data"
    }
   ],
   "source": [
    "(used_users\n",
    " .pivot_table(index='tariff', columns='month', values='rub_monthly_fee_total', aggfunc='mean')\n",
    " .T\n",
    " .plot(kind='line', figsize=(10,4),  style = 'o-')\n",
    ")\n",
    "plt.title('Средняя ежемесячная выручка от одного абонента'+ \"\\n\")\n",
    "plt.xlabel('Месяц')\n",
    "plt.ylabel('Рубли');"
   ]
  },
  {
   "cell_type": "code",
   "execution_count": 71,
   "id": "0e84e699",
   "metadata": {},
   "outputs": [
    {
     "data": {
      "image/png": "[encoded data removed]",
      "text/plain": [
       "<Figure size 1000x400 with 1 Axes>"
      ]
     },
     "metadata": {},
     "output_type": "display_data"
    }
   ],
   "source": [
    "(used_users\n",
    " .pivot_table(index='tariff', columns='month', values='rub_monthly_fee_total', aggfunc='sum')\n",
    " .T\n",
    " .plot(kind='line', figsize=(10,4),  style = 'o-')\n",
    ")\n",
    "plt.title('Суммарная ежемесячная выручка по 2-м тарифам'+ \"\\n\")\n",
    "plt.xlabel('Месяц')\n",
    "plt.ylabel('Рубли');"
   ]
  },
  {
   "cell_type": "markdown",
   "id": "cc49b002",
   "metadata": {},
   "source": [
    "**Выручка от смартов уже в два раза выше выручки от ультры, но есть опасность - убегут клиенты смарт от такой счастливой жизни к конкурентам**"
   ]
  },
  {
   "cell_type": "code",
   "execution_count": 72,
   "id": "1f31bf3c",
   "metadata": {},
   "outputs": [
    {
     "name": "stdout",
     "output_type": "stream",
     "text": [
      "Кол-во клентов покинувших компанию за год 38\n",
      "Кол-во клентов покинувших компанию за посл. 4 мес. 2018 г. на двух тарифах 35\n",
      "%  от общего кол-ва всех клиентов, покинувших компанию за посл. 4 мес. 2018 г. на двух тарифах 92.1\n",
      "Распределение оттока клиентов на тарифах за посл. 4 мес. 2018 г.\n"
     ]
    },
    {
     "data": {
      "text/html": [
       "<div>\n",
       "<style scoped>\n",
       "    .dataframe tbody tr th:only-of-type {\n",
       "        vertical-align: middle;\n",
       "    }\n",
       "\n",
       "    .dataframe tbody tr th {\n",
       "        vertical-align: top;\n",
       "    }\n",
       "\n",
       "    .dataframe thead th {\n",
       "        text-align: right;\n",
       "    }\n",
       "</style>\n",
       "<table border=\"1\" class=\"dataframe\">\n",
       "  <thead>\n",
       "    <tr style=\"text-align: right;\">\n",
       "      <th></th>\n",
       "      <th>churn_date</th>\n",
       "    </tr>\n",
       "    <tr>\n",
       "      <th>tariff</th>\n",
       "      <th></th>\n",
       "    </tr>\n",
       "  </thead>\n",
       "  <tbody>\n",
       "    <tr>\n",
       "      <th>smart</th>\n",
       "      <td>22</td>\n",
       "    </tr>\n",
       "    <tr>\n",
       "      <th>ultra</th>\n",
       "      <td>13</td>\n",
       "    </tr>\n",
       "  </tbody>\n",
       "</table>\n",
       "</div>"
      ],
      "text/plain": [
       "        churn_date\n",
       "tariff            \n",
       "smart           22\n",
       "ultra           13"
      ]
     },
     "execution_count": 72,
     "metadata": {},
     "output_type": "execute_result"
    }
   ],
   "source": [
    "\n",
    "df_users = pd.read_csv('C:/Users/Danila30/Downloads/GitHub/Статистический анализ данных//users.csv')\n",
    "\n",
    "print ('Кол-во клентов покинувших компанию за год', df_users.churn_date.notna().sum())\n",
    "\n",
    "print ('Кол-во клентов покинувших компанию за посл. 4 мес. 2018 г. на двух тарифах',\n",
    "       df_users.query('churn_date > \"2018-09-25\"').churn_date.notna().sum()\n",
    "      )\n",
    "print ('%  от общего кол-ва всех клиентов, покинувших компанию за посл. 4 мес. 2018 г. на двух тарифах',\n",
    "    (df_users.query('churn_date > \"2018-09-25\"').churn_date.notna().sum()/df_users.churn_date.notna().sum()*100).round(1)\n",
    ")\n",
    "\n",
    "print ('Распределение оттока клиентов на тарифах за посл. 4 мес. 2018 г.')\n",
    "df_users.query('churn_date > \"2018-09-25\"').groupby('tariff')['churn_date'].count().to_frame()"
   ]
  },
  {
   "cell_type": "markdown",
   "id": "536e001f",
   "metadata": {},
   "source": [
    "**Мы не ограничены в рекомендациях бизнесу только двумя тарифами, если мы видим риски для бизнеса мы можем предложить и третий и четвертый вариант развития тарифной политики**"
   ]
  }
 ],
 "metadata": {
  "ExecuteTimeLog": [
   {
    "duration": 135,
    "start_time": "2022-04-25T13:06:42.441Z"
   },
   {
    "duration": 46,
    "start_time": "2022-04-25T13:08:19.267Z"
   },
   {
    "duration": 181,
    "start_time": "2022-04-25T13:10:25.447Z"
   },
   {
    "duration": 1130,
    "start_time": "2022-04-25T13:12:10.168Z"
   },
   {
    "duration": 451,
    "start_time": "2022-04-25T13:12:11.300Z"
   },
   {
    "duration": 13,
    "start_time": "2022-04-25T13:12:11.753Z"
   },
   {
    "duration": 15,
    "start_time": "2022-04-25T13:12:11.768Z"
   },
   {
    "duration": 28,
    "start_time": "2022-04-25T13:12:11.785Z"
   },
   {
    "duration": 6,
    "start_time": "2022-04-25T13:12:11.815Z"
   },
   {
    "duration": 48,
    "start_time": "2022-04-25T13:12:11.823Z"
   },
   {
    "duration": 21,
    "start_time": "2022-04-25T13:12:11.873Z"
   },
   {
    "duration": 263,
    "start_time": "2022-04-25T13:12:11.896Z"
   },
   {
    "duration": 136,
    "start_time": "2022-04-25T13:12:12.161Z"
   },
   {
    "duration": 18,
    "start_time": "2022-04-25T13:12:12.298Z"
   },
   {
    "duration": 6,
    "start_time": "2022-04-25T13:12:12.318Z"
   },
   {
    "duration": 140,
    "start_time": "2022-04-25T13:12:12.326Z"
   },
   {
    "duration": 53,
    "start_time": "2022-04-25T13:12:12.468Z"
   },
   {
    "duration": 39,
    "start_time": "2022-04-25T13:12:12.523Z"
   },
   {
    "duration": 152,
    "start_time": "2022-04-25T13:12:12.564Z"
   },
   {
    "duration": 88,
    "start_time": "2022-04-25T13:12:12.718Z"
   },
   {
    "duration": 11,
    "start_time": "2022-04-25T13:12:12.808Z"
   },
   {
    "duration": 10,
    "start_time": "2022-04-25T13:12:12.821Z"
   },
   {
    "duration": 24,
    "start_time": "2022-04-25T13:12:12.833Z"
   },
   {
    "duration": 13,
    "start_time": "2022-04-25T13:12:12.859Z"
   },
   {
    "duration": 14,
    "start_time": "2022-04-25T13:12:12.873Z"
   },
   {
    "duration": 91,
    "start_time": "2022-04-25T13:12:12.889Z"
   },
   {
    "duration": 3,
    "start_time": "2022-04-25T13:12:12.982Z"
   },
   {
    "duration": 83,
    "start_time": "2022-04-25T13:12:12.986Z"
   },
   {
    "duration": 49,
    "start_time": "2022-04-25T13:12:13.071Z"
   },
   {
    "duration": 72,
    "start_time": "2022-04-25T13:12:13.121Z"
   },
   {
    "duration": 17,
    "start_time": "2022-04-25T13:12:13.197Z"
   },
   {
    "duration": 42,
    "start_time": "2022-04-25T13:12:13.215Z"
   },
   {
    "duration": 19,
    "start_time": "2022-04-25T13:12:13.259Z"
   },
   {
    "duration": 6,
    "start_time": "2022-04-25T13:12:13.280Z"
   },
   {
    "duration": 96,
    "start_time": "2022-04-25T13:12:13.288Z"
   },
   {
    "duration": 15,
    "start_time": "2022-04-25T13:12:13.386Z"
   },
   {
    "duration": 8,
    "start_time": "2022-04-25T13:12:13.402Z"
   },
   {
    "duration": 25,
    "start_time": "2022-04-25T13:12:13.412Z"
   },
   {
    "duration": 25,
    "start_time": "2022-04-25T13:12:13.439Z"
   },
   {
    "duration": 9,
    "start_time": "2022-04-25T13:12:13.466Z"
   },
   {
    "duration": 7,
    "start_time": "2022-04-25T13:12:13.477Z"
   },
   {
    "duration": 276,
    "start_time": "2022-04-25T13:12:13.485Z"
   },
   {
    "duration": 5,
    "start_time": "2022-04-25T13:12:13.762Z"
   },
   {
    "duration": 14,
    "start_time": "2022-04-25T13:12:13.768Z"
   },
   {
    "duration": 7,
    "start_time": "2022-04-25T13:12:13.784Z"
   },
   {
    "duration": 8,
    "start_time": "2022-04-25T13:12:13.792Z"
   },
   {
    "duration": 245,
    "start_time": "2022-04-25T13:12:13.801Z"
   },
   {
    "duration": 8,
    "start_time": "2022-04-25T13:12:14.048Z"
   },
   {
    "duration": 27,
    "start_time": "2022-04-25T13:12:14.058Z"
   },
   {
    "duration": 14,
    "start_time": "2022-04-25T13:12:14.087Z"
   },
   {
    "duration": 12,
    "start_time": "2022-04-25T13:12:14.102Z"
   },
   {
    "duration": 223,
    "start_time": "2022-04-25T13:12:14.116Z"
   },
   {
    "duration": 5,
    "start_time": "2022-04-25T13:12:14.341Z"
   },
   {
    "duration": 9,
    "start_time": "2022-04-25T13:12:14.354Z"
   },
   {
    "duration": 16,
    "start_time": "2022-04-25T13:12:14.365Z"
   },
   {
    "duration": 18,
    "start_time": "2022-04-25T13:12:14.383Z"
   },
   {
    "duration": 7,
    "start_time": "2022-04-25T13:12:14.403Z"
   },
   {
    "duration": 17,
    "start_time": "2022-04-25T13:12:14.412Z"
   },
   {
    "duration": 34,
    "start_time": "2022-04-25T13:12:14.430Z"
   },
   {
    "duration": 1347,
    "start_time": "2022-04-25T13:12:29.739Z"
   },
   {
    "duration": 776,
    "start_time": "2022-04-25T13:12:31.088Z"
   },
   {
    "duration": 12,
    "start_time": "2022-04-25T13:12:31.865Z"
   },
   {
    "duration": 23,
    "start_time": "2022-04-25T13:12:31.879Z"
   },
   {
    "duration": 68,
    "start_time": "2022-04-25T13:12:31.905Z"
   },
   {
    "duration": 18,
    "start_time": "2022-04-25T13:12:31.975Z"
   },
   {
    "duration": 80,
    "start_time": "2022-04-25T13:12:31.994Z"
   },
   {
    "duration": 81,
    "start_time": "2022-04-25T13:12:32.075Z"
   },
   {
    "duration": 346,
    "start_time": "2022-04-25T13:12:32.157Z"
   },
   {
    "duration": 123,
    "start_time": "2022-04-25T13:12:32.505Z"
   },
   {
    "duration": 28,
    "start_time": "2022-04-25T13:12:32.629Z"
   },
   {
    "duration": 8,
    "start_time": "2022-04-25T13:12:32.658Z"
   },
   {
    "duration": 141,
    "start_time": "2022-04-25T13:12:32.667Z"
   },
   {
    "duration": 67,
    "start_time": "2022-04-25T13:12:32.811Z"
   },
   {
    "duration": 21,
    "start_time": "2022-04-25T13:12:32.880Z"
   },
   {
    "duration": 159,
    "start_time": "2022-04-25T13:12:32.902Z"
   },
   {
    "duration": 92,
    "start_time": "2022-04-25T13:12:33.062Z"
   },
   {
    "duration": 12,
    "start_time": "2022-04-25T13:12:33.156Z"
   },
   {
    "duration": 29,
    "start_time": "2022-04-25T13:12:33.169Z"
   },
   {
    "duration": 27,
    "start_time": "2022-04-25T13:12:33.199Z"
   },
   {
    "duration": 32,
    "start_time": "2022-04-25T13:12:33.228Z"
   },
   {
    "duration": 21,
    "start_time": "2022-04-25T13:12:33.261Z"
   },
   {
    "duration": 95,
    "start_time": "2022-04-25T13:12:33.283Z"
   },
   {
    "duration": 3,
    "start_time": "2022-04-25T13:12:33.379Z"
   },
   {
    "duration": 91,
    "start_time": "2022-04-25T13:12:33.384Z"
   },
   {
    "duration": 48,
    "start_time": "2022-04-25T13:12:33.477Z"
   },
   {
    "duration": 74,
    "start_time": "2022-04-25T13:12:33.526Z"
   },
   {
    "duration": 18,
    "start_time": "2022-04-25T13:12:33.601Z"
   },
   {
    "duration": 36,
    "start_time": "2022-04-25T13:12:33.621Z"
   },
   {
    "duration": 19,
    "start_time": "2022-04-25T13:12:33.658Z"
   },
   {
    "duration": 17,
    "start_time": "2022-04-25T13:12:33.679Z"
   },
   {
    "duration": 105,
    "start_time": "2022-04-25T13:12:33.697Z"
   },
   {
    "duration": 15,
    "start_time": "2022-04-25T13:12:33.804Z"
   },
   {
    "duration": 17,
    "start_time": "2022-04-25T13:12:33.821Z"
   },
   {
    "duration": 40,
    "start_time": "2022-04-25T13:12:33.840Z"
   },
   {
    "duration": 18,
    "start_time": "2022-04-25T13:12:33.881Z"
   },
   {
    "duration": 32,
    "start_time": "2022-04-25T13:12:33.901Z"
   },
   {
    "duration": 18,
    "start_time": "2022-04-25T13:12:33.934Z"
   },
   {
    "duration": 266,
    "start_time": "2022-04-25T13:12:33.953Z"
   },
   {
    "duration": 4,
    "start_time": "2022-04-25T13:12:34.221Z"
   },
   {
    "duration": 41,
    "start_time": "2022-04-25T13:12:34.229Z"
   },
   {
    "duration": 31,
    "start_time": "2022-04-25T13:12:34.272Z"
   },
   {
    "duration": 21,
    "start_time": "2022-04-25T13:12:34.304Z"
   },
   {
    "duration": 234,
    "start_time": "2022-04-25T13:12:34.326Z"
   },
   {
    "duration": 4,
    "start_time": "2022-04-25T13:12:34.562Z"
   },
   {
    "duration": 29,
    "start_time": "2022-04-25T13:12:34.568Z"
   },
   {
    "duration": 32,
    "start_time": "2022-04-25T13:12:34.599Z"
   },
   {
    "duration": 20,
    "start_time": "2022-04-25T13:12:34.633Z"
   },
   {
    "duration": 235,
    "start_time": "2022-04-25T13:12:34.654Z"
   },
   {
    "duration": 6,
    "start_time": "2022-04-25T13:12:34.891Z"
   },
   {
    "duration": 13,
    "start_time": "2022-04-25T13:12:34.898Z"
   },
   {
    "duration": 18,
    "start_time": "2022-04-25T13:12:34.912Z"
   },
   {
    "duration": 25,
    "start_time": "2022-04-25T13:12:34.931Z"
   },
   {
    "duration": 7,
    "start_time": "2022-04-25T13:12:34.958Z"
   },
   {
    "duration": 15,
    "start_time": "2022-04-25T13:12:34.966Z"
   },
   {
    "duration": 15,
    "start_time": "2022-04-25T13:12:34.982Z"
   },
   {
    "duration": 140,
    "start_time": "2022-04-25T13:18:29.352Z"
   },
   {
    "duration": 7,
    "start_time": "2022-04-25T13:19:59.036Z"
   },
   {
    "duration": 5,
    "start_time": "2022-04-25T13:20:23.935Z"
   },
   {
    "duration": 5,
    "start_time": "2022-04-25T13:20:32.459Z"
   },
   {
    "duration": 12,
    "start_time": "2022-04-25T13:21:14.983Z"
   },
   {
    "duration": 19,
    "start_time": "2022-04-25T13:22:19.489Z"
   },
   {
    "duration": 18,
    "start_time": "2022-04-25T13:22:55.851Z"
   },
   {
    "duration": 156,
    "start_time": "2022-04-25T13:33:38.592Z"
   },
   {
    "duration": 17,
    "start_time": "2022-04-25T13:38:11.124Z"
   },
   {
    "duration": 181,
    "start_time": "2022-04-25T13:38:21.548Z"
   },
   {
    "duration": 1124,
    "start_time": "2022-04-25T13:38:30.482Z"
   },
   {
    "duration": 441,
    "start_time": "2022-04-25T13:38:31.608Z"
   },
   {
    "duration": 11,
    "start_time": "2022-04-25T13:38:32.051Z"
   },
   {
    "duration": 54,
    "start_time": "2022-04-25T13:38:32.064Z"
   },
   {
    "duration": 35,
    "start_time": "2022-04-25T13:38:32.120Z"
   },
   {
    "duration": 7,
    "start_time": "2022-04-25T13:38:32.157Z"
   },
   {
    "duration": 30,
    "start_time": "2022-04-25T13:38:32.166Z"
   },
   {
    "duration": 21,
    "start_time": "2022-04-25T13:38:32.198Z"
   },
   {
    "duration": 277,
    "start_time": "2022-04-25T13:38:32.221Z"
   },
   {
    "duration": 124,
    "start_time": "2022-04-25T13:38:32.501Z"
   },
   {
    "duration": 34,
    "start_time": "2022-04-25T13:38:32.627Z"
   },
   {
    "duration": 7,
    "start_time": "2022-04-25T13:38:32.663Z"
   },
   {
    "duration": 141,
    "start_time": "2022-04-25T13:38:32.672Z"
   },
   {
    "duration": 103,
    "start_time": "2022-04-25T13:38:32.815Z"
   },
   {
    "duration": 44,
    "start_time": "2022-04-25T13:38:32.920Z"
   },
   {
    "duration": 272,
    "start_time": "2022-04-25T13:38:32.967Z"
   },
   {
    "duration": 139,
    "start_time": "2022-04-25T13:38:33.241Z"
   },
   {
    "duration": 13,
    "start_time": "2022-04-25T13:38:33.381Z"
   },
   {
    "duration": 10,
    "start_time": "2022-04-25T13:38:33.396Z"
   },
   {
    "duration": 10,
    "start_time": "2022-04-25T13:38:33.408Z"
   },
   {
    "duration": 36,
    "start_time": "2022-04-25T13:38:33.420Z"
   },
   {
    "duration": 15,
    "start_time": "2022-04-25T13:38:33.458Z"
   },
   {
    "duration": 91,
    "start_time": "2022-04-25T13:38:33.474Z"
   },
   {
    "duration": 3,
    "start_time": "2022-04-25T13:38:33.567Z"
   },
   {
    "duration": 93,
    "start_time": "2022-04-25T13:38:33.572Z"
   },
   {
    "duration": 52,
    "start_time": "2022-04-25T13:38:33.666Z"
   },
   {
    "duration": 76,
    "start_time": "2022-04-25T13:38:33.720Z"
   },
   {
    "duration": 17,
    "start_time": "2022-04-25T13:38:33.800Z"
   },
   {
    "duration": 45,
    "start_time": "2022-04-25T13:38:33.819Z"
   },
   {
    "duration": 19,
    "start_time": "2022-04-25T13:38:33.866Z"
   },
   {
    "duration": 4,
    "start_time": "2022-04-25T13:38:33.886Z"
   },
   {
    "duration": 164,
    "start_time": "2022-04-25T13:38:33.891Z"
   },
   {
    "duration": 5,
    "start_time": "2022-04-25T13:38:34.058Z"
   },
   {
    "duration": 7,
    "start_time": "2022-04-25T13:38:34.064Z"
   },
   {
    "duration": 14,
    "start_time": "2022-04-25T13:38:34.073Z"
   },
   {
    "duration": 15,
    "start_time": "2022-04-25T13:38:34.089Z"
   },
   {
    "duration": 3,
    "start_time": "2022-04-25T13:38:34.106Z"
   },
   {
    "duration": 55,
    "start_time": "2022-04-25T13:38:34.111Z"
   },
   {
    "duration": 13,
    "start_time": "2022-04-25T13:38:34.168Z"
   },
   {
    "duration": 11,
    "start_time": "2022-04-25T13:38:34.182Z"
   },
   {
    "duration": 7,
    "start_time": "2022-04-25T13:38:34.195Z"
   },
   {
    "duration": 266,
    "start_time": "2022-04-25T13:38:34.203Z"
   },
   {
    "duration": 5,
    "start_time": "2022-04-25T13:38:34.470Z"
   },
   {
    "duration": 14,
    "start_time": "2022-04-25T13:38:34.477Z"
   },
   {
    "duration": 10,
    "start_time": "2022-04-25T13:38:34.493Z"
   },
   {
    "duration": 11,
    "start_time": "2022-04-25T13:38:34.505Z"
   },
   {
    "duration": 252,
    "start_time": "2022-04-25T13:38:34.518Z"
   },
   {
    "duration": 5,
    "start_time": "2022-04-25T13:38:34.771Z"
   },
   {
    "duration": 15,
    "start_time": "2022-04-25T13:38:34.777Z"
   },
   {
    "duration": 12,
    "start_time": "2022-04-25T13:38:34.794Z"
   },
   {
    "duration": 8,
    "start_time": "2022-04-25T13:38:34.807Z"
   },
   {
    "duration": 247,
    "start_time": "2022-04-25T13:38:34.816Z"
   },
   {
    "duration": 5,
    "start_time": "2022-04-25T13:38:35.064Z"
   },
   {
    "duration": 34,
    "start_time": "2022-04-25T13:38:35.071Z"
   },
   {
    "duration": 25,
    "start_time": "2022-04-25T13:38:35.107Z"
   },
   {
    "duration": 13,
    "start_time": "2022-04-25T13:38:35.134Z"
   },
   {
    "duration": 7,
    "start_time": "2022-04-25T13:38:35.149Z"
   },
   {
    "duration": 17,
    "start_time": "2022-04-25T13:38:35.158Z"
   },
   {
    "duration": 18,
    "start_time": "2022-04-25T13:38:35.177Z"
   },
   {
    "duration": 130,
    "start_time": "2022-04-25T13:44:45.940Z"
   },
   {
    "duration": 21,
    "start_time": "2022-04-25T13:45:51.566Z"
   },
   {
    "duration": 138,
    "start_time": "2022-04-25T13:49:26.942Z"
   },
   {
    "duration": 1262,
    "start_time": "2022-04-25T13:54:13.475Z"
   },
   {
    "duration": 966,
    "start_time": "2022-04-25T13:54:14.740Z"
   },
   {
    "duration": 14,
    "start_time": "2022-04-25T13:54:15.708Z"
   },
   {
    "duration": 18,
    "start_time": "2022-04-25T13:54:15.726Z"
   },
   {
    "duration": 49,
    "start_time": "2022-04-25T13:54:15.746Z"
   },
   {
    "duration": 10,
    "start_time": "2022-04-25T13:54:15.799Z"
   },
   {
    "duration": 66,
    "start_time": "2022-04-25T13:54:15.810Z"
   },
   {
    "duration": 40,
    "start_time": "2022-04-25T13:54:15.878Z"
   },
   {
    "duration": 487,
    "start_time": "2022-04-25T13:54:15.921Z"
   },
   {
    "duration": 216,
    "start_time": "2022-04-25T13:54:16.412Z"
   },
   {
    "duration": 43,
    "start_time": "2022-04-25T13:54:16.631Z"
   },
   {
    "duration": 8,
    "start_time": "2022-04-25T13:54:16.677Z"
   },
   {
    "duration": 349,
    "start_time": "2022-04-25T13:54:16.687Z"
   },
   {
    "duration": 87,
    "start_time": "2022-04-25T13:54:17.039Z"
   },
   {
    "duration": 48,
    "start_time": "2022-04-25T13:54:17.129Z"
   },
   {
    "duration": 303,
    "start_time": "2022-04-25T13:54:17.179Z"
   },
   {
    "duration": 115,
    "start_time": "2022-04-25T13:54:17.484Z"
   },
   {
    "duration": 15,
    "start_time": "2022-04-25T13:54:17.602Z"
   },
   {
    "duration": 21,
    "start_time": "2022-04-25T13:54:17.620Z"
   },
   {
    "duration": 14,
    "start_time": "2022-04-25T13:54:17.656Z"
   },
   {
    "duration": 18,
    "start_time": "2022-04-25T13:54:17.672Z"
   },
   {
    "duration": 16,
    "start_time": "2022-04-25T13:54:17.692Z"
   },
   {
    "duration": 120,
    "start_time": "2022-04-25T13:54:17.711Z"
   },
   {
    "duration": 5,
    "start_time": "2022-04-25T13:54:17.833Z"
   },
   {
    "duration": 97,
    "start_time": "2022-04-25T13:54:17.840Z"
   },
   {
    "duration": 58,
    "start_time": "2022-04-25T13:54:17.939Z"
   },
   {
    "duration": 83,
    "start_time": "2022-04-25T13:54:17.999Z"
   },
   {
    "duration": 22,
    "start_time": "2022-04-25T13:54:18.087Z"
   },
   {
    "duration": 87,
    "start_time": "2022-04-25T13:54:18.111Z"
   },
   {
    "duration": 23,
    "start_time": "2022-04-25T13:54:18.200Z"
   },
   {
    "duration": 5,
    "start_time": "2022-04-25T13:54:18.224Z"
   },
   {
    "duration": 136,
    "start_time": "2022-04-25T13:54:18.232Z"
   },
   {
    "duration": 4,
    "start_time": "2022-04-25T13:54:18.370Z"
   },
   {
    "duration": 8,
    "start_time": "2022-04-25T13:54:18.376Z"
   },
   {
    "duration": 19,
    "start_time": "2022-04-25T13:54:18.387Z"
   },
   {
    "duration": 14,
    "start_time": "2022-04-25T13:54:18.409Z"
   },
   {
    "duration": 30,
    "start_time": "2022-04-25T13:54:18.425Z"
   },
   {
    "duration": 22,
    "start_time": "2022-04-25T13:54:18.457Z"
   },
   {
    "duration": 17,
    "start_time": "2022-04-25T13:54:18.481Z"
   },
   {
    "duration": 9,
    "start_time": "2022-04-25T13:54:18.500Z"
   },
   {
    "duration": 10,
    "start_time": "2022-04-25T13:54:18.511Z"
   },
   {
    "duration": 267,
    "start_time": "2022-04-25T13:54:18.571Z"
   },
   {
    "duration": 6,
    "start_time": "2022-04-25T13:54:18.840Z"
   },
   {
    "duration": 12,
    "start_time": "2022-04-25T13:54:18.855Z"
   },
   {
    "duration": 15,
    "start_time": "2022-04-25T13:54:18.869Z"
   },
   {
    "duration": 9,
    "start_time": "2022-04-25T13:54:18.886Z"
   },
   {
    "duration": 252,
    "start_time": "2022-04-25T13:54:18.897Z"
   },
   {
    "duration": 5,
    "start_time": "2022-04-25T13:54:19.154Z"
   },
   {
    "duration": 14,
    "start_time": "2022-04-25T13:54:19.160Z"
   },
   {
    "duration": 16,
    "start_time": "2022-04-25T13:54:19.176Z"
   },
   {
    "duration": 10,
    "start_time": "2022-04-25T13:54:19.194Z"
   },
   {
    "duration": 257,
    "start_time": "2022-04-25T13:54:19.206Z"
   },
   {
    "duration": 5,
    "start_time": "2022-04-25T13:54:19.465Z"
   },
   {
    "duration": 17,
    "start_time": "2022-04-25T13:54:19.472Z"
   },
   {
    "duration": 17,
    "start_time": "2022-04-25T13:54:19.491Z"
   },
   {
    "duration": 13,
    "start_time": "2022-04-25T13:54:19.510Z"
   },
   {
    "duration": 30,
    "start_time": "2022-04-25T13:54:19.525Z"
   },
   {
    "duration": 17,
    "start_time": "2022-04-25T13:54:19.557Z"
   },
   {
    "duration": 64,
    "start_time": "2022-04-25T13:54:19.576Z"
   },
   {
    "duration": 1220,
    "start_time": "2022-04-27T15:36:07.464Z"
   },
   {
    "duration": 487,
    "start_time": "2022-04-27T15:36:08.686Z"
   },
   {
    "duration": 12,
    "start_time": "2022-04-27T15:36:09.175Z"
   },
   {
    "duration": 24,
    "start_time": "2022-04-27T15:36:09.190Z"
   },
   {
    "duration": 32,
    "start_time": "2022-04-27T15:36:09.216Z"
   },
   {
    "duration": 7,
    "start_time": "2022-04-27T15:36:09.250Z"
   },
   {
    "duration": 35,
    "start_time": "2022-04-27T15:36:09.258Z"
   },
   {
    "duration": 19,
    "start_time": "2022-04-27T15:36:09.295Z"
   },
   {
    "duration": 238,
    "start_time": "2022-04-27T15:36:09.323Z"
   },
   {
    "duration": 123,
    "start_time": "2022-04-27T15:36:09.565Z"
   },
   {
    "duration": 16,
    "start_time": "2022-04-27T15:36:09.689Z"
   },
   {
    "duration": 18,
    "start_time": "2022-04-27T15:36:09.707Z"
   },
   {
    "duration": 130,
    "start_time": "2022-04-27T15:36:09.726Z"
   },
   {
    "duration": 54,
    "start_time": "2022-04-27T15:36:09.857Z"
   },
   {
    "duration": 25,
    "start_time": "2022-04-27T15:36:09.923Z"
   },
   {
    "duration": 145,
    "start_time": "2022-04-27T15:36:09.950Z"
   },
   {
    "duration": 66,
    "start_time": "2022-04-27T15:36:10.097Z"
   },
   {
    "duration": 13,
    "start_time": "2022-04-27T15:36:10.164Z"
   },
   {
    "duration": 20,
    "start_time": "2022-04-27T15:36:10.179Z"
   },
   {
    "duration": 32,
    "start_time": "2022-04-27T15:36:10.201Z"
   },
   {
    "duration": 30,
    "start_time": "2022-04-27T15:36:10.236Z"
   },
   {
    "duration": 25,
    "start_time": "2022-04-27T15:36:10.268Z"
   },
   {
    "duration": 80,
    "start_time": "2022-04-27T15:36:10.295Z"
   },
   {
    "duration": 3,
    "start_time": "2022-04-27T15:36:10.377Z"
   },
   {
    "duration": 98,
    "start_time": "2022-04-27T15:36:10.381Z"
   },
   {
    "duration": 54,
    "start_time": "2022-04-27T15:36:10.480Z"
   },
   {
    "duration": 55,
    "start_time": "2022-04-27T15:36:10.536Z"
   },
   {
    "duration": 34,
    "start_time": "2022-04-27T15:36:10.595Z"
   },
   {
    "duration": 23,
    "start_time": "2022-04-27T15:36:10.631Z"
   },
   {
    "duration": 19,
    "start_time": "2022-04-27T15:36:10.656Z"
   },
   {
    "duration": 12,
    "start_time": "2022-04-27T15:36:10.676Z"
   },
   {
    "duration": 116,
    "start_time": "2022-04-27T15:36:10.689Z"
   },
   {
    "duration": 4,
    "start_time": "2022-04-27T15:36:10.806Z"
   },
   {
    "duration": 18,
    "start_time": "2022-04-27T15:36:10.811Z"
   },
   {
    "duration": 23,
    "start_time": "2022-04-27T15:36:10.830Z"
   },
   {
    "duration": 16,
    "start_time": "2022-04-27T15:36:10.855Z"
   },
   {
    "duration": 7,
    "start_time": "2022-04-27T15:36:10.873Z"
   },
   {
    "duration": 45,
    "start_time": "2022-04-27T15:36:10.881Z"
   },
   {
    "duration": 13,
    "start_time": "2022-04-27T15:36:10.928Z"
   },
   {
    "duration": 20,
    "start_time": "2022-04-27T15:36:10.943Z"
   },
   {
    "duration": 17,
    "start_time": "2022-04-27T15:36:10.965Z"
   },
   {
    "duration": 287,
    "start_time": "2022-04-27T15:36:10.984Z"
   },
   {
    "duration": 5,
    "start_time": "2022-04-27T15:36:11.272Z"
   },
   {
    "duration": 27,
    "start_time": "2022-04-27T15:36:11.279Z"
   },
   {
    "duration": 7,
    "start_time": "2022-04-27T15:36:11.308Z"
   },
   {
    "duration": 16,
    "start_time": "2022-04-27T15:36:11.317Z"
   },
   {
    "duration": 248,
    "start_time": "2022-04-27T15:36:11.335Z"
   },
   {
    "duration": 5,
    "start_time": "2022-04-27T15:36:11.584Z"
   },
   {
    "duration": 19,
    "start_time": "2022-04-27T15:36:11.590Z"
   },
   {
    "duration": 28,
    "start_time": "2022-04-27T15:36:11.611Z"
   },
   {
    "duration": 17,
    "start_time": "2022-04-27T15:36:11.641Z"
   },
   {
    "duration": 241,
    "start_time": "2022-04-27T15:36:11.660Z"
   },
   {
    "duration": 4,
    "start_time": "2022-04-27T15:36:11.904Z"
   },
   {
    "duration": 32,
    "start_time": "2022-04-27T15:36:11.910Z"
   },
   {
    "duration": 21,
    "start_time": "2022-04-27T15:36:11.944Z"
   },
   {
    "duration": 21,
    "start_time": "2022-04-27T15:36:11.967Z"
   },
   {
    "duration": 15,
    "start_time": "2022-04-27T15:36:11.990Z"
   },
   {
    "duration": 31,
    "start_time": "2022-04-27T15:36:12.007Z"
   },
   {
    "duration": 28,
    "start_time": "2022-04-27T15:36:12.040Z"
   },
   {
    "duration": 132,
    "start_time": "2022-04-27T15:42:10.201Z"
   },
   {
    "duration": 13,
    "start_time": "2022-04-27T15:44:24.194Z"
   },
   {
    "duration": 162,
    "start_time": "2022-04-27T15:45:20.618Z"
   },
   {
    "duration": 304,
    "start_time": "2022-04-27T16:25:36.706Z"
   },
   {
    "duration": 1251,
    "start_time": "2022-04-27T16:26:48.616Z"
   },
   {
    "duration": 614,
    "start_time": "2022-04-27T16:26:49.870Z"
   },
   {
    "duration": 16,
    "start_time": "2022-04-27T16:26:50.487Z"
   },
   {
    "duration": 24,
    "start_time": "2022-04-27T16:26:50.506Z"
   },
   {
    "duration": 46,
    "start_time": "2022-04-27T16:26:50.532Z"
   },
   {
    "duration": 8,
    "start_time": "2022-04-27T16:26:50.580Z"
   },
   {
    "duration": 42,
    "start_time": "2022-04-27T16:26:50.590Z"
   },
   {
    "duration": 19,
    "start_time": "2022-04-27T16:26:50.634Z"
   },
   {
    "duration": 270,
    "start_time": "2022-04-27T16:26:50.654Z"
   },
   {
    "duration": 130,
    "start_time": "2022-04-27T16:26:50.928Z"
   },
   {
    "duration": 18,
    "start_time": "2022-04-27T16:26:51.060Z"
   },
   {
    "duration": 7,
    "start_time": "2022-04-27T16:26:51.080Z"
   },
   {
    "duration": 135,
    "start_time": "2022-04-27T16:26:51.089Z"
   },
   {
    "duration": 52,
    "start_time": "2022-04-27T16:26:51.226Z"
   },
   {
    "duration": 19,
    "start_time": "2022-04-27T16:26:51.280Z"
   },
   {
    "duration": 154,
    "start_time": "2022-04-27T16:26:51.301Z"
   },
   {
    "duration": 51,
    "start_time": "2022-04-27T16:26:51.457Z"
   },
   {
    "duration": 24,
    "start_time": "2022-04-27T16:26:51.510Z"
   },
   {
    "duration": 9,
    "start_time": "2022-04-27T16:26:51.535Z"
   },
   {
    "duration": 10,
    "start_time": "2022-04-27T16:26:51.546Z"
   },
   {
    "duration": 10,
    "start_time": "2022-04-27T16:26:51.557Z"
   },
   {
    "duration": 7,
    "start_time": "2022-04-27T16:26:51.569Z"
   },
   {
    "duration": 99,
    "start_time": "2022-04-27T16:26:51.577Z"
   },
   {
    "duration": 3,
    "start_time": "2022-04-27T16:26:51.678Z"
   },
   {
    "duration": 89,
    "start_time": "2022-04-27T16:26:51.683Z"
   },
   {
    "duration": 59,
    "start_time": "2022-04-27T16:26:51.773Z"
   },
   {
    "duration": 75,
    "start_time": "2022-04-27T16:26:51.833Z"
   },
   {
    "duration": 22,
    "start_time": "2022-04-27T16:26:51.923Z"
   },
   {
    "duration": 29,
    "start_time": "2022-04-27T16:26:51.947Z"
   },
   {
    "duration": 48,
    "start_time": "2022-04-27T16:26:51.977Z"
   },
   {
    "duration": 5,
    "start_time": "2022-04-27T16:26:52.027Z"
   },
   {
    "duration": 99,
    "start_time": "2022-04-27T16:26:52.033Z"
   },
   {
    "duration": 5,
    "start_time": "2022-04-27T16:26:52.134Z"
   },
   {
    "duration": 6,
    "start_time": "2022-04-27T16:26:52.141Z"
   },
   {
    "duration": 14,
    "start_time": "2022-04-27T16:26:52.149Z"
   },
   {
    "duration": 16,
    "start_time": "2022-04-27T16:26:52.165Z"
   },
   {
    "duration": 3,
    "start_time": "2022-04-27T16:26:52.183Z"
   },
   {
    "duration": 23,
    "start_time": "2022-04-27T16:26:52.224Z"
   },
   {
    "duration": 12,
    "start_time": "2022-04-27T16:26:52.249Z"
   },
   {
    "duration": 9,
    "start_time": "2022-04-27T16:26:52.262Z"
   },
   {
    "duration": 6,
    "start_time": "2022-04-27T16:26:52.272Z"
   },
   {
    "duration": 288,
    "start_time": "2022-04-27T16:26:52.280Z"
   },
   {
    "duration": 5,
    "start_time": "2022-04-27T16:26:52.570Z"
   },
   {
    "duration": 13,
    "start_time": "2022-04-27T16:26:52.577Z"
   },
   {
    "duration": 8,
    "start_time": "2022-04-27T16:26:52.592Z"
   },
   {
    "duration": 26,
    "start_time": "2022-04-27T16:26:52.601Z"
   },
   {
    "duration": 252,
    "start_time": "2022-04-27T16:26:52.629Z"
   },
   {
    "duration": 5,
    "start_time": "2022-04-27T16:26:52.883Z"
   },
   {
    "duration": 14,
    "start_time": "2022-04-27T16:26:52.889Z"
   },
   {
    "duration": 25,
    "start_time": "2022-04-27T16:26:52.904Z"
   },
   {
    "duration": 9,
    "start_time": "2022-04-27T16:26:52.930Z"
   },
   {
    "duration": 259,
    "start_time": "2022-04-27T16:26:52.941Z"
   },
   {
    "duration": 5,
    "start_time": "2022-04-27T16:26:53.202Z"
   },
   {
    "duration": 26,
    "start_time": "2022-04-27T16:26:53.209Z"
   },
   {
    "duration": 13,
    "start_time": "2022-04-27T16:26:53.238Z"
   },
   {
    "duration": 12,
    "start_time": "2022-04-27T16:26:53.253Z"
   },
   {
    "duration": 8,
    "start_time": "2022-04-27T16:26:53.267Z"
   },
   {
    "duration": 17,
    "start_time": "2022-04-27T16:26:53.277Z"
   },
   {
    "duration": 33,
    "start_time": "2022-04-27T16:26:53.295Z"
   },
   {
    "duration": 164,
    "start_time": "2022-04-27T16:27:22.564Z"
   },
   {
    "duration": 13,
    "start_time": "2022-04-27T16:28:02.294Z"
   },
   {
    "duration": 13,
    "start_time": "2022-04-27T16:28:25.342Z"
   },
   {
    "duration": 13,
    "start_time": "2022-04-27T16:29:18.790Z"
   },
   {
    "duration": 4,
    "start_time": "2022-04-27T16:34:48.413Z"
   },
   {
    "duration": 6,
    "start_time": "2022-04-27T16:43:34.275Z"
   },
   {
    "duration": 146,
    "start_time": "2022-04-27T16:44:01.063Z"
   },
   {
    "duration": 7,
    "start_time": "2022-04-27T16:44:11.652Z"
   },
   {
    "duration": 5,
    "start_time": "2022-04-27T16:53:40.833Z"
   },
   {
    "duration": 96,
    "start_time": "2022-04-27T16:53:48.885Z"
   },
   {
    "duration": 225,
    "start_time": "2022-04-27T17:00:53.626Z"
   },
   {
    "duration": 8,
    "start_time": "2022-04-27T17:01:26.836Z"
   },
   {
    "duration": 45,
    "start_time": "2022-04-28T07:31:06.666Z"
   },
   {
    "duration": 1783,
    "start_time": "2022-04-28T07:31:19.775Z"
   },
   {
    "duration": 724,
    "start_time": "2022-04-28T07:31:21.561Z"
   },
   {
    "duration": 16,
    "start_time": "2022-04-28T07:31:22.287Z"
   },
   {
    "duration": 18,
    "start_time": "2022-04-28T07:31:22.305Z"
   },
   {
    "duration": 27,
    "start_time": "2022-04-28T07:31:22.325Z"
   },
   {
    "duration": 7,
    "start_time": "2022-04-28T07:31:22.353Z"
   },
   {
    "duration": 43,
    "start_time": "2022-04-28T07:31:22.362Z"
   },
   {
    "duration": 21,
    "start_time": "2022-04-28T07:31:22.407Z"
   },
   {
    "duration": 420,
    "start_time": "2022-04-28T07:31:22.430Z"
   },
   {
    "duration": 185,
    "start_time": "2022-04-28T07:31:22.854Z"
   },
   {
    "duration": 18,
    "start_time": "2022-04-28T07:31:23.040Z"
   },
   {
    "duration": 7,
    "start_time": "2022-04-28T07:31:23.060Z"
   },
   {
    "duration": 180,
    "start_time": "2022-04-28T07:31:23.069Z"
   },
   {
    "duration": 56,
    "start_time": "2022-04-28T07:31:23.250Z"
   },
   {
    "duration": 26,
    "start_time": "2022-04-28T07:31:23.308Z"
   },
   {
    "duration": 265,
    "start_time": "2022-04-28T07:31:23.336Z"
   },
   {
    "duration": 105,
    "start_time": "2022-04-28T07:31:23.603Z"
   },
   {
    "duration": 17,
    "start_time": "2022-04-28T07:31:23.710Z"
   },
   {
    "duration": 14,
    "start_time": "2022-04-28T07:31:23.729Z"
   },
   {
    "duration": 13,
    "start_time": "2022-04-28T07:31:23.745Z"
   },
   {
    "duration": 10,
    "start_time": "2022-04-28T07:31:23.760Z"
   },
   {
    "duration": 183,
    "start_time": "2022-04-28T07:31:23.771Z"
   },
   {
    "duration": 10,
    "start_time": "2022-04-28T07:31:23.956Z"
   },
   {
    "duration": 8,
    "start_time": "2022-04-28T07:31:23.967Z"
   },
   {
    "duration": 93,
    "start_time": "2022-04-28T07:31:23.976Z"
   },
   {
    "duration": 3,
    "start_time": "2022-04-28T07:31:24.071Z"
   },
   {
    "duration": 87,
    "start_time": "2022-04-28T07:31:24.077Z"
   },
   {
    "duration": 57,
    "start_time": "2022-04-28T07:31:24.169Z"
   },
   {
    "duration": 56,
    "start_time": "2022-04-28T07:31:24.227Z"
   },
   {
    "duration": 20,
    "start_time": "2022-04-28T07:31:24.301Z"
   },
   {
    "duration": 29,
    "start_time": "2022-04-28T07:31:24.323Z"
   },
   {
    "duration": 22,
    "start_time": "2022-04-28T07:31:24.354Z"
   },
   {
    "duration": 36,
    "start_time": "2022-04-28T07:31:24.378Z"
   },
   {
    "duration": 7,
    "start_time": "2022-04-28T07:31:24.416Z"
   },
   {
    "duration": 102,
    "start_time": "2022-04-28T07:31:24.425Z"
   },
   {
    "duration": 5,
    "start_time": "2022-04-28T07:31:24.529Z"
   },
   {
    "duration": 8,
    "start_time": "2022-04-28T07:31:24.536Z"
   },
   {
    "duration": 15,
    "start_time": "2022-04-28T07:31:24.545Z"
   },
   {
    "duration": 42,
    "start_time": "2022-04-28T07:31:24.561Z"
   },
   {
    "duration": 3,
    "start_time": "2022-04-28T07:31:24.605Z"
   },
   {
    "duration": 34,
    "start_time": "2022-04-28T07:31:24.610Z"
   },
   {
    "duration": 16,
    "start_time": "2022-04-28T07:31:24.646Z"
   },
   {
    "duration": 9,
    "start_time": "2022-04-28T07:31:24.664Z"
   },
   {
    "duration": 34,
    "start_time": "2022-04-28T07:31:24.674Z"
   },
   {
    "duration": 249,
    "start_time": "2022-04-28T07:31:24.710Z"
   },
   {
    "duration": 5,
    "start_time": "2022-04-28T07:31:24.961Z"
   },
   {
    "duration": 17,
    "start_time": "2022-04-28T07:31:24.969Z"
   },
   {
    "duration": 9,
    "start_time": "2022-04-28T07:31:25.001Z"
   },
   {
    "duration": 11,
    "start_time": "2022-04-28T07:31:25.012Z"
   },
   {
    "duration": 246,
    "start_time": "2022-04-28T07:31:25.024Z"
   },
   {
    "duration": 5,
    "start_time": "2022-04-28T07:31:25.272Z"
   },
   {
    "duration": 26,
    "start_time": "2022-04-28T07:31:25.278Z"
   },
   {
    "duration": 24,
    "start_time": "2022-04-28T07:31:25.306Z"
   },
   {
    "duration": 10,
    "start_time": "2022-04-28T07:31:25.332Z"
   },
   {
    "duration": 310,
    "start_time": "2022-04-28T07:31:25.344Z"
   },
   {
    "duration": 5,
    "start_time": "2022-04-28T07:31:25.656Z"
   },
   {
    "duration": 12,
    "start_time": "2022-04-28T07:31:25.663Z"
   },
   {
    "duration": 35,
    "start_time": "2022-04-28T07:31:25.677Z"
   },
   {
    "duration": 14,
    "start_time": "2022-04-28T07:31:25.713Z"
   },
   {
    "duration": 19,
    "start_time": "2022-04-28T07:31:25.729Z"
   },
   {
    "duration": 19,
    "start_time": "2022-04-28T07:31:25.750Z"
   },
   {
    "duration": 18,
    "start_time": "2022-04-28T07:31:25.771Z"
   },
   {
    "duration": 12,
    "start_time": "2022-04-28T07:33:05.573Z"
   },
   {
    "duration": 275,
    "start_time": "2022-04-28T07:47:08.280Z"
   },
   {
    "duration": 7,
    "start_time": "2022-04-28T07:47:22.336Z"
   },
   {
    "duration": 7,
    "start_time": "2022-04-28T07:47:30.613Z"
   },
   {
    "duration": 5,
    "start_time": "2022-04-28T07:52:20.362Z"
   },
   {
    "duration": 23,
    "start_time": "2022-04-28T07:57:13.691Z"
   },
   {
    "duration": 12,
    "start_time": "2022-04-28T07:58:55.237Z"
   },
   {
    "duration": 19,
    "start_time": "2022-04-28T07:59:45.997Z"
   },
   {
    "duration": 15,
    "start_time": "2022-04-28T07:59:51.563Z"
   },
   {
    "duration": 22,
    "start_time": "2022-04-28T08:00:21.602Z"
   },
   {
    "duration": 30,
    "start_time": "2022-04-28T08:00:43.679Z"
   },
   {
    "duration": 1096,
    "start_time": "2022-04-28T08:00:58.142Z"
   },
   {
    "duration": 510,
    "start_time": "2022-04-28T08:00:59.240Z"
   },
   {
    "duration": 11,
    "start_time": "2022-04-28T08:00:59.752Z"
   },
   {
    "duration": 14,
    "start_time": "2022-04-28T08:00:59.765Z"
   },
   {
    "duration": 28,
    "start_time": "2022-04-28T08:00:59.780Z"
   },
   {
    "duration": 9,
    "start_time": "2022-04-28T08:00:59.809Z"
   },
   {
    "duration": 27,
    "start_time": "2022-04-28T08:00:59.819Z"
   },
   {
    "duration": 22,
    "start_time": "2022-04-28T08:00:59.848Z"
   },
   {
    "duration": 247,
    "start_time": "2022-04-28T08:00:59.871Z"
   },
   {
    "duration": 121,
    "start_time": "2022-04-28T08:01:00.121Z"
   },
   {
    "duration": 18,
    "start_time": "2022-04-28T08:01:00.244Z"
   },
   {
    "duration": 24,
    "start_time": "2022-04-28T08:01:00.264Z"
   },
   {
    "duration": 114,
    "start_time": "2022-04-28T08:01:00.290Z"
   },
   {
    "duration": 56,
    "start_time": "2022-04-28T08:01:00.406Z"
   },
   {
    "duration": 43,
    "start_time": "2022-04-28T08:01:00.464Z"
   },
   {
    "duration": 142,
    "start_time": "2022-04-28T08:01:00.509Z"
   },
   {
    "duration": 70,
    "start_time": "2022-04-28T08:01:00.652Z"
   },
   {
    "duration": 11,
    "start_time": "2022-04-28T08:01:00.723Z"
   },
   {
    "duration": 28,
    "start_time": "2022-04-28T08:01:00.735Z"
   },
   {
    "duration": 13,
    "start_time": "2022-04-28T08:01:00.765Z"
   },
   {
    "duration": 19,
    "start_time": "2022-04-28T08:01:00.779Z"
   },
   {
    "duration": 204,
    "start_time": "2022-04-28T08:01:00.800Z"
   },
   {
    "duration": 10,
    "start_time": "2022-04-28T08:01:01.006Z"
   },
   {
    "duration": 53,
    "start_time": "2022-04-28T08:01:01.017Z"
   },
   {
    "duration": 99,
    "start_time": "2022-04-28T08:01:01.072Z"
   },
   {
    "duration": 3,
    "start_time": "2022-04-28T08:01:01.173Z"
   },
   {
    "duration": 131,
    "start_time": "2022-04-28T08:01:01.177Z"
   },
   {
    "duration": 46,
    "start_time": "2022-04-28T08:01:01.312Z"
   },
   {
    "duration": 64,
    "start_time": "2022-04-28T08:01:01.360Z"
   },
   {
    "duration": 17,
    "start_time": "2022-04-28T08:01:01.425Z"
   },
   {
    "duration": 51,
    "start_time": "2022-04-28T08:01:01.443Z"
   },
   {
    "duration": 13,
    "start_time": "2022-04-28T08:01:01.496Z"
   },
   {
    "duration": 50,
    "start_time": "2022-04-28T08:01:01.511Z"
   },
   {
    "duration": 26,
    "start_time": "2022-04-28T08:01:01.563Z"
   },
   {
    "duration": 126,
    "start_time": "2022-04-28T08:01:01.590Z"
   },
   {
    "duration": 4,
    "start_time": "2022-04-28T08:01:01.718Z"
   },
   {
    "duration": 40,
    "start_time": "2022-04-28T08:01:01.723Z"
   },
   {
    "duration": 49,
    "start_time": "2022-04-28T08:01:01.765Z"
   },
   {
    "duration": 28,
    "start_time": "2022-04-28T08:01:01.816Z"
   },
   {
    "duration": 73,
    "start_time": "2022-04-28T08:01:01.846Z"
   },
   {
    "duration": 63,
    "start_time": "2022-04-28T08:01:01.921Z"
   },
   {
    "duration": 21,
    "start_time": "2022-04-28T08:01:01.985Z"
   },
   {
    "duration": 41,
    "start_time": "2022-04-28T08:01:02.010Z"
   },
   {
    "duration": 66,
    "start_time": "2022-04-28T08:01:02.053Z"
   },
   {
    "duration": 247,
    "start_time": "2022-04-28T08:01:02.121Z"
   },
   {
    "duration": 4,
    "start_time": "2022-04-28T08:01:02.369Z"
   },
   {
    "duration": 11,
    "start_time": "2022-04-28T08:01:02.375Z"
   },
   {
    "duration": 35,
    "start_time": "2022-04-28T08:01:02.387Z"
   },
   {
    "duration": 6,
    "start_time": "2022-04-28T08:01:02.424Z"
   },
   {
    "duration": 226,
    "start_time": "2022-04-28T08:01:02.432Z"
   },
   {
    "duration": 5,
    "start_time": "2022-04-28T08:01:02.660Z"
   },
   {
    "duration": 13,
    "start_time": "2022-04-28T08:01:02.666Z"
   },
   {
    "duration": 25,
    "start_time": "2022-04-28T08:01:02.680Z"
   },
   {
    "duration": 6,
    "start_time": "2022-04-28T08:01:02.707Z"
   },
   {
    "duration": 287,
    "start_time": "2022-04-28T08:01:02.715Z"
   },
   {
    "duration": 11,
    "start_time": "2022-04-28T08:01:03.005Z"
   },
   {
    "duration": 29,
    "start_time": "2022-04-28T08:01:03.017Z"
   },
   {
    "duration": 33,
    "start_time": "2022-04-28T08:01:03.048Z"
   },
   {
    "duration": 35,
    "start_time": "2022-04-28T08:01:03.082Z"
   },
   {
    "duration": 5,
    "start_time": "2022-04-28T08:01:03.119Z"
   },
   {
    "duration": 17,
    "start_time": "2022-04-28T08:01:03.126Z"
   },
   {
    "duration": 40,
    "start_time": "2022-04-28T08:01:03.144Z"
   },
   {
    "duration": 9,
    "start_time": "2022-04-28T08:07:36.144Z"
   },
   {
    "duration": 1152,
    "start_time": "2022-04-28T08:10:14.331Z"
   },
   {
    "duration": 520,
    "start_time": "2022-04-28T08:10:15.485Z"
   },
   {
    "duration": 13,
    "start_time": "2022-04-28T08:10:16.007Z"
   },
   {
    "duration": 19,
    "start_time": "2022-04-28T08:10:16.022Z"
   },
   {
    "duration": 27,
    "start_time": "2022-04-28T08:10:16.043Z"
   },
   {
    "duration": 8,
    "start_time": "2022-04-28T08:10:16.072Z"
   },
   {
    "duration": 35,
    "start_time": "2022-04-28T08:10:16.100Z"
   },
   {
    "duration": 22,
    "start_time": "2022-04-28T08:10:16.137Z"
   },
   {
    "duration": 258,
    "start_time": "2022-04-28T08:10:16.161Z"
   },
   {
    "duration": 118,
    "start_time": "2022-04-28T08:10:16.422Z"
   },
   {
    "duration": 16,
    "start_time": "2022-04-28T08:10:16.542Z"
   },
   {
    "duration": 11,
    "start_time": "2022-04-28T08:10:16.560Z"
   },
   {
    "duration": 125,
    "start_time": "2022-04-28T08:10:16.572Z"
   },
   {
    "duration": 53,
    "start_time": "2022-04-28T08:10:16.699Z"
   },
   {
    "duration": 19,
    "start_time": "2022-04-28T08:10:16.754Z"
   },
   {
    "duration": 161,
    "start_time": "2022-04-28T08:10:16.775Z"
   },
   {
    "duration": 65,
    "start_time": "2022-04-28T08:10:16.938Z"
   },
   {
    "duration": 13,
    "start_time": "2022-04-28T08:10:17.010Z"
   },
   {
    "duration": 10,
    "start_time": "2022-04-28T08:10:17.025Z"
   },
   {
    "duration": 11,
    "start_time": "2022-04-28T08:10:17.036Z"
   },
   {
    "duration": 9,
    "start_time": "2022-04-28T08:10:17.049Z"
   },
   {
    "duration": 173,
    "start_time": "2022-04-28T08:10:17.060Z"
   },
   {
    "duration": 8,
    "start_time": "2022-04-28T08:10:17.235Z"
   },
   {
    "duration": 5,
    "start_time": "2022-04-28T08:10:17.244Z"
   },
   {
    "duration": 98,
    "start_time": "2022-04-28T08:10:17.250Z"
   },
   {
    "duration": 3,
    "start_time": "2022-04-28T08:10:17.350Z"
   },
   {
    "duration": 84,
    "start_time": "2022-04-28T08:10:17.354Z"
   },
   {
    "duration": 45,
    "start_time": "2022-04-28T08:10:17.441Z"
   },
   {
    "duration": 64,
    "start_time": "2022-04-28T08:10:17.488Z"
   },
   {
    "duration": 18,
    "start_time": "2022-04-28T08:10:17.554Z"
   },
   {
    "duration": 42,
    "start_time": "2022-04-28T08:10:17.574Z"
   },
   {
    "duration": 13,
    "start_time": "2022-04-28T08:10:17.617Z"
   },
   {
    "duration": 19,
    "start_time": "2022-04-28T08:10:17.632Z"
   },
   {
    "duration": 4,
    "start_time": "2022-04-28T08:10:17.653Z"
   },
   {
    "duration": 128,
    "start_time": "2022-04-28T08:10:17.658Z"
   },
   {
    "duration": 4,
    "start_time": "2022-04-28T08:10:17.788Z"
   },
   {
    "duration": 16,
    "start_time": "2022-04-28T08:10:17.793Z"
   },
   {
    "duration": 17,
    "start_time": "2022-04-28T08:10:17.810Z"
   },
   {
    "duration": 14,
    "start_time": "2022-04-28T08:10:17.828Z"
   },
   {
    "duration": 3,
    "start_time": "2022-04-28T08:10:17.844Z"
   },
   {
    "duration": 31,
    "start_time": "2022-04-28T08:10:17.849Z"
   },
   {
    "duration": 15,
    "start_time": "2022-04-28T08:10:17.902Z"
   },
   {
    "duration": 12,
    "start_time": "2022-04-28T08:10:17.919Z"
   },
   {
    "duration": 7,
    "start_time": "2022-04-28T08:10:17.933Z"
   },
   {
    "duration": 248,
    "start_time": "2022-04-28T08:10:17.942Z"
   },
   {
    "duration": 12,
    "start_time": "2022-04-28T08:10:18.192Z"
   },
   {
    "duration": 24,
    "start_time": "2022-04-28T08:10:18.205Z"
   },
   {
    "duration": 24,
    "start_time": "2022-04-28T08:10:18.231Z"
   },
   {
    "duration": 23,
    "start_time": "2022-04-28T08:10:18.257Z"
   },
   {
    "duration": 379,
    "start_time": "2022-04-28T08:10:18.282Z"
   },
   {
    "duration": 5,
    "start_time": "2022-04-28T08:10:18.663Z"
   },
   {
    "duration": 14,
    "start_time": "2022-04-28T08:10:18.670Z"
   },
   {
    "duration": 27,
    "start_time": "2022-04-28T08:10:18.685Z"
   },
   {
    "duration": 13,
    "start_time": "2022-04-28T08:10:18.713Z"
   },
   {
    "duration": 313,
    "start_time": "2022-04-28T08:10:18.727Z"
   },
   {
    "duration": 5,
    "start_time": "2022-04-28T08:10:19.042Z"
   },
   {
    "duration": 10,
    "start_time": "2022-04-28T08:10:19.049Z"
   },
   {
    "duration": 13,
    "start_time": "2022-04-28T08:10:19.060Z"
   },
   {
    "duration": 37,
    "start_time": "2022-04-28T08:10:19.075Z"
   },
   {
    "duration": 8,
    "start_time": "2022-04-28T08:10:19.114Z"
   },
   {
    "duration": 13,
    "start_time": "2022-04-28T08:10:19.124Z"
   },
   {
    "duration": 16,
    "start_time": "2022-04-28T08:10:19.138Z"
   },
   {
    "duration": 1213,
    "start_time": "2022-04-28T08:11:54.086Z"
   },
   {
    "duration": 560,
    "start_time": "2022-04-28T08:11:55.302Z"
   },
   {
    "duration": 12,
    "start_time": "2022-04-28T08:11:55.863Z"
   },
   {
    "duration": 33,
    "start_time": "2022-04-28T08:11:55.876Z"
   },
   {
    "duration": 60,
    "start_time": "2022-04-28T08:11:55.911Z"
   },
   {
    "duration": 7,
    "start_time": "2022-04-28T08:11:55.973Z"
   },
   {
    "duration": 66,
    "start_time": "2022-04-28T08:11:55.982Z"
   },
   {
    "duration": 22,
    "start_time": "2022-04-28T08:11:56.050Z"
   },
   {
    "duration": 265,
    "start_time": "2022-04-28T08:11:56.074Z"
   },
   {
    "duration": 118,
    "start_time": "2022-04-28T08:11:56.343Z"
   },
   {
    "duration": 17,
    "start_time": "2022-04-28T08:11:56.463Z"
   },
   {
    "duration": 44,
    "start_time": "2022-04-28T08:11:56.482Z"
   },
   {
    "duration": 114,
    "start_time": "2022-04-28T08:11:56.528Z"
   },
   {
    "duration": 48,
    "start_time": "2022-04-28T08:11:56.644Z"
   },
   {
    "duration": 33,
    "start_time": "2022-04-28T08:11:56.693Z"
   },
   {
    "duration": 150,
    "start_time": "2022-04-28T08:11:56.727Z"
   },
   {
    "duration": 67,
    "start_time": "2022-04-28T08:11:56.878Z"
   },
   {
    "duration": 11,
    "start_time": "2022-04-28T08:11:56.946Z"
   },
   {
    "duration": 11,
    "start_time": "2022-04-28T08:11:56.958Z"
   },
   {
    "duration": 15,
    "start_time": "2022-04-28T08:11:56.971Z"
   },
   {
    "duration": 23,
    "start_time": "2022-04-28T08:11:56.987Z"
   },
   {
    "duration": 164,
    "start_time": "2022-04-28T08:11:57.011Z"
   },
   {
    "duration": 8,
    "start_time": "2022-04-28T08:11:57.176Z"
   },
   {
    "duration": 15,
    "start_time": "2022-04-28T08:11:57.186Z"
   },
   {
    "duration": 131,
    "start_time": "2022-04-28T08:11:57.203Z"
   },
   {
    "duration": 3,
    "start_time": "2022-04-28T08:11:57.336Z"
   },
   {
    "duration": 107,
    "start_time": "2022-04-28T08:11:57.341Z"
   },
   {
    "duration": 71,
    "start_time": "2022-04-28T08:11:57.454Z"
   },
   {
    "duration": 52,
    "start_time": "2022-04-28T08:11:57.527Z"
   },
   {
    "duration": 32,
    "start_time": "2022-04-28T08:11:57.581Z"
   },
   {
    "duration": 24,
    "start_time": "2022-04-28T08:11:57.615Z"
   },
   {
    "duration": 11,
    "start_time": "2022-04-28T08:11:57.641Z"
   },
   {
    "duration": 51,
    "start_time": "2022-04-28T08:11:57.654Z"
   },
   {
    "duration": 5,
    "start_time": "2022-04-28T08:11:57.706Z"
   },
   {
    "duration": 96,
    "start_time": "2022-04-28T08:11:57.712Z"
   },
   {
    "duration": 4,
    "start_time": "2022-04-28T08:11:57.810Z"
   },
   {
    "duration": 11,
    "start_time": "2022-04-28T08:11:57.815Z"
   },
   {
    "duration": 19,
    "start_time": "2022-04-28T08:11:57.827Z"
   },
   {
    "duration": 20,
    "start_time": "2022-04-28T08:11:57.847Z"
   },
   {
    "duration": 5,
    "start_time": "2022-04-28T08:11:57.869Z"
   },
   {
    "duration": 54,
    "start_time": "2022-04-28T08:11:57.876Z"
   },
   {
    "duration": 16,
    "start_time": "2022-04-28T08:11:57.932Z"
   },
   {
    "duration": 9,
    "start_time": "2022-04-28T08:11:57.950Z"
   },
   {
    "duration": 9,
    "start_time": "2022-04-28T08:11:57.961Z"
   },
   {
    "duration": 413,
    "start_time": "2022-04-28T08:11:57.971Z"
   },
   {
    "duration": 6,
    "start_time": "2022-04-28T08:11:58.387Z"
   },
   {
    "duration": 26,
    "start_time": "2022-04-28T08:11:58.395Z"
   },
   {
    "duration": 19,
    "start_time": "2022-04-28T08:11:58.423Z"
   },
   {
    "duration": 16,
    "start_time": "2022-04-28T08:11:58.443Z"
   },
   {
    "duration": 225,
    "start_time": "2022-04-28T08:11:58.460Z"
   },
   {
    "duration": 4,
    "start_time": "2022-04-28T08:11:58.687Z"
   },
   {
    "duration": 16,
    "start_time": "2022-04-28T08:11:58.692Z"
   },
   {
    "duration": 25,
    "start_time": "2022-04-28T08:11:58.710Z"
   },
   {
    "duration": 14,
    "start_time": "2022-04-28T08:11:58.736Z"
   },
   {
    "duration": 295,
    "start_time": "2022-04-28T08:11:58.752Z"
   },
   {
    "duration": 5,
    "start_time": "2022-04-28T08:11:59.049Z"
   },
   {
    "duration": 14,
    "start_time": "2022-04-28T08:11:59.056Z"
   },
   {
    "duration": 32,
    "start_time": "2022-04-28T08:11:59.072Z"
   },
   {
    "duration": 20,
    "start_time": "2022-04-28T08:11:59.105Z"
   },
   {
    "duration": 9,
    "start_time": "2022-04-28T08:11:59.126Z"
   },
   {
    "duration": 10,
    "start_time": "2022-04-28T08:11:59.136Z"
   },
   {
    "duration": 18,
    "start_time": "2022-04-28T08:11:59.148Z"
   },
   {
    "duration": 13,
    "start_time": "2022-04-28T08:14:36.764Z"
   },
   {
    "duration": 14,
    "start_time": "2022-04-28T08:15:03.224Z"
   },
   {
    "duration": 205,
    "start_time": "2022-04-28T08:16:02.095Z"
   },
   {
    "duration": 15,
    "start_time": "2022-04-28T08:17:43.606Z"
   },
   {
    "duration": 29,
    "start_time": "2022-04-28T08:19:12.533Z"
   },
   {
    "duration": 1207,
    "start_time": "2022-04-28T08:19:22.522Z"
   },
   {
    "duration": 558,
    "start_time": "2022-04-28T08:19:23.731Z"
   },
   {
    "duration": 13,
    "start_time": "2022-04-28T08:19:24.290Z"
   },
   {
    "duration": 40,
    "start_time": "2022-04-28T08:19:24.305Z"
   },
   {
    "duration": 54,
    "start_time": "2022-04-28T08:19:24.348Z"
   },
   {
    "duration": 16,
    "start_time": "2022-04-28T08:19:24.406Z"
   },
   {
    "duration": 61,
    "start_time": "2022-04-28T08:19:24.424Z"
   },
   {
    "duration": 33,
    "start_time": "2022-04-28T08:19:24.487Z"
   },
   {
    "duration": 273,
    "start_time": "2022-04-28T08:19:24.524Z"
   },
   {
    "duration": 152,
    "start_time": "2022-04-28T08:19:24.800Z"
   },
   {
    "duration": 29,
    "start_time": "2022-04-28T08:19:24.954Z"
   },
   {
    "duration": 23,
    "start_time": "2022-04-28T08:19:24.985Z"
   },
   {
    "duration": 164,
    "start_time": "2022-04-28T08:19:25.012Z"
   },
   {
    "duration": 65,
    "start_time": "2022-04-28T08:19:25.179Z"
   },
   {
    "duration": 20,
    "start_time": "2022-04-28T08:19:25.246Z"
   },
   {
    "duration": 151,
    "start_time": "2022-04-28T08:19:25.268Z"
   },
   {
    "duration": 54,
    "start_time": "2022-04-28T08:19:25.421Z"
   },
   {
    "duration": 32,
    "start_time": "2022-04-28T08:19:25.476Z"
   },
   {
    "duration": 19,
    "start_time": "2022-04-28T08:19:25.510Z"
   },
   {
    "duration": 19,
    "start_time": "2022-04-28T08:19:25.531Z"
   },
   {
    "duration": 15,
    "start_time": "2022-04-28T08:19:25.552Z"
   },
   {
    "duration": 178,
    "start_time": "2022-04-28T08:19:25.569Z"
   },
   {
    "duration": 9,
    "start_time": "2022-04-28T08:19:25.748Z"
   },
   {
    "duration": 24,
    "start_time": "2022-04-28T08:19:25.758Z"
   },
   {
    "duration": 95,
    "start_time": "2022-04-28T08:19:25.784Z"
   },
   {
    "duration": 3,
    "start_time": "2022-04-28T08:19:25.881Z"
   },
   {
    "duration": 110,
    "start_time": "2022-04-28T08:19:25.886Z"
   },
   {
    "duration": 53,
    "start_time": "2022-04-28T08:19:25.998Z"
   },
   {
    "duration": 72,
    "start_time": "2022-04-28T08:19:26.053Z"
   },
   {
    "duration": 18,
    "start_time": "2022-04-28T08:19:26.126Z"
   },
   {
    "duration": 26,
    "start_time": "2022-04-28T08:19:26.146Z"
   },
   {
    "duration": 38,
    "start_time": "2022-04-28T08:19:26.173Z"
   },
   {
    "duration": 18,
    "start_time": "2022-04-28T08:19:26.213Z"
   },
   {
    "duration": 34,
    "start_time": "2022-04-28T08:19:26.233Z"
   },
   {
    "duration": 113,
    "start_time": "2022-04-28T08:19:26.269Z"
   },
   {
    "duration": 4,
    "start_time": "2022-04-28T08:19:26.383Z"
   },
   {
    "duration": 31,
    "start_time": "2022-04-28T08:19:26.389Z"
   },
   {
    "duration": 25,
    "start_time": "2022-04-28T08:19:26.421Z"
   },
   {
    "duration": 19,
    "start_time": "2022-04-28T08:19:26.447Z"
   },
   {
    "duration": 14,
    "start_time": "2022-04-28T08:19:26.468Z"
   },
   {
    "duration": 55,
    "start_time": "2022-04-28T08:19:26.486Z"
   },
   {
    "duration": 17,
    "start_time": "2022-04-28T08:19:26.543Z"
   },
   {
    "duration": 26,
    "start_time": "2022-04-28T08:19:26.561Z"
   },
   {
    "duration": 35,
    "start_time": "2022-04-28T08:19:26.589Z"
   },
   {
    "duration": 423,
    "start_time": "2022-04-28T08:19:26.626Z"
   },
   {
    "duration": 5,
    "start_time": "2022-04-28T08:19:27.051Z"
   },
   {
    "duration": 13,
    "start_time": "2022-04-28T08:19:27.058Z"
   },
   {
    "duration": 10,
    "start_time": "2022-04-28T08:19:27.072Z"
   },
   {
    "duration": 19,
    "start_time": "2022-04-28T08:19:27.084Z"
   },
   {
    "duration": 235,
    "start_time": "2022-04-28T08:19:27.109Z"
   },
   {
    "duration": 5,
    "start_time": "2022-04-28T08:19:27.346Z"
   },
   {
    "duration": 12,
    "start_time": "2022-04-28T08:19:27.353Z"
   },
   {
    "duration": 9,
    "start_time": "2022-04-28T08:19:27.367Z"
   },
   {
    "duration": 49,
    "start_time": "2022-04-28T08:19:27.378Z"
   },
   {
    "duration": 306,
    "start_time": "2022-04-28T08:19:27.428Z"
   },
   {
    "duration": 5,
    "start_time": "2022-04-28T08:19:27.736Z"
   },
   {
    "duration": 14,
    "start_time": "2022-04-28T08:19:27.743Z"
   },
   {
    "duration": 19,
    "start_time": "2022-04-28T08:19:27.759Z"
   },
   {
    "duration": 28,
    "start_time": "2022-04-28T08:19:27.780Z"
   },
   {
    "duration": 6,
    "start_time": "2022-04-28T08:19:27.810Z"
   },
   {
    "duration": 13,
    "start_time": "2022-04-28T08:19:27.820Z"
   },
   {
    "duration": 18,
    "start_time": "2022-04-28T08:19:27.835Z"
   },
   {
    "duration": 17,
    "start_time": "2022-04-28T08:20:25.033Z"
   },
   {
    "duration": 3,
    "start_time": "2022-04-28T08:58:28.803Z"
   },
   {
    "duration": 1514,
    "start_time": "2022-04-28T08:58:33.286Z"
   },
   {
    "duration": 729,
    "start_time": "2022-04-28T08:58:34.803Z"
   },
   {
    "duration": 3,
    "start_time": "2022-04-28T08:58:35.534Z"
   },
   {
    "duration": 17,
    "start_time": "2022-04-28T08:58:35.540Z"
   },
   {
    "duration": 19,
    "start_time": "2022-04-28T08:58:35.559Z"
   },
   {
    "duration": 43,
    "start_time": "2022-04-28T08:58:35.580Z"
   },
   {
    "duration": 9,
    "start_time": "2022-04-28T08:58:35.624Z"
   },
   {
    "duration": 41,
    "start_time": "2022-04-28T08:58:35.635Z"
   },
   {
    "duration": 52,
    "start_time": "2022-04-28T08:58:35.678Z"
   },
   {
    "duration": 377,
    "start_time": "2022-04-28T08:58:35.733Z"
   },
   {
    "duration": 189,
    "start_time": "2022-04-28T08:58:36.112Z"
   },
   {
    "duration": 30,
    "start_time": "2022-04-28T08:58:36.303Z"
   },
   {
    "duration": 9,
    "start_time": "2022-04-28T08:58:36.334Z"
   },
   {
    "duration": 201,
    "start_time": "2022-04-28T08:58:36.345Z"
   },
   {
    "duration": 92,
    "start_time": "2022-04-28T08:58:36.548Z"
   },
   {
    "duration": 33,
    "start_time": "2022-04-28T08:58:36.642Z"
   },
   {
    "duration": 239,
    "start_time": "2022-04-28T08:58:36.677Z"
   },
   {
    "duration": 50,
    "start_time": "2022-04-28T08:58:36.917Z"
   },
   {
    "duration": 12,
    "start_time": "2022-04-28T08:58:36.968Z"
   },
   {
    "duration": 24,
    "start_time": "2022-04-28T08:58:36.981Z"
   },
   {
    "duration": 9,
    "start_time": "2022-04-28T08:58:37.006Z"
   },
   {
    "duration": 10,
    "start_time": "2022-04-28T08:58:37.017Z"
   },
   {
    "duration": 171,
    "start_time": "2022-04-28T08:58:37.028Z"
   },
   {
    "duration": 8,
    "start_time": "2022-04-28T08:58:37.201Z"
   },
   {
    "duration": 6,
    "start_time": "2022-04-28T08:58:37.211Z"
   },
   {
    "duration": 86,
    "start_time": "2022-04-28T08:58:37.218Z"
   },
   {
    "duration": 3,
    "start_time": "2022-04-28T08:58:37.306Z"
   },
   {
    "duration": 75,
    "start_time": "2022-04-28T08:58:37.312Z"
   },
   {
    "duration": 55,
    "start_time": "2022-04-28T08:58:37.388Z"
   },
   {
    "duration": 62,
    "start_time": "2022-04-28T08:58:37.444Z"
   },
   {
    "duration": 16,
    "start_time": "2022-04-28T08:58:37.507Z"
   },
   {
    "duration": 21,
    "start_time": "2022-04-28T08:58:37.525Z"
   },
   {
    "duration": 11,
    "start_time": "2022-04-28T08:58:37.548Z"
   },
   {
    "duration": 46,
    "start_time": "2022-04-28T08:58:37.561Z"
   },
   {
    "duration": 3,
    "start_time": "2022-04-28T08:58:37.609Z"
   },
   {
    "duration": 94,
    "start_time": "2022-04-28T08:58:37.614Z"
   },
   {
    "duration": 5,
    "start_time": "2022-04-28T08:58:37.710Z"
   },
   {
    "duration": 8,
    "start_time": "2022-04-28T08:58:37.716Z"
   },
   {
    "duration": 14,
    "start_time": "2022-04-28T08:58:37.725Z"
   },
   {
    "duration": 14,
    "start_time": "2022-04-28T08:58:37.740Z"
   },
   {
    "duration": 3,
    "start_time": "2022-04-28T08:58:37.755Z"
   },
   {
    "duration": 53,
    "start_time": "2022-04-28T08:58:37.760Z"
   },
   {
    "duration": 11,
    "start_time": "2022-04-28T08:58:37.814Z"
   },
   {
    "duration": 12,
    "start_time": "2022-04-28T08:58:37.826Z"
   },
   {
    "duration": 8,
    "start_time": "2022-04-28T08:58:37.839Z"
   },
   {
    "duration": 236,
    "start_time": "2022-04-28T08:58:37.848Z"
   },
   {
    "duration": 4,
    "start_time": "2022-04-28T08:58:38.086Z"
   },
   {
    "duration": 16,
    "start_time": "2022-04-28T08:58:38.091Z"
   },
   {
    "duration": 7,
    "start_time": "2022-04-28T08:58:38.108Z"
   },
   {
    "duration": 10,
    "start_time": "2022-04-28T08:58:38.117Z"
   },
   {
    "duration": 232,
    "start_time": "2022-04-28T08:58:38.128Z"
   },
   {
    "duration": 4,
    "start_time": "2022-04-28T08:58:38.362Z"
   },
   {
    "duration": 11,
    "start_time": "2022-04-28T08:58:38.368Z"
   },
   {
    "duration": 24,
    "start_time": "2022-04-28T08:58:38.381Z"
   },
   {
    "duration": 9,
    "start_time": "2022-04-28T08:58:38.407Z"
   },
   {
    "duration": 299,
    "start_time": "2022-04-28T08:58:38.418Z"
   },
   {
    "duration": 5,
    "start_time": "2022-04-28T08:58:38.719Z"
   },
   {
    "duration": 13,
    "start_time": "2022-04-28T08:58:38.726Z"
   },
   {
    "duration": 18,
    "start_time": "2022-04-28T08:58:38.740Z"
   },
   {
    "duration": 11,
    "start_time": "2022-04-28T08:58:38.759Z"
   },
   {
    "duration": 9,
    "start_time": "2022-04-28T08:58:38.772Z"
   },
   {
    "duration": 28,
    "start_time": "2022-04-28T08:58:38.782Z"
   },
   {
    "duration": 14,
    "start_time": "2022-04-28T08:58:38.811Z"
   },
   {
    "duration": 1265,
    "start_time": "2022-04-29T07:12:38.791Z"
   },
   {
    "duration": 534,
    "start_time": "2022-04-29T07:12:40.059Z"
   },
   {
    "duration": 2,
    "start_time": "2022-04-29T07:12:40.595Z"
   },
   {
    "duration": 13,
    "start_time": "2022-04-29T07:12:40.599Z"
   },
   {
    "duration": 19,
    "start_time": "2022-04-29T07:12:40.614Z"
   },
   {
    "duration": 26,
    "start_time": "2022-04-29T07:12:40.635Z"
   },
   {
    "duration": 6,
    "start_time": "2022-04-29T07:12:40.663Z"
   },
   {
    "duration": 24,
    "start_time": "2022-04-29T07:12:40.671Z"
   },
   {
    "duration": 52,
    "start_time": "2022-04-29T07:12:40.697Z"
   },
   {
    "duration": 241,
    "start_time": "2022-04-29T07:12:40.752Z"
   },
   {
    "duration": 120,
    "start_time": "2022-04-29T07:12:40.995Z"
   },
   {
    "duration": 33,
    "start_time": "2022-04-29T07:12:41.117Z"
   },
   {
    "duration": 8,
    "start_time": "2022-04-29T07:12:41.151Z"
   },
   {
    "duration": 134,
    "start_time": "2022-04-29T07:12:41.161Z"
   },
   {
    "duration": 71,
    "start_time": "2022-04-29T07:12:41.297Z"
   },
   {
    "duration": 21,
    "start_time": "2022-04-29T07:12:41.369Z"
   },
   {
    "duration": 161,
    "start_time": "2022-04-29T07:12:41.391Z"
   },
   {
    "duration": 72,
    "start_time": "2022-04-29T07:12:41.553Z"
   },
   {
    "duration": 15,
    "start_time": "2022-04-29T07:12:41.626Z"
   },
   {
    "duration": 11,
    "start_time": "2022-04-29T07:12:41.642Z"
   },
   {
    "duration": 9,
    "start_time": "2022-04-29T07:12:41.654Z"
   },
   {
    "duration": 9,
    "start_time": "2022-04-29T07:12:41.665Z"
   },
   {
    "duration": 191,
    "start_time": "2022-04-29T07:12:41.675Z"
   },
   {
    "duration": 7,
    "start_time": "2022-04-29T07:12:41.867Z"
   },
   {
    "duration": 5,
    "start_time": "2022-04-29T07:12:41.876Z"
   },
   {
    "duration": 104,
    "start_time": "2022-04-29T07:12:41.883Z"
   },
   {
    "duration": 4,
    "start_time": "2022-04-29T07:12:41.989Z"
   },
   {
    "duration": 88,
    "start_time": "2022-04-29T07:12:41.998Z"
   },
   {
    "duration": 64,
    "start_time": "2022-04-29T07:12:42.088Z"
   },
   {
    "duration": 52,
    "start_time": "2022-04-29T07:12:42.154Z"
   },
   {
    "duration": 32,
    "start_time": "2022-04-29T07:12:42.208Z"
   },
   {
    "duration": 23,
    "start_time": "2022-04-29T07:12:42.241Z"
   },
   {
    "duration": 12,
    "start_time": "2022-04-29T07:12:42.266Z"
   },
   {
    "duration": 46,
    "start_time": "2022-04-29T07:12:42.279Z"
   },
   {
    "duration": 7,
    "start_time": "2022-04-29T07:12:42.326Z"
   },
   {
    "duration": 97,
    "start_time": "2022-04-29T07:12:42.336Z"
   },
   {
    "duration": 4,
    "start_time": "2022-04-29T07:12:42.434Z"
   },
   {
    "duration": 5,
    "start_time": "2022-04-29T07:12:42.440Z"
   },
   {
    "duration": 13,
    "start_time": "2022-04-29T07:12:42.446Z"
   },
   {
    "duration": 14,
    "start_time": "2022-04-29T07:12:42.460Z"
   },
   {
    "duration": 2,
    "start_time": "2022-04-29T07:12:42.476Z"
   },
   {
    "duration": 53,
    "start_time": "2022-04-29T07:12:42.480Z"
   },
   {
    "duration": 15,
    "start_time": "2022-04-29T07:12:42.535Z"
   },
   {
    "duration": 22,
    "start_time": "2022-04-29T07:12:42.552Z"
   },
   {
    "duration": 24,
    "start_time": "2022-04-29T07:12:42.576Z"
   },
   {
    "duration": 263,
    "start_time": "2022-04-29T07:12:42.601Z"
   },
   {
    "duration": 5,
    "start_time": "2022-04-29T07:12:42.866Z"
   },
   {
    "duration": 20,
    "start_time": "2022-04-29T07:12:42.872Z"
   },
   {
    "duration": 36,
    "start_time": "2022-04-29T07:12:42.894Z"
   },
   {
    "duration": 11,
    "start_time": "2022-04-29T07:12:42.931Z"
   },
   {
    "duration": 245,
    "start_time": "2022-04-29T07:12:42.943Z"
   },
   {
    "duration": 4,
    "start_time": "2022-04-29T07:12:43.190Z"
   },
   {
    "duration": 37,
    "start_time": "2022-04-29T07:12:43.196Z"
   },
   {
    "duration": 12,
    "start_time": "2022-04-29T07:12:43.234Z"
   },
   {
    "duration": 14,
    "start_time": "2022-04-29T07:12:43.248Z"
   },
   {
    "duration": 321,
    "start_time": "2022-04-29T07:12:43.264Z"
   },
   {
    "duration": 5,
    "start_time": "2022-04-29T07:12:43.587Z"
   },
   {
    "duration": 15,
    "start_time": "2022-04-29T07:12:43.593Z"
   },
   {
    "duration": 29,
    "start_time": "2022-04-29T07:12:43.609Z"
   },
   {
    "duration": 12,
    "start_time": "2022-04-29T07:12:43.640Z"
   },
   {
    "duration": 6,
    "start_time": "2022-04-29T07:12:43.654Z"
   },
   {
    "duration": 11,
    "start_time": "2022-04-29T07:12:43.661Z"
   },
   {
    "duration": 16,
    "start_time": "2022-04-29T07:12:43.674Z"
   },
   {
    "duration": 232,
    "start_time": "2022-04-29T07:13:06.411Z"
   },
   {
    "duration": 203,
    "start_time": "2022-04-29T07:18:33.801Z"
   },
   {
    "duration": 4,
    "start_time": "2022-04-29T07:18:42.850Z"
   },
   {
    "duration": 3,
    "start_time": "2022-04-29T07:18:48.345Z"
   },
   {
    "duration": 9,
    "start_time": "2022-04-29T07:20:57.822Z"
   },
   {
    "duration": 198,
    "start_time": "2022-04-29T07:20:58.734Z"
   },
   {
    "duration": 7,
    "start_time": "2022-04-29T07:25:41.929Z"
   },
   {
    "duration": 54,
    "start_time": "2022-04-29T07:26:22.035Z"
   },
   {
    "duration": 67,
    "start_time": "2022-04-29T07:26:29.314Z"
   },
   {
    "duration": 1157,
    "start_time": "2022-04-29T07:27:11.614Z"
   },
   {
    "duration": 171,
    "start_time": "2022-04-29T07:27:52.678Z"
   },
   {
    "duration": 180,
    "start_time": "2022-04-29T07:28:28.991Z"
   },
   {
    "duration": 170,
    "start_time": "2022-04-29T07:28:34.368Z"
   },
   {
    "duration": 220,
    "start_time": "2022-04-29T07:29:10.760Z"
   },
   {
    "duration": 1141,
    "start_time": "2022-04-29T07:29:44.524Z"
   },
   {
    "duration": 535,
    "start_time": "2022-04-29T07:29:45.667Z"
   },
   {
    "duration": 2,
    "start_time": "2022-04-29T07:29:46.204Z"
   },
   {
    "duration": 13,
    "start_time": "2022-04-29T07:29:46.208Z"
   },
   {
    "duration": 18,
    "start_time": "2022-04-29T07:29:46.223Z"
   },
   {
    "duration": 27,
    "start_time": "2022-04-29T07:29:46.242Z"
   },
   {
    "duration": 7,
    "start_time": "2022-04-29T07:29:46.271Z"
   },
   {
    "duration": 56,
    "start_time": "2022-04-29T07:29:46.280Z"
   },
   {
    "duration": 23,
    "start_time": "2022-04-29T07:29:46.337Z"
   },
   {
    "duration": 261,
    "start_time": "2022-04-29T07:29:46.361Z"
   },
   {
    "duration": 132,
    "start_time": "2022-04-29T07:29:46.624Z"
   },
   {
    "duration": 20,
    "start_time": "2022-04-29T07:29:46.758Z"
   },
   {
    "duration": 10,
    "start_time": "2022-04-29T07:29:46.780Z"
   },
   {
    "duration": 136,
    "start_time": "2022-04-29T07:29:46.794Z"
   },
   {
    "duration": 56,
    "start_time": "2022-04-29T07:29:46.932Z"
   },
   {
    "duration": 44,
    "start_time": "2022-04-29T07:29:46.990Z"
   },
   {
    "duration": 153,
    "start_time": "2022-04-29T07:29:47.037Z"
   },
   {
    "duration": 71,
    "start_time": "2022-04-29T07:29:47.192Z"
   },
   {
    "duration": 14,
    "start_time": "2022-04-29T07:29:47.265Z"
   },
   {
    "duration": 11,
    "start_time": "2022-04-29T07:29:47.281Z"
   },
   {
    "duration": 35,
    "start_time": "2022-04-29T07:29:47.293Z"
   },
   {
    "duration": 11,
    "start_time": "2022-04-29T07:29:47.330Z"
   },
   {
    "duration": 265,
    "start_time": "2022-04-29T07:29:47.342Z"
   },
   {
    "duration": 14,
    "start_time": "2022-04-29T07:29:47.609Z"
   },
   {
    "duration": 12,
    "start_time": "2022-04-29T07:29:47.625Z"
   },
   {
    "duration": 91,
    "start_time": "2022-04-29T07:29:47.639Z"
   },
   {
    "duration": 3,
    "start_time": "2022-04-29T07:29:47.733Z"
   },
   {
    "duration": 76,
    "start_time": "2022-04-29T07:29:47.738Z"
   },
   {
    "duration": 56,
    "start_time": "2022-04-29T07:29:47.816Z"
   },
   {
    "duration": 66,
    "start_time": "2022-04-29T07:29:47.873Z"
   },
   {
    "duration": 17,
    "start_time": "2022-04-29T07:29:47.941Z"
   },
   {
    "duration": 23,
    "start_time": "2022-04-29T07:29:47.960Z"
   },
   {
    "duration": 11,
    "start_time": "2022-04-29T07:29:47.985Z"
   },
   {
    "duration": 45,
    "start_time": "2022-04-29T07:29:47.997Z"
   },
   {
    "duration": 4,
    "start_time": "2022-04-29T07:29:48.043Z"
   },
   {
    "duration": 95,
    "start_time": "2022-04-29T07:29:48.049Z"
   },
   {
    "duration": 4,
    "start_time": "2022-04-29T07:29:48.146Z"
   },
   {
    "duration": 14,
    "start_time": "2022-04-29T07:29:48.152Z"
   },
   {
    "duration": 15,
    "start_time": "2022-04-29T07:29:48.167Z"
   },
   {
    "duration": 15,
    "start_time": "2022-04-29T07:29:48.184Z"
   },
   {
    "duration": 3,
    "start_time": "2022-04-29T07:29:48.230Z"
   },
   {
    "duration": 30,
    "start_time": "2022-04-29T07:29:48.234Z"
   },
   {
    "duration": 13,
    "start_time": "2022-04-29T07:29:48.266Z"
   },
   {
    "duration": 8,
    "start_time": "2022-04-29T07:29:48.280Z"
   },
   {
    "duration": 7,
    "start_time": "2022-04-29T07:29:48.289Z"
   },
   {
    "duration": 254,
    "start_time": "2022-04-29T07:29:48.322Z"
   },
   {
    "duration": 5,
    "start_time": "2022-04-29T07:29:48.578Z"
   },
   {
    "duration": 11,
    "start_time": "2022-04-29T07:29:48.584Z"
   },
   {
    "duration": 34,
    "start_time": "2022-04-29T07:29:48.596Z"
   },
   {
    "duration": 8,
    "start_time": "2022-04-29T07:29:48.632Z"
   },
   {
    "duration": 236,
    "start_time": "2022-04-29T07:29:48.642Z"
   },
   {
    "duration": 5,
    "start_time": "2022-04-29T07:29:48.879Z"
   },
   {
    "duration": 11,
    "start_time": "2022-04-29T07:29:48.885Z"
   },
   {
    "duration": 33,
    "start_time": "2022-04-29T07:29:48.897Z"
   },
   {
    "duration": 14,
    "start_time": "2022-04-29T07:29:48.932Z"
   },
   {
    "duration": 318,
    "start_time": "2022-04-29T07:29:48.947Z"
   },
   {
    "duration": 5,
    "start_time": "2022-04-29T07:29:49.267Z"
   },
   {
    "duration": 11,
    "start_time": "2022-04-29T07:29:49.274Z"
   },
   {
    "duration": 36,
    "start_time": "2022-04-29T07:29:49.287Z"
   },
   {
    "duration": 21,
    "start_time": "2022-04-29T07:29:49.326Z"
   },
   {
    "duration": 6,
    "start_time": "2022-04-29T07:29:49.348Z"
   },
   {
    "duration": 11,
    "start_time": "2022-04-29T07:29:49.355Z"
   },
   {
    "duration": 5,
    "start_time": "2022-04-29T07:29:49.368Z"
   },
   {
    "duration": 17,
    "start_time": "2022-04-29T07:29:49.375Z"
   },
   {
    "duration": 31,
    "start_time": "2022-04-29T07:29:49.394Z"
   },
   {
    "duration": 59,
    "start_time": "2022-04-29T07:29:49.427Z"
   },
   {
    "duration": 1159,
    "start_time": "2022-04-29T07:29:49.488Z"
   },
   {
    "duration": 173,
    "start_time": "2022-04-29T07:29:50.649Z"
   },
   {
    "duration": 175,
    "start_time": "2022-04-29T07:29:50.827Z"
   },
   {
    "duration": 176,
    "start_time": "2022-04-29T07:29:51.005Z"
   },
   {
    "duration": 50,
    "start_time": "2022-04-29T07:29:51.183Z"
   },
   {
    "duration": 91,
    "start_time": "2022-05-02T13:57:56.369Z"
   },
   {
    "duration": 2415,
    "start_time": "2022-05-02T13:58:06.000Z"
   },
   {
    "duration": 604,
    "start_time": "2022-05-02T13:58:08.419Z"
   },
   {
    "duration": 4,
    "start_time": "2022-05-02T13:58:09.025Z"
   },
   {
    "duration": 37,
    "start_time": "2022-05-02T13:58:09.033Z"
   },
   {
    "duration": 25,
    "start_time": "2022-05-02T13:58:09.073Z"
   },
   {
    "duration": 59,
    "start_time": "2022-05-02T13:58:09.100Z"
   },
   {
    "duration": 11,
    "start_time": "2022-05-02T13:58:09.163Z"
   },
   {
    "duration": 35,
    "start_time": "2022-05-02T13:58:09.176Z"
   },
   {
    "duration": 73,
    "start_time": "2022-05-02T13:58:09.213Z"
   },
   {
    "duration": 387,
    "start_time": "2022-05-02T13:58:09.290Z"
   },
   {
    "duration": 206,
    "start_time": "2022-05-02T13:58:09.680Z"
   },
   {
    "duration": 45,
    "start_time": "2022-05-02T13:58:09.889Z"
   },
   {
    "duration": 20,
    "start_time": "2022-05-02T13:58:09.953Z"
   },
   {
    "duration": 199,
    "start_time": "2022-05-02T13:58:09.977Z"
   },
   {
    "duration": 114,
    "start_time": "2022-05-02T13:58:10.179Z"
   },
   {
    "duration": 31,
    "start_time": "2022-05-02T13:58:10.296Z"
   },
   {
    "duration": 217,
    "start_time": "2022-05-02T13:58:10.329Z"
   },
   {
    "duration": 133,
    "start_time": "2022-05-02T13:58:10.552Z"
   },
   {
    "duration": 20,
    "start_time": "2022-05-02T13:58:10.687Z"
   },
   {
    "duration": 16,
    "start_time": "2022-05-02T13:58:10.709Z"
   },
   {
    "duration": 42,
    "start_time": "2022-05-02T13:58:10.753Z"
   },
   {
    "duration": 16,
    "start_time": "2022-05-02T13:58:10.798Z"
   },
   {
    "duration": 506,
    "start_time": "2022-05-02T13:58:10.817Z"
   },
   {
    "duration": 11,
    "start_time": "2022-05-02T13:58:11.325Z"
   },
   {
    "duration": 37,
    "start_time": "2022-05-02T13:58:11.338Z"
   },
   {
    "duration": 124,
    "start_time": "2022-05-02T13:58:11.378Z"
   },
   {
    "duration": 5,
    "start_time": "2022-05-02T13:58:11.504Z"
   },
   {
    "duration": 133,
    "start_time": "2022-05-02T13:58:11.516Z"
   },
   {
    "duration": 76,
    "start_time": "2022-05-02T13:58:11.659Z"
   },
   {
    "duration": 101,
    "start_time": "2022-05-02T13:58:11.738Z"
   },
   {
    "duration": 40,
    "start_time": "2022-05-02T13:58:11.842Z"
   },
   {
    "duration": 41,
    "start_time": "2022-05-02T13:58:11.883Z"
   },
   {
    "duration": 44,
    "start_time": "2022-05-02T13:58:11.927Z"
   },
   {
    "duration": 31,
    "start_time": "2022-05-02T13:58:11.974Z"
   },
   {
    "duration": 5,
    "start_time": "2022-05-02T13:58:12.007Z"
   },
   {
    "duration": 204,
    "start_time": "2022-05-02T13:58:12.014Z"
   },
   {
    "duration": 7,
    "start_time": "2022-05-02T13:58:12.220Z"
   },
   {
    "duration": 14,
    "start_time": "2022-05-02T13:58:12.229Z"
   },
   {
    "duration": 36,
    "start_time": "2022-05-02T13:58:12.246Z"
   },
   {
    "duration": 23,
    "start_time": "2022-05-02T13:58:12.284Z"
   },
   {
    "duration": 4,
    "start_time": "2022-05-02T13:58:12.310Z"
   },
   {
    "duration": 84,
    "start_time": "2022-05-02T13:58:12.317Z"
   },
   {
    "duration": 19,
    "start_time": "2022-05-02T13:58:12.403Z"
   },
   {
    "duration": 33,
    "start_time": "2022-05-02T13:58:12.425Z"
   },
   {
    "duration": 22,
    "start_time": "2022-05-02T13:58:12.461Z"
   },
   {
    "duration": 472,
    "start_time": "2022-05-02T13:58:12.485Z"
   },
   {
    "duration": 8,
    "start_time": "2022-05-02T13:58:12.959Z"
   },
   {
    "duration": 25,
    "start_time": "2022-05-02T13:58:12.969Z"
   },
   {
    "duration": 16,
    "start_time": "2022-05-02T13:58:12.997Z"
   },
   {
    "duration": 10,
    "start_time": "2022-05-02T13:58:13.015Z"
   },
   {
    "duration": 476,
    "start_time": "2022-05-02T13:58:13.061Z"
   },
   {
    "duration": 24,
    "start_time": "2022-05-02T13:58:13.540Z"
   },
   {
    "duration": 24,
    "start_time": "2022-05-02T13:58:13.568Z"
   },
   {
    "duration": 15,
    "start_time": "2022-05-02T13:58:13.594Z"
   },
   {
    "duration": 14,
    "start_time": "2022-05-02T13:58:13.611Z"
   },
   {
    "duration": 540,
    "start_time": "2022-05-02T13:58:13.627Z"
   },
   {
    "duration": 8,
    "start_time": "2022-05-02T13:58:14.169Z"
   },
   {
    "duration": 16,
    "start_time": "2022-05-02T13:58:14.180Z"
   },
   {
    "duration": 66,
    "start_time": "2022-05-02T13:58:14.198Z"
   },
   {
    "duration": 21,
    "start_time": "2022-05-02T13:58:14.267Z"
   },
   {
    "duration": 8,
    "start_time": "2022-05-02T13:58:14.291Z"
   },
   {
    "duration": 17,
    "start_time": "2022-05-02T13:58:14.302Z"
   },
   {
    "duration": 10,
    "start_time": "2022-05-02T13:58:14.352Z"
   },
   {
    "duration": 27,
    "start_time": "2022-05-02T13:58:14.364Z"
   },
   {
    "duration": 6,
    "start_time": "2022-05-02T13:58:14.394Z"
   },
   {
    "duration": 125,
    "start_time": "2022-05-02T13:58:14.402Z"
   },
   {
    "duration": 1843,
    "start_time": "2022-05-02T13:58:14.530Z"
   },
   {
    "duration": 509,
    "start_time": "2022-05-02T13:58:16.376Z"
   },
   {
    "duration": 425,
    "start_time": "2022-05-02T13:58:16.888Z"
   },
   {
    "duration": 392,
    "start_time": "2022-05-02T13:58:17.316Z"
   },
   {
    "duration": 51,
    "start_time": "2022-05-02T13:58:17.711Z"
   },
   {
    "duration": 2387,
    "start_time": "2022-05-02T14:07:31.291Z"
   },
   {
    "duration": 253,
    "start_time": "2022-05-02T14:08:18.693Z"
   },
   {
    "duration": 137,
    "start_time": "2022-05-02T14:08:53.117Z"
   },
   {
    "duration": 106,
    "start_time": "2022-05-02T14:08:58.368Z"
   },
   {
    "duration": 1678,
    "start_time": "2022-05-02T14:09:17.473Z"
   },
   {
    "duration": 792,
    "start_time": "2022-05-02T14:09:19.155Z"
   },
   {
    "duration": 4,
    "start_time": "2022-05-02T14:09:19.949Z"
   },
   {
    "duration": 36,
    "start_time": "2022-05-02T14:09:19.957Z"
   },
   {
    "duration": 23,
    "start_time": "2022-05-02T14:09:19.996Z"
   },
   {
    "duration": 76,
    "start_time": "2022-05-02T14:09:20.021Z"
   },
   {
    "duration": 29,
    "start_time": "2022-05-02T14:09:20.100Z"
   },
   {
    "duration": 76,
    "start_time": "2022-05-02T14:09:20.131Z"
   },
   {
    "duration": 27,
    "start_time": "2022-05-02T14:09:20.209Z"
   },
   {
    "duration": 420,
    "start_time": "2022-05-02T14:09:20.240Z"
   },
   {
    "duration": 183,
    "start_time": "2022-05-02T14:09:20.663Z"
   },
   {
    "duration": 39,
    "start_time": "2022-05-02T14:09:20.849Z"
   },
   {
    "duration": 25,
    "start_time": "2022-05-02T14:09:20.891Z"
   },
   {
    "duration": 152,
    "start_time": "2022-05-02T14:09:20.918Z"
   },
   {
    "duration": 101,
    "start_time": "2022-05-02T14:09:21.074Z"
   },
   {
    "duration": 31,
    "start_time": "2022-05-02T14:09:21.178Z"
   },
   {
    "duration": 232,
    "start_time": "2022-05-02T14:09:21.212Z"
   },
   {
    "duration": 95,
    "start_time": "2022-05-02T14:09:21.446Z"
   },
   {
    "duration": 16,
    "start_time": "2022-05-02T14:09:21.551Z"
   },
   {
    "duration": 29,
    "start_time": "2022-05-02T14:09:21.570Z"
   },
   {
    "duration": 13,
    "start_time": "2022-05-02T14:09:21.602Z"
   },
   {
    "duration": 60,
    "start_time": "2022-05-02T14:09:21.617Z"
   },
   {
    "duration": 469,
    "start_time": "2022-05-02T14:09:21.680Z"
   },
   {
    "duration": 13,
    "start_time": "2022-05-02T14:09:22.152Z"
   },
   {
    "duration": 14,
    "start_time": "2022-05-02T14:09:22.172Z"
   },
   {
    "duration": 134,
    "start_time": "2022-05-02T14:09:22.188Z"
   },
   {
    "duration": 3,
    "start_time": "2022-05-02T14:09:22.325Z"
   },
   {
    "duration": 144,
    "start_time": "2022-05-02T14:09:22.334Z"
   },
   {
    "duration": 97,
    "start_time": "2022-05-02T14:09:22.482Z"
   },
   {
    "duration": 112,
    "start_time": "2022-05-02T14:09:22.585Z"
   },
   {
    "duration": 32,
    "start_time": "2022-05-02T14:09:22.699Z"
   },
   {
    "duration": 69,
    "start_time": "2022-05-02T14:09:22.733Z"
   },
   {
    "duration": 20,
    "start_time": "2022-05-02T14:09:22.804Z"
   },
   {
    "duration": 58,
    "start_time": "2022-05-02T14:09:22.826Z"
   },
   {
    "duration": 10,
    "start_time": "2022-05-02T14:09:22.887Z"
   },
   {
    "duration": 217,
    "start_time": "2022-05-02T14:09:22.900Z"
   },
   {
    "duration": 6,
    "start_time": "2022-05-02T14:09:23.119Z"
   },
   {
    "duration": 32,
    "start_time": "2022-05-02T14:09:23.127Z"
   },
   {
    "duration": 45,
    "start_time": "2022-05-02T14:09:23.161Z"
   },
   {
    "duration": 28,
    "start_time": "2022-05-02T14:09:23.209Z"
   },
   {
    "duration": 4,
    "start_time": "2022-05-02T14:09:23.239Z"
   },
   {
    "duration": 76,
    "start_time": "2022-05-02T14:09:23.245Z"
   },
   {
    "duration": 25,
    "start_time": "2022-05-02T14:09:23.323Z"
   },
   {
    "duration": 41,
    "start_time": "2022-05-02T14:09:23.350Z"
   },
   {
    "duration": 13,
    "start_time": "2022-05-02T14:09:23.393Z"
   },
   {
    "duration": 507,
    "start_time": "2022-05-02T14:09:23.408Z"
   },
   {
    "duration": 8,
    "start_time": "2022-05-02T14:09:23.917Z"
   },
   {
    "duration": 42,
    "start_time": "2022-05-02T14:09:23.927Z"
   },
   {
    "duration": 25,
    "start_time": "2022-05-02T14:09:23.972Z"
   },
   {
    "duration": 10,
    "start_time": "2022-05-02T14:09:24.000Z"
   },
   {
    "duration": 507,
    "start_time": "2022-05-02T14:09:24.013Z"
   },
   {
    "duration": 6,
    "start_time": "2022-05-02T14:09:24.522Z"
   },
   {
    "duration": 48,
    "start_time": "2022-05-02T14:09:24.531Z"
   },
   {
    "duration": 19,
    "start_time": "2022-05-02T14:09:24.585Z"
   },
   {
    "duration": 33,
    "start_time": "2022-05-02T14:09:24.607Z"
   },
   {
    "duration": 599,
    "start_time": "2022-05-02T14:09:24.643Z"
   },
   {
    "duration": 20,
    "start_time": "2022-05-02T14:09:25.245Z"
   },
   {
    "duration": 34,
    "start_time": "2022-05-02T14:09:25.268Z"
   },
   {
    "duration": 23,
    "start_time": "2022-05-02T14:09:25.306Z"
   },
   {
    "duration": 40,
    "start_time": "2022-05-02T14:09:25.332Z"
   },
   {
    "duration": 10,
    "start_time": "2022-05-02T14:09:25.377Z"
   },
   {
    "duration": 20,
    "start_time": "2022-05-02T14:09:25.389Z"
   },
   {
    "duration": 8,
    "start_time": "2022-05-02T14:09:25.412Z"
   },
   {
    "duration": 81,
    "start_time": "2022-05-02T14:09:25.422Z"
   },
   {
    "duration": 7,
    "start_time": "2022-05-02T14:09:25.507Z"
   },
   {
    "duration": 148,
    "start_time": "2022-05-02T14:09:25.516Z"
   },
   {
    "duration": 1841,
    "start_time": "2022-05-02T14:09:25.667Z"
   },
   {
    "duration": 384,
    "start_time": "2022-05-02T14:09:27.510Z"
   },
   {
    "duration": 334,
    "start_time": "2022-05-02T14:09:27.896Z"
   },
   {
    "duration": 323,
    "start_time": "2022-05-02T14:09:28.232Z"
   },
   {
    "duration": 50,
    "start_time": "2022-05-02T14:09:28.559Z"
   },
   {
    "duration": 1981,
    "start_time": "2022-05-02T14:10:00.466Z"
   },
   {
    "duration": 1560,
    "start_time": "2022-05-02T14:10:08.222Z"
   },
   {
    "duration": 707,
    "start_time": "2022-05-02T14:10:09.785Z"
   },
   {
    "duration": 4,
    "start_time": "2022-05-02T14:10:10.494Z"
   },
   {
    "duration": 18,
    "start_time": "2022-05-02T14:10:10.501Z"
   },
   {
    "duration": 47,
    "start_time": "2022-05-02T14:10:10.522Z"
   },
   {
    "duration": 44,
    "start_time": "2022-05-02T14:10:10.572Z"
   },
   {
    "duration": 10,
    "start_time": "2022-05-02T14:10:10.619Z"
   },
   {
    "duration": 55,
    "start_time": "2022-05-02T14:10:10.631Z"
   },
   {
    "duration": 31,
    "start_time": "2022-05-02T14:10:10.689Z"
   },
   {
    "duration": 382,
    "start_time": "2022-05-02T14:10:10.725Z"
   },
   {
    "duration": 220,
    "start_time": "2022-05-02T14:10:11.110Z"
   },
   {
    "duration": 53,
    "start_time": "2022-05-02T14:10:11.333Z"
   },
   {
    "duration": 17,
    "start_time": "2022-05-02T14:10:11.390Z"
   },
   {
    "duration": 212,
    "start_time": "2022-05-02T14:10:11.410Z"
   },
   {
    "duration": 105,
    "start_time": "2022-05-02T14:10:11.624Z"
   },
   {
    "duration": 49,
    "start_time": "2022-05-02T14:10:11.732Z"
   },
   {
    "duration": 238,
    "start_time": "2022-05-02T14:10:11.787Z"
   },
   {
    "duration": 101,
    "start_time": "2022-05-02T14:10:12.027Z"
   },
   {
    "duration": 34,
    "start_time": "2022-05-02T14:10:12.130Z"
   },
   {
    "duration": 29,
    "start_time": "2022-05-02T14:10:12.168Z"
   },
   {
    "duration": 25,
    "start_time": "2022-05-02T14:10:12.200Z"
   },
   {
    "duration": 50,
    "start_time": "2022-05-02T14:10:12.227Z"
   },
   {
    "duration": 636,
    "start_time": "2022-05-02T14:10:12.280Z"
   },
   {
    "duration": 12,
    "start_time": "2022-05-02T14:10:12.918Z"
   },
   {
    "duration": 22,
    "start_time": "2022-05-02T14:10:12.934Z"
   },
   {
    "duration": 152,
    "start_time": "2022-05-02T14:10:12.959Z"
   },
   {
    "duration": 5,
    "start_time": "2022-05-02T14:10:13.113Z"
   },
   {
    "duration": 179,
    "start_time": "2022-05-02T14:10:13.126Z"
   },
   {
    "duration": 109,
    "start_time": "2022-05-02T14:10:13.309Z"
   },
   {
    "duration": 130,
    "start_time": "2022-05-02T14:10:13.421Z"
   },
   {
    "duration": 36,
    "start_time": "2022-05-02T14:10:13.554Z"
   },
   {
    "duration": 86,
    "start_time": "2022-05-02T14:10:13.593Z"
   },
   {
    "duration": 32,
    "start_time": "2022-05-02T14:10:13.681Z"
   },
   {
    "duration": 53,
    "start_time": "2022-05-02T14:10:13.716Z"
   },
   {
    "duration": 26,
    "start_time": "2022-05-02T14:10:13.772Z"
   },
   {
    "duration": 275,
    "start_time": "2022-05-02T14:10:13.800Z"
   },
   {
    "duration": 6,
    "start_time": "2022-05-02T14:10:14.078Z"
   },
   {
    "duration": 39,
    "start_time": "2022-05-02T14:10:14.087Z"
   },
   {
    "duration": 69,
    "start_time": "2022-05-02T14:10:14.128Z"
   },
   {
    "duration": 34,
    "start_time": "2022-05-02T14:10:14.200Z"
   },
   {
    "duration": 4,
    "start_time": "2022-05-02T14:10:14.238Z"
   },
   {
    "duration": 78,
    "start_time": "2022-05-02T14:10:14.244Z"
   },
   {
    "duration": 69,
    "start_time": "2022-05-02T14:10:14.325Z"
   },
   {
    "duration": 21,
    "start_time": "2022-05-02T14:10:14.397Z"
   },
   {
    "duration": 26,
    "start_time": "2022-05-02T14:10:14.420Z"
   },
   {
    "duration": 531,
    "start_time": "2022-05-02T14:10:14.449Z"
   },
   {
    "duration": 8,
    "start_time": "2022-05-02T14:10:14.983Z"
   },
   {
    "duration": 52,
    "start_time": "2022-05-02T14:10:14.994Z"
   },
   {
    "duration": 53,
    "start_time": "2022-05-02T14:10:15.048Z"
   },
   {
    "duration": 13,
    "start_time": "2022-05-02T14:10:15.105Z"
   },
   {
    "duration": 655,
    "start_time": "2022-05-02T14:10:15.121Z"
   },
   {
    "duration": 8,
    "start_time": "2022-05-02T14:10:15.779Z"
   },
   {
    "duration": 35,
    "start_time": "2022-05-02T14:10:15.790Z"
   },
   {
    "duration": 42,
    "start_time": "2022-05-02T14:10:15.828Z"
   },
   {
    "duration": 20,
    "start_time": "2022-05-02T14:10:15.873Z"
   },
   {
    "duration": 620,
    "start_time": "2022-05-02T14:10:15.896Z"
   },
   {
    "duration": 8,
    "start_time": "2022-05-02T14:10:16.519Z"
   },
   {
    "duration": 56,
    "start_time": "2022-05-02T14:10:16.529Z"
   },
   {
    "duration": 28,
    "start_time": "2022-05-02T14:10:16.588Z"
   },
   {
    "duration": 21,
    "start_time": "2022-05-02T14:10:16.618Z"
   },
   {
    "duration": 22,
    "start_time": "2022-05-02T14:10:16.641Z"
   },
   {
    "duration": 33,
    "start_time": "2022-05-02T14:10:16.666Z"
   },
   {
    "duration": 16,
    "start_time": "2022-05-02T14:10:16.705Z"
   },
   {
    "duration": 53,
    "start_time": "2022-05-02T14:10:16.723Z"
   },
   {
    "duration": 11,
    "start_time": "2022-05-02T14:10:16.779Z"
   },
   {
    "duration": 129,
    "start_time": "2022-05-02T14:10:16.792Z"
   },
   {
    "duration": 1818,
    "start_time": "2022-05-02T14:10:16.924Z"
   },
   {
    "duration": 303,
    "start_time": "2022-05-02T14:10:18.752Z"
   },
   {
    "duration": 401,
    "start_time": "2022-05-02T14:10:19.057Z"
   },
   {
    "duration": 301,
    "start_time": "2022-05-02T14:10:19.461Z"
   },
   {
    "duration": 50,
    "start_time": "2022-05-02T14:10:19.764Z"
   },
   {
    "duration": 35,
    "start_time": "2022-05-02T14:14:09.230Z"
   },
   {
    "duration": 200,
    "start_time": "2022-05-02T14:16:43.954Z"
   },
   {
    "duration": 9,
    "start_time": "2022-05-02T14:17:12.624Z"
   },
   {
    "duration": 8,
    "start_time": "2022-05-02T14:17:32.316Z"
   },
   {
    "duration": 8,
    "start_time": "2022-05-02T14:17:35.235Z"
   },
   {
    "duration": 8,
    "start_time": "2022-05-02T14:18:03.131Z"
   },
   {
    "duration": 8,
    "start_time": "2022-05-02T14:18:20.412Z"
   },
   {
    "duration": 19,
    "start_time": "2022-05-02T14:19:15.541Z"
   },
   {
    "duration": 7,
    "start_time": "2022-05-02T14:19:31.131Z"
   },
   {
    "duration": 14,
    "start_time": "2022-05-02T14:19:41.005Z"
   },
   {
    "duration": 7,
    "start_time": "2022-05-02T14:20:00.964Z"
   },
   {
    "duration": 7,
    "start_time": "2022-05-02T14:21:07.598Z"
   },
   {
    "duration": 8,
    "start_time": "2022-05-02T14:21:09.748Z"
   },
   {
    "duration": 9,
    "start_time": "2022-05-02T14:21:26.012Z"
   },
   {
    "duration": 10,
    "start_time": "2022-05-02T14:21:31.211Z"
   },
   {
    "duration": 29,
    "start_time": "2022-05-02T14:22:49.397Z"
   },
   {
    "duration": 1662,
    "start_time": "2022-05-02T14:23:12.695Z"
   },
   {
    "duration": 918,
    "start_time": "2022-05-02T14:23:14.360Z"
   },
   {
    "duration": 4,
    "start_time": "2022-05-02T14:23:15.281Z"
   },
   {
    "duration": 19,
    "start_time": "2022-05-02T14:23:15.288Z"
   },
   {
    "duration": 22,
    "start_time": "2022-05-02T14:23:15.310Z"
   },
   {
    "duration": 49,
    "start_time": "2022-05-02T14:23:15.334Z"
   },
   {
    "duration": 10,
    "start_time": "2022-05-02T14:23:15.386Z"
   },
   {
    "duration": 101,
    "start_time": "2022-05-02T14:23:15.398Z"
   },
   {
    "duration": 78,
    "start_time": "2022-05-02T14:23:15.501Z"
   },
   {
    "duration": 384,
    "start_time": "2022-05-02T14:23:15.584Z"
   },
   {
    "duration": 181,
    "start_time": "2022-05-02T14:23:15.970Z"
   },
   {
    "duration": 28,
    "start_time": "2022-05-02T14:23:16.161Z"
   },
   {
    "duration": 11,
    "start_time": "2022-05-02T14:23:16.191Z"
   },
   {
    "duration": 186,
    "start_time": "2022-05-02T14:23:16.205Z"
   },
   {
    "duration": 98,
    "start_time": "2022-05-02T14:23:16.393Z"
   },
   {
    "duration": 31,
    "start_time": "2022-05-02T14:23:16.493Z"
   },
   {
    "duration": 252,
    "start_time": "2022-05-02T14:23:16.527Z"
   },
   {
    "duration": 116,
    "start_time": "2022-05-02T14:23:16.782Z"
   },
   {
    "duration": 20,
    "start_time": "2022-05-02T14:23:16.901Z"
   },
   {
    "duration": 31,
    "start_time": "2022-05-02T14:23:16.925Z"
   },
   {
    "duration": 29,
    "start_time": "2022-05-02T14:23:16.959Z"
   },
   {
    "duration": 15,
    "start_time": "2022-05-02T14:23:16.990Z"
   },
   {
    "duration": 488,
    "start_time": "2022-05-02T14:23:17.008Z"
   },
   {
    "duration": 10,
    "start_time": "2022-05-02T14:23:17.498Z"
   },
   {
    "duration": 10,
    "start_time": "2022-05-02T14:23:17.510Z"
   },
   {
    "duration": 145,
    "start_time": "2022-05-02T14:23:17.522Z"
   },
   {
    "duration": 5,
    "start_time": "2022-05-02T14:23:17.670Z"
   },
   {
    "duration": 127,
    "start_time": "2022-05-02T14:23:17.681Z"
   },
   {
    "duration": 86,
    "start_time": "2022-05-02T14:23:17.810Z"
   },
   {
    "duration": 94,
    "start_time": "2022-05-02T14:23:17.898Z"
   },
   {
    "duration": 28,
    "start_time": "2022-05-02T14:23:17.994Z"
   },
   {
    "duration": 63,
    "start_time": "2022-05-02T14:23:18.024Z"
   },
   {
    "duration": 9,
    "start_time": "2022-05-02T14:23:18.090Z"
   },
   {
    "duration": 9,
    "start_time": "2022-05-02T14:23:18.101Z"
   },
   {
    "duration": 77,
    "start_time": "2022-05-02T14:23:18.112Z"
   },
   {
    "duration": 5,
    "start_time": "2022-05-02T14:23:18.192Z"
   },
   {
    "duration": 183,
    "start_time": "2022-05-02T14:23:18.201Z"
   },
   {
    "duration": 6,
    "start_time": "2022-05-02T14:23:18.386Z"
   },
   {
    "duration": 8,
    "start_time": "2022-05-02T14:23:18.394Z"
   },
   {
    "duration": 21,
    "start_time": "2022-05-02T14:23:18.404Z"
   },
   {
    "duration": 48,
    "start_time": "2022-05-02T14:23:18.427Z"
   },
   {
    "duration": 4,
    "start_time": "2022-05-02T14:23:18.477Z"
   },
   {
    "duration": 38,
    "start_time": "2022-05-02T14:23:18.484Z"
   },
   {
    "duration": 22,
    "start_time": "2022-05-02T14:23:18.556Z"
   },
   {
    "duration": 12,
    "start_time": "2022-05-02T14:23:18.580Z"
   },
   {
    "duration": 12,
    "start_time": "2022-05-02T14:23:18.594Z"
   },
   {
    "duration": 504,
    "start_time": "2022-05-02T14:23:18.609Z"
   },
   {
    "duration": 7,
    "start_time": "2022-05-02T14:23:19.115Z"
   },
   {
    "duration": 42,
    "start_time": "2022-05-02T14:23:19.125Z"
   },
   {
    "duration": 14,
    "start_time": "2022-05-02T14:23:19.170Z"
   },
   {
    "duration": 13,
    "start_time": "2022-05-02T14:23:19.186Z"
   },
   {
    "duration": 493,
    "start_time": "2022-05-02T14:23:19.202Z"
   },
   {
    "duration": 7,
    "start_time": "2022-05-02T14:23:19.698Z"
   },
   {
    "duration": 17,
    "start_time": "2022-05-02T14:23:19.707Z"
   },
   {
    "duration": 20,
    "start_time": "2022-05-02T14:23:19.757Z"
   },
   {
    "duration": 16,
    "start_time": "2022-05-02T14:23:19.780Z"
   },
   {
    "duration": 560,
    "start_time": "2022-05-02T14:23:19.798Z"
   },
   {
    "duration": 10,
    "start_time": "2022-05-02T14:23:20.361Z"
   },
   {
    "duration": 17,
    "start_time": "2022-05-02T14:23:20.374Z"
   },
   {
    "duration": 66,
    "start_time": "2022-05-02T14:23:20.393Z"
   },
   {
    "duration": 21,
    "start_time": "2022-05-02T14:23:20.462Z"
   },
   {
    "duration": 7,
    "start_time": "2022-05-02T14:23:20.485Z"
   },
   {
    "duration": 16,
    "start_time": "2022-05-02T14:23:20.494Z"
   },
   {
    "duration": 8,
    "start_time": "2022-05-02T14:23:20.513Z"
   },
   {
    "duration": 24,
    "start_time": "2022-05-02T14:23:20.559Z"
   },
   {
    "duration": 6,
    "start_time": "2022-05-02T14:23:20.585Z"
   },
   {
    "duration": 117,
    "start_time": "2022-05-02T14:23:20.593Z"
   },
   {
    "duration": 1718,
    "start_time": "2022-05-02T14:23:20.713Z"
   },
   {
    "duration": 333,
    "start_time": "2022-05-02T14:23:22.434Z"
   },
   {
    "duration": 314,
    "start_time": "2022-05-02T14:23:22.770Z"
   },
   {
    "duration": 313,
    "start_time": "2022-05-02T14:23:23.087Z"
   },
   {
    "duration": 44,
    "start_time": "2022-05-02T14:23:23.403Z"
   },
   {
    "duration": 9,
    "start_time": "2022-05-02T14:25:10.276Z"
   },
   {
    "duration": 1257,
    "start_time": "2022-05-02T16:10:32.830Z"
   },
   {
    "duration": 1073,
    "start_time": "2022-05-02T16:25:28.818Z"
   },
   {
    "duration": 461,
    "start_time": "2022-05-02T16:25:29.893Z"
   },
   {
    "duration": 3,
    "start_time": "2022-05-02T16:25:30.355Z"
   },
   {
    "duration": 27,
    "start_time": "2022-05-02T16:25:30.360Z"
   },
   {
    "duration": 23,
    "start_time": "2022-05-02T16:25:30.388Z"
   },
   {
    "duration": 31,
    "start_time": "2022-05-02T16:25:30.412Z"
   },
   {
    "duration": 7,
    "start_time": "2022-05-02T16:25:30.445Z"
   },
   {
    "duration": 24,
    "start_time": "2022-05-02T16:25:30.453Z"
   },
   {
    "duration": 20,
    "start_time": "2022-05-02T16:25:30.479Z"
   },
   {
    "duration": 256,
    "start_time": "2022-05-02T16:25:30.502Z"
   },
   {
    "duration": 114,
    "start_time": "2022-05-02T16:25:30.759Z"
   },
   {
    "duration": 17,
    "start_time": "2022-05-02T16:25:30.875Z"
   },
   {
    "duration": 8,
    "start_time": "2022-05-02T16:25:30.894Z"
   },
   {
    "duration": 127,
    "start_time": "2022-05-02T16:25:30.903Z"
   },
   {
    "duration": 59,
    "start_time": "2022-05-02T16:25:31.031Z"
   },
   {
    "duration": 20,
    "start_time": "2022-05-02T16:25:31.091Z"
   },
   {
    "duration": 156,
    "start_time": "2022-05-02T16:25:31.113Z"
   },
   {
    "duration": 53,
    "start_time": "2022-05-02T16:25:31.270Z"
   },
   {
    "duration": 29,
    "start_time": "2022-05-02T16:25:31.324Z"
   },
   {
    "duration": 9,
    "start_time": "2022-05-02T16:25:31.355Z"
   },
   {
    "duration": 9,
    "start_time": "2022-05-02T16:25:31.365Z"
   },
   {
    "duration": 9,
    "start_time": "2022-05-02T16:25:31.376Z"
   },
   {
    "duration": 264,
    "start_time": "2022-05-02T16:25:31.386Z"
   },
   {
    "duration": 8,
    "start_time": "2022-05-02T16:25:31.651Z"
   },
   {
    "duration": 4,
    "start_time": "2022-05-02T16:25:31.660Z"
   },
   {
    "duration": 86,
    "start_time": "2022-05-02T16:25:31.665Z"
   },
   {
    "duration": 3,
    "start_time": "2022-05-02T16:25:31.752Z"
   },
   {
    "duration": 89,
    "start_time": "2022-05-02T16:25:31.759Z"
   },
   {
    "duration": 46,
    "start_time": "2022-05-02T16:25:31.849Z"
   },
   {
    "duration": 60,
    "start_time": "2022-05-02T16:25:31.897Z"
   },
   {
    "duration": 18,
    "start_time": "2022-05-02T16:25:31.959Z"
   },
   {
    "duration": 20,
    "start_time": "2022-05-02T16:25:31.978Z"
   },
   {
    "duration": 5,
    "start_time": "2022-05-02T16:25:32.000Z"
   },
   {
    "duration": 6,
    "start_time": "2022-05-02T16:25:32.006Z"
   },
   {
    "duration": 19,
    "start_time": "2022-05-02T16:25:32.048Z"
   },
   {
    "duration": 3,
    "start_time": "2022-05-02T16:25:32.069Z"
   },
   {
    "duration": 95,
    "start_time": "2022-05-02T16:25:32.074Z"
   },
   {
    "duration": 4,
    "start_time": "2022-05-02T16:25:32.170Z"
   },
   {
    "duration": 5,
    "start_time": "2022-05-02T16:25:32.176Z"
   },
   {
    "duration": 12,
    "start_time": "2022-05-02T16:25:32.183Z"
   },
   {
    "duration": 13,
    "start_time": "2022-05-02T16:25:32.196Z"
   },
   {
    "duration": 2,
    "start_time": "2022-05-02T16:25:32.211Z"
   },
   {
    "duration": 52,
    "start_time": "2022-05-02T16:25:32.215Z"
   },
   {
    "duration": 12,
    "start_time": "2022-05-02T16:25:32.269Z"
   },
   {
    "duration": 7,
    "start_time": "2022-05-02T16:25:32.283Z"
   },
   {
    "duration": 6,
    "start_time": "2022-05-02T16:25:32.292Z"
   },
   {
    "duration": 254,
    "start_time": "2022-05-02T16:25:32.299Z"
   },
   {
    "duration": 5,
    "start_time": "2022-05-02T16:25:32.555Z"
   },
   {
    "duration": 11,
    "start_time": "2022-05-02T16:25:32.561Z"
   },
   {
    "duration": 8,
    "start_time": "2022-05-02T16:25:32.574Z"
   },
   {
    "duration": 9,
    "start_time": "2022-05-02T16:25:32.583Z"
   },
   {
    "duration": 304,
    "start_time": "2022-05-02T16:25:32.593Z"
   },
   {
    "duration": 5,
    "start_time": "2022-05-02T16:25:32.899Z"
   },
   {
    "duration": 18,
    "start_time": "2022-05-02T16:25:32.906Z"
   },
   {
    "duration": 25,
    "start_time": "2022-05-02T16:25:32.926Z"
   },
   {
    "duration": 10,
    "start_time": "2022-05-02T16:25:32.953Z"
   },
   {
    "duration": 384,
    "start_time": "2022-05-02T16:25:32.964Z"
   },
   {
    "duration": 7,
    "start_time": "2022-05-02T16:25:33.350Z"
   },
   {
    "duration": 12,
    "start_time": "2022-05-02T16:25:33.359Z"
   },
   {
    "duration": 14,
    "start_time": "2022-05-02T16:25:33.373Z"
   },
   {
    "duration": 15,
    "start_time": "2022-05-02T16:25:33.389Z"
   },
   {
    "duration": 41,
    "start_time": "2022-05-02T16:25:33.406Z"
   },
   {
    "duration": 12,
    "start_time": "2022-05-02T16:25:33.449Z"
   },
   {
    "duration": 16,
    "start_time": "2022-05-02T16:25:33.463Z"
   },
   {
    "duration": 25,
    "start_time": "2022-05-02T16:25:33.481Z"
   },
   {
    "duration": 4,
    "start_time": "2022-05-02T16:25:33.508Z"
   },
   {
    "duration": 80,
    "start_time": "2022-05-02T16:25:33.514Z"
   },
   {
    "duration": 1220,
    "start_time": "2022-05-02T16:25:33.596Z"
   },
   {
    "duration": 244,
    "start_time": "2022-05-02T16:25:34.818Z"
   },
   {
    "duration": 245,
    "start_time": "2022-05-02T16:25:35.064Z"
   },
   {
    "duration": 253,
    "start_time": "2022-05-02T16:25:35.311Z"
   },
   {
    "duration": 55,
    "start_time": "2022-05-02T16:25:35.567Z"
   },
   {
    "duration": 1142,
    "start_time": "2022-05-02T16:38:55.213Z"
   },
   {
    "duration": 430,
    "start_time": "2022-05-02T16:38:56.357Z"
   },
   {
    "duration": 3,
    "start_time": "2022-05-02T16:38:56.788Z"
   },
   {
    "duration": 13,
    "start_time": "2022-05-02T16:38:56.793Z"
   },
   {
    "duration": 14,
    "start_time": "2022-05-02T16:38:56.807Z"
   },
   {
    "duration": 37,
    "start_time": "2022-05-02T16:38:56.823Z"
   },
   {
    "duration": 7,
    "start_time": "2022-05-02T16:38:56.861Z"
   },
   {
    "duration": 25,
    "start_time": "2022-05-02T16:38:56.870Z"
   },
   {
    "duration": 19,
    "start_time": "2022-05-02T16:38:56.897Z"
   },
   {
    "duration": 240,
    "start_time": "2022-05-02T16:38:56.918Z"
   },
   {
    "duration": 115,
    "start_time": "2022-05-02T16:38:57.160Z"
   },
   {
    "duration": 17,
    "start_time": "2022-05-02T16:38:57.277Z"
   },
   {
    "duration": 7,
    "start_time": "2022-05-02T16:38:57.295Z"
   },
   {
    "duration": 137,
    "start_time": "2022-05-02T16:38:57.304Z"
   },
   {
    "duration": 49,
    "start_time": "2022-05-02T16:38:57.447Z"
   },
   {
    "duration": 22,
    "start_time": "2022-05-02T16:38:57.498Z"
   },
   {
    "duration": 156,
    "start_time": "2022-05-02T16:38:57.522Z"
   },
   {
    "duration": 55,
    "start_time": "2022-05-02T16:38:57.680Z"
   },
   {
    "duration": 12,
    "start_time": "2022-05-02T16:38:57.748Z"
   },
   {
    "duration": 11,
    "start_time": "2022-05-02T16:38:57.762Z"
   },
   {
    "duration": 17,
    "start_time": "2022-05-02T16:38:57.775Z"
   },
   {
    "duration": 11,
    "start_time": "2022-05-02T16:38:57.794Z"
   },
   {
    "duration": 372,
    "start_time": "2022-05-02T16:38:57.807Z"
   },
   {
    "duration": 10,
    "start_time": "2022-05-02T16:38:58.180Z"
   },
   {
    "duration": 4,
    "start_time": "2022-05-02T16:38:58.192Z"
   },
   {
    "duration": 90,
    "start_time": "2022-05-02T16:38:58.198Z"
   },
   {
    "duration": 3,
    "start_time": "2022-05-02T16:38:58.290Z"
   },
   {
    "duration": 83,
    "start_time": "2022-05-02T16:38:58.297Z"
   },
   {
    "duration": 45,
    "start_time": "2022-05-02T16:38:58.382Z"
   },
   {
    "duration": 67,
    "start_time": "2022-05-02T16:38:58.428Z"
   },
   {
    "duration": 17,
    "start_time": "2022-05-02T16:38:58.497Z"
   },
   {
    "duration": 40,
    "start_time": "2022-05-02T16:38:58.515Z"
   },
   {
    "duration": 5,
    "start_time": "2022-05-02T16:38:58.557Z"
   },
   {
    "duration": 5,
    "start_time": "2022-05-02T16:38:58.564Z"
   },
   {
    "duration": 19,
    "start_time": "2022-05-02T16:38:58.571Z"
   },
   {
    "duration": 3,
    "start_time": "2022-05-02T16:38:58.592Z"
   },
   {
    "duration": 109,
    "start_time": "2022-05-02T16:38:58.597Z"
   },
   {
    "duration": 3,
    "start_time": "2022-05-02T16:38:58.708Z"
   },
   {
    "duration": 5,
    "start_time": "2022-05-02T16:38:58.713Z"
   },
   {
    "duration": 29,
    "start_time": "2022-05-02T16:38:58.720Z"
   },
   {
    "duration": 14,
    "start_time": "2022-05-02T16:38:58.750Z"
   },
   {
    "duration": 3,
    "start_time": "2022-05-02T16:38:58.766Z"
   },
   {
    "duration": 26,
    "start_time": "2022-05-02T16:38:58.771Z"
   },
   {
    "duration": 11,
    "start_time": "2022-05-02T16:38:58.798Z"
   },
   {
    "duration": 14,
    "start_time": "2022-05-02T16:38:58.811Z"
   },
   {
    "duration": 9,
    "start_time": "2022-05-02T16:38:58.848Z"
   },
   {
    "duration": 240,
    "start_time": "2022-05-02T16:38:58.858Z"
   },
   {
    "duration": 5,
    "start_time": "2022-05-02T16:38:59.100Z"
   },
   {
    "duration": 14,
    "start_time": "2022-05-02T16:38:59.106Z"
   },
   {
    "duration": 26,
    "start_time": "2022-05-02T16:38:59.122Z"
   },
   {
    "duration": 7,
    "start_time": "2022-05-02T16:38:59.150Z"
   },
   {
    "duration": 243,
    "start_time": "2022-05-02T16:38:59.159Z"
   },
   {
    "duration": 5,
    "start_time": "2022-05-02T16:38:59.404Z"
   },
   {
    "duration": 14,
    "start_time": "2022-05-02T16:38:59.411Z"
   },
   {
    "duration": 27,
    "start_time": "2022-05-02T16:38:59.427Z"
   },
   {
    "duration": 11,
    "start_time": "2022-05-02T16:38:59.456Z"
   },
   {
    "duration": 304,
    "start_time": "2022-05-02T16:38:59.469Z"
   },
   {
    "duration": 6,
    "start_time": "2022-05-02T16:38:59.775Z"
   },
   {
    "duration": 14,
    "start_time": "2022-05-02T16:38:59.782Z"
   },
   {
    "duration": 11,
    "start_time": "2022-05-02T16:38:59.797Z"
   },
   {
    "duration": 12,
    "start_time": "2022-05-02T16:38:59.809Z"
   },
   {
    "duration": 28,
    "start_time": "2022-05-02T16:38:59.822Z"
   },
   {
    "duration": 11,
    "start_time": "2022-05-02T16:38:59.852Z"
   },
   {
    "duration": 5,
    "start_time": "2022-05-02T16:38:59.864Z"
   },
   {
    "duration": 15,
    "start_time": "2022-05-02T16:38:59.871Z"
   },
   {
    "duration": 4,
    "start_time": "2022-05-02T16:38:59.888Z"
   },
   {
    "duration": 81,
    "start_time": "2022-05-02T16:38:59.893Z"
   },
   {
    "duration": 1032,
    "start_time": "2022-05-02T16:38:59.976Z"
   },
   {
    "duration": 174,
    "start_time": "2022-05-02T16:39:01.010Z"
   },
   {
    "duration": 169,
    "start_time": "2022-05-02T16:39:01.186Z"
   },
   {
    "duration": 229,
    "start_time": "2022-05-02T16:39:01.356Z"
   },
   {
    "duration": 41,
    "start_time": "2022-05-02T16:39:01.587Z"
   },
   {
    "duration": 1194,
    "start_time": "2022-05-04T07:25:29.015Z"
   },
   {
    "duration": 530,
    "start_time": "2022-05-04T07:25:30.211Z"
   },
   {
    "duration": 3,
    "start_time": "2022-05-04T07:25:30.743Z"
   },
   {
    "duration": 17,
    "start_time": "2022-05-04T07:25:30.747Z"
   },
   {
    "duration": 22,
    "start_time": "2022-05-04T07:25:30.767Z"
   },
   {
    "duration": 33,
    "start_time": "2022-05-04T07:25:30.791Z"
   },
   {
    "duration": 12,
    "start_time": "2022-05-04T07:25:30.826Z"
   },
   {
    "duration": 37,
    "start_time": "2022-05-04T07:25:30.839Z"
   },
   {
    "duration": 22,
    "start_time": "2022-05-04T07:25:30.878Z"
   },
   {
    "duration": 286,
    "start_time": "2022-05-04T07:25:30.902Z"
   },
   {
    "duration": 124,
    "start_time": "2022-05-04T07:25:31.190Z"
   },
   {
    "duration": 29,
    "start_time": "2022-05-04T07:25:31.315Z"
   },
   {
    "duration": 14,
    "start_time": "2022-05-04T07:25:31.346Z"
   },
   {
    "duration": 159,
    "start_time": "2022-05-04T07:25:31.363Z"
   },
   {
    "duration": 66,
    "start_time": "2022-05-04T07:25:31.524Z"
   },
   {
    "duration": 23,
    "start_time": "2022-05-04T07:25:31.592Z"
   },
   {
    "duration": 167,
    "start_time": "2022-05-04T07:25:31.633Z"
   },
   {
    "duration": 71,
    "start_time": "2022-05-04T07:25:31.801Z"
   },
   {
    "duration": 12,
    "start_time": "2022-05-04T07:25:31.873Z"
   },
   {
    "duration": 11,
    "start_time": "2022-05-04T07:25:31.887Z"
   },
   {
    "duration": 34,
    "start_time": "2022-05-04T07:25:31.900Z"
   },
   {
    "duration": 17,
    "start_time": "2022-05-04T07:25:31.935Z"
   },
   {
    "duration": 304,
    "start_time": "2022-05-04T07:25:31.954Z"
   },
   {
    "duration": 8,
    "start_time": "2022-05-04T07:25:32.260Z"
   },
   {
    "duration": 10,
    "start_time": "2022-05-04T07:25:32.270Z"
   },
   {
    "duration": 93,
    "start_time": "2022-05-04T07:25:32.281Z"
   },
   {
    "duration": 3,
    "start_time": "2022-05-04T07:25:32.375Z"
   },
   {
    "duration": 97,
    "start_time": "2022-05-04T07:25:32.380Z"
   },
   {
    "duration": 58,
    "start_time": "2022-05-04T07:25:32.478Z"
   },
   {
    "duration": 59,
    "start_time": "2022-05-04T07:25:32.538Z"
   },
   {
    "duration": 40,
    "start_time": "2022-05-04T07:25:32.599Z"
   },
   {
    "duration": 29,
    "start_time": "2022-05-04T07:25:32.641Z"
   },
   {
    "duration": 6,
    "start_time": "2022-05-04T07:25:32.672Z"
   },
   {
    "duration": 12,
    "start_time": "2022-05-04T07:25:32.679Z"
   },
   {
    "duration": 43,
    "start_time": "2022-05-04T07:25:32.693Z"
   },
   {
    "duration": 4,
    "start_time": "2022-05-04T07:25:32.738Z"
   },
   {
    "duration": 114,
    "start_time": "2022-05-04T07:25:32.744Z"
   },
   {
    "duration": 4,
    "start_time": "2022-05-04T07:25:32.860Z"
   },
   {
    "duration": 10,
    "start_time": "2022-05-04T07:25:32.865Z"
   },
   {
    "duration": 17,
    "start_time": "2022-05-04T07:25:32.877Z"
   },
   {
    "duration": 37,
    "start_time": "2022-05-04T07:25:32.898Z"
   },
   {
    "duration": 2,
    "start_time": "2022-05-04T07:25:32.937Z"
   },
   {
    "duration": 31,
    "start_time": "2022-05-04T07:25:32.941Z"
   },
   {
    "duration": 13,
    "start_time": "2022-05-04T07:25:32.974Z"
   },
   {
    "duration": 11,
    "start_time": "2022-05-04T07:25:32.988Z"
   },
   {
    "duration": 34,
    "start_time": "2022-05-04T07:25:33.001Z"
   },
   {
    "duration": 292,
    "start_time": "2022-05-04T07:25:33.036Z"
   },
   {
    "duration": 5,
    "start_time": "2022-05-04T07:25:33.333Z"
   },
   {
    "duration": 13,
    "start_time": "2022-05-04T07:25:33.340Z"
   },
   {
    "duration": 10,
    "start_time": "2022-05-04T07:25:33.355Z"
   },
   {
    "duration": 8,
    "start_time": "2022-05-04T07:25:33.366Z"
   },
   {
    "duration": 302,
    "start_time": "2022-05-04T07:25:33.376Z"
   },
   {
    "duration": 5,
    "start_time": "2022-05-04T07:25:33.680Z"
   },
   {
    "duration": 14,
    "start_time": "2022-05-04T07:25:33.686Z"
   },
   {
    "duration": 33,
    "start_time": "2022-05-04T07:25:33.702Z"
   },
   {
    "duration": 10,
    "start_time": "2022-05-04T07:25:33.736Z"
   },
   {
    "duration": 365,
    "start_time": "2022-05-04T07:25:33.747Z"
   },
   {
    "duration": 7,
    "start_time": "2022-05-04T07:25:34.114Z"
   },
   {
    "duration": 20,
    "start_time": "2022-05-04T07:25:34.122Z"
   },
   {
    "duration": 16,
    "start_time": "2022-05-04T07:25:34.144Z"
   },
   {
    "duration": 15,
    "start_time": "2022-05-04T07:25:34.162Z"
   },
   {
    "duration": 7,
    "start_time": "2022-05-04T07:25:34.178Z"
   },
   {
    "duration": 11,
    "start_time": "2022-05-04T07:25:34.187Z"
   },
   {
    "duration": 36,
    "start_time": "2022-05-04T07:25:34.200Z"
   },
   {
    "duration": 17,
    "start_time": "2022-05-04T07:25:34.238Z"
   },
   {
    "duration": 4,
    "start_time": "2022-05-04T07:25:34.256Z"
   },
   {
    "duration": 79,
    "start_time": "2022-05-04T07:25:34.261Z"
   },
   {
    "duration": 1210,
    "start_time": "2022-05-04T07:25:34.342Z"
   },
   {
    "duration": 186,
    "start_time": "2022-05-04T07:25:35.554Z"
   },
   {
    "duration": 193,
    "start_time": "2022-05-04T07:25:35.742Z"
   },
   {
    "duration": 190,
    "start_time": "2022-05-04T07:25:35.937Z"
   },
   {
    "duration": 44,
    "start_time": "2022-05-04T07:25:36.133Z"
   },
   {
    "duration": 45,
    "start_time": "2022-05-04T12:19:00.282Z"
   },
   {
    "duration": 1310,
    "start_time": "2022-05-04T12:19:15.985Z"
   },
   {
    "duration": 434,
    "start_time": "2022-05-04T12:19:17.297Z"
   },
   {
    "duration": 2,
    "start_time": "2022-05-04T12:19:17.733Z"
   },
   {
    "duration": 13,
    "start_time": "2022-05-04T12:19:17.737Z"
   },
   {
    "duration": 13,
    "start_time": "2022-05-04T12:19:17.752Z"
   },
   {
    "duration": 25,
    "start_time": "2022-05-04T12:19:17.766Z"
   },
   {
    "duration": 6,
    "start_time": "2022-05-04T12:19:17.792Z"
   },
   {
    "duration": 25,
    "start_time": "2022-05-04T12:19:17.799Z"
   },
   {
    "duration": 37,
    "start_time": "2022-05-04T12:19:17.825Z"
   },
   {
    "duration": 235,
    "start_time": "2022-05-04T12:19:17.864Z"
   },
   {
    "duration": 119,
    "start_time": "2022-05-04T12:19:18.101Z"
   },
   {
    "duration": 18,
    "start_time": "2022-05-04T12:19:18.221Z"
   },
   {
    "duration": 15,
    "start_time": "2022-05-04T12:19:18.241Z"
   },
   {
    "duration": 118,
    "start_time": "2022-05-04T12:19:18.257Z"
   },
   {
    "duration": 58,
    "start_time": "2022-05-04T12:19:18.376Z"
   },
   {
    "duration": 35,
    "start_time": "2022-05-04T12:19:18.435Z"
   },
   {
    "duration": 142,
    "start_time": "2022-05-04T12:19:18.471Z"
   },
   {
    "duration": 62,
    "start_time": "2022-05-04T12:19:18.615Z"
   },
   {
    "duration": 11,
    "start_time": "2022-05-04T12:19:18.679Z"
   },
   {
    "duration": 10,
    "start_time": "2022-05-04T12:19:18.691Z"
   },
   {
    "duration": 10,
    "start_time": "2022-05-04T12:19:18.703Z"
   },
   {
    "duration": 12,
    "start_time": "2022-05-04T12:19:18.714Z"
   },
   {
    "duration": 262,
    "start_time": "2022-05-04T12:19:18.727Z"
   },
   {
    "duration": 7,
    "start_time": "2022-05-04T12:19:18.991Z"
   },
   {
    "duration": 4,
    "start_time": "2022-05-04T12:19:19.000Z"
   },
   {
    "duration": 89,
    "start_time": "2022-05-04T12:19:19.005Z"
   },
   {
    "duration": 3,
    "start_time": "2022-05-04T12:19:19.095Z"
   },
   {
    "duration": 80,
    "start_time": "2022-05-04T12:19:19.101Z"
   },
   {
    "duration": 48,
    "start_time": "2022-05-04T12:19:19.182Z"
   },
   {
    "duration": 62,
    "start_time": "2022-05-04T12:19:19.232Z"
   },
   {
    "duration": 16,
    "start_time": "2022-05-04T12:19:19.296Z"
   },
   {
    "duration": 25,
    "start_time": "2022-05-04T12:19:19.314Z"
   },
   {
    "duration": 6,
    "start_time": "2022-05-04T12:19:19.355Z"
   },
   {
    "duration": 7,
    "start_time": "2022-05-04T12:19:19.362Z"
   },
   {
    "duration": 19,
    "start_time": "2022-05-04T12:19:19.370Z"
   },
   {
    "duration": 4,
    "start_time": "2022-05-04T12:19:19.391Z"
   },
   {
    "duration": 107,
    "start_time": "2022-05-04T12:19:19.396Z"
   },
   {
    "duration": 4,
    "start_time": "2022-05-04T12:19:19.505Z"
   },
   {
    "duration": 9,
    "start_time": "2022-05-04T12:19:19.510Z"
   },
   {
    "duration": 14,
    "start_time": "2022-05-04T12:19:19.520Z"
   },
   {
    "duration": 27,
    "start_time": "2022-05-04T12:19:19.535Z"
   },
   {
    "duration": 2,
    "start_time": "2022-05-04T12:19:19.564Z"
   },
   {
    "duration": 24,
    "start_time": "2022-05-04T12:19:19.567Z"
   },
   {
    "duration": 11,
    "start_time": "2022-05-04T12:19:19.593Z"
   },
   {
    "duration": 20,
    "start_time": "2022-05-04T12:19:19.606Z"
   },
   {
    "duration": 32,
    "start_time": "2022-05-04T12:19:19.627Z"
   },
   {
    "duration": 229,
    "start_time": "2022-05-04T12:19:19.661Z"
   },
   {
    "duration": 5,
    "start_time": "2022-05-04T12:19:19.892Z"
   },
   {
    "duration": 11,
    "start_time": "2022-05-04T12:19:19.899Z"
   },
   {
    "duration": 11,
    "start_time": "2022-05-04T12:19:19.912Z"
   },
   {
    "duration": 8,
    "start_time": "2022-05-04T12:19:19.924Z"
   },
   {
    "duration": 306,
    "start_time": "2022-05-04T12:19:19.955Z"
   },
   {
    "duration": 5,
    "start_time": "2022-05-04T12:19:20.262Z"
   },
   {
    "duration": 18,
    "start_time": "2022-05-04T12:19:20.269Z"
   },
   {
    "duration": 10,
    "start_time": "2022-05-04T12:19:20.288Z"
   },
   {
    "duration": 11,
    "start_time": "2022-05-04T12:19:20.300Z"
   },
   {
    "duration": 242,
    "start_time": "2022-05-04T12:19:20.314Z"
   },
   {
    "duration": 6,
    "start_time": "2022-05-04T12:19:20.558Z"
   },
   {
    "duration": 36,
    "start_time": "2022-05-04T12:19:20.565Z"
   },
   {
    "duration": 54,
    "start_time": "2022-05-04T12:19:20.603Z"
   },
   {
    "duration": 43,
    "start_time": "2022-05-04T12:19:20.659Z"
   },
   {
    "duration": 80,
    "start_time": "2022-05-04T12:19:20.703Z"
   },
   {
    "duration": 67,
    "start_time": "2022-05-04T12:19:20.785Z"
   },
   {
    "duration": 35,
    "start_time": "2022-05-04T12:19:20.854Z"
   },
   {
    "duration": 99,
    "start_time": "2022-05-04T12:19:20.891Z"
   },
   {
    "duration": 10,
    "start_time": "2022-05-04T12:19:20.992Z"
   },
   {
    "duration": 78,
    "start_time": "2022-05-04T12:19:21.003Z"
   },
   {
    "duration": 1129,
    "start_time": "2022-05-04T12:19:21.083Z"
   },
   {
    "duration": 158,
    "start_time": "2022-05-04T12:19:22.213Z"
   },
   {
    "duration": 155,
    "start_time": "2022-05-04T12:19:22.373Z"
   },
   {
    "duration": 146,
    "start_time": "2022-05-04T12:19:22.530Z"
   },
   {
    "duration": 30,
    "start_time": "2022-05-04T12:19:22.677Z"
   }
  ],
  "hide_input": false,
  "kernelspec": {
   "display_name": "Python 3 (ipykernel)",
   "language": "python",
   "name": "python3"
  },
  "language_info": {
   "codemirror_mode": {
    "name": "ipython",
    "version": 3
   },
   "file_extension": ".py",
   "mimetype": "text/x-python",
   "name": "python",
   "nbconvert_exporter": "python",
   "pygments_lexer": "ipython3",
   "version": "3.12.4"
  },
  "toc": {
   "base_numbering": 1,
   "nav_menu": {
    "height": "73px",
    "width": "184px"
   },
   "number_sections": true,
   "sideBar": true,
   "skip_h1_title": false,
   "title_cell": "Table of Contents",
   "title_sidebar": "Contents",
   "toc_cell": false,
   "toc_position": {
    "height": "calc(100% - 180px)",
    "left": "10px",
    "top": "150px",
    "width": "247px"
   },
   "toc_section_display": true,
   "toc_window_display": true
  },
  "varInspector": {
   "cols": {
    "lenName": 16,
    "lenType": 16,
    "lenVar": 40
   },
   "kernels_config": {
    "python": {
     "delete_cmd_postfix": "",
     "delete_cmd_prefix": "del ",
     "library": "var_list.py",
     "varRefreshCmd": "print(var_dic_list())"
    },
    "r": {
     "delete_cmd_postfix": ") ",
     "delete_cmd_prefix": "rm(",
     "library": "var_list.r",
     "varRefreshCmd": "cat(var_dic_list()) "
    }
   },
   "types_to_exclude": [
    "module",
    "function",
    "builtin_function_or_method",
    "instance",
    "_Feature"
   ],
   "window_display": false
  }
 },
 "nbformat": 4,
 "nbformat_minor": 5
}
